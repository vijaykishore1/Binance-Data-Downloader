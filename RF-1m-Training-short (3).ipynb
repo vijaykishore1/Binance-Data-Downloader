{
 "cells": [
  {
   "cell_type": "code",
   "execution_count": 1,
   "id": "b468546c",
   "metadata": {},
   "outputs": [],
   "source": [
    "import pandas as pd\n",
    "import psutil\n",
    "import plotly.express as px\n",
    "import numpy as np\n",
    "import os\n",
    "import pickle\n",
    "from sklearn.model_selection import train_test_split\n",
    "from sklearn.ensemble import RandomForestClassifier\n",
    "from sklearn.metrics import confusion_matrix, ConfusionMatrixDisplay\n",
    "from sklearn.metrics import classification_report\n",
    "from sklearn.metrics import auc"
   ]
  },
  {
   "cell_type": "code",
   "execution_count": 2,
   "id": "3626338a",
   "metadata": {},
   "outputs": [],
   "source": [
    "def usage():\n",
    "    total, available, percent, used, free_memory = psutil.virtual_memory()\n",
    "    print(\"Total Memory: \", total)\n",
    "    print(\"Available Memory: \", available)\n",
    "    print(\"Used percentage: \", percent)\n",
    "    print(\"Used Memory: \", used)\n",
    "    print(\"Free memoryu: \", free_memory)\n"
   ]
  },
  {
   "cell_type": "code",
   "execution_count": 3,
   "id": "45b5d094",
   "metadata": {},
   "outputs": [
    {
     "name": "stdout",
     "output_type": "stream",
     "text": [
      "Total Memory:  16952647680\n",
      "Available Memory:  11025215488\n",
      "Used percentage:  35.0\n",
      "Used Memory:  5927432192\n",
      "Free memoryu:  11025215488\n"
     ]
    }
   ],
   "source": [
    "usage()"
   ]
  },
  {
   "cell_type": "code",
   "execution_count": 4,
   "id": "8f3258c0",
   "metadata": {},
   "outputs": [
    {
     "name": "stdout",
     "output_type": "stream",
     "text": [
      "CPU times: total: 1min 22s\n",
      "Wall time: 5min 22s\n"
     ]
    },
    {
     "data": {
      "text/plain": [
       "(1972772, 583)"
      ]
     },
     "execution_count": 4,
     "metadata": {},
     "output_type": "execute_result"
    }
   ],
   "source": [
    "%%time\n",
    "\n",
    "df = pd.read_csv(r\"D:\\Python\\btc\\dataset\\unzipeed\\BTCUSDT-1m\\BTCUSDT-1m.csv\")\n",
    "\n",
    "df.shape"
   ]
  },
  {
   "cell_type": "code",
   "execution_count": 5,
   "id": "88fc42ed",
   "metadata": {},
   "outputs": [
    {
     "name": "stdout",
     "output_type": "stream",
     "text": [
      "Total Memory:  16952647680\n",
      "Available Memory:  6474043392\n",
      "Used percentage:  61.8\n",
      "Used Memory:  10478604288\n",
      "Free memoryu:  6474043392\n"
     ]
    }
   ],
   "source": [
    "usage()"
   ]
  },
  {
   "cell_type": "code",
   "execution_count": 6,
   "id": "18b0028e",
   "metadata": {},
   "outputs": [
    {
     "data": {
      "text/plain": [
       "Index(['open_time', 'open', 'high', 'low', 'close', 'volume', 'close_time',\n",
       "       'quote_volume', 'count', 'taker_buy_volume',\n",
       "       ...\n",
       "       'PLUS_DM_233', 'ROC_233', 'ROCP_233', 'ROCR_233', 'ROCR100_233',\n",
       "       'RSI_233', 'ATR_233', 'NATR_233', 'BETA_233', 'CORREL_233'],\n",
       "      dtype='object', length=583)"
      ]
     },
     "execution_count": 6,
     "metadata": {},
     "output_type": "execute_result"
    }
   ],
   "source": [
    "df.columns"
   ]
  },
  {
   "cell_type": "code",
   "execution_count": 7,
   "id": "5a614f90",
   "metadata": {},
   "outputs": [
    {
     "data": {
      "text/plain": [
       "Index(['open_time', 'close_time'], dtype='object')"
      ]
     },
     "execution_count": 7,
     "metadata": {},
     "output_type": "execute_result"
    }
   ],
   "source": [
    "df.select_dtypes(include=\"object\").columns"
   ]
  },
  {
   "cell_type": "code",
   "execution_count": 8,
   "id": "86b62bb8",
   "metadata": {},
   "outputs": [],
   "source": [
    "df.drop([\"open_time\", \"close_time\"], axis=1, inplace=True)"
   ]
  },
  {
   "cell_type": "code",
   "execution_count": 9,
   "id": "d0810d0e",
   "metadata": {},
   "outputs": [],
   "source": [
    "df.drop([\"entered_before\", \"longs_win_after\", \"shorts_win_after\"], axis=1, inplace=True)"
   ]
  },
  {
   "cell_type": "code",
   "execution_count": 10,
   "id": "ba6dda42",
   "metadata": {},
   "outputs": [],
   "source": [
    "df.replace(np.nan, -500, inplace=True)"
   ]
  },
  {
   "cell_type": "code",
   "execution_count": 11,
   "id": "8de96bf9",
   "metadata": {},
   "outputs": [
    {
     "data": {
      "text/plain": [
       "if_long\n",
       "-1    1280470\n",
       " 1     692222\n",
       " 0         80\n",
       "Name: count, dtype: int64"
      ]
     },
     "execution_count": 11,
     "metadata": {},
     "output_type": "execute_result"
    }
   ],
   "source": [
    "df.if_long.value_counts()"
   ]
  },
  {
   "cell_type": "code",
   "execution_count": 12,
   "id": "6784bdcd",
   "metadata": {},
   "outputs": [],
   "source": [
    "df[\"if_long\"] = df[\"if_long\"].replace(-1, 0)"
   ]
  },
  {
   "cell_type": "code",
   "execution_count": 13,
   "id": "7cb4c15a",
   "metadata": {},
   "outputs": [
    {
     "data": {
      "text/plain": [
       "if_long\n",
       "0    1280550\n",
       "1     692222\n",
       "Name: count, dtype: int64"
      ]
     },
     "execution_count": 13,
     "metadata": {},
     "output_type": "execute_result"
    }
   ],
   "source": [
    "df.if_long.value_counts()"
   ]
  },
  {
   "cell_type": "code",
   "execution_count": 14,
   "id": "6e3da404",
   "metadata": {},
   "outputs": [],
   "source": [
    "df[\"if_short\"] = df[\"if_short\"].replace(-1, 0)"
   ]
  },
  {
   "cell_type": "code",
   "execution_count": 15,
   "id": "a990660e",
   "metadata": {},
   "outputs": [
    {
     "data": {
      "text/plain": [
       "if_short\n",
       "0    1275151\n",
       "1     697621\n",
       "Name: count, dtype: int64"
      ]
     },
     "execution_count": 15,
     "metadata": {},
     "output_type": "execute_result"
    }
   ],
   "source": [
    "df.if_short.value_counts()"
   ]
  },
  {
   "cell_type": "markdown",
   "id": "cea123ec",
   "metadata": {},
   "source": [
    "### Short model"
   ]
  },
  {
   "cell_type": "code",
   "execution_count": 16,
   "id": "6f8451b5",
   "metadata": {},
   "outputs": [],
   "source": [
    "df = df.drop(\"if_long\", axis=1)"
   ]
  },
  {
   "cell_type": "code",
   "execution_count": 17,
   "id": "c497f384",
   "metadata": {
    "ExecuteTime": {
     "end_time": "2023-08-20T19:54:51.200891Z",
     "start_time": "2023-08-20T19:54:51.185778Z"
    }
   },
   "outputs": [],
   "source": [
    "short_y = df[\"if_short\"]"
   ]
  },
  {
   "cell_type": "code",
   "execution_count": 18,
   "id": "4ba2f712",
   "metadata": {
    "ExecuteTime": {
     "end_time": "2023-08-20T19:54:52.725809Z",
     "start_time": "2023-08-20T19:54:51.201892Z"
    }
   },
   "outputs": [],
   "source": [
    "df = df.drop(\"if_short\", axis=1)"
   ]
  },
  {
   "cell_type": "code",
   "execution_count": 19,
   "id": "18f99118",
   "metadata": {
    "ExecuteTime": {
     "end_time": "2023-08-20T19:55:20.255013Z",
     "start_time": "2023-08-20T19:54:52.727810Z"
    }
   },
   "outputs": [],
   "source": [
    "X_train, X_test, y_train, y_test = train_test_split(df, short_y, test_size=0.3)"
   ]
  },
  {
   "cell_type": "code",
   "execution_count": 20,
   "id": "0d24507e",
   "metadata": {},
   "outputs": [
    {
     "name": "stdout",
     "output_type": "stream",
     "text": [
      "Total Memory:  16952647680\n",
      "Available Memory:  1613099008\n",
      "Used percentage:  90.5\n",
      "Used Memory:  15339548672\n",
      "Free memoryu:  1613099008\n"
     ]
    }
   ],
   "source": [
    "usage()"
   ]
  },
  {
   "cell_type": "code",
   "execution_count": 21,
   "id": "d97edfa1",
   "metadata": {},
   "outputs": [],
   "source": [
    "del df\n",
    "del short_y"
   ]
  },
  {
   "cell_type": "code",
   "execution_count": 22,
   "id": "666ec81a",
   "metadata": {},
   "outputs": [
    {
     "name": "stdout",
     "output_type": "stream",
     "text": [
      "Total Memory:  16952647680\n",
      "Available Memory:  11135315968\n",
      "Used percentage:  34.3\n",
      "Used Memory:  5817331712\n",
      "Free memoryu:  11135315968\n"
     ]
    }
   ],
   "source": [
    "usage()"
   ]
  },
  {
   "cell_type": "code",
   "execution_count": 23,
   "id": "0464aeb9",
   "metadata": {},
   "outputs": [],
   "source": [
    "short_clf = RandomForestClassifier(max_depth=100, random_state=0)"
   ]
  },
  {
   "cell_type": "code",
   "execution_count": 24,
   "id": "7641f091",
   "metadata": {},
   "outputs": [
    {
     "name": "stdout",
     "output_type": "stream",
     "text": [
      "CPU times: total: 3h 38min 40s\n",
      "Wall time: 3h 51min 25s\n"
     ]
    },
    {
     "data": {
      "text/html": [
       "<style>#sk-container-id-1 {color: black;}#sk-container-id-1 pre{padding: 0;}#sk-container-id-1 div.sk-toggleable {background-color: white;}#sk-container-id-1 label.sk-toggleable__label {cursor: pointer;display: block;width: 100%;margin-bottom: 0;padding: 0.3em;box-sizing: border-box;text-align: center;}#sk-container-id-1 label.sk-toggleable__label-arrow:before {content: \"▸\";float: left;margin-right: 0.25em;color: #696969;}#sk-container-id-1 label.sk-toggleable__label-arrow:hover:before {color: black;}#sk-container-id-1 div.sk-estimator:hover label.sk-toggleable__label-arrow:before {color: black;}#sk-container-id-1 div.sk-toggleable__content {max-height: 0;max-width: 0;overflow: hidden;text-align: left;background-color: #f0f8ff;}#sk-container-id-1 div.sk-toggleable__content pre {margin: 0.2em;color: black;border-radius: 0.25em;background-color: #f0f8ff;}#sk-container-id-1 input.sk-toggleable__control:checked~div.sk-toggleable__content {max-height: 200px;max-width: 100%;overflow: auto;}#sk-container-id-1 input.sk-toggleable__control:checked~label.sk-toggleable__label-arrow:before {content: \"▾\";}#sk-container-id-1 div.sk-estimator input.sk-toggleable__control:checked~label.sk-toggleable__label {background-color: #d4ebff;}#sk-container-id-1 div.sk-label input.sk-toggleable__control:checked~label.sk-toggleable__label {background-color: #d4ebff;}#sk-container-id-1 input.sk-hidden--visually {border: 0;clip: rect(1px 1px 1px 1px);clip: rect(1px, 1px, 1px, 1px);height: 1px;margin: -1px;overflow: hidden;padding: 0;position: absolute;width: 1px;}#sk-container-id-1 div.sk-estimator {font-family: monospace;background-color: #f0f8ff;border: 1px dotted black;border-radius: 0.25em;box-sizing: border-box;margin-bottom: 0.5em;}#sk-container-id-1 div.sk-estimator:hover {background-color: #d4ebff;}#sk-container-id-1 div.sk-parallel-item::after {content: \"\";width: 100%;border-bottom: 1px solid gray;flex-grow: 1;}#sk-container-id-1 div.sk-label:hover label.sk-toggleable__label {background-color: #d4ebff;}#sk-container-id-1 div.sk-serial::before {content: \"\";position: absolute;border-left: 1px solid gray;box-sizing: border-box;top: 0;bottom: 0;left: 50%;z-index: 0;}#sk-container-id-1 div.sk-serial {display: flex;flex-direction: column;align-items: center;background-color: white;padding-right: 0.2em;padding-left: 0.2em;position: relative;}#sk-container-id-1 div.sk-item {position: relative;z-index: 1;}#sk-container-id-1 div.sk-parallel {display: flex;align-items: stretch;justify-content: center;background-color: white;position: relative;}#sk-container-id-1 div.sk-item::before, #sk-container-id-1 div.sk-parallel-item::before {content: \"\";position: absolute;border-left: 1px solid gray;box-sizing: border-box;top: 0;bottom: 0;left: 50%;z-index: -1;}#sk-container-id-1 div.sk-parallel-item {display: flex;flex-direction: column;z-index: 1;position: relative;background-color: white;}#sk-container-id-1 div.sk-parallel-item:first-child::after {align-self: flex-end;width: 50%;}#sk-container-id-1 div.sk-parallel-item:last-child::after {align-self: flex-start;width: 50%;}#sk-container-id-1 div.sk-parallel-item:only-child::after {width: 0;}#sk-container-id-1 div.sk-dashed-wrapped {border: 1px dashed gray;margin: 0 0.4em 0.5em 0.4em;box-sizing: border-box;padding-bottom: 0.4em;background-color: white;}#sk-container-id-1 div.sk-label label {font-family: monospace;font-weight: bold;display: inline-block;line-height: 1.2em;}#sk-container-id-1 div.sk-label-container {text-align: center;}#sk-container-id-1 div.sk-container {/* jupyter's `normalize.less` sets `[hidden] { display: none; }` but bootstrap.min.css set `[hidden] { display: none !important; }` so we also need the `!important` here to be able to override the default hidden behavior on the sphinx rendered scikit-learn.org. See: https://github.com/scikit-learn/scikit-learn/issues/21755 */display: inline-block !important;position: relative;}#sk-container-id-1 div.sk-text-repr-fallback {display: none;}</style><div id=\"sk-container-id-1\" class=\"sk-top-container\"><div class=\"sk-text-repr-fallback\"><pre>RandomForestClassifier(max_depth=100, random_state=0)</pre><b>In a Jupyter environment, please rerun this cell to show the HTML representation or trust the notebook. <br />On GitHub, the HTML representation is unable to render, please try loading this page with nbviewer.org.</b></div><div class=\"sk-container\" hidden><div class=\"sk-item\"><div class=\"sk-estimator sk-toggleable\"><input class=\"sk-toggleable__control sk-hidden--visually\" id=\"sk-estimator-id-1\" type=\"checkbox\" checked><label for=\"sk-estimator-id-1\" class=\"sk-toggleable__label sk-toggleable__label-arrow\">RandomForestClassifier</label><div class=\"sk-toggleable__content\"><pre>RandomForestClassifier(max_depth=100, random_state=0)</pre></div></div></div></div></div>"
      ],
      "text/plain": [
       "RandomForestClassifier(max_depth=100, random_state=0)"
      ]
     },
     "execution_count": 24,
     "metadata": {},
     "output_type": "execute_result"
    }
   ],
   "source": [
    "%%time\n",
    "\n",
    "short_clf.fit(X_train, y_train)"
   ]
  },
  {
   "cell_type": "code",
   "execution_count": 25,
   "id": "38aacf9b",
   "metadata": {},
   "outputs": [],
   "source": [
    "import pickle\n",
    "\n",
    "# Save the model to a file\n",
    "with open(\"short_clf_100923.pkl\", \"wb\") as f:\n",
    "    pickle.dump(short_clf, f)"
   ]
  },
  {
   "cell_type": "code",
   "execution_count": 26,
   "id": "e81014ce",
   "metadata": {},
   "outputs": [],
   "source": [
    "y_pred = short_clf.predict(X_test)"
   ]
  },
  {
   "cell_type": "code",
   "execution_count": 27,
   "id": "acf5d616",
   "metadata": {},
   "outputs": [
    {
     "data": {
      "text/plain": [
       "0.8980200462293354"
      ]
     },
     "execution_count": 27,
     "metadata": {},
     "output_type": "execute_result"
    }
   ],
   "source": [
    "short_clf.score(X_test, y_test)"
   ]
  },
  {
   "cell_type": "code",
   "execution_count": 28,
   "id": "551a42c0",
   "metadata": {},
   "outputs": [],
   "source": [
    "cm = confusion_matrix(y_test, y_pred, labels=short_clf.classes_)"
   ]
  },
  {
   "cell_type": "code",
   "execution_count": 29,
   "id": "b498d21a",
   "metadata": {},
   "outputs": [
    {
     "data": {
      "text/plain": [
       "array([[375330,   7021],\n",
       "       [ 53334, 156147]], dtype=int64)"
      ]
     },
     "execution_count": 29,
     "metadata": {},
     "output_type": "execute_result"
    }
   ],
   "source": [
    "cm"
   ]
  },
  {
   "cell_type": "code",
   "execution_count": 30,
   "id": "63a98ce5",
   "metadata": {},
   "outputs": [
    {
     "data": {
      "text/plain": [
       "<sklearn.metrics._plot.confusion_matrix.ConfusionMatrixDisplay at 0x1fc23f94050>"
      ]
     },
     "execution_count": 30,
     "metadata": {},
     "output_type": "execute_result"
    },
    {
     "data": {
      "image/png": "[encoded data removed]",
      "text/plain": [
       "<Figure size 640x480 with 2 Axes>"
      ]
     },
     "metadata": {},
     "output_type": "display_data"
    }
   ],
   "source": [
    "disp = ConfusionMatrixDisplay(confusion_matrix=cm,display_labels=short_clf.classes_)\n",
    "\n",
    "disp.plot()\n"
   ]
  },
  {
   "cell_type": "code",
   "execution_count": 31,
   "id": "7b98ac56",
   "metadata": {},
   "outputs": [
    {
     "name": "stdout",
     "output_type": "stream",
     "text": [
      "              precision    recall  f1-score   support\n",
      "\n",
      "           0       0.88      0.98      0.93    382351\n",
      "           1       0.96      0.75      0.84    209481\n",
      "\n",
      "    accuracy                           0.90    591832\n",
      "   macro avg       0.92      0.86      0.88    591832\n",
      "weighted avg       0.90      0.90      0.89    591832\n",
      "\n"
     ]
    }
   ],
   "source": [
    "print(classification_report(y_test, y_pred))"
   ]
  },
  {
   "cell_type": "code",
   "execution_count": 32,
   "id": "a58892e6",
   "metadata": {},
   "outputs": [
    {
     "name": "stderr",
     "output_type": "stream",
     "text": [
      "No artists with labels found to put in legend.  Note that artists whose label start with an underscore are ignored when legend() is called with no argument.\n"
     ]
    },
    {
     "data": {
      "image/png": "[encoded data removed]",
      "text/plain": [
       "<Figure size 640x480 with 1 Axes>"
      ]
     },
     "metadata": {},
     "output_type": "display_data"
    }
   ],
   "source": [
    "from sklearn.metrics import roc_curve\n",
    "from sklearn.metrics import RocCurveDisplay\n",
    "\n",
    "fpr, tpr, _ = roc_curve(y_test, y_pred, pos_label=short_clf.classes_[1])\n",
    "roc_display = RocCurveDisplay(fpr=fpr, tpr=tpr).plot()"
   ]
  },
  {
   "cell_type": "code",
   "execution_count": null,
   "id": "8946533e",
   "metadata": {},
   "outputs": [],
   "source": []
  }
 ],
 "metadata": {
  "kernelspec": {
   "display_name": "Python 3 (ipykernel)",
   "language": "python",
   "name": "python3"
  },
  "language_info": {
   "codemirror_mode": {
    "name": "ipython",
    "version": 3
   },
   "file_extension": ".py",
   "mimetype": "text/x-python",
   "name": "python",
   "nbconvert_exporter": "python",
   "pygments_lexer": "ipython3",
   "version": "3.9.12"
  }
 },
 "nbformat": 4,
 "nbformat_minor": 5
}
