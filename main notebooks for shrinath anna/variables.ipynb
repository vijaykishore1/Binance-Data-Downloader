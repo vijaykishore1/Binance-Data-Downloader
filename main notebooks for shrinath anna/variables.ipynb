{
 "cells": [
  {
   "cell_type": "code",
   "execution_count": 1,
   "id": "7493689b",
   "metadata": {
    "ExecuteTime": {
     "end_time": "2023-11-06T13:11:22.433419Z",
     "start_time": "2023-11-06T13:11:22.417387Z"
    }
   },
   "outputs": [],
   "source": [
    "api_key = \"MiYbrwXdnKzokLZOE7O02negdBLx2TZ9qdDEuNTe0CVI5apCVyzchMKIRVOllEgB\"\n",
    "api_secret = \"0lpEEXxn2NPdXH4ALYT8RTVpgI954polPs2ZZsTwPVxtjEy3uW5jd7TuKS4u9prt\""
   ]
  }
 ],
 "metadata": {
  "kernelspec": {
   "display_name": "Python 3 (ipykernel)",
   "language": "python",
   "name": "python3"
  },
  "language_info": {
   "codemirror_mode": {
    "name": "ipython",
    "version": 3
   },
   "file_extension": ".py",
   "mimetype": "text/x-python",
   "name": "python",
   "nbconvert_exporter": "python",
   "pygments_lexer": "ipython3",
   "version": "3.9.12"
  }
 },
 "nbformat": 4,
 "nbformat_minor": 5
}
