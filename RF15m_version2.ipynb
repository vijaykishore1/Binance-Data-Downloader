{
 "cells": [
  {
   "cell_type": "code",
   "execution_count": 7,
   "metadata": {
    "ExecuteTime": {
     "end_time": "2023-08-20T15:36:52.008942Z",
     "start_time": "2023-08-20T15:36:51.932948Z"
    }
   },
   "outputs": [
    {
     "ename": "Exception",
     "evalue": "File `'./constants.ipynb.py'` not found.",
     "output_type": "error",
     "traceback": [
      "\u001b[1;31m---------------------------------------------------------------------------\u001b[0m",
      "\u001b[1;31mOSError\u001b[0m                                   Traceback (most recent call last)",
      "File \u001b[1;32m~\\anaconda3\\lib\\site-packages\\IPython\\core\\magics\\execution.py:696\u001b[0m, in \u001b[0;36mExecutionMagics.run\u001b[1;34m(self, parameter_s, runner, file_finder)\u001b[0m\n\u001b[0;32m    695\u001b[0m     fpath \u001b[38;5;241m=\u001b[39m arg_lst[\u001b[38;5;241m0\u001b[39m]\n\u001b[1;32m--> 696\u001b[0m     filename \u001b[38;5;241m=\u001b[39m \u001b[43mfile_finder\u001b[49m\u001b[43m(\u001b[49m\u001b[43mfpath\u001b[49m\u001b[43m)\u001b[49m\n\u001b[0;32m    697\u001b[0m \u001b[38;5;28;01mexcept\u001b[39;00m \u001b[38;5;167;01mIndexError\u001b[39;00m \u001b[38;5;28;01mas\u001b[39;00m e:\n",
      "File \u001b[1;32m~\\anaconda3\\lib\\site-packages\\IPython\\utils\\path.py:91\u001b[0m, in \u001b[0;36mget_py_filename\u001b[1;34m(name)\u001b[0m\n\u001b[0;32m     90\u001b[0m \u001b[38;5;28;01melse\u001b[39;00m:\n\u001b[1;32m---> 91\u001b[0m     \u001b[38;5;28;01mraise\u001b[39;00m \u001b[38;5;167;01mIOError\u001b[39;00m(\u001b[38;5;124m'\u001b[39m\u001b[38;5;124mFile `\u001b[39m\u001b[38;5;132;01m%r\u001b[39;00m\u001b[38;5;124m` not found.\u001b[39m\u001b[38;5;124m'\u001b[39m \u001b[38;5;241m%\u001b[39m name)\n",
      "\u001b[1;31mOSError\u001b[0m: File `'./constants.ipynb.py'` not found.",
      "\nThe above exception was the direct cause of the following exception:\n",
      "\u001b[1;31mException\u001b[0m                                 Traceback (most recent call last)",
      "Input \u001b[1;32mIn [7]\u001b[0m, in \u001b[0;36m<cell line: 1>\u001b[1;34m()\u001b[0m\n\u001b[1;32m----> 1\u001b[0m \u001b[43mget_ipython\u001b[49m\u001b[43m(\u001b[49m\u001b[43m)\u001b[49m\u001b[38;5;241;43m.\u001b[39;49m\u001b[43mrun_line_magic\u001b[49m\u001b[43m(\u001b[49m\u001b[38;5;124;43m'\u001b[39;49m\u001b[38;5;124;43mrun\u001b[39;49m\u001b[38;5;124;43m'\u001b[39;49m\u001b[43m,\u001b[49m\u001b[43m \u001b[49m\u001b[38;5;124;43m'\u001b[39;49m\u001b[38;5;124;43m./constants.ipynb\u001b[39;49m\u001b[38;5;124;43m'\u001b[39;49m\u001b[43m)\u001b[49m\n",
      "File \u001b[1;32m~\\anaconda3\\lib\\site-packages\\IPython\\core\\interactiveshell.py:2294\u001b[0m, in \u001b[0;36mInteractiveShell.run_line_magic\u001b[1;34m(self, magic_name, line, _stack_depth)\u001b[0m\n\u001b[0;32m   2292\u001b[0m     kwargs[\u001b[38;5;124m'\u001b[39m\u001b[38;5;124mlocal_ns\u001b[39m\u001b[38;5;124m'\u001b[39m] \u001b[38;5;241m=\u001b[39m \u001b[38;5;28mself\u001b[39m\u001b[38;5;241m.\u001b[39mget_local_scope(stack_depth)\n\u001b[0;32m   2293\u001b[0m \u001b[38;5;28;01mwith\u001b[39;00m \u001b[38;5;28mself\u001b[39m\u001b[38;5;241m.\u001b[39mbuiltin_trap:\n\u001b[1;32m-> 2294\u001b[0m     result \u001b[38;5;241m=\u001b[39m fn(\u001b[38;5;241m*\u001b[39margs, \u001b[38;5;241m*\u001b[39m\u001b[38;5;241m*\u001b[39mkwargs)\n\u001b[0;32m   2295\u001b[0m \u001b[38;5;28;01mreturn\u001b[39;00m result\n",
      "File \u001b[1;32m~\\anaconda3\\lib\\site-packages\\IPython\\core\\magics\\execution.py:707\u001b[0m, in \u001b[0;36mExecutionMagics.run\u001b[1;34m(self, parameter_s, runner, file_finder)\u001b[0m\n\u001b[0;32m    705\u001b[0m     \u001b[38;5;28;01mif\u001b[39;00m os\u001b[38;5;241m.\u001b[39mname \u001b[38;5;241m==\u001b[39m \u001b[38;5;124m'\u001b[39m\u001b[38;5;124mnt\u001b[39m\u001b[38;5;124m'\u001b[39m \u001b[38;5;129;01mand\u001b[39;00m re\u001b[38;5;241m.\u001b[39mmatch(\u001b[38;5;124mr\u001b[39m\u001b[38;5;124m\"\u001b[39m\u001b[38;5;124m^\u001b[39m\u001b[38;5;124m'\u001b[39m\u001b[38;5;124m.*\u001b[39m\u001b[38;5;124m'\u001b[39m\u001b[38;5;124m$\u001b[39m\u001b[38;5;124m\"\u001b[39m,fpath):\n\u001b[0;32m    706\u001b[0m         warn(\u001b[38;5;124m'\u001b[39m\u001b[38;5;124mFor Windows, use double quotes to wrap a filename: \u001b[39m\u001b[38;5;132;01m%r\u001b[39;00m\u001b[38;5;124mun \u001b[39m\u001b[38;5;124m\"\u001b[39m\u001b[38;5;124mmypath\u001b[39m\u001b[38;5;130;01m\\\\\u001b[39;00m\u001b[38;5;124mmyfile.py\u001b[39m\u001b[38;5;124m\"\u001b[39m\u001b[38;5;124m'\u001b[39m)\n\u001b[1;32m--> 707\u001b[0m     \u001b[38;5;28;01mraise\u001b[39;00m \u001b[38;5;167;01mException\u001b[39;00m(msg) \u001b[38;5;28;01mfrom\u001b[39;00m \u001b[38;5;21;01me\u001b[39;00m\n\u001b[0;32m    708\u001b[0m \u001b[38;5;28;01mexcept\u001b[39;00m \u001b[38;5;167;01mTypeError\u001b[39;00m:\n\u001b[0;32m    709\u001b[0m     \u001b[38;5;28;01mif\u001b[39;00m fpath \u001b[38;5;129;01min\u001b[39;00m sys\u001b[38;5;241m.\u001b[39mmeta_path:\n",
      "\u001b[1;31mException\u001b[0m: File `'./constants.ipynb.py'` not found."
     ]
    }
   ],
   "source": [
    "%run ./constants.ipynb"
   ]
  },
  {
   "cell_type": "code",
   "execution_count": 6,
   "metadata": {
    "ExecuteTime": {
     "end_time": "2023-08-20T15:36:27.667903Z",
     "start_time": "2023-08-20T15:36:26.921309Z"
    }
   },
   "outputs": [],
   "source": [
    "import pandas as pd\n",
    "import plotly.express as px\n",
    "import numpy as np\n",
    "import os\n",
    "import pickle\n",
    "\n",
    "from sklearn.model_selection import train_test_split\n",
    "from sklearn.ensemble import RandomForestClassifier\n",
    "from sklearn.metrics import confusion_matrix, ConfusionMatrixDisplay\n",
    "from sklearn.metrics import classification_report\n",
    "from sklearn.metrics import auc"
   ]
  },
  {
   "cell_type": "code",
   "execution_count": null,
   "metadata": {
    "ExecuteTime": {
     "end_time": "2023-08-20T15:36:10.506833Z",
     "start_time": "2023-08-20T15:36:10.506833Z"
    }
   },
   "outputs": [],
   "source": [
    "time_period = \"5m\"\n",
    "symbol = \"BTCUSDT\"\n",
    "path_to_symbol = os.path.join(output_dir,f\"{symbol}-{time_period}\",f\"{symbol}-{time_period}.csv\")\n"
   ]
  },
  {
   "cell_type": "code",
   "execution_count": null,
   "metadata": {
    "ExecuteTime": {
     "end_time": "2023-08-20T15:36:10.508335Z",
     "start_time": "2023-08-20T15:36:10.508335Z"
    }
   },
   "outputs": [],
   "source": [
    "df = pd.read_csv(path_to_symbol)"
   ]
  },
  {
   "cell_type": "code",
   "execution_count": 3,
   "metadata": {
    "ExecuteTime": {
     "end_time": "2023-08-20T15:36:03.949345Z",
     "start_time": "2023-08-20T15:36:03.936146Z"
    }
   },
   "outputs": [
    {
     "ename": "NameError",
     "evalue": "name 'df' is not defined",
     "output_type": "error",
     "traceback": [
      "\u001b[1;31m---------------------------------------------------------------------------\u001b[0m",
      "\u001b[1;31mNameError\u001b[0m                                 Traceback (most recent call last)",
      "Input \u001b[1;32mIn [3]\u001b[0m, in \u001b[0;36m<cell line: 1>\u001b[1;34m()\u001b[0m\n\u001b[1;32m----> 1\u001b[0m \u001b[43mdf\u001b[49m\u001b[38;5;241m.\u001b[39mshape\n",
      "\u001b[1;31mNameError\u001b[0m: name 'df' is not defined"
     ]
    }
   ],
   "source": [
    "df.shape"
   ]
  },
  {
   "cell_type": "code",
   "execution_count": 80,
   "metadata": {
    "ExecuteTime": {
     "end_time": "2023-04-26T16:10:18.177823Z",
     "start_time": "2023-04-26T16:10:18.119658Z"
    }
   },
   "outputs": [
    {
     "data": {
      "text/html": [
       "<div>\n",
       "<style scoped>\n",
       "    .dataframe tbody tr th:only-of-type {\n",
       "        vertical-align: middle;\n",
       "    }\n",
       "\n",
       "    .dataframe tbody tr th {\n",
       "        vertical-align: top;\n",
       "    }\n",
       "\n",
       "    .dataframe thead th {\n",
       "        text-align: right;\n",
       "    }\n",
       "</style>\n",
       "<table border=\"1\" class=\"dataframe\">\n",
       "  <thead>\n",
       "    <tr style=\"text-align: right;\">\n",
       "      <th></th>\n",
       "      <th>open_time</th>\n",
       "      <th>open</th>\n",
       "      <th>high</th>\n",
       "      <th>low</th>\n",
       "      <th>close</th>\n",
       "      <th>volume</th>\n",
       "      <th>close_time</th>\n",
       "      <th>quote_volume</th>\n",
       "      <th>count</th>\n",
       "      <th>taker_buy_volume</th>\n",
       "      <th>...</th>\n",
       "      <th>PLUS_DM_233</th>\n",
       "      <th>ROC_233</th>\n",
       "      <th>ROCP_233</th>\n",
       "      <th>ROCR_233</th>\n",
       "      <th>ROCR100_233</th>\n",
       "      <th>RSI_233</th>\n",
       "      <th>ATR_233</th>\n",
       "      <th>NATR_233</th>\n",
       "      <th>BETA_233</th>\n",
       "      <th>CORREL_233</th>\n",
       "    </tr>\n",
       "  </thead>\n",
       "  <tbody>\n",
       "    <tr>\n",
       "      <th>0</th>\n",
       "      <td>2021-01-12 12:31:00+05:30</td>\n",
       "      <td>36042.0</td>\n",
       "      <td>36042.0</td>\n",
       "      <td>36042.0</td>\n",
       "      <td>36042.0</td>\n",
       "      <td>0.001</td>\n",
       "      <td>2021-01-12 12:31:59.999000+05:30</td>\n",
       "      <td>36.0420</td>\n",
       "      <td>1</td>\n",
       "      <td>0.001</td>\n",
       "      <td>...</td>\n",
       "      <td>NaN</td>\n",
       "      <td>NaN</td>\n",
       "      <td>NaN</td>\n",
       "      <td>NaN</td>\n",
       "      <td>NaN</td>\n",
       "      <td>NaN</td>\n",
       "      <td>NaN</td>\n",
       "      <td>NaN</td>\n",
       "      <td>NaN</td>\n",
       "      <td>NaN</td>\n",
       "    </tr>\n",
       "    <tr>\n",
       "      <th>1</th>\n",
       "      <td>2021-01-12 12:32:00+05:30</td>\n",
       "      <td>36042.0</td>\n",
       "      <td>36042.0</td>\n",
       "      <td>35856.5</td>\n",
       "      <td>35856.5</td>\n",
       "      <td>0.906</td>\n",
       "      <td>2021-01-12 12:32:59.999000+05:30</td>\n",
       "      <td>32546.3687</td>\n",
       "      <td>4</td>\n",
       "      <td>0.905</td>\n",
       "      <td>...</td>\n",
       "      <td>NaN</td>\n",
       "      <td>NaN</td>\n",
       "      <td>NaN</td>\n",
       "      <td>NaN</td>\n",
       "      <td>NaN</td>\n",
       "      <td>NaN</td>\n",
       "      <td>NaN</td>\n",
       "      <td>NaN</td>\n",
       "      <td>NaN</td>\n",
       "      <td>NaN</td>\n",
       "    </tr>\n",
       "    <tr>\n",
       "      <th>2</th>\n",
       "      <td>2021-01-12 12:33:00+05:30</td>\n",
       "      <td>35829.1</td>\n",
       "      <td>35843.3</td>\n",
       "      <td>35824.0</td>\n",
       "      <td>35843.3</td>\n",
       "      <td>4.397</td>\n",
       "      <td>2021-01-12 12:33:59.999000+05:30</td>\n",
       "      <td>157547.2001</td>\n",
       "      <td>12</td>\n",
       "      <td>2.849</td>\n",
       "      <td>...</td>\n",
       "      <td>NaN</td>\n",
       "      <td>NaN</td>\n",
       "      <td>NaN</td>\n",
       "      <td>NaN</td>\n",
       "      <td>NaN</td>\n",
       "      <td>NaN</td>\n",
       "      <td>NaN</td>\n",
       "      <td>NaN</td>\n",
       "      <td>NaN</td>\n",
       "      <td>NaN</td>\n",
       "    </tr>\n",
       "    <tr>\n",
       "      <th>3</th>\n",
       "      <td>2021-01-12 12:34:00+05:30</td>\n",
       "      <td>35834.3</td>\n",
       "      <td>35848.1</td>\n",
       "      <td>35807.9</td>\n",
       "      <td>35815.6</td>\n",
       "      <td>4.650</td>\n",
       "      <td>2021-01-12 12:34:59.999000+05:30</td>\n",
       "      <td>166610.1238</td>\n",
       "      <td>9</td>\n",
       "      <td>3.636</td>\n",
       "      <td>...</td>\n",
       "      <td>NaN</td>\n",
       "      <td>NaN</td>\n",
       "      <td>NaN</td>\n",
       "      <td>NaN</td>\n",
       "      <td>NaN</td>\n",
       "      <td>NaN</td>\n",
       "      <td>NaN</td>\n",
       "      <td>NaN</td>\n",
       "      <td>NaN</td>\n",
       "      <td>NaN</td>\n",
       "    </tr>\n",
       "    <tr>\n",
       "      <th>4</th>\n",
       "      <td>2021-01-12 12:35:00+05:30</td>\n",
       "      <td>35815.5</td>\n",
       "      <td>35939.5</td>\n",
       "      <td>35799.8</td>\n",
       "      <td>35799.8</td>\n",
       "      <td>3.178</td>\n",
       "      <td>2021-01-12 12:35:59.999000+05:30</td>\n",
       "      <td>113854.9888</td>\n",
       "      <td>9</td>\n",
       "      <td>1.870</td>\n",
       "      <td>...</td>\n",
       "      <td>NaN</td>\n",
       "      <td>NaN</td>\n",
       "      <td>NaN</td>\n",
       "      <td>NaN</td>\n",
       "      <td>NaN</td>\n",
       "      <td>NaN</td>\n",
       "      <td>NaN</td>\n",
       "      <td>NaN</td>\n",
       "      <td>NaN</td>\n",
       "      <td>NaN</td>\n",
       "    </tr>\n",
       "  </tbody>\n",
       "</table>\n",
       "<p>5 rows × 583 columns</p>\n",
       "</div>"
      ],
      "text/plain": [
       "                   open_time     open     high      low    close  volume  \\\n",
       "0  2021-01-12 12:31:00+05:30  36042.0  36042.0  36042.0  36042.0   0.001   \n",
       "1  2021-01-12 12:32:00+05:30  36042.0  36042.0  35856.5  35856.5   0.906   \n",
       "2  2021-01-12 12:33:00+05:30  35829.1  35843.3  35824.0  35843.3   4.397   \n",
       "3  2021-01-12 12:34:00+05:30  35834.3  35848.1  35807.9  35815.6   4.650   \n",
       "4  2021-01-12 12:35:00+05:30  35815.5  35939.5  35799.8  35799.8   3.178   \n",
       "\n",
       "                         close_time  quote_volume  count  taker_buy_volume  \\\n",
       "0  2021-01-12 12:31:59.999000+05:30       36.0420      1             0.001   \n",
       "1  2021-01-12 12:32:59.999000+05:30    32546.3687      4             0.905   \n",
       "2  2021-01-12 12:33:59.999000+05:30   157547.2001     12             2.849   \n",
       "3  2021-01-12 12:34:59.999000+05:30   166610.1238      9             3.636   \n",
       "4  2021-01-12 12:35:59.999000+05:30   113854.9888      9             1.870   \n",
       "\n",
       "   ...  PLUS_DM_233  ROC_233  ROCP_233  ROCR_233  ROCR100_233  RSI_233  \\\n",
       "0  ...          NaN      NaN       NaN       NaN          NaN      NaN   \n",
       "1  ...          NaN      NaN       NaN       NaN          NaN      NaN   \n",
       "2  ...          NaN      NaN       NaN       NaN          NaN      NaN   \n",
       "3  ...          NaN      NaN       NaN       NaN          NaN      NaN   \n",
       "4  ...          NaN      NaN       NaN       NaN          NaN      NaN   \n",
       "\n",
       "   ATR_233  NATR_233  BETA_233  CORREL_233  \n",
       "0      NaN       NaN       NaN         NaN  \n",
       "1      NaN       NaN       NaN         NaN  \n",
       "2      NaN       NaN       NaN         NaN  \n",
       "3      NaN       NaN       NaN         NaN  \n",
       "4      NaN       NaN       NaN         NaN  \n",
       "\n",
       "[5 rows x 583 columns]"
      ]
     },
     "execution_count": 80,
     "metadata": {},
     "output_type": "execute_result"
    }
   ],
   "source": [
    "df.head()"
   ]
  },
  {
   "cell_type": "code",
   "execution_count": 81,
   "metadata": {
    "ExecuteTime": {
     "end_time": "2023-04-26T16:10:29.635133Z",
     "start_time": "2023-04-26T16:10:18.183447Z"
    }
   },
   "outputs": [
    {
     "data": {
      "text/html": [
       "<div>\n",
       "<style scoped>\n",
       "    .dataframe tbody tr th:only-of-type {\n",
       "        vertical-align: middle;\n",
       "    }\n",
       "\n",
       "    .dataframe tbody tr th {\n",
       "        vertical-align: top;\n",
       "    }\n",
       "\n",
       "    .dataframe thead th {\n",
       "        text-align: right;\n",
       "    }\n",
       "</style>\n",
       "<table border=\"1\" class=\"dataframe\">\n",
       "  <thead>\n",
       "    <tr style=\"text-align: right;\">\n",
       "      <th></th>\n",
       "      <th>open</th>\n",
       "      <th>high</th>\n",
       "      <th>low</th>\n",
       "      <th>close</th>\n",
       "      <th>volume</th>\n",
       "      <th>quote_volume</th>\n",
       "      <th>count</th>\n",
       "      <th>taker_buy_volume</th>\n",
       "      <th>taker_buy_quote_volume</th>\n",
       "      <th>entry</th>\n",
       "      <th>...</th>\n",
       "      <th>PLUS_DM_233</th>\n",
       "      <th>ROC_233</th>\n",
       "      <th>ROCP_233</th>\n",
       "      <th>ROCR_233</th>\n",
       "      <th>ROCR100_233</th>\n",
       "      <th>RSI_233</th>\n",
       "      <th>ATR_233</th>\n",
       "      <th>NATR_233</th>\n",
       "      <th>BETA_233</th>\n",
       "      <th>CORREL_233</th>\n",
       "    </tr>\n",
       "  </thead>\n",
       "  <tbody>\n",
       "    <tr>\n",
       "      <th>count</th>\n",
       "      <td>1.160203e+06</td>\n",
       "      <td>1.160203e+06</td>\n",
       "      <td>1.160203e+06</td>\n",
       "      <td>1.160203e+06</td>\n",
       "      <td>1.160203e+06</td>\n",
       "      <td>1.160203e+06</td>\n",
       "      <td>1.160203e+06</td>\n",
       "      <td>1.160203e+06</td>\n",
       "      <td>1.160203e+06</td>\n",
       "      <td>1.160202e+06</td>\n",
       "      <td>...</td>\n",
       "      <td>1.159971e+06</td>\n",
       "      <td>1.159970e+06</td>\n",
       "      <td>1.159970e+06</td>\n",
       "      <td>1.159970e+06</td>\n",
       "      <td>1.159970e+06</td>\n",
       "      <td>1.159970e+06</td>\n",
       "      <td>1.159970e+06</td>\n",
       "      <td>1.159970e+06</td>\n",
       "      <td>1.159970e+06</td>\n",
       "      <td>1.159971e+06</td>\n",
       "    </tr>\n",
       "    <tr>\n",
       "      <th>mean</th>\n",
       "      <td>3.617440e+04</td>\n",
       "      <td>3.619398e+04</td>\n",
       "      <td>3.615496e+04</td>\n",
       "      <td>3.617429e+04</td>\n",
       "      <td>3.405933e+01</td>\n",
       "      <td>9.223174e+05</td>\n",
       "      <td>3.647776e+02</td>\n",
       "      <td>1.706939e+01</td>\n",
       "      <td>4.616290e+05</td>\n",
       "      <td>3.617430e+04</td>\n",
       "      <td>...</td>\n",
       "      <td>2.410611e+03</td>\n",
       "      <td>7.139724e-03</td>\n",
       "      <td>7.139724e-05</td>\n",
       "      <td>1.000071e+00</td>\n",
       "      <td>1.000071e+02</td>\n",
       "      <td>5.008131e+01</td>\n",
       "      <td>4.042383e+01</td>\n",
       "      <td>1.061714e-01</td>\n",
       "      <td>4.951961e-01</td>\n",
       "      <td>9.794549e-01</td>\n",
       "    </tr>\n",
       "    <tr>\n",
       "      <th>std</th>\n",
       "      <td>1.405442e+04</td>\n",
       "      <td>1.406277e+04</td>\n",
       "      <td>1.404590e+04</td>\n",
       "      <td>1.405434e+04</td>\n",
       "      <td>8.220915e+01</td>\n",
       "      <td>1.902812e+06</td>\n",
       "      <td>6.206618e+02</td>\n",
       "      <td>4.281158e+01</td>\n",
       "      <td>9.916059e+05</td>\n",
       "      <td>1.405434e+04</td>\n",
       "      <td>...</td>\n",
       "      <td>1.752507e+03</td>\n",
       "      <td>1.532709e+00</td>\n",
       "      <td>1.532709e-02</td>\n",
       "      <td>1.532709e-02</td>\n",
       "      <td>1.532709e+00</td>\n",
       "      <td>2.969395e+00</td>\n",
       "      <td>3.095167e+01</td>\n",
       "      <td>7.228701e-02</td>\n",
       "      <td>1.534410e-01</td>\n",
       "      <td>2.155153e-02</td>\n",
       "    </tr>\n",
       "    <tr>\n",
       "      <th>min</th>\n",
       "      <td>1.547620e+04</td>\n",
       "      <td>1.551160e+04</td>\n",
       "      <td>1.535970e+04</td>\n",
       "      <td>1.547560e+04</td>\n",
       "      <td>0.000000e+00</td>\n",
       "      <td>0.000000e+00</td>\n",
       "      <td>0.000000e+00</td>\n",
       "      <td>0.000000e+00</td>\n",
       "      <td>0.000000e+00</td>\n",
       "      <td>1.547560e+04</td>\n",
       "      <td>...</td>\n",
       "      <td>2.564610e+01</td>\n",
       "      <td>-2.801093e+01</td>\n",
       "      <td>-2.801093e-01</td>\n",
       "      <td>7.198907e-01</td>\n",
       "      <td>7.198907e+01</td>\n",
       "      <td>2.342555e+01</td>\n",
       "      <td>3.625995e-01</td>\n",
       "      <td>2.140986e-03</td>\n",
       "      <td>-1.039432e+00</td>\n",
       "      <td>3.109917e-01</td>\n",
       "    </tr>\n",
       "    <tr>\n",
       "      <th>25%</th>\n",
       "      <td>2.218440e+04</td>\n",
       "      <td>2.219710e+04</td>\n",
       "      <td>2.217320e+04</td>\n",
       "      <td>2.218440e+04</td>\n",
       "      <td>2.823000e+00</td>\n",
       "      <td>9.985973e+04</td>\n",
       "      <td>6.900000e+01</td>\n",
       "      <td>9.730000e-01</td>\n",
       "      <td>3.403229e+04</td>\n",
       "      <td>2.218440e+04</td>\n",
       "      <td>...</td>\n",
       "      <td>1.081080e+03</td>\n",
       "      <td>-6.046700e-01</td>\n",
       "      <td>-6.046700e-03</td>\n",
       "      <td>9.939533e-01</td>\n",
       "      <td>9.939533e+01</td>\n",
       "      <td>4.830244e+01</td>\n",
       "      <td>1.726794e+01</td>\n",
       "      <td>6.324668e-02</td>\n",
       "      <td>4.016536e-01</td>\n",
       "      <td>9.740624e-01</td>\n",
       "    </tr>\n",
       "    <tr>\n",
       "      <th>50%</th>\n",
       "      <td>3.663020e+04</td>\n",
       "      <td>3.666110e+04</td>\n",
       "      <td>3.660100e+04</td>\n",
       "      <td>3.662980e+04</td>\n",
       "      <td>1.165900e+01</td>\n",
       "      <td>3.896783e+05</td>\n",
       "      <td>2.080000e+02</td>\n",
       "      <td>5.072000e+00</td>\n",
       "      <td>1.744975e+05</td>\n",
       "      <td>3.662985e+04</td>\n",
       "      <td>...</td>\n",
       "      <td>2.100656e+03</td>\n",
       "      <td>5.373943e-03</td>\n",
       "      <td>5.373943e-05</td>\n",
       "      <td>1.000054e+00</td>\n",
       "      <td>1.000054e+02</td>\n",
       "      <td>5.005166e+01</td>\n",
       "      <td>3.557553e+01</td>\n",
       "      <td>9.252848e-02</td>\n",
       "      <td>5.024530e-01</td>\n",
       "      <td>9.842372e-01</td>\n",
       "    </tr>\n",
       "    <tr>\n",
       "      <th>75%</th>\n",
       "      <td>4.722000e+04</td>\n",
       "      <td>4.724390e+04</td>\n",
       "      <td>4.719750e+04</td>\n",
       "      <td>4.721975e+04</td>\n",
       "      <td>3.357800e+01</td>\n",
       "      <td>9.877312e+05</td>\n",
       "      <td>4.330000e+02</td>\n",
       "      <td>1.652000e+01</td>\n",
       "      <td>4.949239e+05</td>\n",
       "      <td>4.721978e+04</td>\n",
       "      <td>...</td>\n",
       "      <td>3.333348e+03</td>\n",
       "      <td>6.104192e-01</td>\n",
       "      <td>6.104192e-03</td>\n",
       "      <td>1.006104e+00</td>\n",
       "      <td>1.006104e+02</td>\n",
       "      <td>5.177816e+01</td>\n",
       "      <td>5.633006e+01</td>\n",
       "      <td>1.311522e-01</td>\n",
       "      <td>5.968982e-01</td>\n",
       "      <td>9.908451e-01</td>\n",
       "    </tr>\n",
       "    <tr>\n",
       "      <th>max</th>\n",
       "      <td>6.914110e+04</td>\n",
       "      <td>6.917780e+04</td>\n",
       "      <td>6.888690e+04</td>\n",
       "      <td>6.914100e+04</td>\n",
       "      <td>4.146987e+03</td>\n",
       "      <td>9.168269e+07</td>\n",
       "      <td>7.791400e+04</td>\n",
       "      <td>2.683941e+03</td>\n",
       "      <td>4.797964e+07</td>\n",
       "      <td>6.914100e+04</td>\n",
       "      <td>...</td>\n",
       "      <td>2.083018e+04</td>\n",
       "      <td>3.900760e+01</td>\n",
       "      <td>3.900760e-01</td>\n",
       "      <td>1.390076e+00</td>\n",
       "      <td>1.390076e+02</td>\n",
       "      <td>7.862412e+01</td>\n",
       "      <td>5.432945e+02</td>\n",
       "      <td>1.584356e+00</td>\n",
       "      <td>3.591579e+00</td>\n",
       "      <td>9.993207e-01</td>\n",
       "    </tr>\n",
       "  </tbody>\n",
       "</table>\n",
       "<p>8 rows × 581 columns</p>\n",
       "</div>"
      ],
      "text/plain": [
       "               open          high           low         close        volume  \\\n",
       "count  1.160203e+06  1.160203e+06  1.160203e+06  1.160203e+06  1.160203e+06   \n",
       "mean   3.617440e+04  3.619398e+04  3.615496e+04  3.617429e+04  3.405933e+01   \n",
       "std    1.405442e+04  1.406277e+04  1.404590e+04  1.405434e+04  8.220915e+01   \n",
       "min    1.547620e+04  1.551160e+04  1.535970e+04  1.547560e+04  0.000000e+00   \n",
       "25%    2.218440e+04  2.219710e+04  2.217320e+04  2.218440e+04  2.823000e+00   \n",
       "50%    3.663020e+04  3.666110e+04  3.660100e+04  3.662980e+04  1.165900e+01   \n",
       "75%    4.722000e+04  4.724390e+04  4.719750e+04  4.721975e+04  3.357800e+01   \n",
       "max    6.914110e+04  6.917780e+04  6.888690e+04  6.914100e+04  4.146987e+03   \n",
       "\n",
       "       quote_volume         count  taker_buy_volume  taker_buy_quote_volume  \\\n",
       "count  1.160203e+06  1.160203e+06      1.160203e+06            1.160203e+06   \n",
       "mean   9.223174e+05  3.647776e+02      1.706939e+01            4.616290e+05   \n",
       "std    1.902812e+06  6.206618e+02      4.281158e+01            9.916059e+05   \n",
       "min    0.000000e+00  0.000000e+00      0.000000e+00            0.000000e+00   \n",
       "25%    9.985973e+04  6.900000e+01      9.730000e-01            3.403229e+04   \n",
       "50%    3.896783e+05  2.080000e+02      5.072000e+00            1.744975e+05   \n",
       "75%    9.877312e+05  4.330000e+02      1.652000e+01            4.949239e+05   \n",
       "max    9.168269e+07  7.791400e+04      2.683941e+03            4.797964e+07   \n",
       "\n",
       "              entry  ...   PLUS_DM_233       ROC_233      ROCP_233  \\\n",
       "count  1.160202e+06  ...  1.159971e+06  1.159970e+06  1.159970e+06   \n",
       "mean   3.617430e+04  ...  2.410611e+03  7.139724e-03  7.139724e-05   \n",
       "std    1.405434e+04  ...  1.752507e+03  1.532709e+00  1.532709e-02   \n",
       "min    1.547560e+04  ...  2.564610e+01 -2.801093e+01 -2.801093e-01   \n",
       "25%    2.218440e+04  ...  1.081080e+03 -6.046700e-01 -6.046700e-03   \n",
       "50%    3.662985e+04  ...  2.100656e+03  5.373943e-03  5.373943e-05   \n",
       "75%    4.721978e+04  ...  3.333348e+03  6.104192e-01  6.104192e-03   \n",
       "max    6.914100e+04  ...  2.083018e+04  3.900760e+01  3.900760e-01   \n",
       "\n",
       "           ROCR_233   ROCR100_233       RSI_233       ATR_233      NATR_233  \\\n",
       "count  1.159970e+06  1.159970e+06  1.159970e+06  1.159970e+06  1.159970e+06   \n",
       "mean   1.000071e+00  1.000071e+02  5.008131e+01  4.042383e+01  1.061714e-01   \n",
       "std    1.532709e-02  1.532709e+00  2.969395e+00  3.095167e+01  7.228701e-02   \n",
       "min    7.198907e-01  7.198907e+01  2.342555e+01  3.625995e-01  2.140986e-03   \n",
       "25%    9.939533e-01  9.939533e+01  4.830244e+01  1.726794e+01  6.324668e-02   \n",
       "50%    1.000054e+00  1.000054e+02  5.005166e+01  3.557553e+01  9.252848e-02   \n",
       "75%    1.006104e+00  1.006104e+02  5.177816e+01  5.633006e+01  1.311522e-01   \n",
       "max    1.390076e+00  1.390076e+02  7.862412e+01  5.432945e+02  1.584356e+00   \n",
       "\n",
       "           BETA_233    CORREL_233  \n",
       "count  1.159970e+06  1.159971e+06  \n",
       "mean   4.951961e-01  9.794549e-01  \n",
       "std    1.534410e-01  2.155153e-02  \n",
       "min   -1.039432e+00  3.109917e-01  \n",
       "25%    4.016536e-01  9.740624e-01  \n",
       "50%    5.024530e-01  9.842372e-01  \n",
       "75%    5.968982e-01  9.908451e-01  \n",
       "max    3.591579e+00  9.993207e-01  \n",
       "\n",
       "[8 rows x 581 columns]"
      ]
     },
     "execution_count": 81,
     "metadata": {},
     "output_type": "execute_result"
    }
   ],
   "source": [
    "df.describe()"
   ]
  },
  {
   "cell_type": "code",
   "execution_count": 82,
   "metadata": {
    "ExecuteTime": {
     "end_time": "2023-04-26T16:10:29.666454Z",
     "start_time": "2023-04-26T16:10:29.636134Z"
    }
   },
   "outputs": [
    {
     "data": {
      "text/html": [
       "<div>\n",
       "<style scoped>\n",
       "    .dataframe tbody tr th:only-of-type {\n",
       "        vertical-align: middle;\n",
       "    }\n",
       "\n",
       "    .dataframe tbody tr th {\n",
       "        vertical-align: top;\n",
       "    }\n",
       "\n",
       "    .dataframe thead th {\n",
       "        text-align: right;\n",
       "    }\n",
       "</style>\n",
       "<table border=\"1\" class=\"dataframe\">\n",
       "  <thead>\n",
       "    <tr style=\"text-align: right;\">\n",
       "      <th></th>\n",
       "      <th>open_time</th>\n",
       "      <th>close_time</th>\n",
       "    </tr>\n",
       "  </thead>\n",
       "  <tbody>\n",
       "    <tr>\n",
       "      <th>0</th>\n",
       "      <td>2021-01-12 12:31:00+05:30</td>\n",
       "      <td>2021-01-12 12:31:59.999000+05:30</td>\n",
       "    </tr>\n",
       "    <tr>\n",
       "      <th>1</th>\n",
       "      <td>2021-01-12 12:32:00+05:30</td>\n",
       "      <td>2021-01-12 12:32:59.999000+05:30</td>\n",
       "    </tr>\n",
       "    <tr>\n",
       "      <th>2</th>\n",
       "      <td>2021-01-12 12:33:00+05:30</td>\n",
       "      <td>2021-01-12 12:33:59.999000+05:30</td>\n",
       "    </tr>\n",
       "    <tr>\n",
       "      <th>3</th>\n",
       "      <td>2021-01-12 12:34:00+05:30</td>\n",
       "      <td>2021-01-12 12:34:59.999000+05:30</td>\n",
       "    </tr>\n",
       "    <tr>\n",
       "      <th>4</th>\n",
       "      <td>2021-01-12 12:35:00+05:30</td>\n",
       "      <td>2021-01-12 12:35:59.999000+05:30</td>\n",
       "    </tr>\n",
       "    <tr>\n",
       "      <th>...</th>\n",
       "      <td>...</td>\n",
       "      <td>...</td>\n",
       "    </tr>\n",
       "    <tr>\n",
       "      <th>1160198</th>\n",
       "      <td>2023-04-01 05:25:00+05:30</td>\n",
       "      <td>2023-04-01 05:25:59.999000+05:30</td>\n",
       "    </tr>\n",
       "    <tr>\n",
       "      <th>1160199</th>\n",
       "      <td>2023-04-01 05:26:00+05:30</td>\n",
       "      <td>2023-04-01 05:26:59.999000+05:30</td>\n",
       "    </tr>\n",
       "    <tr>\n",
       "      <th>1160200</th>\n",
       "      <td>2023-04-01 05:27:00+05:30</td>\n",
       "      <td>2023-04-01 05:27:59.999000+05:30</td>\n",
       "    </tr>\n",
       "    <tr>\n",
       "      <th>1160201</th>\n",
       "      <td>2023-04-01 05:28:00+05:30</td>\n",
       "      <td>2023-04-01 05:28:59.999000+05:30</td>\n",
       "    </tr>\n",
       "    <tr>\n",
       "      <th>1160202</th>\n",
       "      <td>2023-04-01 05:29:00+05:30</td>\n",
       "      <td>2023-04-01 05:29:59.999000+05:30</td>\n",
       "    </tr>\n",
       "  </tbody>\n",
       "</table>\n",
       "<p>1160203 rows × 2 columns</p>\n",
       "</div>"
      ],
      "text/plain": [
       "                         open_time                        close_time\n",
       "0        2021-01-12 12:31:00+05:30  2021-01-12 12:31:59.999000+05:30\n",
       "1        2021-01-12 12:32:00+05:30  2021-01-12 12:32:59.999000+05:30\n",
       "2        2021-01-12 12:33:00+05:30  2021-01-12 12:33:59.999000+05:30\n",
       "3        2021-01-12 12:34:00+05:30  2021-01-12 12:34:59.999000+05:30\n",
       "4        2021-01-12 12:35:00+05:30  2021-01-12 12:35:59.999000+05:30\n",
       "...                            ...                               ...\n",
       "1160198  2023-04-01 05:25:00+05:30  2023-04-01 05:25:59.999000+05:30\n",
       "1160199  2023-04-01 05:26:00+05:30  2023-04-01 05:26:59.999000+05:30\n",
       "1160200  2023-04-01 05:27:00+05:30  2023-04-01 05:27:59.999000+05:30\n",
       "1160201  2023-04-01 05:28:00+05:30  2023-04-01 05:28:59.999000+05:30\n",
       "1160202  2023-04-01 05:29:00+05:30  2023-04-01 05:29:59.999000+05:30\n",
       "\n",
       "[1160203 rows x 2 columns]"
      ]
     },
     "execution_count": 82,
     "metadata": {},
     "output_type": "execute_result"
    }
   ],
   "source": [
    "df.select_dtypes(include=\"object\")"
   ]
  },
  {
   "cell_type": "code",
   "execution_count": 83,
   "metadata": {
    "ExecuteTime": {
     "end_time": "2023-04-26T16:10:30.461443Z",
     "start_time": "2023-04-26T16:10:29.668958Z"
    }
   },
   "outputs": [],
   "source": [
    "df.drop([\"open_time\", \"close_time\"], axis=1, inplace=True)"
   ]
  },
  {
   "cell_type": "code",
   "execution_count": 84,
   "metadata": {
    "ExecuteTime": {
     "end_time": "2023-04-26T16:10:31.395700Z",
     "start_time": "2023-04-26T16:10:30.464447Z"
    }
   },
   "outputs": [],
   "source": [
    "column_names = df.columns\n",
    "\n",
    "\n",
    "missing_df = pd.DataFrame({\n",
    "    \"name\" : column_names,\n",
    "    \"missing\": df.isnull().mean().tolist()\n",
    "}, columns=[\"name\", \"missing\"])\n",
    "\n",
    "missing_df[\"missing\"] = missing_df[\"missing\"] * 100\n",
    "\n",
    "missing_df.sort_values(\"missing\", ascending=False, inplace=True)\n"
   ]
  },
  {
   "cell_type": "code",
   "execution_count": 85,
   "metadata": {
    "ExecuteTime": {
     "end_time": "2023-04-26T16:10:31.411254Z",
     "start_time": "2023-04-26T16:10:31.397703Z"
    }
   },
   "outputs": [
    {
     "data": {
      "text/html": [
       "<div>\n",
       "<style scoped>\n",
       "    .dataframe tbody tr th:only-of-type {\n",
       "        vertical-align: middle;\n",
       "    }\n",
       "\n",
       "    .dataframe tbody tr th {\n",
       "        vertical-align: top;\n",
       "    }\n",
       "\n",
       "    .dataframe thead th {\n",
       "        text-align: right;\n",
       "    }\n",
       "</style>\n",
       "<table border=\"1\" class=\"dataframe\">\n",
       "  <thead>\n",
       "    <tr style=\"text-align: right;\">\n",
       "      <th></th>\n",
       "      <th>name</th>\n",
       "      <th>missing</th>\n",
       "    </tr>\n",
       "  </thead>\n",
       "  <tbody>\n",
       "    <tr>\n",
       "      <th>19</th>\n",
       "      <td>entered_before</td>\n",
       "      <td>99.888037</td>\n",
       "    </tr>\n",
       "    <tr>\n",
       "      <th>17</th>\n",
       "      <td>longs_win_after</td>\n",
       "      <td>67.039389</td>\n",
       "    </tr>\n",
       "    <tr>\n",
       "      <th>16</th>\n",
       "      <td>shorts_win_after</td>\n",
       "      <td>66.281590</td>\n",
       "    </tr>\n",
       "    <tr>\n",
       "      <th>559</th>\n",
       "      <td>ADXR_233</td>\n",
       "      <td>0.060076</td>\n",
       "    </tr>\n",
       "    <tr>\n",
       "      <th>555</th>\n",
       "      <td>TEMA_233</td>\n",
       "      <td>0.059990</td>\n",
       "    </tr>\n",
       "    <tr>\n",
       "      <th>523</th>\n",
       "      <td>ADXR_200</td>\n",
       "      <td>0.051543</td>\n",
       "    </tr>\n",
       "    <tr>\n",
       "      <th>519</th>\n",
       "      <td>TEMA_200</td>\n",
       "      <td>0.051457</td>\n",
       "    </tr>\n",
       "    <tr>\n",
       "      <th>558</th>\n",
       "      <td>ADX_233</td>\n",
       "      <td>0.040079</td>\n",
       "    </tr>\n",
       "    <tr>\n",
       "      <th>548</th>\n",
       "      <td>DEMA_233</td>\n",
       "      <td>0.039993</td>\n",
       "    </tr>\n",
       "    <tr>\n",
       "      <th>487</th>\n",
       "      <td>ADXR_144</td>\n",
       "      <td>0.037062</td>\n",
       "    </tr>\n",
       "  </tbody>\n",
       "</table>\n",
       "</div>"
      ],
      "text/plain": [
       "                 name    missing\n",
       "19     entered_before  99.888037\n",
       "17    longs_win_after  67.039389\n",
       "16   shorts_win_after  66.281590\n",
       "559          ADXR_233   0.060076\n",
       "555          TEMA_233   0.059990\n",
       "523          ADXR_200   0.051543\n",
       "519          TEMA_200   0.051457\n",
       "558           ADX_233   0.040079\n",
       "548          DEMA_233   0.039993\n",
       "487          ADXR_144   0.037062"
      ]
     },
     "execution_count": 85,
     "metadata": {},
     "output_type": "execute_result"
    }
   ],
   "source": [
    "missing_df[:10]"
   ]
  },
  {
   "cell_type": "code",
   "execution_count": 86,
   "metadata": {
    "ExecuteTime": {
     "end_time": "2023-04-26T16:10:32.635512Z",
     "start_time": "2023-04-26T16:10:31.412886Z"
    }
   },
   "outputs": [],
   "source": [
    "df.drop([\"entered_before\", \"longs_win_after\", \"shorts_win_after\"], axis=1, inplace=True)"
   ]
  },
  {
   "cell_type": "code",
   "execution_count": 87,
   "metadata": {
    "ExecuteTime": {
     "end_time": "2023-04-26T16:10:33.742839Z",
     "start_time": "2023-04-26T16:10:32.641534Z"
    }
   },
   "outputs": [],
   "source": [
    "df.replace(np.nan, -500, inplace=True)"
   ]
  },
  {
   "cell_type": "code",
   "execution_count": 88,
   "metadata": {
    "ExecuteTime": {
     "end_time": "2023-04-26T16:10:33.773494Z",
     "start_time": "2023-04-26T16:10:33.745843Z"
    }
   },
   "outputs": [
    {
     "data": {
      "text/plain": [
       "-1    777608\n",
       " 1    382410\n",
       " 0       185\n",
       "Name: if_long, dtype: int64"
      ]
     },
     "execution_count": 88,
     "metadata": {},
     "output_type": "execute_result"
    }
   ],
   "source": [
    "df.if_long.value_counts()"
   ]
  },
  {
   "cell_type": "code",
   "execution_count": 89,
   "metadata": {
    "ExecuteTime": {
     "end_time": "2023-04-26T16:10:33.974511Z",
     "start_time": "2023-04-26T16:10:33.776496Z"
    }
   },
   "outputs": [],
   "source": [
    "df[\"if_long\"] = df[\"if_long\"].replace(-1, 0)"
   ]
  },
  {
   "cell_type": "code",
   "execution_count": 90,
   "metadata": {
    "ExecuteTime": {
     "end_time": "2023-04-26T16:10:33.990256Z",
     "start_time": "2023-04-26T16:10:33.976513Z"
    }
   },
   "outputs": [
    {
     "data": {
      "text/plain": [
       "0    777793\n",
       "1    382410\n",
       "Name: if_long, dtype: int64"
      ]
     },
     "execution_count": 90,
     "metadata": {},
     "output_type": "execute_result"
    }
   ],
   "source": [
    "df.if_long.value_counts()"
   ]
  },
  {
   "cell_type": "code",
   "execution_count": 91,
   "metadata": {
    "ExecuteTime": {
     "end_time": "2023-04-26T16:10:34.131067Z",
     "start_time": "2023-04-26T16:10:33.992550Z"
    }
   },
   "outputs": [],
   "source": [
    "df[\"if_short\"] = df[\"if_short\"].replace(-1, 0)"
   ]
  },
  {
   "cell_type": "code",
   "execution_count": 92,
   "metadata": {
    "ExecuteTime": {
     "end_time": "2023-04-26T16:10:34.146838Z",
     "start_time": "2023-04-26T16:10:34.132405Z"
    }
   },
   "outputs": [
    {
     "data": {
      "text/plain": [
       "0    769001\n",
       "1    391202\n",
       "Name: if_short, dtype: int64"
      ]
     },
     "execution_count": 92,
     "metadata": {},
     "output_type": "execute_result"
    }
   ],
   "source": [
    "df.if_short.value_counts()"
   ]
  },
  {
   "cell_type": "markdown",
   "metadata": {},
   "source": [
    "### Long model"
   ]
  },
  {
   "cell_type": "code",
   "execution_count": 93,
   "metadata": {
    "ExecuteTime": {
     "end_time": "2023-04-26T16:10:35.425319Z",
     "start_time": "2023-04-26T16:10:34.147839Z"
    }
   },
   "outputs": [],
   "source": [
    "long_df = df.drop(\"if_short\", axis=1)"
   ]
  },
  {
   "cell_type": "code",
   "execution_count": 94,
   "metadata": {
    "ExecuteTime": {
     "end_time": "2023-04-26T16:10:35.441051Z",
     "start_time": "2023-04-26T16:10:35.427321Z"
    }
   },
   "outputs": [],
   "source": [
    "long_y = df[\"if_long\"]"
   ]
  },
  {
   "cell_type": "code",
   "execution_count": 95,
   "metadata": {
    "ExecuteTime": {
     "end_time": "2023-04-26T16:10:36.523999Z",
     "start_time": "2023-04-26T16:10:35.442310Z"
    }
   },
   "outputs": [],
   "source": [
    "long_x = long_df.drop(\"if_long\", axis=1)"
   ]
  },
  {
   "cell_type": "code",
   "execution_count": 96,
   "metadata": {
    "ExecuteTime": {
     "end_time": "2023-04-26T16:10:56.789038Z",
     "start_time": "2023-04-26T16:10:36.526002Z"
    }
   },
   "outputs": [],
   "source": [
    "X_train, X_test, y_train, y_test = train_test_split(long_x, long_y, test_size=0.1)"
   ]
  },
  {
   "cell_type": "code",
   "execution_count": null,
   "metadata": {
    "ExecuteTime": {
     "end_time": "2023-01-18T21:44:00.951214Z",
     "start_time": "2023-01-18T21:44:00.948213Z"
    }
   },
   "outputs": [],
   "source": [
    "# long_x.columns.tolist()"
   ]
  },
  {
   "cell_type": "code",
   "execution_count": null,
   "metadata": {
    "ExecuteTime": {
     "end_time": "2023-01-18T21:42:24.510594Z",
     "start_time": "2023-01-18T21:42:24.498591Z"
    }
   },
   "outputs": [],
   "source": [
    "# columns_to_drop = ['open',\n",
    "#  'high',\n",
    "#  'low',\n",
    "#  'close',\n",
    "#  'volume',\n",
    "#  'quote_volume',\n",
    "#  'count',\n",
    "#  'taker_buy_volume',\n",
    "#  'taker_buy_quote_volume']"
   ]
  },
  {
   "cell_type": "code",
   "execution_count": null,
   "metadata": {
    "ExecuteTime": {
     "end_time": "2023-01-18T17:58:55.861674Z",
     "start_time": "2023-01-18T17:58:53.745757Z"
    }
   },
   "outputs": [],
   "source": [
    "# long_x.drop(columns_to_drop, axis=1, inplace=True)"
   ]
  },
  {
   "cell_type": "code",
   "execution_count": null,
   "metadata": {
    "ExecuteTime": {
     "end_time": "2023-04-11T10:55:53.893678Z",
     "start_time": "2023-04-11T10:55:53.870638Z"
    }
   },
   "outputs": [],
   "source": [
    "# X_train, X_val, y_train, y_val = train_test_split(X_train, y_train, test_size=0.1)"
   ]
  },
  {
   "cell_type": "code",
   "execution_count": 97,
   "metadata": {
    "ExecuteTime": {
     "end_time": "2023-04-26T16:10:56.898689Z",
     "start_time": "2023-04-26T16:10:56.791635Z"
    }
   },
   "outputs": [],
   "source": [
    "long_clf = RandomForestClassifier(max_depth=100, random_state=0)"
   ]
  },
  {
   "cell_type": "code",
   "execution_count": 98,
   "metadata": {
    "ExecuteTime": {
     "end_time": "2023-04-26T17:31:32.415766Z",
     "start_time": "2023-04-26T16:11:53.687013Z"
    }
   },
   "outputs": [
    {
     "data": {
      "text/plain": [
       "RandomForestClassifier(max_depth=100, random_state=0)"
      ]
     },
     "execution_count": 98,
     "metadata": {},
     "output_type": "execute_result"
    }
   ],
   "source": [
    "long_clf.fit(X_train, y_train)\n"
   ]
  },
  {
   "cell_type": "markdown",
   "metadata": {},
   "source": [
    "## Save model"
   ]
  },
  {
   "cell_type": "code",
   "execution_count": 99,
   "metadata": {
    "ExecuteTime": {
     "end_time": "2023-04-26T17:31:33.609753Z",
     "start_time": "2023-04-26T17:31:32.418769Z"
    }
   },
   "outputs": [],
   "source": [
    "import pickle\n",
    "\n",
    "# Save the model to a file\n",
    "with open(\"long_clf_08041m.pkl\", \"wb\") as f:\n",
    "    pickle.dump(long_clf, f)"
   ]
  },
  {
   "cell_type": "markdown",
   "metadata": {},
   "source": [
    "## Load  model"
   ]
  },
  {
   "cell_type": "code",
   "execution_count": 45,
   "metadata": {
    "ExecuteTime": {
     "end_time": "2023-04-26T14:41:49.978701Z",
     "start_time": "2023-04-26T14:41:49.792065Z"
    }
   },
   "outputs": [],
   "source": [
    "# Load the saved model from a file\n",
    "with open(\"long_clf_08041m.pkl\", \"rb\") as f:\n",
    "    long_clf = pickle.load(f)"
   ]
  },
  {
   "cell_type": "code",
   "execution_count": 100,
   "metadata": {
    "ExecuteTime": {
     "end_time": "2023-04-26T17:31:42.998818Z",
     "start_time": "2023-04-26T17:31:33.612119Z"
    }
   },
   "outputs": [],
   "source": [
    "y_pred = long_clf.predict(X_test)"
   ]
  },
  {
   "cell_type": "code",
   "execution_count": 101,
   "metadata": {
    "ExecuteTime": {
     "end_time": "2023-04-26T17:31:52.280854Z",
     "start_time": "2023-04-26T17:31:42.999868Z"
    }
   },
   "outputs": [
    {
     "data": {
      "text/plain": [
       "0.9164547797381508"
      ]
     },
     "execution_count": 101,
     "metadata": {},
     "output_type": "execute_result"
    }
   ],
   "source": [
    "long_clf.score(X_test, y_test)"
   ]
  },
  {
   "cell_type": "code",
   "execution_count": 102,
   "metadata": {
    "ExecuteTime": {
     "end_time": "2023-04-26T17:31:52.296249Z",
     "start_time": "2023-04-26T17:31:52.281856Z"
    }
   },
   "outputs": [
    {
     "data": {
      "text/plain": [
       "array([0, 1], dtype=int64)"
      ]
     },
     "execution_count": 102,
     "metadata": {},
     "output_type": "execute_result"
    }
   ],
   "source": [
    "long_clf.classes_"
   ]
  },
  {
   "cell_type": "code",
   "execution_count": 103,
   "metadata": {
    "ExecuteTime": {
     "end_time": "2023-04-26T17:31:52.328751Z",
     "start_time": "2023-04-26T17:31:52.297250Z"
    }
   },
   "outputs": [],
   "source": [
    "cm = confusion_matrix(y_test, y_pred, labels=long_clf.classes_)"
   ]
  },
  {
   "cell_type": "code",
   "execution_count": 104,
   "metadata": {
    "ExecuteTime": {
     "end_time": "2023-04-26T17:31:52.344846Z",
     "start_time": "2023-04-26T17:31:52.329794Z"
    }
   },
   "outputs": [
    {
     "data": {
      "text/plain": [
       "array([[76411,  1089],\n",
       "       [ 8604, 29917]], dtype=int64)"
      ]
     },
     "execution_count": 104,
     "metadata": {},
     "output_type": "execute_result"
    }
   ],
   "source": [
    "cm"
   ]
  },
  {
   "cell_type": "code",
   "execution_count": 105,
   "metadata": {
    "ExecuteTime": {
     "end_time": "2023-04-26T17:31:52.531546Z",
     "start_time": "2023-04-26T17:31:52.345847Z"
    }
   },
   "outputs": [
    {
     "data": {
      "text/plain": [
       "<sklearn.metrics._plot.confusion_matrix.ConfusionMatrixDisplay at 0x1fc75f39610>"
      ]
     },
     "execution_count": 105,
     "metadata": {},
     "output_type": "execute_result"
    },
    {
     "data": {
      "image/png": "[encoded data removed]",
      "text/plain": [
       "<Figure size 432x288 with 2 Axes>"
      ]
     },
     "metadata": {
      "needs_background": "light"
     },
     "output_type": "display_data"
    }
   ],
   "source": [
    "disp = ConfusionMatrixDisplay(confusion_matrix=cm,display_labels=long_clf.classes_)\n",
    "\n",
    "disp.plot()\n"
   ]
  },
  {
   "cell_type": "code",
   "execution_count": 106,
   "metadata": {
    "ExecuteTime": {
     "end_time": "2023-04-26T17:31:52.673026Z",
     "start_time": "2023-04-26T17:31:52.532549Z"
    }
   },
   "outputs": [
    {
     "name": "stdout",
     "output_type": "stream",
     "text": [
      "              precision    recall  f1-score   support\n",
      "\n",
      "           0       0.90      0.99      0.94     77500\n",
      "           1       0.96      0.78      0.86     38521\n",
      "\n",
      "    accuracy                           0.92    116021\n",
      "   macro avg       0.93      0.88      0.90    116021\n",
      "weighted avg       0.92      0.92      0.91    116021\n",
      "\n"
     ]
    }
   ],
   "source": [
    "print(classification_report(y_test, y_pred))"
   ]
  },
  {
   "cell_type": "code",
   "execution_count": 107,
   "metadata": {
    "ExecuteTime": {
     "end_time": "2023-04-26T17:31:52.766245Z",
     "start_time": "2023-04-26T17:31:52.675029Z"
    }
   },
   "outputs": [
    {
     "data": {
      "image/png": "[encoded data removed]",
      "text/plain": [
       "<Figure size 432x288 with 1 Axes>"
      ]
     },
     "metadata": {
      "needs_background": "light"
     },
     "output_type": "display_data"
    }
   ],
   "source": [
    "from sklearn.metrics import roc_curve\n",
    "from sklearn.metrics import RocCurveDisplay\n",
    "\n",
    "fpr, tpr, _ = roc_curve(y_test, y_pred, pos_label=long_clf.classes_[1])\n",
    "roc_display = RocCurveDisplay(fpr=fpr, tpr=tpr).plot()"
   ]
  },
  {
   "cell_type": "code",
   "execution_count": 108,
   "metadata": {
    "ExecuteTime": {
     "end_time": "2023-04-26T17:31:52.781825Z",
     "start_time": "2023-04-26T17:31:52.767247Z"
    }
   },
   "outputs": [
    {
     "data": {
      "text/plain": [
       "0.8812948498138009"
      ]
     },
     "execution_count": 108,
     "metadata": {},
     "output_type": "execute_result"
    }
   ],
   "source": [
    "auc(fpr, tpr)"
   ]
  },
  {
   "cell_type": "markdown",
   "metadata": {},
   "source": [
    "### Short model"
   ]
  },
  {
   "cell_type": "code",
   "execution_count": 33,
   "metadata": {
    "ExecuteTime": {
     "end_time": "2023-04-11T11:14:31.016171Z",
     "start_time": "2023-04-11T11:14:30.707121Z"
    }
   },
   "outputs": [],
   "source": [
    "short_df = df.drop(\"if_long\", axis=1)"
   ]
  },
  {
   "cell_type": "code",
   "execution_count": 34,
   "metadata": {
    "ExecuteTime": {
     "end_time": "2023-04-11T11:14:31.031703Z",
     "start_time": "2023-04-11T11:14:31.017171Z"
    }
   },
   "outputs": [],
   "source": [
    "short_y = df[\"if_short\"]"
   ]
  },
  {
   "cell_type": "code",
   "execution_count": 35,
   "metadata": {
    "ExecuteTime": {
     "end_time": "2023-04-11T11:14:31.295970Z",
     "start_time": "2023-04-11T11:14:31.032704Z"
    }
   },
   "outputs": [],
   "source": [
    "short_x = short_df.drop(\"if_short\", axis=1)"
   ]
  },
  {
   "cell_type": "code",
   "execution_count": 36,
   "metadata": {
    "ExecuteTime": {
     "end_time": "2023-04-11T11:14:31.311882Z",
     "start_time": "2023-04-11T11:14:31.296971Z"
    }
   },
   "outputs": [
    {
     "data": {
      "text/plain": [
       "(340963, 576)"
      ]
     },
     "execution_count": 36,
     "metadata": {},
     "output_type": "execute_result"
    }
   ],
   "source": [
    "short_x.shape"
   ]
  },
  {
   "cell_type": "code",
   "execution_count": 37,
   "metadata": {
    "ExecuteTime": {
     "end_time": "2023-04-11T11:14:33.459957Z",
     "start_time": "2023-04-11T11:14:31.313386Z"
    }
   },
   "outputs": [],
   "source": [
    "X_train, X_test, y_train, y_test = train_test_split(short_x, short_y, test_size=0.1)"
   ]
  },
  {
   "cell_type": "code",
   "execution_count": 38,
   "metadata": {
    "ExecuteTime": {
     "end_time": "2023-04-11T11:14:33.476001Z",
     "start_time": "2023-04-11T11:14:33.461959Z"
    }
   },
   "outputs": [],
   "source": [
    "short_clf = RandomForestClassifier(max_depth=100, random_state=0)"
   ]
  },
  {
   "cell_type": "code",
   "execution_count": 39,
   "metadata": {
    "ExecuteTime": {
     "end_time": "2023-04-11T11:29:35.414907Z",
     "start_time": "2023-04-11T11:14:33.478003Z"
    }
   },
   "outputs": [
    {
     "data": {
      "text/plain": [
       "RandomForestClassifier(max_depth=100, random_state=0)"
      ]
     },
     "execution_count": 39,
     "metadata": {},
     "output_type": "execute_result"
    }
   ],
   "source": [
    "short_clf.fit(X_train, y_train)"
   ]
  },
  {
   "cell_type": "code",
   "execution_count": null,
   "metadata": {},
   "outputs": [],
   "source": [
    "# Save the model to a file\n",
    "with open(\"short_clf.pkl\", \"wb\") as f:\n",
    "    pickle.dump(short_clf, f)"
   ]
  },
  {
   "cell_type": "code",
   "execution_count": 40,
   "metadata": {
    "ExecuteTime": {
     "end_time": "2023-04-11T11:29:37.715918Z",
     "start_time": "2023-04-11T11:29:35.416411Z"
    }
   },
   "outputs": [],
   "source": [
    "y_pred = short_clf.predict(X_test)"
   ]
  },
  {
   "cell_type": "code",
   "execution_count": 41,
   "metadata": {
    "ExecuteTime": {
     "end_time": "2023-04-11T11:29:40.007984Z",
     "start_time": "2023-04-11T11:29:37.716947Z"
    }
   },
   "outputs": [
    {
     "data": {
      "text/plain": [
       "0.8051148194855853"
      ]
     },
     "execution_count": 41,
     "metadata": {},
     "output_type": "execute_result"
    }
   ],
   "source": [
    "short_clf.score(X_test, y_test)"
   ]
  },
  {
   "cell_type": "code",
   "execution_count": 42,
   "metadata": {
    "ExecuteTime": {
     "end_time": "2023-04-11T11:29:40.023916Z",
     "start_time": "2023-04-11T11:29:40.008986Z"
    }
   },
   "outputs": [
    {
     "data": {
      "text/plain": [
       "array([0, 1], dtype=int64)"
      ]
     },
     "execution_count": 42,
     "metadata": {},
     "output_type": "execute_result"
    }
   ],
   "source": [
    "short_clf.classes_"
   ]
  },
  {
   "cell_type": "code",
   "execution_count": 43,
   "metadata": {
    "ExecuteTime": {
     "end_time": "2023-04-11T11:29:40.038912Z",
     "start_time": "2023-04-11T11:29:40.024917Z"
    }
   },
   "outputs": [],
   "source": [
    "cm = confusion_matrix(y_test, y_pred, labels=short_clf.classes_)"
   ]
  },
  {
   "cell_type": "code",
   "execution_count": 44,
   "metadata": {
    "ExecuteTime": {
     "end_time": "2023-04-11T11:29:40.054437Z",
     "start_time": "2023-04-11T11:29:40.039917Z"
    }
   },
   "outputs": [
    {
     "data": {
      "text/plain": [
       "array([[16614,  2382],\n",
       "       [ 4263, 10838]], dtype=int64)"
      ]
     },
     "execution_count": 44,
     "metadata": {},
     "output_type": "execute_result"
    }
   ],
   "source": [
    "cm"
   ]
  },
  {
   "cell_type": "code",
   "execution_count": 45,
   "metadata": {
    "ExecuteTime": {
     "end_time": "2023-04-11T11:29:40.148230Z",
     "start_time": "2023-04-11T11:29:40.055439Z"
    }
   },
   "outputs": [
    {
     "data": {
      "text/plain": [
       "<sklearn.metrics._plot.confusion_matrix.ConfusionMatrixDisplay at 0x26060ee7430>"
      ]
     },
     "execution_count": 45,
     "metadata": {},
     "output_type": "execute_result"
    },
    {
     "data": {
      "image/png": "[encoded data removed]",
      "text/plain": [
       "<Figure size 432x288 with 2 Axes>"
      ]
     },
     "metadata": {
      "needs_background": "light"
     },
     "output_type": "display_data"
    }
   ],
   "source": [
    "disp = ConfusionMatrixDisplay(confusion_matrix=cm,display_labels=short_clf.classes_)\n",
    "\n",
    "disp.plot()\n"
   ]
  },
  {
   "cell_type": "code",
   "execution_count": 46,
   "metadata": {
    "ExecuteTime": {
     "end_time": "2023-04-11T11:29:40.195803Z",
     "start_time": "2023-04-11T11:29:40.149231Z"
    }
   },
   "outputs": [
    {
     "name": "stdout",
     "output_type": "stream",
     "text": [
      "              precision    recall  f1-score   support\n",
      "\n",
      "           0       0.80      0.87      0.83     18996\n",
      "           1       0.82      0.72      0.77     15101\n",
      "\n",
      "    accuracy                           0.81     34097\n",
      "   macro avg       0.81      0.80      0.80     34097\n",
      "weighted avg       0.81      0.81      0.80     34097\n",
      "\n"
     ]
    }
   ],
   "source": [
    "print(classification_report(y_test, y_pred))"
   ]
  },
  {
   "cell_type": "code",
   "execution_count": 47,
   "metadata": {
    "ExecuteTime": {
     "end_time": "2023-04-11T11:29:40.365987Z",
     "start_time": "2023-04-11T11:29:40.196941Z"
    }
   },
   "outputs": [
    {
     "data": {
      "image/png": "[encoded data removed]",
      "text/plain": [
       "<Figure size 432x288 with 1 Axes>"
      ]
     },
     "metadata": {
      "needs_background": "light"
     },
     "output_type": "display_data"
    }
   ],
   "source": [
    "from sklearn.metrics import roc_curve\n",
    "from sklearn.metrics import RocCurveDisplay\n",
    "\n",
    "fpr, tpr, _ = roc_curve(y_test, y_pred, pos_label=short_clf.classes_[1])\n",
    "roc_display = RocCurveDisplay(fpr=fpr, tpr=tpr).plot()"
   ]
  },
  {
   "cell_type": "code",
   "execution_count": 48,
   "metadata": {
    "ExecuteTime": {
     "end_time": "2023-04-11T11:29:40.381768Z",
     "start_time": "2023-04-11T11:29:40.366990Z"
    }
   },
   "outputs": [
    {
     "data": {
      "text/plain": [
       "0.7961529972767488"
      ]
     },
     "execution_count": 48,
     "metadata": {},
     "output_type": "execute_result"
    }
   ],
   "source": [
    "auc(fpr, tpr)"
   ]
  },
  {
   "cell_type": "markdown",
   "metadata": {},
   "source": [
    "### Testing"
   ]
  },
  {
   "cell_type": "code",
   "execution_count": 109,
   "metadata": {
    "ExecuteTime": {
     "end_time": "2023-04-26T17:31:57.194916Z",
     "start_time": "2023-04-26T17:31:52.782826Z"
    }
   },
   "outputs": [],
   "source": [
    "btc_df = pd.read_csv(path_daily)"
   ]
  },
  {
   "cell_type": "code",
   "execution_count": 110,
   "metadata": {
    "ExecuteTime": {
     "end_time": "2023-04-26T17:31:57.210240Z",
     "start_time": "2023-04-26T17:31:57.195917Z"
    }
   },
   "outputs": [
    {
     "data": {
      "text/plain": [
       "(36000, 583)"
      ]
     },
     "execution_count": 110,
     "metadata": {},
     "output_type": "execute_result"
    }
   ],
   "source": [
    "btc_df.shape"
   ]
  },
  {
   "cell_type": "code",
   "execution_count": 111,
   "metadata": {
    "ExecuteTime": {
     "end_time": "2023-04-26T17:31:57.567826Z",
     "start_time": "2023-04-26T17:31:57.211240Z"
    }
   },
   "outputs": [],
   "source": [
    "btc_df[\"open_time\"] = pd.to_datetime(btc_df[\"open_time\"])\n",
    "btc_df[\"close_time\"] = pd.to_datetime(btc_df[\"close_time\"])"
   ]
  },
  {
   "cell_type": "code",
   "execution_count": 112,
   "metadata": {
    "ExecuteTime": {
     "end_time": "2023-04-26T17:31:57.583240Z",
     "start_time": "2023-04-26T17:31:57.568831Z"
    }
   },
   "outputs": [
    {
     "data": {
      "text/plain": [
       "0       2023-04-01 05:30:00+05:30\n",
       "1       2023-04-01 05:31:00+05:30\n",
       "2       2023-04-01 05:32:00+05:30\n",
       "3       2023-04-01 05:33:00+05:30\n",
       "4       2023-04-01 05:34:00+05:30\n",
       "                   ...           \n",
       "35995   2023-04-26 05:25:00+05:30\n",
       "35996   2023-04-26 05:26:00+05:30\n",
       "35997   2023-04-26 05:27:00+05:30\n",
       "35998   2023-04-26 05:28:00+05:30\n",
       "35999   2023-04-26 05:29:00+05:30\n",
       "Name: open_time, Length: 36000, dtype: datetime64[ns, pytz.FixedOffset(330)]"
      ]
     },
     "execution_count": 112,
     "metadata": {},
     "output_type": "execute_result"
    }
   ],
   "source": [
    "btc_df.open_time"
   ]
  },
  {
   "cell_type": "code",
   "execution_count": null,
   "metadata": {
    "ExecuteTime": {
     "end_time": "2023-01-18T21:40:58.304279Z",
     "start_time": "2023-01-18T21:40:58.288275Z"
    }
   },
   "outputs": [],
   "source": [
    "# btc_df = btc_df[(btc_df['open_time'] > '2023-01-17') & (btc_df['open_time'] < '2023-01-18')]"
   ]
  },
  {
   "cell_type": "code",
   "execution_count": null,
   "metadata": {
    "ExecuteTime": {
     "end_time": "2023-01-18T21:41:01.361387Z",
     "start_time": "2023-01-18T21:41:01.345383Z"
    }
   },
   "outputs": [],
   "source": [
    "# Drop columns\n",
    "\n",
    "# btc_df.drop([\"open_time\", \"close_time\", 'open',\n",
    "#  'high',\n",
    "#  'low',\n",
    "#  'close',\n",
    "#  'volume',\n",
    "#  'quote_volume',\n",
    "#  'count',\n",
    "#  'taker_buy_volume',\n",
    "#  'taker_buy_quote_volume', \"entered_before\", \"longs_win_after\", \"shorts_win_after\"], axis=1, inplace=True)"
   ]
  },
  {
   "cell_type": "code",
   "execution_count": 113,
   "metadata": {
    "ExecuteTime": {
     "end_time": "2023-04-26T17:31:57.598424Z",
     "start_time": "2023-04-26T17:31:57.584243Z"
    }
   },
   "outputs": [
    {
     "data": {
      "text/plain": [
       "(36000, 583)"
      ]
     },
     "execution_count": 113,
     "metadata": {},
     "output_type": "execute_result"
    }
   ],
   "source": [
    "btc_df.shape"
   ]
  },
  {
   "cell_type": "code",
   "execution_count": 114,
   "metadata": {
    "ExecuteTime": {
     "end_time": "2023-04-26T17:31:57.614241Z",
     "start_time": "2023-04-26T17:31:57.599427Z"
    }
   },
   "outputs": [],
   "source": [
    "btc_df = btc_df[1:]"
   ]
  },
  {
   "cell_type": "code",
   "execution_count": 115,
   "metadata": {
    "ExecuteTime": {
     "end_time": "2023-04-26T17:31:57.708930Z",
     "start_time": "2023-04-26T17:31:57.615242Z"
    }
   },
   "outputs": [],
   "source": [
    "btc_df.replace(np.nan, -500, inplace=True)"
   ]
  },
  {
   "cell_type": "code",
   "execution_count": 116,
   "metadata": {
    "ExecuteTime": {
     "end_time": "2023-04-26T17:31:57.724430Z",
     "start_time": "2023-04-26T17:31:57.709973Z"
    }
   },
   "outputs": [
    {
     "data": {
      "text/plain": [
       "-1    23243\n",
       " 1    12663\n",
       " 0       93\n",
       "Name: if_short, dtype: int64"
      ]
     },
     "execution_count": 116,
     "metadata": {},
     "output_type": "execute_result"
    }
   ],
   "source": [
    "btc_df[\"if_short\"].value_counts()"
   ]
  },
  {
   "cell_type": "code",
   "execution_count": 117,
   "metadata": {
    "ExecuteTime": {
     "end_time": "2023-04-26T17:31:57.740523Z",
     "start_time": "2023-04-26T17:31:57.726433Z"
    }
   },
   "outputs": [],
   "source": [
    "btc_df[\"if_short\"] = btc_df[\"if_short\"].replace(-1, 0)"
   ]
  },
  {
   "cell_type": "code",
   "execution_count": 118,
   "metadata": {
    "ExecuteTime": {
     "end_time": "2023-04-26T17:31:57.756240Z",
     "start_time": "2023-04-26T17:31:57.741525Z"
    }
   },
   "outputs": [
    {
     "data": {
      "text/plain": [
       "0    23336\n",
       "1    12663\n",
       "Name: if_short, dtype: int64"
      ]
     },
     "execution_count": 118,
     "metadata": {},
     "output_type": "execute_result"
    }
   ],
   "source": [
    "btc_df[\"if_short\"].value_counts()"
   ]
  },
  {
   "cell_type": "code",
   "execution_count": 119,
   "metadata": {
    "ExecuteTime": {
     "end_time": "2023-04-26T17:31:57.771521Z",
     "start_time": "2023-04-26T17:31:57.757241Z"
    }
   },
   "outputs": [],
   "source": [
    "btc_df[\"if_long\"] = btc_df[\"if_long\"].replace(-1, 0)"
   ]
  },
  {
   "cell_type": "code",
   "execution_count": 120,
   "metadata": {
    "ExecuteTime": {
     "end_time": "2023-04-26T17:31:57.787530Z",
     "start_time": "2023-04-26T17:31:57.772522Z"
    }
   },
   "outputs": [],
   "source": [
    "short_y_act = btc_df[\"if_short\"]\n",
    "long_y_act = btc_df[\"if_long\"]"
   ]
  },
  {
   "cell_type": "code",
   "execution_count": 121,
   "metadata": {
    "ExecuteTime": {
     "end_time": "2023-04-26T17:31:57.849464Z",
     "start_time": "2023-04-26T17:31:57.788531Z"
    }
   },
   "outputs": [],
   "source": [
    "btc_df.drop([\n",
    "    \"if_long\", \"if_short\", 'entered_before', 'longs_win_after',\n",
    "    'shorts_win_after', \n",
    "    'open_time', 'close_time'\n",
    "],\n",
    "            axis=1,\n",
    "            inplace=True)"
   ]
  },
  {
   "cell_type": "code",
   "execution_count": null,
   "metadata": {},
   "outputs": [],
   "source": []
  },
  {
   "cell_type": "code",
   "execution_count": 61,
   "metadata": {
    "ExecuteTime": {
     "end_time": "2023-04-11T11:35:01.302887Z",
     "start_time": "2023-04-11T11:35:01.166888Z"
    }
   },
   "outputs": [],
   "source": [
    "short_y_pred = short_clf.predict(btc_df)"
   ]
  },
  {
   "cell_type": "code",
   "execution_count": 122,
   "metadata": {
    "ExecuteTime": {
     "end_time": "2023-04-26T17:31:57.865239Z",
     "start_time": "2023-04-26T17:31:57.850741Z"
    }
   },
   "outputs": [],
   "source": [
    "def accuracy(y_act, y_pred):\n",
    "    correct = 0\n",
    "    for i in range(len(y_act)):\n",
    "        if y_act[i] == y_pred[i]:\n",
    "            correct += 1\n",
    "    return (correct / len(y_act)) * 100\n"
   ]
  },
  {
   "cell_type": "code",
   "execution_count": null,
   "metadata": {},
   "outputs": [],
   "source": []
  },
  {
   "cell_type": "code",
   "execution_count": 65,
   "metadata": {
    "ExecuteTime": {
     "end_time": "2023-04-11T11:35:14.371278Z",
     "start_time": "2023-04-11T11:35:14.352239Z"
    }
   },
   "outputs": [
    {
     "data": {
      "text/plain": [
       "56.61688086141021"
      ]
     },
     "execution_count": 65,
     "metadata": {},
     "output_type": "execute_result"
    }
   ],
   "source": [
    "accuracy(list(short_y_act), list(short_y_pred)) "
   ]
  },
  {
   "cell_type": "code",
   "execution_count": null,
   "metadata": {},
   "outputs": [],
   "source": []
  },
  {
   "cell_type": "code",
   "execution_count": 123,
   "metadata": {
    "ExecuteTime": {
     "end_time": "2023-04-26T17:31:59.409759Z",
     "start_time": "2023-04-26T17:31:57.866241Z"
    }
   },
   "outputs": [],
   "source": [
    "long_y_pred = long_clf.predict(btc_df)"
   ]
  },
  {
   "cell_type": "code",
   "execution_count": 124,
   "metadata": {
    "ExecuteTime": {
     "end_time": "2023-04-26T17:31:59.440774Z",
     "start_time": "2023-04-26T17:31:59.410818Z"
    }
   },
   "outputs": [
    {
     "data": {
      "text/plain": [
       "59.84055112642018"
      ]
     },
     "execution_count": 124,
     "metadata": {},
     "output_type": "execute_result"
    }
   ],
   "source": [
    "accuracy(list(long_y_act), list(long_y_pred)) "
   ]
  },
  {
   "cell_type": "code",
   "execution_count": 73,
   "metadata": {
    "ExecuteTime": {
     "end_time": "2023-04-26T14:46:26.272183Z",
     "start_time": "2023-04-26T14:46:26.261667Z"
    },
    "scrolled": true
   },
   "outputs": [
    {
     "data": {
      "text/plain": [
       "1       1\n",
       "2       1\n",
       "3       1\n",
       "4       0\n",
       "5       1\n",
       "       ..\n",
       "7195    0\n",
       "7196    0\n",
       "7197    0\n",
       "7198    0\n",
       "7199    0\n",
       "Name: if_long, Length: 7199, dtype: int64"
      ]
     },
     "execution_count": 73,
     "metadata": {},
     "output_type": "execute_result"
    }
   ],
   "source": [
    "long_y_act"
   ]
  },
  {
   "cell_type": "code",
   "execution_count": 74,
   "metadata": {
    "ExecuteTime": {
     "end_time": "2023-04-26T14:46:27.516124Z",
     "start_time": "2023-04-26T14:46:27.510619Z"
    }
   },
   "outputs": [
    {
     "data": {
      "text/plain": [
       "array([0, 0, 0, ..., 1, 0, 0], dtype=int64)"
      ]
     },
     "execution_count": 74,
     "metadata": {},
     "output_type": "execute_result"
    }
   ],
   "source": [
    "y_pred"
   ]
  },
  {
   "cell_type": "code",
   "execution_count": 75,
   "metadata": {
    "ExecuteTime": {
     "end_time": "2023-04-26T14:46:29.127528Z",
     "start_time": "2023-04-26T14:46:29.107134Z"
    }
   },
   "outputs": [
    {
     "ename": "NameError",
     "evalue": "name 'short_clf' is not defined",
     "output_type": "error",
     "traceback": [
      "\u001b[1;31m---------------------------------------------------------------------------\u001b[0m",
      "\u001b[1;31mNameError\u001b[0m                                 Traceback (most recent call last)",
      "Input \u001b[1;32mIn [75]\u001b[0m, in \u001b[0;36m<cell line: 2>\u001b[1;34m()\u001b[0m\n\u001b[0;32m      1\u001b[0m \u001b[38;5;28;01mfrom\u001b[39;00m \u001b[38;5;21;01msklearn\u001b[39;00m\u001b[38;5;21;01m.\u001b[39;00m\u001b[38;5;21;01mmodel_selection\u001b[39;00m \u001b[38;5;28;01mimport\u001b[39;00m cross_val_score\n\u001b[1;32m----> 2\u001b[0m scores \u001b[38;5;241m=\u001b[39m cross_val_score(\u001b[43mshort_clf\u001b[49m, short_x, short_y, cv\u001b[38;5;241m=\u001b[39m\u001b[38;5;241m5\u001b[39m)\n",
      "\u001b[1;31mNameError\u001b[0m: name 'short_clf' is not defined"
     ]
    }
   ],
   "source": [
    "from sklearn.model_selection import cross_val_score\n",
    "scores = cross_val_score(short_clf, short_x, short_y, cv=5)"
   ]
  },
  {
   "cell_type": "code",
   "execution_count": 71,
   "metadata": {
    "ExecuteTime": {
     "end_time": "2023-04-11T12:39:24.980875Z",
     "start_time": "2023-04-11T12:39:24.969347Z"
    }
   },
   "outputs": [
    {
     "name": "stdout",
     "output_type": "stream",
     "text": [
      "Accuracy: 0.63 (+/- 0.05)\n"
     ]
    }
   ],
   "source": [
    "print(\"Accuracy: %0.2f (+/- %0.2f)\" % (scores.mean(), scores.std() * 2))"
   ]
  },
  {
   "cell_type": "code",
   "execution_count": 125,
   "metadata": {
    "ExecuteTime": {
     "end_time": "2023-04-26T22:31:59.719488Z",
     "start_time": "2023-04-26T17:31:59.443778Z"
    }
   },
   "outputs": [
    {
     "name": "stdout",
     "output_type": "stream",
     "text": [
      "Accuracy: 0.61 (+/- 0.11)\n"
     ]
    }
   ],
   "source": [
    "scores = cross_val_score(long_clf, long_x, long_y, cv=5)\n",
    "print(\"Accuracy: %0.2f (+/- %0.2f)\" % (scores.mean(), scores.std() * 2))"
   ]
  },
  {
   "cell_type": "code",
   "execution_count": null,
   "metadata": {},
   "outputs": [],
   "source": []
  }
 ],
 "metadata": {
  "kernelspec": {
   "display_name": "Python 3 (ipykernel)",
   "language": "python",
   "name": "python3"
  },
  "language_info": {
   "codemirror_mode": {
    "name": "ipython",
    "version": 3
   },
   "file_extension": ".py",
   "mimetype": "text/x-python",
   "name": "python",
   "nbconvert_exporter": "python",
   "pygments_lexer": "ipython3",
   "version": "3.9.12"
  }
 },
 "nbformat": 4,
 "nbformat_minor": 4
}
