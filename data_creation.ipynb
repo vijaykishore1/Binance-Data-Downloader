{
 "cells": [
  {
   "cell_type": "code",
   "execution_count": null,
   "id": "0",
   "metadata": {},
   "outputs": [],
   "source": [
    "%run ./data_creation_utils.ipynb "
   ]
  },
  {
   "cell_type": "code",
   "execution_count": null,
   "id": "1",
   "metadata": {},
   "outputs": [],
   "source": [
    "from pathlib import Path\n",
    "import os\n",
    "import re\n",
    "import shutil\n",
    "import talib\n",
    "from datetime import *\n",
    "import glob\n",
    "import zipfile\n",
    "import pandas as pd\n",
    "from pandas.api.types import is_numeric_dtype\n",
    "import inspect\n",
    "import talib\n",
    "import time\n",
    "import numpy as np\n",
    "import requests\n",
    "import urllib.request\n",
    "from datetime import *"
   ]
  },
  {
   "cell_type": "code",
   "execution_count": null,
   "id": "2",
   "metadata": {},
   "outputs": [],
   "source": [
    "# Get the current date\n",
    "now = datetime.now()\n",
    "\n",
    "# Format the date as a string in the desired format\n",
    "date_string = now.strftime(\"%Y-%m\")\n",
    "\n",
    "# Print the date string\n",
    "print(date_string)\n",
    "\n",
    "idx = MONTH_ARRAY.index(date_string)\n",
    "MONTH_ARRAY = MONTH_ARRAY[:idx + 1]\n",
    "# months = MONTH_ARRAY\n",
    "print(MONTH_ARRAY)\n",
    "\n",
    "# Get the first day of the current month\n",
    "first_day = now.replace(day=1)\n",
    "\n",
    "# Create an empty list to store the days\n",
    "DAY_ARRAY = []\n",
    "\n",
    "# Loop through the days from the first day of the current month to today\n",
    "while first_day <= now:\n",
    "    # Format the date as a string in the desired format\n",
    "    date_string = first_day.strftime(\"%Y-%m-%d\")\n",
    "\n",
    "    # Add the date string to the list\n",
    "    DAY_ARRAY.append(date_string)\n",
    "\n",
    "    # Move to the next day\n",
    "    first_day += timedelta(days=1)\n",
    "print(DAY_ARRAY)\n",
    "# days = DAY_ARRAY"
   ]
  },
  {
   "cell_type": "code",
   "execution_count": null,
   "id": "3",
   "metadata": {},
   "outputs": [],
   "source": [
    "\n",
    "\n",
    "master_dictionary = {\n",
    "    \"symbols\": [\n",
    "            SYMBOL_ARRAY[SYMBOL_ARRAY.index('BTCUSDT')],\n",
    "        #     SYMBOL_ARRAY[SYMBOL_ARRAY.index('ETHUSDT')],\n",
    "#         SYMBOL_ARRAY[SYMBOL_ARRAY.index('1000BONKUSDT')],\n",
    "    ],\n",
    "    \"chart_times\": [\n",
    "#             CHART_TIME_ARRAY[CHART_TIME_ARRAY.index('5m')],\n",
    "#             CHART_TIME_ARRAY[CHART_TIME_ARRAY.index('1m')],\n",
    "#         CHART_TIME_ARRAY[CHART_TIME_ARRAY.index('15m')],\n",
    "#         CHART_TIME_ARRAY[CHART_TIME_ARRAY.index('4h')],\n",
    "#         CHART_TIME_ARRAY[CHART_TIME_ARRAY.index('2h')],\n",
    "        CHART_TIME_ARRAY[CHART_TIME_ARRAY.index('1h')],\n",
    "    ],\n",
    "    \"timeperiods\": [5, 8, 13, 21, 30, 34, 50, 55, 89, 100, 144, 200, 233],\n",
    "    \"win_percentage\":\n",
    "    0.73,\n",
    "    \"loss_percentage\":\n",
    "    0.4,\n",
    "    \"monthly_or_daily_1_or_2\":\n",
    "    2\n",
    "}"
   ]
  },
  {
   "cell_type": "code",
   "execution_count": null,
   "id": "4",
   "metadata": {},
   "outputs": [],
   "source": [
    "download_data_and_concatenate(master_dictionary, MONTH_ARRAY, DAY_ARRAY)"
   ]
  },
  {
   "cell_type": "code",
   "execution_count": null,
   "id": "5",
   "metadata": {},
   "outputs": [],
   "source": [
    "# calculate_wins_losses_old(master_dictionary)"
   ]
  },
  {
   "cell_type": "code",
   "execution_count": null,
   "id": "6",
   "metadata": {},
   "outputs": [],
   "source": [
    "# calculate_wins_losses(master_dictionary,lookahead_window=30)"
   ]
  },
  {
   "cell_type": "code",
   "execution_count": null,
   "id": "7",
   "metadata": {},
   "outputs": [],
   "source": [
    "# calculate_indicator_values(master_dictionary)\n",
    "calculate_indicator_values_new(master_dictionary)"
   ]
  },
  {
   "cell_type": "code",
   "execution_count": null,
   "id": "8",
   "metadata": {},
   "outputs": [],
   "source": [
    "wl_array = [\n",
    "    (0.5,0.4),\n",
    "#     (0.73,0.4)\n",
    "           ]\n",
    "lookahead_window_array = [\n",
    "    120,\n",
    "#     240,600,1200,\n",
    "                         ]\n",
    "for win_loss_ratio in wl_array:\n",
    "    win_perc, loss_perc = win_loss_ratio\n",
    "    for lookahead_window in lookahead_window_array:\n",
    "        # Call the function for each combination\n",
    "        calculate_wins_losses(\n",
    "            master_dictionary, \n",
    "            win_perc=win_perc, \n",
    "            loss_perc=loss_perc, \n",
    "            lookahead_window=lookahead_window\n",
    "        )"
   ]
  }
 ],
 "metadata": {
  "kernelspec": {
   "display_name": "Python 3 (ipykernel)",
   "language": "python",
   "name": "python3"
  },
  "language_info": {
   "codemirror_mode": {
    "name": "ipython",
    "version": 3
   },
   "file_extension": ".py",
   "mimetype": "text/x-python",
   "name": "python",
   "nbconvert_exporter": "python",
   "pygments_lexer": "ipython3",
   "version": "3.12.3"
  }
 },
 "nbformat": 4,
 "nbformat_minor": 5
}
