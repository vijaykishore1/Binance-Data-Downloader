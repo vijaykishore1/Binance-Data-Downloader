{
 "cells": [
  {
   "cell_type": "code",
   "execution_count": 1,
   "id": "4f589a10",
   "metadata": {},
   "outputs": [
    {
     "name": "stdout",
     "output_type": "stream",
     "text": [
      "['1000BTTCUSDT', '1000LUNCBUSD', '1000LUNCUSDT', '1000SHIBBUSD', '1000SHIBUSDT', '1000XECUSDT', '1INCHUSDT', 'AAVEUSDT', 'ADABUSD', 'ADAUSDT', 'AKROUSDT', 'ALGOUSDT', 'ALICEUSDT', 'ALPHAUSDT', 'AMBBUSD', 'ANCBUSD', 'ANCUSDT', 'ANKRUSDT', 'ANTUSDT', 'APEBUSD', 'APEUSDT', 'API3USDT', 'APTBUSD', 'APTUSDT', 'ARPAUSDT', 'ARUSDT', 'ATAUSDT', 'ATOMUSDT', 'AUCTIONBUSD', 'AUDIOUSDT', 'AVAXBUSD', 'AVAXUSDT', 'AXSUSDT', 'BAKEUSDT', 'BALUSDT', 'BANDUSDT', 'BATUSDT', 'BCHUSDT', 'BELUSDT', 'BLUEBIRDUSDT', 'BLZUSDT', 'BNBBUSD', 'BNBUSDT', 'BNXUSDT', 'BTCBUSD', 'BTCBUSD_210129', 'BTCBUSD_210226', 'BTCDOMUSDT', 'BTCSTUSDT', 'BTCUSDT', 'BTCUSDT_210326', 'BTCUSDT_210625', 'BTCUSDT_210924', 'BTCUSDT_211231', 'BTCUSDT_220325', 'BTCUSDT_220624', 'BTCUSDT_220930', 'BTCUSDT_221230', 'BTCUSDT_230331', 'BTSUSDT', 'BTTUSDT', 'BZRXUSDT', 'C98USDT', 'CELOUSDT', 'CELRUSDT', 'CHRUSDT', 'CHZUSDT', 'COMPUSDT', 'COTIUSDT', 'CRVUSDT', 'CTKUSDT', 'CTSIUSDT', 'CVCUSDT', 'CVXBUSD', 'CVXUSDT', 'DARUSDT', 'DASHUSDT', 'DEFIUSDT', 'DENTUSDT', 'DGBUSDT', 'DODOBUSD', 'DODOUSDT', 'DOGEBUSD', 'DOGEUSDT', 'DOTBUSD', 'DOTECOUSDT', 'DOTUSDT', 'DUSKUSDT', 'DYDXUSDT', 'EGLDUSDT', 'ENJUSDT', 'ENSUSDT', 'EOSUSDT', 'ETCBUSD', 'ETCUSDT', 'ETHBUSD', 'ETHUSDT', 'ETHUSDT_210326', 'ETHUSDT_210625', 'ETHUSDT_210924', 'ETHUSDT_211231', 'ETHUSDT_220325', 'ETHUSDT_220624', 'ETHUSDT_220930', 'ETHUSDT_221230', 'ETHUSDT_230331', 'FILBUSD', 'FILUSDT', 'FLMUSDT', 'FLOWUSDT', 'FOOTBALLUSDT', 'FTMBUSD', 'FTMUSDT', 'FTTBUSD', 'FTTUSDT', 'GALABUSD', 'GALAUSDT', 'GALBUSD', 'GALUSDT', 'GMTBUSD', 'GMTUSDT', 'GRTUSDT', 'GTCUSDT', 'HBARUSDT', 'HNTUSDT', 'HOTUSDT', 'ICPBUSD', 'ICPUSDT', 'ICPUSDT_SETTLED', 'ICXUSDT', 'IMXUSDT', 'INJUSDT', 'IOSTUSDT', 'IOTAUSDT', 'IOTXUSDT', 'JASMYUSDT', 'KAVAUSDT', 'KEEPUSDT', 'KLAYUSDT', 'KNCUSDT', 'KSMUSDT', 'LDOBUSD', 'LDOUSDT', 'LENDUSDT', 'LEVERBUSD', 'LINAUSDT', 'LINKBUSD', 'LINKUSDT', 'LITUSDT', 'LPTUSDT', 'LRCUSDT', 'LTCBUSD', 'LTCUSDT', 'LUNA2BUSD', 'LUNA2USDT', 'LUNABUSD', 'LUNAUSDT', 'MANAUSDT', 'MASKUSDT', 'MATICBUSD', 'MATICUSDT', 'MKRUSDT', 'MTLUSDT', 'NEARBUSD', 'NEARUSDT', 'NEOUSDT', 'NKNUSDT', 'NUUSDT', 'OCEANUSDT', 'OGNUSDT', 'OMGUSDT', 'ONEUSDT', 'ONTUSDT', 'OPUSDT', 'PEOPLEUSDT', 'PHBBUSD', 'QNTUSDT', 'QTUMUSDT', 'RAYUSDT', 'REEFUSDT', 'RENUSDT', 'RLCUSDT', 'ROSEUSDT', 'RSRUSDT', 'RUNEUSDT', 'RVNUSDT', 'SANDBUSD', 'SANDUSDT', 'SCUSDT', 'SFPUSDT', 'SKLUSDT', 'SNXUSDT', 'SOLBUSD', 'SOLUSDT', 'SPELLUSDT', 'SRMUSDT', 'STGUSDT', 'STMXUSDT', 'STORJUSDT', 'SUSHIUSDT', 'SXPUSDT', 'THETAUSDT', 'TLMBUSD', 'TLMUSDT', 'TOMOUSDT', 'TRBUSDT', 'TRXBUSD', 'TRXUSDT', 'UNFIUSDT', 'UNIBUSD', 'UNIUSDT', 'VETUSDT', 'WAVESBUSD', 'WAVESUSDT', 'WOOUSDT', 'XEMUSDT', 'XLMUSDT', 'XMRUSDT', 'XRPBUSD', 'XRPUSDT', 'XTZUSDT', 'YFIIUSDT', 'YFIUSDT', 'ZECUSDT', 'ZENUSDT', 'ZILUSDT', 'ZRXUSDT']\n",
      "['2020-01', '2020-02', '2020-03', '2020-04', '2020-05', '2020-06', '2020-07', '2020-08', '2020-09', '2020-10', '2020-11', '2020-12', '2021-01', '2021-02', '2021-03', '2021-04', '2021-05', '2021-06', '2021-07', '2021-08', '2021-09', '2021-10', '2021-11', '2021-12', '2022-01', '2022-02', '2022-03', '2022-04', '2022-05', '2022-06', '2022-07', '2022-08', '2022-09', '2022-10', '2022-11', '2022-12', '2023-01', '2023-02', '2023-03', '2023-04', '2023-05', '2023-06', '2023-07', '2023-08', '2023-09', '2023-10', '2023-11', '2023-12', '2024-01', '2024-02', '2024-03', '2024-04', '2024-05', '2024-07', '2024-08', '2024-09', '2024-10', '2024-11', '2024-12', '2025-01', '2025-02', '2025-03', '2025-04', '2025-05', '2025-06', '2025-07', '2025-08', '2025-09', '2025-10', '2025-11', '2025-12', '2026-01', '2026-02', '2026-03', '2026-04', '2026-05', '2026-06', '2026-07', '2026-08', '2026-09', '2026-10', '2026-11', '2026-12', '2027-01', '2027-02', '2027-03', '2027-04', '2027-05', '2027-06', '2027-07', '2027-08', '2027-09', '2027-10', '2027-11', '2027-12', '2028-01', '2028-02', '2028-03', '2028-04', '2028-05', '2028-06', '2028-07', '2028-08', '2028-09', '2028-10', '2028-11', '2028-12', '2029-01', '2029-03', '2029-04', '2029-05', '2029-06', '2029-07', '2029-08', '2029-09', '2029-10', '2029-11', '2029-12', '2030-01', '2030-02', '2030-03', '2030-04', '2030-05', '2030-06', '2030-07', '2030-08', '2030-09', '2030-10', '2030-11', '2030-12', '2031-01', '2031-02', '2031-03', '2031-04', '2031-05', '2031-06', '2031-07', '2031-08', '2031-09', '2031-10', '2031-11', '2031-12', '2032-01', '2032-02', '2032-03', '2032-04', '2032-05', '2032-06', '2032-07', '2032-08', '2032-09', '2032-10', '2032-11', '2032-12', '2033-01', '2033-02', '2033-03', '2033-04', '2033-05', '2033-06', '2033-07', '2033-08', '2033-10', '2033-11', '2033-12', '2034-01', '2034-02', '2034-03', '2034-04', '2034-05', '2034-06', '2034-07', '2034-08', '2034-09', '2034-10', '2034-11', '2034-12', '2035-01', '2035-02', '2035-03', '2035-04', '2035-05', '2035-06', '2035-07', '2035-08', '2035-09', '2035-10', '2035-11', '2035-12', '2036-01', '2036-02', '2036-03', '2036-04', '2036-05', '2036-06', '2036-07', '2036-08', '2036-09', '2036-10', '2036-11', '2036-12', '2037-01', '2037-02', '2037-03', '2037-04', '2037-05', '2037-06', '2037-07', '2037-08', '2037-09', '2037-10', '2037-11', '2037-12', '2038-01', '2038-03', '2038-04', '2038-05', '2038-06', '2038-07', '2038-08', '2038-09', '2038-10', '2038-11', '2038-12', '2039-01', '2039-02', '2039-03', '2039-04', '2039-05', '2039-06', '2039-07', '2039-08', '2039-09', '2039-10', '2039-11', '2039-12']\n",
      "['12h', '15m', '1d', '1h', '1m', '1mo', '1w', '2h', '30m', '3d', '3m', '4h', '5m', '6h', '8h']\n",
      "['https://data.binance.vision/data/futures/um/monthly/klines/1000BTTCUSDT/', 'https://data.binance.vision/data/futures/um/monthly/klines/1000LUNCBUSD/', 'https://data.binance.vision/data/futures/um/monthly/klines/1000LUNCUSDT/', 'https://data.binance.vision/data/futures/um/monthly/klines/1000SHIBBUSD/', 'https://data.binance.vision/data/futures/um/monthly/klines/1000SHIBUSDT/', 'https://data.binance.vision/data/futures/um/monthly/klines/1000XECUSDT/', 'https://data.binance.vision/data/futures/um/monthly/klines/1INCHUSDT/', 'https://data.binance.vision/data/futures/um/monthly/klines/AAVEUSDT/', 'https://data.binance.vision/data/futures/um/monthly/klines/ADABUSD/', 'https://data.binance.vision/data/futures/um/monthly/klines/ADAUSDT/', 'https://data.binance.vision/data/futures/um/monthly/klines/AKROUSDT/', 'https://data.binance.vision/data/futures/um/monthly/klines/ALGOUSDT/', 'https://data.binance.vision/data/futures/um/monthly/klines/ALICEUSDT/', 'https://data.binance.vision/data/futures/um/monthly/klines/ALPHAUSDT/', 'https://data.binance.vision/data/futures/um/monthly/klines/AMBBUSD/', 'https://data.binance.vision/data/futures/um/monthly/klines/ANCBUSD/', 'https://data.binance.vision/data/futures/um/monthly/klines/ANCUSDT/', 'https://data.binance.vision/data/futures/um/monthly/klines/ANKRUSDT/', 'https://data.binance.vision/data/futures/um/monthly/klines/ANTUSDT/', 'https://data.binance.vision/data/futures/um/monthly/klines/APEBUSD/', 'https://data.binance.vision/data/futures/um/monthly/klines/APEUSDT/', 'https://data.binance.vision/data/futures/um/monthly/klines/API3USDT/', 'https://data.binance.vision/data/futures/um/monthly/klines/APTBUSD/', 'https://data.binance.vision/data/futures/um/monthly/klines/APTUSDT/', 'https://data.binance.vision/data/futures/um/monthly/klines/ARPAUSDT/', 'https://data.binance.vision/data/futures/um/monthly/klines/ARUSDT/', 'https://data.binance.vision/data/futures/um/monthly/klines/ATAUSDT/', 'https://data.binance.vision/data/futures/um/monthly/klines/ATOMUSDT/', 'https://data.binance.vision/data/futures/um/monthly/klines/AUCTIONBUSD/', 'https://data.binance.vision/data/futures/um/monthly/klines/AUDIOUSDT/', 'https://data.binance.vision/data/futures/um/monthly/klines/AVAXBUSD/', 'https://data.binance.vision/data/futures/um/monthly/klines/AVAXUSDT/', 'https://data.binance.vision/data/futures/um/monthly/klines/AXSUSDT/', 'https://data.binance.vision/data/futures/um/monthly/klines/BAKEUSDT/', 'https://data.binance.vision/data/futures/um/monthly/klines/BALUSDT/', 'https://data.binance.vision/data/futures/um/monthly/klines/BANDUSDT/', 'https://data.binance.vision/data/futures/um/monthly/klines/BATUSDT/', 'https://data.binance.vision/data/futures/um/monthly/klines/BCHUSDT/', 'https://data.binance.vision/data/futures/um/monthly/klines/BELUSDT/', 'https://data.binance.vision/data/futures/um/monthly/klines/BLUEBIRDUSDT/', 'https://data.binance.vision/data/futures/um/monthly/klines/BLZUSDT/', 'https://data.binance.vision/data/futures/um/monthly/klines/BNBBUSD/', 'https://data.binance.vision/data/futures/um/monthly/klines/BNBUSDT/', 'https://data.binance.vision/data/futures/um/monthly/klines/BNXUSDT/', 'https://data.binance.vision/data/futures/um/monthly/klines/BTCBUSD/', 'https://data.binance.vision/data/futures/um/monthly/klines/BTCBUSD_210129/', 'https://data.binance.vision/data/futures/um/monthly/klines/BTCBUSD_210226/', 'https://data.binance.vision/data/futures/um/monthly/klines/BTCDOMUSDT/', 'https://data.binance.vision/data/futures/um/monthly/klines/BTCSTUSDT/', 'https://data.binance.vision/data/futures/um/monthly/klines/BTCUSDT/', 'https://data.binance.vision/data/futures/um/monthly/klines/BTCUSDT_210326/', 'https://data.binance.vision/data/futures/um/monthly/klines/BTCUSDT_210625/', 'https://data.binance.vision/data/futures/um/monthly/klines/BTCUSDT_210924/', 'https://data.binance.vision/data/futures/um/monthly/klines/BTCUSDT_211231/', 'https://data.binance.vision/data/futures/um/monthly/klines/BTCUSDT_220325/', 'https://data.binance.vision/data/futures/um/monthly/klines/BTCUSDT_220624/', 'https://data.binance.vision/data/futures/um/monthly/klines/BTCUSDT_220930/', 'https://data.binance.vision/data/futures/um/monthly/klines/BTCUSDT_221230/', 'https://data.binance.vision/data/futures/um/monthly/klines/BTCUSDT_230331/', 'https://data.binance.vision/data/futures/um/monthly/klines/BTSUSDT/', 'https://data.binance.vision/data/futures/um/monthly/klines/BTTUSDT/', 'https://data.binance.vision/data/futures/um/monthly/klines/BZRXUSDT/', 'https://data.binance.vision/data/futures/um/monthly/klines/C98USDT/', 'https://data.binance.vision/data/futures/um/monthly/klines/CELOUSDT/', 'https://data.binance.vision/data/futures/um/monthly/klines/CELRUSDT/', 'https://data.binance.vision/data/futures/um/monthly/klines/CHRUSDT/', 'https://data.binance.vision/data/futures/um/monthly/klines/CHZUSDT/', 'https://data.binance.vision/data/futures/um/monthly/klines/COMPUSDT/', 'https://data.binance.vision/data/futures/um/monthly/klines/COTIUSDT/', 'https://data.binance.vision/data/futures/um/monthly/klines/CRVUSDT/', 'https://data.binance.vision/data/futures/um/monthly/klines/CTKUSDT/', 'https://data.binance.vision/data/futures/um/monthly/klines/CTSIUSDT/', 'https://data.binance.vision/data/futures/um/monthly/klines/CVCUSDT/', 'https://data.binance.vision/data/futures/um/monthly/klines/CVXBUSD/', 'https://data.binance.vision/data/futures/um/monthly/klines/CVXUSDT/', 'https://data.binance.vision/data/futures/um/monthly/klines/DARUSDT/', 'https://data.binance.vision/data/futures/um/monthly/klines/DASHUSDT/', 'https://data.binance.vision/data/futures/um/monthly/klines/DEFIUSDT/', 'https://data.binance.vision/data/futures/um/monthly/klines/DENTUSDT/', 'https://data.binance.vision/data/futures/um/monthly/klines/DGBUSDT/', 'https://data.binance.vision/data/futures/um/monthly/klines/DODOBUSD/', 'https://data.binance.vision/data/futures/um/monthly/klines/DODOUSDT/', 'https://data.binance.vision/data/futures/um/monthly/klines/DOGEBUSD/', 'https://data.binance.vision/data/futures/um/monthly/klines/DOGEUSDT/', 'https://data.binance.vision/data/futures/um/monthly/klines/DOTBUSD/', 'https://data.binance.vision/data/futures/um/monthly/klines/DOTECOUSDT/', 'https://data.binance.vision/data/futures/um/monthly/klines/DOTUSDT/', 'https://data.binance.vision/data/futures/um/monthly/klines/DUSKUSDT/', 'https://data.binance.vision/data/futures/um/monthly/klines/DYDXUSDT/', 'https://data.binance.vision/data/futures/um/monthly/klines/EGLDUSDT/', 'https://data.binance.vision/data/futures/um/monthly/klines/ENJUSDT/', 'https://data.binance.vision/data/futures/um/monthly/klines/ENSUSDT/', 'https://data.binance.vision/data/futures/um/monthly/klines/EOSUSDT/', 'https://data.binance.vision/data/futures/um/monthly/klines/ETCBUSD/', 'https://data.binance.vision/data/futures/um/monthly/klines/ETCUSDT/', 'https://data.binance.vision/data/futures/um/monthly/klines/ETHBUSD/', 'https://data.binance.vision/data/futures/um/monthly/klines/ETHUSDT/', 'https://data.binance.vision/data/futures/um/monthly/klines/ETHUSDT_210326/', 'https://data.binance.vision/data/futures/um/monthly/klines/ETHUSDT_210625/', 'https://data.binance.vision/data/futures/um/monthly/klines/ETHUSDT_210924/', 'https://data.binance.vision/data/futures/um/monthly/klines/ETHUSDT_211231/', 'https://data.binance.vision/data/futures/um/monthly/klines/ETHUSDT_220325/', 'https://data.binance.vision/data/futures/um/monthly/klines/ETHUSDT_220624/', 'https://data.binance.vision/data/futures/um/monthly/klines/ETHUSDT_220930/', 'https://data.binance.vision/data/futures/um/monthly/klines/ETHUSDT_221230/', 'https://data.binance.vision/data/futures/um/monthly/klines/ETHUSDT_230331/', 'https://data.binance.vision/data/futures/um/monthly/klines/FILBUSD/', 'https://data.binance.vision/data/futures/um/monthly/klines/FILUSDT/', 'https://data.binance.vision/data/futures/um/monthly/klines/FLMUSDT/', 'https://data.binance.vision/data/futures/um/monthly/klines/FLOWUSDT/', 'https://data.binance.vision/data/futures/um/monthly/klines/FOOTBALLUSDT/', 'https://data.binance.vision/data/futures/um/monthly/klines/FTMBUSD/', 'https://data.binance.vision/data/futures/um/monthly/klines/FTMUSDT/', 'https://data.binance.vision/data/futures/um/monthly/klines/FTTBUSD/', 'https://data.binance.vision/data/futures/um/monthly/klines/FTTUSDT/', 'https://data.binance.vision/data/futures/um/monthly/klines/GALABUSD/', 'https://data.binance.vision/data/futures/um/monthly/klines/GALAUSDT/', 'https://data.binance.vision/data/futures/um/monthly/klines/GALBUSD/', 'https://data.binance.vision/data/futures/um/monthly/klines/GALUSDT/', 'https://data.binance.vision/data/futures/um/monthly/klines/GMTBUSD/', 'https://data.binance.vision/data/futures/um/monthly/klines/GMTUSDT/', 'https://data.binance.vision/data/futures/um/monthly/klines/GRTUSDT/', 'https://data.binance.vision/data/futures/um/monthly/klines/GTCUSDT/', 'https://data.binance.vision/data/futures/um/monthly/klines/HBARUSDT/', 'https://data.binance.vision/data/futures/um/monthly/klines/HNTUSDT/', 'https://data.binance.vision/data/futures/um/monthly/klines/HOTUSDT/', 'https://data.binance.vision/data/futures/um/monthly/klines/ICPBUSD/', 'https://data.binance.vision/data/futures/um/monthly/klines/ICPUSDT/', 'https://data.binance.vision/data/futures/um/monthly/klines/ICPUSDT_SETTLED/', 'https://data.binance.vision/data/futures/um/monthly/klines/ICXUSDT/', 'https://data.binance.vision/data/futures/um/monthly/klines/IMXUSDT/', 'https://data.binance.vision/data/futures/um/monthly/klines/INJUSDT/', 'https://data.binance.vision/data/futures/um/monthly/klines/IOSTUSDT/', 'https://data.binance.vision/data/futures/um/monthly/klines/IOTAUSDT/', 'https://data.binance.vision/data/futures/um/monthly/klines/IOTXUSDT/', 'https://data.binance.vision/data/futures/um/monthly/klines/JASMYUSDT/', 'https://data.binance.vision/data/futures/um/monthly/klines/KAVAUSDT/', 'https://data.binance.vision/data/futures/um/monthly/klines/KEEPUSDT/', 'https://data.binance.vision/data/futures/um/monthly/klines/KLAYUSDT/', 'https://data.binance.vision/data/futures/um/monthly/klines/KNCUSDT/', 'https://data.binance.vision/data/futures/um/monthly/klines/KSMUSDT/', 'https://data.binance.vision/data/futures/um/monthly/klines/LDOBUSD/', 'https://data.binance.vision/data/futures/um/monthly/klines/LDOUSDT/', 'https://data.binance.vision/data/futures/um/monthly/klines/LENDUSDT/', 'https://data.binance.vision/data/futures/um/monthly/klines/LEVERBUSD/', 'https://data.binance.vision/data/futures/um/monthly/klines/LINAUSDT/', 'https://data.binance.vision/data/futures/um/monthly/klines/LINKBUSD/', 'https://data.binance.vision/data/futures/um/monthly/klines/LINKUSDT/', 'https://data.binance.vision/data/futures/um/monthly/klines/LITUSDT/', 'https://data.binance.vision/data/futures/um/monthly/klines/LPTUSDT/', 'https://data.binance.vision/data/futures/um/monthly/klines/LRCUSDT/', 'https://data.binance.vision/data/futures/um/monthly/klines/LTCBUSD/', 'https://data.binance.vision/data/futures/um/monthly/klines/LTCUSDT/', 'https://data.binance.vision/data/futures/um/monthly/klines/LUNA2BUSD/', 'https://data.binance.vision/data/futures/um/monthly/klines/LUNA2USDT/', 'https://data.binance.vision/data/futures/um/monthly/klines/LUNABUSD/', 'https://data.binance.vision/data/futures/um/monthly/klines/LUNAUSDT/', 'https://data.binance.vision/data/futures/um/monthly/klines/MANAUSDT/', 'https://data.binance.vision/data/futures/um/monthly/klines/MASKUSDT/', 'https://data.binance.vision/data/futures/um/monthly/klines/MATICBUSD/', 'https://data.binance.vision/data/futures/um/monthly/klines/MATICUSDT/', 'https://data.binance.vision/data/futures/um/monthly/klines/MKRUSDT/', 'https://data.binance.vision/data/futures/um/monthly/klines/MTLUSDT/', 'https://data.binance.vision/data/futures/um/monthly/klines/NEARBUSD/', 'https://data.binance.vision/data/futures/um/monthly/klines/NEARUSDT/', 'https://data.binance.vision/data/futures/um/monthly/klines/NEOUSDT/', 'https://data.binance.vision/data/futures/um/monthly/klines/NKNUSDT/', 'https://data.binance.vision/data/futures/um/monthly/klines/NUUSDT/', 'https://data.binance.vision/data/futures/um/monthly/klines/OCEANUSDT/', 'https://data.binance.vision/data/futures/um/monthly/klines/OGNUSDT/', 'https://data.binance.vision/data/futures/um/monthly/klines/OMGUSDT/', 'https://data.binance.vision/data/futures/um/monthly/klines/ONEUSDT/', 'https://data.binance.vision/data/futures/um/monthly/klines/ONTUSDT/', 'https://data.binance.vision/data/futures/um/monthly/klines/OPUSDT/', 'https://data.binance.vision/data/futures/um/monthly/klines/PEOPLEUSDT/', 'https://data.binance.vision/data/futures/um/monthly/klines/PHBBUSD/', 'https://data.binance.vision/data/futures/um/monthly/klines/QNTUSDT/', 'https://data.binance.vision/data/futures/um/monthly/klines/QTUMUSDT/', 'https://data.binance.vision/data/futures/um/monthly/klines/RAYUSDT/', 'https://data.binance.vision/data/futures/um/monthly/klines/REEFUSDT/', 'https://data.binance.vision/data/futures/um/monthly/klines/RENUSDT/', 'https://data.binance.vision/data/futures/um/monthly/klines/RLCUSDT/', 'https://data.binance.vision/data/futures/um/monthly/klines/ROSEUSDT/', 'https://data.binance.vision/data/futures/um/monthly/klines/RSRUSDT/', 'https://data.binance.vision/data/futures/um/monthly/klines/RUNEUSDT/', 'https://data.binance.vision/data/futures/um/monthly/klines/RVNUSDT/', 'https://data.binance.vision/data/futures/um/monthly/klines/SANDBUSD/', 'https://data.binance.vision/data/futures/um/monthly/klines/SANDUSDT/', 'https://data.binance.vision/data/futures/um/monthly/klines/SCUSDT/', 'https://data.binance.vision/data/futures/um/monthly/klines/SFPUSDT/', 'https://data.binance.vision/data/futures/um/monthly/klines/SKLUSDT/', 'https://data.binance.vision/data/futures/um/monthly/klines/SNXUSDT/', 'https://data.binance.vision/data/futures/um/monthly/klines/SOLBUSD/', 'https://data.binance.vision/data/futures/um/monthly/klines/SOLUSDT/', 'https://data.binance.vision/data/futures/um/monthly/klines/SPELLUSDT/', 'https://data.binance.vision/data/futures/um/monthly/klines/SRMUSDT/', 'https://data.binance.vision/data/futures/um/monthly/klines/STGUSDT/', 'https://data.binance.vision/data/futures/um/monthly/klines/STMXUSDT/', 'https://data.binance.vision/data/futures/um/monthly/klines/STORJUSDT/', 'https://data.binance.vision/data/futures/um/monthly/klines/SUSHIUSDT/', 'https://data.binance.vision/data/futures/um/monthly/klines/SXPUSDT/', 'https://data.binance.vision/data/futures/um/monthly/klines/THETAUSDT/', 'https://data.binance.vision/data/futures/um/monthly/klines/TLMBUSD/', 'https://data.binance.vision/data/futures/um/monthly/klines/TLMUSDT/', 'https://data.binance.vision/data/futures/um/monthly/klines/TOMOUSDT/', 'https://data.binance.vision/data/futures/um/monthly/klines/TRBUSDT/', 'https://data.binance.vision/data/futures/um/monthly/klines/TRXBUSD/', 'https://data.binance.vision/data/futures/um/monthly/klines/TRXUSDT/', 'https://data.binance.vision/data/futures/um/monthly/klines/UNFIUSDT/', 'https://data.binance.vision/data/futures/um/monthly/klines/UNIBUSD/', 'https://data.binance.vision/data/futures/um/monthly/klines/UNIUSDT/', 'https://data.binance.vision/data/futures/um/monthly/klines/VETUSDT/', 'https://data.binance.vision/data/futures/um/monthly/klines/WAVESBUSD/', 'https://data.binance.vision/data/futures/um/monthly/klines/WAVESUSDT/', 'https://data.binance.vision/data/futures/um/monthly/klines/WOOUSDT/', 'https://data.binance.vision/data/futures/um/monthly/klines/XEMUSDT/', 'https://data.binance.vision/data/futures/um/monthly/klines/XLMUSDT/', 'https://data.binance.vision/data/futures/um/monthly/klines/XMRUSDT/', 'https://data.binance.vision/data/futures/um/monthly/klines/XRPBUSD/', 'https://data.binance.vision/data/futures/um/monthly/klines/XRPUSDT/', 'https://data.binance.vision/data/futures/um/monthly/klines/XTZUSDT/', 'https://data.binance.vision/data/futures/um/monthly/klines/YFIIUSDT/', 'https://data.binance.vision/data/futures/um/monthly/klines/YFIUSDT/', 'https://data.binance.vision/data/futures/um/monthly/klines/ZECUSDT/', 'https://data.binance.vision/data/futures/um/monthly/klines/ZENUSDT/', 'https://data.binance.vision/data/futures/um/monthly/klines/ZILUSDT/', 'https://data.binance.vision/data/futures/um/monthly/klines/ZRXUSDT/']\n"
     ]
    }
   ],
   "source": [
    "from creating_arrays import CHART_TIME_ARRAY,MONTH_ARRAY,SYMBOL_ARRAY;\n",
    "from constants import BINANCE_URL, download_dir, output_dir,dtypes;\n",
    "from pathlib import Path;\n",
    "import os;\n",
    "import re;\n",
    "import shutil;\n",
    "from selenium import webdriver;\n",
    "import talib;\n",
    "import datetime;\n",
    "from selenium.webdriver.chrome.options import Options;\n",
    "import glob;\n",
    "import zipfile;\n",
    "import pandas as pd;\n",
    "from pandas.api.types import is_numeric_dtype;\n",
    "import inspect\n",
    "import talib\n",
    "import time\n",
    "import numpy as np"
   ]
  },
  {
   "cell_type": "code",
   "execution_count": 2,
   "id": "f1d161a6",
   "metadata": {},
   "outputs": [
    {
     "name": "stdout",
     "output_type": "stream",
     "text": [
      "2023-01\n"
     ]
    }
   ],
   "source": [
    "# Get the current date\n",
    "now = datetime.datetime.now()\n",
    "\n",
    "# Format the date as a string in the desired format\n",
    "date_string = now.strftime(\"%Y-%m\")\n",
    "\n",
    "# Print the date string\n",
    "print(date_string)\n",
    "\n",
    "idx = MONTH_ARRAY.index(date_string)\n",
    "MONTH_ARRAY = MONTH_ARRAY[:idx+1]\n"
   ]
  },
  {
   "cell_type": "markdown",
   "id": "0ad9cbb8",
   "metadata": {},
   "source": [
    "## Set up the arrays of symbols, chart times, and months"
   ]
  },
  {
   "cell_type": "code",
   "execution_count": 3,
   "id": "2019faec",
   "metadata": {},
   "outputs": [
    {
     "name": "stdout",
     "output_type": "stream",
     "text": [
      "49\n"
     ]
    }
   ],
   "source": [
    "print(SYMBOL_ARRAY.index('BTCUSDT'))"
   ]
  },
  {
   "cell_type": "code",
   "execution_count": 4,
   "id": "154923b7",
   "metadata": {},
   "outputs": [],
   "source": [
    "# Set up the arrays of symbols, chart times, and months\n",
    "symbols = [SYMBOL_ARRAY[SYMBOL_ARRAY.index('BTCUSDT')],SYMBOL_ARRAY[SYMBOL_ARRAY.index('ETHUSDT')],SYMBOL_ARRAY[SYMBOL_ARRAY.index('ETHBUSD')],SYMBOL_ARRAY[SYMBOL_ARRAY.index('BTCBUSD')]]\n",
    "# symbols = [SYMBOL_ARRAY[SYMBOL_ARRAY.index('BTCUSDT')]]\n",
    "\n",
    "# chart_times = CHART_TIME_ARRAY\n",
    "chart_times = [CHART_TIME_ARRAY[12]]\n",
    "months = MONTH_ARRAY"
   ]
  },
  {
   "cell_type": "markdown",
   "id": "b0aee831",
   "metadata": {},
   "source": [
    "## Download the data"
   ]
  },
  {
   "cell_type": "code",
   "execution_count": 5,
   "id": "d5be40dd",
   "metadata": {},
   "outputs": [],
   "source": [
    "try:\n",
    "    # Set up the ChromeOptions instance\n",
    "    options = Options()\n",
    "\n",
    "    # Set the download directory in the prefs dictionary\n",
    "    prefs = {\"download.default_directory\": download_dir}\n",
    "    options.add_experimental_option(\"prefs\", prefs)\n",
    "\n",
    "    # Set up the webdriver\n",
    "    driver = webdriver.Chrome(options=options)\n",
    "\n",
    "    # Open the webpage\n",
    "    driver.get(BINANCE_URL)\n",
    "\n",
    "\n",
    "\n",
    "    # Iterate over the symbols, chart times, and months\n",
    "    for symbol in symbols:\n",
    "        for chart_time in chart_times:\n",
    "            for month in months:\n",
    "                # Construct the link\n",
    "                link = f\"{BINANCE_URL}{symbol}/{chart_time}/{symbol}-{chart_time}-{month}.zip\"\n",
    "    #             print(link)\n",
    "                # Open the link in a new tab\n",
    "                driver.execute_script(f\"window.open('{link}', '_blank');\")\n",
    "\n",
    "#     # Wait for the downloads to finish\n",
    "#     driver.implicitly_wait(60)\n",
    "\n",
    "    # Close the webdriver\n",
    "    driver.close()\n",
    "except:\n",
    "    pass\n",
    "\n"
   ]
  },
  {
   "cell_type": "markdown",
   "id": "d3d43159",
   "metadata": {},
   "source": [
    "## Move to separate folders. Caution: run this only after the downloads are finished."
   ]
  },
  {
   "cell_type": "code",
   "execution_count": 6,
   "id": "4317d2cc",
   "metadata": {},
   "outputs": [],
   "source": [
    "for symbol in symbols:\n",
    "    for chart_time in chart_times:\n",
    "        # Create the new folder path\n",
    "        new_folder_path = Path(download_dir) / f\"{symbol}-{chart_time}\"\n",
    "        new_folder_path.mkdir(parents=True, exist_ok=True)\n",
    "        # match pattern of the file\n",
    "        pattern = re.compile(f\"^{symbol}-{chart_time}-\\d{{4}}-\\d{{2}}\\.zip$\")\n",
    "        # list all files in the download directory\n",
    "        files = os.listdir(download_dir)\n",
    "        for file in files:\n",
    "            if pattern.match(file):\n",
    "                src = Path(download_dir) / file\n",
    "                dst = new_folder_path / file\n",
    "                src.rename(dst)\n"
   ]
  },
  {
   "cell_type": "markdown",
   "id": "d76591e2",
   "metadata": {},
   "source": [
    "## Unzip the Zip files and concatenate the CSVs"
   ]
  },
  {
   "cell_type": "markdown",
   "id": "bed631cb",
   "metadata": {},
   "source": [
    "### Move the monthly zips and csvs to a new folder.\n",
    "#### Earlier, I wanted to delete them completely. But then I realized binance will not give more than 24 months of data at a time so now that we're in 2023, we wont get 2020 data. So I have decided not to delete those. (okay im not sure about this but i still dont want to risk)"
   ]
  },
  {
   "cell_type": "code",
   "execution_count": 7,
   "id": "a5dfb843",
   "metadata": {},
   "outputs": [],
   "source": [
    "# Iterate over the symbols and chart times\n",
    "for symbol in symbols:\n",
    "    for chart_time in chart_times:\n",
    "        # Set up an empty list for the data frames\n",
    "        df_list = []\n",
    "\n",
    "        # Compile the regular expression pattern\n",
    "        pattern = re.compile(f\"^{symbol}-{chart_time}-\\d{{4}}-\\d{{2}}\\.zip$\")\n",
    "\n",
    "        # Create the new folder path for ZIP files\n",
    "        new_zip_folder_path = os.path.join(download_dir, f\"{symbol}-{chart_time}\")\n",
    "\n",
    "        # Create the new folder path for CSV files\n",
    "        new_csv_folder_path = os.path.join(output_dir, f\"{symbol}-{chart_time}\")\n",
    "\n",
    "        # Iterate over the files in the new zip folder\n",
    "        for file in os.listdir(new_zip_folder_path):\n",
    "            # Check if the file matches the pattern\n",
    "            if pattern.match(file):\n",
    "                # Construct the file path\n",
    "                file_path = os.path.join(new_zip_folder_path, file)\n",
    "\n",
    "                # Extract the ZIP file\n",
    "                with zipfile.ZipFile(file_path, \"r\") as zip_ref:\n",
    "                    zip_ref.extractall(new_csv_folder_path)\n",
    "\n",
    "                # Construct the CSV file path\n",
    "                csv_file_path = os.path.join(new_csv_folder_path, f\"{symbol}-{chart_time}{file[-12:-4]}.csv\")\n",
    "\n",
    "                # Read the CSV file into a data frame, ignoring the headers\n",
    "                df = pd.read_csv(csv_file_path, header=None)\n",
    "\n",
    "                # Remove the first row (which contains the header)\n",
    "                df = df.iloc[1:]\n",
    "\n",
    "                # Add it to the list\n",
    "                df_list.append(df)\n",
    "\n",
    "        # Concatenate the data frames in the list\n",
    "        df_final = pd.concat(df_list, ignore_index=True)\n",
    "\n",
    "        # Read the headers from the first CSV file\n",
    "        headers = pd.read_csv(csv_file_path, nrows=1).columns\n",
    "\n",
    "        # Set the headers as the column names of the final dataframe\n",
    "        df_final.columns = headers\n",
    "        \n",
    "        # Convert 'open_time' and 'close_time' columns to datetime\n",
    "        df_final['open_time'] = pd.to_datetime(df_final['open_time'], unit='ms').dt.tz_localize('UTC').dt.tz_convert('Asia/Kolkata')\n",
    "        df_final['close_time'] = pd.to_datetime(df_final['close_time'], unit='ms').dt.tz_localize('UTC').dt.tz_convert('Asia/Kolkata')\n",
    "        \n",
    "        # Delete the 'ignore' column\n",
    "        df_final = df_final.drop(['ignore'], axis=1)\n",
    "        \n",
    "        # Add a new column called 'entry' that will take previous close\n",
    "        df_final['entry'] = df_final['close'].shift(1)\n",
    "        # Set the file name\n",
    "        file_name = f\"{symbol}-{chart_time}.csv\"\n",
    "\n",
    "        # Construct the file path\n",
    "        file_path = os.path.join(new_csv_folder_path, file_name)\n",
    "\n",
    "        # Write the data frame to the Excel file\n",
    "        df_final.to_csv(file_path, index=False)\n"
   ]
  },
  {
   "cell_type": "markdown",
   "id": "babd6e05",
   "metadata": {},
   "source": [
    "## Master cell to add different indicators to the dataframe and save it\n"
   ]
  },
  {
   "cell_type": "code",
   "execution_count": null,
   "id": "58a85c39",
   "metadata": {},
   "outputs": [],
   "source": [
    "# Iterate over the symbols and chart times\n",
    "for symbol in symbols:\n",
    "    for chart_time in chart_times:\n",
    "        # Construct the file name\n",
    "        file_name = f\"{symbol}-{chart_time}.csv\"\n",
    "\n",
    "        # Construct the file path\n",
    "        file_path = Path(output_dir) / f\"{symbol}-{chart_time}/{file_name}\"\n",
    "\n",
    "        # Read the CSV file into a dataframe\n",
    "        df = pd.read_csv(file_path)\n",
    "        print(df.dtypes)\n",
    "        # Add the RSI as a new column to the dataframe\n",
    "        df['RSI'] = talib.RSI(df['close'], timeperiod=8)\n",
    "        \n",
    "        # Add the MACD as new columns to the dataframe\n",
    "        df['MACD'], df['MACD_signal'], df['MACD_hist'] = talib.MACD(df['close'], fastperiod=12, slowperiod=26, signalperiod=9)\n",
    "        # Save the updated dataframe to the CSV file\n",
    "        df.to_csv(file_path, index=False)\n"
   ]
  },
  {
   "cell_type": "code",
   "execution_count": null,
   "id": "a44c9a5b",
   "metadata": {},
   "outputs": [],
   "source": [
    "indicators_master_list = talib.get_functions()\n",
    "indicators_list =[indicators_master_list[40],indicators_master_list[54]]\n",
    "print(indicators_list)"
   ]
  },
  {
   "cell_type": "markdown",
   "id": "d4849c53",
   "metadata": {},
   "source": [
    "## Each candle is an entry. Below is the code to know if shorts wouldve won or longs wouldve won"
   ]
  },
  {
   "cell_type": "code",
   "execution_count": null,
   "id": "5de314c8",
   "metadata": {},
   "outputs": [],
   "source": [
    "win_perc = 0.5\n",
    "loss_perc = 0.4"
   ]
  },
  {
   "cell_type": "code",
   "execution_count": null,
   "id": "0bf7aa46",
   "metadata": {},
   "outputs": [],
   "source": [
    "for symbol in symbols:\n",
    "    for chart_time in chart_times:\n",
    "        # Construct the file name\n",
    "        file_name = f\"{symbol}-{chart_time}.csv\"\n",
    "\n",
    "        # Construct the file path\n",
    "        file_path = Path(output_dir) / f\"{symbol}-{chart_time}/{file_name}\"\n",
    "\n",
    "        # Read the CSV file into a dataframe\n",
    "        df = pd.read_csv(file_path)\n",
    "        df[\"if_short\"] = 0\n",
    "        df[\"if_long\"] = 0\n",
    "        df[\"long_target\"] = np.nan\n",
    "        df[\"short_target\"] = np.nan\n",
    "        df[\"long_stop_loss\"] = np.nan\n",
    "        df[\"short_stop_loss\"] = np.nan\n",
    "        df[\"shorts_win_after\"] = np.nan\n",
    "        df[\"longs_win_after\"] = np.nan\n",
    "        \n",
    "        for i in range(len(df)):\n",
    "            if df[\"entry\"][i]:\n",
    "                long_target = df[\"entry\"][i]*(1+win_perc/100)\n",
    "                short_target = df[\"entry\"][i]*(1-win_perc/100)\n",
    "                long_stop_loss = df[\"entry\"][i]*(1-loss_perc/100)\n",
    "                short_stop_loss = df[\"entry\"][i]*(1+loss_perc/100)\n",
    "                df.loc[i,'long_target'] = long_target\n",
    "                df.loc[i,'long_stop_loss'] = long_stop_loss\n",
    "                for j in range(i,len(df)):\n",
    "                    if df[\"high\"][j] >= long_target:\n",
    "                        df.loc[i,'if_long'] = 1\n",
    "                        df.loc[i,'longs_win_after'] = j-i\n",
    "                        break\n",
    "                    if df[\"low\"][j] <= long_stop_loss:\n",
    "                        df.loc[i,'if_long'] = -1\n",
    "                        break\n",
    "                df.loc[i,'short_target'] = short_target\n",
    "                df.loc[i,'short_stop_loss'] = short_stop_loss\n",
    "                for j in range(i,len(df)):\n",
    "                    if df[\"low\"][j] <= short_target:\n",
    "                        df.loc[i,'if_short'] = 1\n",
    "                        df.loc[i,'shorts_win_after'] = j-i\n",
    "                        break\n",
    "                    if df[\"high\"][j] >= short_stop_loss:\n",
    "                        df.loc[i,'if_short'] = -1\n",
    "                        break\n",
    "        # Save the updated dataframe to the CSV file\n",
    "        df.to_csv(file_path, index=False)\n"
   ]
  },
  {
   "cell_type": "code",
   "execution_count": null,
   "id": "5860567b",
   "metadata": {},
   "outputs": [],
   "source": [
    "# Get the list of available functions in TA-LIB\n",
    "indicators_master_list = talib.get_functions()\n",
    "indicators_list =[indicators_master_list[40],indicators_master_list[54]]\n",
    "\n",
    "# Iterate over the symbols and chart times\n",
    "for symbol in symbols:\n",
    "    for chart_time in chart_times:\n",
    "        # Construct the file name\n",
    "        file_name = f\"{symbol}-{chart_time}.csv\"\n",
    "\n",
    "        # Construct the file path\n",
    "        file_path = Path(output_dir) / f\"{symbol}-{chart_time}/{file_name}\"\n",
    "\n",
    "        # Read the CSV file into a dataframe\n",
    "        df = pd.read_csv(file_path)\n",
    "\n",
    "        # Iterate over the indicators in the indicator_list\n",
    "        for indicator in indicators_list:\n",
    "            # Get the function's input signature\n",
    "            sig = inspect.signature(indicator)\n",
    "            print(sig)\n",
    "            # Check if the function requires close prices\n",
    "            if 'close' in [p.name for p in sig.parameters.values()]:\n",
    "                try:\n",
    "                    # Add the indicator as a new column to the dataframe\n",
    "                    df[indicator] = func(df['close'])\n",
    "                except Exception as e:\n",
    "                    print(f\"{indicator} failed with error: {e}\")\n",
    "                    pass\n",
    "        # Save the updated dataframe to the CSV file\n",
    "        df.to_csv(file_path, index=False)\n"
   ]
  },
  {
   "cell_type": "markdown",
   "id": "037296ca",
   "metadata": {},
   "source": [
    "### Troubleshooting utilities. Can be put in another notebook \n"
   ]
  },
  {
   "cell_type": "code",
   "execution_count": null,
   "id": "8881cea5",
   "metadata": {},
   "outputs": [],
   "source": [
    "column_names = pd.read_csv(csv_file_path, nrows=0).columns\n",
    "print(column_names)"
   ]
  },
  {
   "cell_type": "code",
   "execution_count": null,
   "id": "165261ec",
   "metadata": {},
   "outputs": [],
   "source": [
    "# Set the chart time and symbol\n",
    "chart_time = \"5m\"\n",
    "symbol = \"BTCBUSD\"\n",
    "\n",
    "# Set the file name\n",
    "file_name = f\"{symbol}-{chart_time}.csv\"\n",
    "\n",
    "# Construct the file path\n",
    "file_path = Path(output_dir) / f\"{symbol}-{chart_time}/{file_name}\"\n",
    "\n",
    "# Read the CSV file into a dataframe\n",
    "df = pd.read_csv(file_path)\n",
    "\n",
    "# Iterate over the rows of the dataframe\n",
    "for i, row in df.iterrows():\n",
    "    try:\n",
    "        # Convert the 'open' column to float\n",
    "        open_value = float(row['open'])\n",
    "    except ValueError:\n",
    "        # Print the value that caused the error\n",
    "        print(row['1'])\n"
   ]
  },
  {
   "cell_type": "markdown",
   "id": "efb81bae",
   "metadata": {},
   "source": [
    "## Extras"
   ]
  },
  {
   "cell_type": "markdown",
   "id": "f30efc6d",
   "metadata": {},
   "source": [
    "#### Chat gpt suggested this when i asked it for this:\n",
    "absolutely fantastic, currently i have rsi and macd. can you make a model that will look into the wins and losses and the values of rsi and macd for them and find the tightest range of the combination of macd and rsi that has a winrate of 71%"
   ]
  },
  {
   "cell_type": "code",
   "execution_count": null,
   "id": "46a80244",
   "metadata": {},
   "outputs": [],
   "source": [
    "import pandas as pd\n",
    "from sklearn.ensemble import RandomForestClassifier\n",
    "\n",
    "# Load the data into a dataframe\n",
    "df = pd.read_csv(\"data.csv\")\n",
    "\n",
    "# Define the features and target variables\n",
    "X = df[[\"RSI\", \"MACD\"]]\n",
    "y = df[\"if_long\"]\n",
    "\n",
    "# Create a random forest classifier\n",
    "clf = RandomForestClassifier(n_estimators=100, random_state=0)\n",
    "\n",
    "# Fit the model to the data\n",
    "clf.fit(X, y)\n",
    "\n",
    "# Get the feature importances\n",
    "importances = clf.feature_importances_\n",
    "\n",
    "# Print the feature importances\n",
    "print(\"Feature importances:\", importances)\n",
    "\n",
    "# Get the indices of the top N features\n",
    "N = 2\n",
    "indices = np.argsort(importances)[::-1][:N]\n",
    "\n",
    "# Print the top N features\n",
    "print(\"Top {N} features:\", [X.columns[i] for i in indices])\n"
   ]
  }
 ],
 "metadata": {
  "kernelspec": {
   "display_name": "Python 3 (ipykernel)",
   "language": "python",
   "name": "python3"
  },
  "language_info": {
   "codemirror_mode": {
    "name": "ipython",
    "version": 3
   },
   "file_extension": ".py",
   "mimetype": "text/x-python",
   "name": "python",
   "nbconvert_exporter": "python",
   "pygments_lexer": "ipython3",
   "version": "3.9.12"
  }
 },
 "nbformat": 4,
 "nbformat_minor": 5
}
