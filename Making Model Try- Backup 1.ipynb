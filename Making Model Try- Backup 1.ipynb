{
 "cells": [
  {
   "cell_type": "code",
   "execution_count": 74,
   "id": "791c449f",
   "metadata": {
    "ExecuteTime": {
     "end_time": "2023-01-14T03:40:05.121319Z",
     "start_time": "2023-01-14T03:40:05.108316Z"
    }
   },
   "outputs": [],
   "source": [
    "from creating_arrays import CHART_TIME_ARRAY, MONTH_ARRAY, SYMBOL_ARRAY\n",
    "from constants import BINANCE_URL, download_dir, output_dir, dtypes\n",
    "from pathlib import Path\n",
    "import os\n",
    "import re\n",
    "import shutil\n",
    "from selenium import webdriver\n",
    "import talib\n",
    "import datetime\n",
    "from selenium.webdriver.chrome.options import Options\n",
    "import glob\n",
    "import zipfile\n",
    "import pandas as pd\n",
    "from pandas.api.types import is_numeric_dtype\n",
    "import inspect\n",
    "import talib\n",
    "import time\n",
    "import numpy as np"
   ]
  },
  {
   "cell_type": "code",
   "execution_count": 5,
   "id": "776a88ce",
   "metadata": {
    "ExecuteTime": {
     "end_time": "2023-01-14T01:52:24.681175Z",
     "start_time": "2023-01-14T01:52:24.665172Z"
    }
   },
   "outputs": [
    {
     "name": "stdout",
     "output_type": "stream",
     "text": [
      "2023-01\n"
     ]
    }
   ],
   "source": [
    "# Get the current date\n",
    "now = datetime.datetime.now()\n",
    "\n",
    "# Format the date as a string in the desired format\n",
    "date_string = now.strftime(\"%Y-%m\")\n",
    "\n",
    "# Print the date string\n",
    "print(date_string)\n",
    "\n",
    "idx = MONTH_ARRAY.index(date_string)\n",
    "MONTH_ARRAY = MONTH_ARRAY[:idx + 1]"
   ]
  },
  {
   "cell_type": "code",
   "execution_count": 9,
   "id": "11cfc541",
   "metadata": {
    "ExecuteTime": {
     "end_time": "2023-01-14T01:57:03.613345Z",
     "start_time": "2023-01-14T01:57:03.597342Z"
    }
   },
   "outputs": [],
   "source": [
    "# Set up the arrays of symbols, chart times, and months\n",
    "symbols = [\n",
    "    SYMBOL_ARRAY[SYMBOL_ARRAY.index('BTCUSDT')],\n",
    "#     SYMBOL_ARRAY[SYMBOL_ARRAY.index('ETHUSDT')],\n",
    "#     SYMBOL_ARRAY[SYMBOL_ARRAY.index('ETHBUSD')],\n",
    "#     SYMBOL_ARRAY[SYMBOL_ARRAY.index('BTCBUSD')]\n",
    "]\n",
    "# symbols = [SYMBOL_ARRAY[SYMBOL_ARRAY.index('BTCUSDT')]]\n",
    "\n",
    "# chart_times = CHART_TIME_ARRAY\n",
    "chart_times = [CHART_TIME_ARRAY[12]]\n",
    "months = MONTH_ARRAY"
   ]
  },
  {
   "cell_type": "code",
   "execution_count": null,
   "id": "bcd2ed66",
   "metadata": {},
   "outputs": [],
   "source": []
  },
  {
   "cell_type": "code",
   "execution_count": 20,
   "id": "49c4bd8f",
   "metadata": {
    "ExecuteTime": {
     "end_time": "2023-01-14T02:01:18.999538Z",
     "start_time": "2023-01-14T02:01:17.858291Z"
    }
   },
   "outputs": [],
   "source": [
    "# # Iterate over the symbols and chart times\n",
    "# for symbol in symbols:\n",
    "#     for chart_time in chart_times:\n",
    "#         # Construct the file name\n",
    "#         file_name = f\"{symbol}-{chart_time}.csv\"\n",
    "\n",
    "#         # Construct the file path\n",
    "#         file_path = Path(output_dir) / f\"{symbol}-{chart_time}/{file_name}\"\n",
    "\n",
    "#         # Load the data into a dataframe\n",
    "#         df = pd.read_csv(file_path)\n",
    "#         df = df[33:]\n",
    "# # display(df[33:])"
   ]
  },
  {
   "cell_type": "markdown",
   "id": "1da137d9",
   "metadata": {},
   "source": [
    "## LONGS\n"
   ]
  },
  {
   "cell_type": "code",
   "execution_count": 21,
   "id": "2d6370ef",
   "metadata": {
    "ExecuteTime": {
     "end_time": "2023-01-14T02:02:53.942422Z",
     "start_time": "2023-01-14T02:01:38.256911Z"
    }
   },
   "outputs": [
    {
     "name": "stdout",
     "output_type": "stream",
     "text": [
      "Feature importances for symbol: BTCUSDT chart_time 5m : [0.5179407 0.4820593]\n",
      "Top {N} features for symbol: BTCUSDT chart_time 5m : ['RSI', 'MACD']\n"
     ]
    }
   ],
   "source": [
    "import os\n",
    "import pandas as pd\n",
    "from sklearn.ensemble import RandomForestClassifier\n",
    "\n",
    "\n",
    "# Iterate over the symbols and chart times\n",
    "for symbol in symbols:\n",
    "    for chart_time in chart_times:\n",
    "        # Construct the file name\n",
    "        file_name = f\"{symbol}-{chart_time}.csv\"\n",
    "\n",
    "        # Construct the file path\n",
    "        file_path = Path(output_dir) / f\"{symbol}-{chart_time}/{file_name}\"\n",
    "\n",
    "        # Load the data into a dataframe\n",
    "        df = pd.read_csv(file_path)\n",
    "        df = df[33:]\n",
    "#         df.dropna(inplace=True)\n",
    "        # Define the features and target variables\n",
    "        X = df[[\"RSI\", \"MACD\"]]\n",
    "        y = df[\"if_long\"]\n",
    "\n",
    "        # Create a random forest classifier\n",
    "        clf = RandomForestClassifier(n_estimators=100, random_state=0)\n",
    "\n",
    "        # Fit the model to the data\n",
    "        clf.fit(X, y)\n",
    "\n",
    "        # Get the feature importances\n",
    "        importances = clf.feature_importances_\n",
    "\n",
    "        # Print the feature importances\n",
    "        print(\"Feature importances for symbol:\", symbol, \"chart_time\",\n",
    "              chart_time, \":\", importances)\n",
    "\n",
    "        # Get the indices of the top N features\n",
    "        N = 2\n",
    "        indices = np.argsort(importances)[::-1][:N]\n",
    "\n",
    "        # Print the top N features\n",
    "        print(\"Top {N} features for symbol:\", symbol, \"chart_time\", chart_time,\n",
    "              \":\", [X.columns[i] for i in indices])"
   ]
  },
  {
   "cell_type": "code",
   "execution_count": 22,
   "id": "dcef7da4",
   "metadata": {
    "ExecuteTime": {
     "end_time": "2023-01-14T02:11:59.339361Z",
     "start_time": "2023-01-14T02:10:42.811590Z"
    }
   },
   "outputs": [
    {
     "name": "stdout",
     "output_type": "stream",
     "text": [
      "Feature importances for symbol: BTCUSDT chart_time 5m : [0.5179407 0.4820593]\n",
      "Top {N} features for symbol: BTCUSDT chart_time 5m : ['RSI', 'MACD']\n",
      "Range of RSI for long wins: 0.9916216347003368 to 98.69922666225663\n",
      "Range of MACD for long wins: -1774.4048317051274 to 1272.1442664086353\n",
      "Range of RSI for long losses: 21.475111831178783 to 64.62196028154327\n",
      "Range of MACD for long losses: -15.811552105649753 to -2.6233224949210125\n"
     ]
    }
   ],
   "source": [
    "import os\n",
    "import pandas as pd\n",
    "from sklearn.ensemble import RandomForestClassifier\n",
    "\n",
    "# Iterate over the symbols and chart times\n",
    "for symbol in symbols:\n",
    "    for chart_time in chart_times:\n",
    "        # Construct the file name\n",
    "        file_name = f\"{symbol}-{chart_time}.csv\"\n",
    "\n",
    "        # Construct the file path\n",
    "        file_path = Path(output_dir) / f\"{symbol}-{chart_time}/{file_name}\"\n",
    "\n",
    "        # Load the data into a dataframe\n",
    "        df = pd.read_csv(file_path)\n",
    "        df = df[33:]\n",
    "        # Define the features and target variables\n",
    "        X = df[[\"RSI\", \"MACD\"]]\n",
    "        y = df[\"if_long\"]\n",
    "\n",
    "        # Create a random forest classifier\n",
    "        clf = RandomForestClassifier(n_estimators=100, random_state=0)\n",
    "\n",
    "        # Fit the model to the data\n",
    "        clf.fit(X, y)\n",
    "\n",
    "        # Get the feature importances\n",
    "        importances = clf.feature_importances_\n",
    "\n",
    "        # Print the feature importances\n",
    "        print(\"Feature importances for symbol:\", symbol, \"chart_time\",\n",
    "              chart_time, \":\", importances)\n",
    "\n",
    "        # Get the indices of the top N features\n",
    "        N = 2\n",
    "        indices = np.argsort(importances)[::-1][:N]\n",
    "\n",
    "        # Print the top N features\n",
    "        print(\"Top {N} features for symbol:\", symbol, \"chart_time\", chart_time,\n",
    "              \":\", [X.columns[i] for i in indices])\n",
    "\n",
    "#         # Get the range of RSI and MACD values that give the highest win rate\n",
    "#         rsi_range = df[\"RSI\"][(df[\"if_long\"] == 1)].agg([\"min\", \"max\"])\n",
    "#         macd_range = df[\"MACD\"\n",
    "        # Get the RSI and MACD values where if_long is 1 (long win)\n",
    "        df_win = df[df[\"if_long\"] == 1]\n",
    "        rsi_win = df_win[\"RSI\"]\n",
    "        macd_win = df_win[\"MACD\"]\n",
    "\n",
    "        # Get the RSI and MACD values where if_long is 0 (long loss)\n",
    "        df_loss = df[df[\"if_long\"] == 0]\n",
    "        rsi_loss = df_loss[\"RSI\"]\n",
    "        macd_loss = df_loss[\"MACD\"]\n",
    "\n",
    "        # Find the minimum and maximum values of RSI and MACD for long wins\n",
    "        rsi_min_win = rsi_win.min()\n",
    "        rsi_max_win = rsi_win.max()\n",
    "        macd_min_win = macd_win.min()\n",
    "        macd_max_win = macd_win.max()\n",
    "\n",
    "        # Find the minimum and maximum values of RSI and MACD for long losses\n",
    "        rsi_min_loss = rsi_loss.min()\n",
    "        rsi_max_loss = rsi_loss.max()\n",
    "        macd_min_loss = macd_loss.min()\n",
    "        macd_max_loss = macd_loss.max()\n",
    "\n",
    "        # Print the range of combination of RSI and MACD that gives the highest winrate of 71%\n",
    "        print(\"Range of RSI for long wins:\", rsi_min_win, \"to\", rsi_max_win)\n",
    "        print(\"Range of MACD for long wins:\", macd_min_win, \"to\", macd_max_win)\n",
    "        print(\"Range of RSI for long losses:\", rsi_min_loss, \"to\", rsi_max_loss)\n",
    "        print(\"Range of MACD for long losses:\", macd_min_loss, \"to\", macd_max_loss)\n"
   ]
  },
  {
   "cell_type": "code",
   "execution_count": 60,
   "id": "de3edeb0",
   "metadata": {
    "ExecuteTime": {
     "end_time": "2023-01-14T03:09:14.547696Z",
     "start_time": "2023-01-14T03:07:50.402396Z"
    }
   },
   "outputs": [
    {
     "name": "stdout",
     "output_type": "stream",
     "text": [
      "Feature importances for symbol: BTCUSDT chart_time 5m : [0.5179407 0.4820593]\n",
      "Top {N} features for symbol: BTCUSDT chart_time 5m : ['RSI', 'MACD']\n",
      "Range of RSI for winning trades: 0.9916216347003368 to 98.69922666225663\n",
      "Range of MACD for winning trades: -1774.4048317051274 to 1272.1442664086353\n",
      "Range of RSI for winning trades: (72.98669902342604, 78.12920455119216)\n",
      "Range of MACD for winning trades: (10.831894193251856, 173.12614200219537)\n"
     ]
    }
   ],
   "source": [
    "# Iterate over the symbols and chart times\n",
    "for symbol in symbols:\n",
    "    for chart_time in chart_times:\n",
    "        # Construct the file name\n",
    "        file_name = f\"{symbol}-{chart_time}.csv\"\n",
    "\n",
    "        # Construct the file path\n",
    "        file_path = Path(output_dir) / f\"{symbol}-{chart_time}/{file_name}\"\n",
    "\n",
    "        # Load the data into a dataframe\n",
    "        df = pd.read_csv(file_path)\n",
    "        df = df[33:]\n",
    "        # Define the features and target variables\n",
    "        X = df[[\"RSI\", \"MACD\"]]\n",
    "        y = df[\"if_long\"]\n",
    "\n",
    "        # Create a random forest classifier\n",
    "        clf = RandomForestClassifier(n_estimators=100, random_state=0)\n",
    "\n",
    "        # Fit the model to the data\n",
    "        clf.fit(X, y)\n",
    "\n",
    "        # Get the feature importances\n",
    "        importances = clf.feature_importances_\n",
    "\n",
    "        # Print the feature importances\n",
    "        print(\"Feature importances for symbol:\", symbol, \"chart_time\",\n",
    "              chart_time, \":\", importances)\n",
    "\n",
    "        # Get the indices of the top N features\n",
    "        N = 2\n",
    "        indices = np.argsort(importances)[::-1][:N]\n",
    "\n",
    "        # Print the top N features\n",
    "        print(\"Top {N} features for symbol:\", symbol, \"chart_time\", chart_time,\n",
    "              \":\", [X.columns[i] for i in indices])\n",
    "\n",
    "        # Define the number of bins for RSI and MACD\n",
    "        num_bins_rsi = 10\n",
    "        num_bins_macd = 10\n",
    "\n",
    "        # Get the predictions\n",
    "        predictions = clf.predict(X)\n",
    "\n",
    "        # Filter out the data points that were predicted to be winning trades\n",
    "        X_win = X[predictions == 1]\n",
    "\n",
    "        # Find the minimum and maximum values of RSI and MACD for winning trades\n",
    "        rsi_min_win = X_win[\"RSI\"].min()\n",
    "        rsi_max_win = X_win[\"RSI\"].max()\n",
    "        macd_min_win = X_win[\"MACD\"].min()\n",
    "        macd_max_win = X_win[\"MACD\"].max()\n",
    "\n",
    "        # Print the range of RSI and MACD values that resulted in winning trades\n",
    "        print(\"Range of RSI for winning trades:\", rsi_min_win, \"to\", rsi_max_win)\n",
    "        print(\"Range of MACD for winning trades:\", macd_min_win, \"to\", macd_max_win)\n",
    "        \n",
    "        # Create bins for RSI and MACD values\n",
    "        rsi_bins = np.linspace(df[\"RSI\"].min(), df[\"RSI\"].max(), 20)\n",
    "        macd_bins = np.linspace(df[\"MACD\"].min(), df[\"MACD\"].max(), 20)\n",
    "\n",
    "        # Create new columns for RSI and MACD bins\n",
    "        df[\"RSI_bin\"] = np.digitize(df[\"RSI\"], rsi_bins)\n",
    "        df[\"MACD_bin\"] = np.digitize(df[\"MACD\"], macd_bins)\n",
    "\n",
    "        # Get the number of wins in each RSI and MACD bin\n",
    "        binned_data = df.groupby([\"RSI_bin\", \"MACD_bin\"])[\"if_long\"].sum()\n",
    "\n",
    "        # Find the RSI and MACD bin with the highest number of wins\n",
    "        max_bin = binned_data.idxmax()\n",
    "\n",
    "        # Get the RSI and MACD range for the bin with the highest number of wins\n",
    "        rsi_range = (rsi_bins[max_bin[0]-1], rsi_bins[max_bin[0]])\n",
    "        macd_range = (macd_bins[max_bin[1]-1], macd_bins[max_bin[1]])\n",
    "\n",
    "        # Print the RSI and MACD range for the bin with the highest number of wins\n",
    "        print(\"Range of RSI for winning trades:\", rsi_range)\n",
    "        print(\"Range of MACD for winning trades:\", macd_range)\n",
    "\n"
   ]
  },
  {
   "cell_type": "code",
   "execution_count": 65,
   "id": "cc210e0d",
   "metadata": {
    "ExecuteTime": {
     "end_time": "2023-01-14T03:19:44.920306Z",
     "start_time": "2023-01-14T03:19:44.899300Z"
    }
   },
   "outputs": [
    {
     "name": "stdout",
     "output_type": "stream",
     "text": [
      "Range of RSI: (72.98669902342604, 78.12920455119216)\n",
      "Range of MACD: (10.831894193251856, 173.12614200219537)\n",
      "Total short trades: 4373\n",
      "Win percentage for short trades: 0.7018065401326321\n"
     ]
    }
   ],
   "source": [
    "# Get the data points where RSI and MACD are within the range and if_long is 0 (short trade)\n",
    "df_range_short = df[(df[\"RSI\"] >= rsi_range[0]) & (df[\"RSI\"] < rsi_range[1]) & (df[\"MACD\"] >= macd_range[0]) & (df[\"MACD\"] < macd_range[1]) & (df[\"if_short\"] == -1)]\n",
    "\n",
    "# Get the total number of short trades within the range\n",
    "total_short_trades = len(df_range_short)\n",
    "\n",
    "# Calculate the win percentage for short trades within the range\n",
    "win_percentage_short = df_range_short[\"if_long\"].sum() / total_short_trades\n",
    "\n",
    "# Print the results\n",
    "print(\"Range of RSI:\", rsi_range)\n",
    "print(\"Range of MACD:\", macd_range)\n",
    "print(\"Total short trades:\", total_short_trades)\n",
    "print(\"Win percentage for short trades:\", win_percentage_short)\n"
   ]
  },
  {
   "cell_type": "code",
   "execution_count": 35,
   "id": "1f766cd8",
   "metadata": {
    "ExecuteTime": {
     "end_time": "2023-01-14T02:40:49.317192Z",
     "start_time": "2023-01-14T02:40:49.298188Z"
    }
   },
   "outputs": [
    {
     "data": {
      "text/plain": [
       "314433"
      ]
     },
     "execution_count": 35,
     "metadata": {},
     "output_type": "execute_result"
    }
   ],
   "source": [
    "len(df)"
   ]
  },
  {
   "cell_type": "markdown",
   "id": "6eca012d",
   "metadata": {},
   "source": [
    "## SHORTS\n"
   ]
  },
  {
   "cell_type": "code",
   "execution_count": 66,
   "id": "fa7565cf",
   "metadata": {
    "ExecuteTime": {
     "end_time": "2023-01-14T03:22:24.001834Z",
     "start_time": "2023-01-14T03:22:22.738744Z"
    }
   },
   "outputs": [
    {
     "name": "stdout",
     "output_type": "stream",
     "text": [
      "Range of RSI for short winning trades: 2.71561787892405 to 92.40092376838062\n",
      "Range of MACD for short winning trades: -116.1173639839344 to 82.94444851213302\n"
     ]
    }
   ],
   "source": [
    "# Iterate over the symbols and chart times\n",
    "for symbol in symbols:\n",
    "    for chart_time in chart_times:\n",
    "        # Construct the file name\n",
    "        file_name = f\"{symbol}-{chart_time}.csv\"\n",
    "\n",
    "        # Construct the file path\n",
    "        file_path = Path(output_dir) / f\"{symbol}-{chart_time}/{file_name}\"\n",
    "\n",
    "        # Load the data into a dataframe\n",
    "        df = pd.read_csv(file_path)\n",
    "        df = df[33:10000]\n",
    "        df = df[df[\"if_short\"] == 1]\n",
    "       # Define the features and target variables\n",
    "        X = df[[\"RSI\", \"MACD\"]]\n",
    "        y = df[\"if_short\"]\n",
    "\n",
    "        # Create a random forest classifier\n",
    "        clf = RandomForestClassifier(n_estimators=100, random_state=0)\n",
    "\n",
    "        # Fit the model to the data\n",
    "        clf.fit(X, y)\n",
    "\n",
    "        # Get the predictions\n",
    "        predictions = clf.predict(X)\n",
    "\n",
    "        # Filter out the data points that were predicted to be short winning trades\n",
    "        X_win = X[predictions == 1]\n",
    "\n",
    "        # Find the minimum and maximum values of RSI and MACD for short winning trades\n",
    "        rsi_min_win = X_win[\"RSI\"].min()\n",
    "        rsi_max_win = X_win[\"RSI\"].max()\n",
    "        macd_min_win = X_win[\"MACD\"].min()\n",
    "        macd_max_win = X_win[\"MACD\"].max()\n",
    "\n",
    "        # Print the range of RSI and MACD values that resulted in short winning trades\n",
    "        print(\"Range of RSI for short winning trades:\", rsi_min_win, \"to\", rsi_max_win)\n",
    "        print(\"Range of MACD for short winning trades:\", macd_min_win, \"to\", macd_max_win)\n"
   ]
  },
  {
   "cell_type": "code",
   "execution_count": 67,
   "id": "d05dea2e",
   "metadata": {
    "ExecuteTime": {
     "end_time": "2023-01-14T03:23:23.171075Z",
     "start_time": "2023-01-14T03:23:23.109062Z"
    }
   },
   "outputs": [
    {
     "ename": "KeyError",
     "evalue": "'if_short'",
     "output_type": "error",
     "traceback": [
      "\u001b[1;31m---------------------------------------------------------------------------\u001b[0m",
      "\u001b[1;31mKeyError\u001b[0m                                  Traceback (most recent call last)",
      "File \u001b[1;32m~\\anaconda3\\lib\\site-packages\\pandas\\core\\indexes\\base.py:3621\u001b[0m, in \u001b[0;36mIndex.get_loc\u001b[1;34m(self, key, method, tolerance)\u001b[0m\n\u001b[0;32m   3620\u001b[0m \u001b[38;5;28;01mtry\u001b[39;00m:\n\u001b[1;32m-> 3621\u001b[0m     \u001b[38;5;28;01mreturn\u001b[39;00m \u001b[38;5;28;43mself\u001b[39;49m\u001b[38;5;241;43m.\u001b[39;49m\u001b[43m_engine\u001b[49m\u001b[38;5;241;43m.\u001b[39;49m\u001b[43mget_loc\u001b[49m\u001b[43m(\u001b[49m\u001b[43mcasted_key\u001b[49m\u001b[43m)\u001b[49m\n\u001b[0;32m   3622\u001b[0m \u001b[38;5;28;01mexcept\u001b[39;00m \u001b[38;5;167;01mKeyError\u001b[39;00m \u001b[38;5;28;01mas\u001b[39;00m err:\n",
      "File \u001b[1;32m~\\anaconda3\\lib\\site-packages\\pandas\\_libs\\index.pyx:136\u001b[0m, in \u001b[0;36mpandas._libs.index.IndexEngine.get_loc\u001b[1;34m()\u001b[0m\n",
      "File \u001b[1;32m~\\anaconda3\\lib\\site-packages\\pandas\\_libs\\index.pyx:163\u001b[0m, in \u001b[0;36mpandas._libs.index.IndexEngine.get_loc\u001b[1;34m()\u001b[0m\n",
      "File \u001b[1;32mpandas\\_libs\\hashtable_class_helper.pxi:5198\u001b[0m, in \u001b[0;36mpandas._libs.hashtable.PyObjectHashTable.get_item\u001b[1;34m()\u001b[0m\n",
      "File \u001b[1;32mpandas\\_libs\\hashtable_class_helper.pxi:5206\u001b[0m, in \u001b[0;36mpandas._libs.hashtable.PyObjectHashTable.get_item\u001b[1;34m()\u001b[0m\n",
      "\u001b[1;31mKeyError\u001b[0m: 'if_short'",
      "\nThe above exception was the direct cause of the following exception:\n",
      "\u001b[1;31mKeyError\u001b[0m                                  Traceback (most recent call last)",
      "Input \u001b[1;32mIn [67]\u001b[0m, in \u001b[0;36m<cell line: 16>\u001b[1;34m()\u001b[0m\n\u001b[0;32m     14\u001b[0m \u001b[38;5;66;03m# Get the total number of trades and win percentage\u001b[39;00m\n\u001b[0;32m     15\u001b[0m total_trades \u001b[38;5;241m=\u001b[39m \u001b[38;5;28mlen\u001b[39m(X_loss)\n\u001b[1;32m---> 16\u001b[0m win_percentage \u001b[38;5;241m=\u001b[39m (\u001b[43mX_loss\u001b[49m\u001b[43m[\u001b[49m\u001b[38;5;124;43m\"\u001b[39;49m\u001b[38;5;124;43mif_short\u001b[39;49m\u001b[38;5;124;43m\"\u001b[39;49m\u001b[43m]\u001b[49m\u001b[38;5;241m.\u001b[39msum() \u001b[38;5;241m/\u001b[39m total_trades) \u001b[38;5;241m*\u001b[39m \u001b[38;5;241m100\u001b[39m\n\u001b[0;32m     18\u001b[0m \u001b[38;5;66;03m# Print the total number of trades and win percentage\u001b[39;00m\n\u001b[0;32m     19\u001b[0m \u001b[38;5;28mprint\u001b[39m(\u001b[38;5;124m\"\u001b[39m\u001b[38;5;124mTotal trades:\u001b[39m\u001b[38;5;124m\"\u001b[39m, total_trades)\n",
      "File \u001b[1;32m~\\anaconda3\\lib\\site-packages\\pandas\\core\\frame.py:3505\u001b[0m, in \u001b[0;36mDataFrame.__getitem__\u001b[1;34m(self, key)\u001b[0m\n\u001b[0;32m   3503\u001b[0m \u001b[38;5;28;01mif\u001b[39;00m \u001b[38;5;28mself\u001b[39m\u001b[38;5;241m.\u001b[39mcolumns\u001b[38;5;241m.\u001b[39mnlevels \u001b[38;5;241m>\u001b[39m \u001b[38;5;241m1\u001b[39m:\n\u001b[0;32m   3504\u001b[0m     \u001b[38;5;28;01mreturn\u001b[39;00m \u001b[38;5;28mself\u001b[39m\u001b[38;5;241m.\u001b[39m_getitem_multilevel(key)\n\u001b[1;32m-> 3505\u001b[0m indexer \u001b[38;5;241m=\u001b[39m \u001b[38;5;28;43mself\u001b[39;49m\u001b[38;5;241;43m.\u001b[39;49m\u001b[43mcolumns\u001b[49m\u001b[38;5;241;43m.\u001b[39;49m\u001b[43mget_loc\u001b[49m\u001b[43m(\u001b[49m\u001b[43mkey\u001b[49m\u001b[43m)\u001b[49m\n\u001b[0;32m   3506\u001b[0m \u001b[38;5;28;01mif\u001b[39;00m is_integer(indexer):\n\u001b[0;32m   3507\u001b[0m     indexer \u001b[38;5;241m=\u001b[39m [indexer]\n",
      "File \u001b[1;32m~\\anaconda3\\lib\\site-packages\\pandas\\core\\indexes\\base.py:3623\u001b[0m, in \u001b[0;36mIndex.get_loc\u001b[1;34m(self, key, method, tolerance)\u001b[0m\n\u001b[0;32m   3621\u001b[0m     \u001b[38;5;28;01mreturn\u001b[39;00m \u001b[38;5;28mself\u001b[39m\u001b[38;5;241m.\u001b[39m_engine\u001b[38;5;241m.\u001b[39mget_loc(casted_key)\n\u001b[0;32m   3622\u001b[0m \u001b[38;5;28;01mexcept\u001b[39;00m \u001b[38;5;167;01mKeyError\u001b[39;00m \u001b[38;5;28;01mas\u001b[39;00m err:\n\u001b[1;32m-> 3623\u001b[0m     \u001b[38;5;28;01mraise\u001b[39;00m \u001b[38;5;167;01mKeyError\u001b[39;00m(key) \u001b[38;5;28;01mfrom\u001b[39;00m \u001b[38;5;21;01merr\u001b[39;00m\n\u001b[0;32m   3624\u001b[0m \u001b[38;5;28;01mexcept\u001b[39;00m \u001b[38;5;167;01mTypeError\u001b[39;00m:\n\u001b[0;32m   3625\u001b[0m     \u001b[38;5;66;03m# If we have a listlike key, _check_indexing_error will raise\u001b[39;00m\n\u001b[0;32m   3626\u001b[0m     \u001b[38;5;66;03m#  InvalidIndexError. Otherwise we fall through and re-raise\u001b[39;00m\n\u001b[0;32m   3627\u001b[0m     \u001b[38;5;66;03m#  the TypeError.\u001b[39;00m\n\u001b[0;32m   3628\u001b[0m     \u001b[38;5;28mself\u001b[39m\u001b[38;5;241m.\u001b[39m_check_indexing_error(key)\n",
      "\u001b[1;31mKeyError\u001b[0m: 'if_short'"
     ]
    }
   ],
   "source": [
    "# Define the RSI and MACD range\n",
    "rsi_range = (72.98669902342604, 78.12920455119216)\n",
    "macd_range = (10.831894193251856, 173.12614200219537)\n",
    "\n",
    "# Get the data points that fall within the RSI and MACD range\n",
    "X_short = X[(df[\"RSI\"] >= rsi_range[0]) & (X[\"RSI\"] <= rsi_range[1]) & (df[\"MACD\"] >= macd_range[0]) & (df[\"MACD\"] <= macd_range[1])]\n",
    "\n",
    "# Get the predictions for the data points that fall within the RSI and MACD range\n",
    "predictions = clf.predict(X_short)\n",
    "\n",
    "# Filter out the data points that were predicted to be losing trades\n",
    "X_loss = X_short[predictions == 0]\n",
    "\n",
    "# Get the total number of trades and win percentage\n",
    "total_trades = len(X_loss)\n",
    "win_percentage = (X_loss[\"if_short\"].sum() / total_trades) * 100\n",
    "\n",
    "# Print the total number of trades and win percentage\n",
    "print(\"Total trades:\", total_trades)\n",
    "print(\"Win percentage:\", win_percentage)\n"
   ]
  },
  {
   "cell_type": "code",
   "execution_count": 75,
   "id": "667d3496",
   "metadata": {
    "ExecuteTime": {
     "end_time": "2023-01-14T03:41:26.947502Z",
     "start_time": "2023-01-14T03:40:12.288374Z"
    }
   },
   "outputs": [
    {
     "name": "stdout",
     "output_type": "stream",
     "text": [
      "Range of RSI for long wins: (47.27417138459543, 52.41667691236155)\n",
      "Range of MACD for long wins: (-151.46235361569188, 10.831894193251856)\n",
      "Range of RSI for long losses: (47.27417138459543, 52.41667691236155)\n",
      "Range of MACD for long losses: (-151.46235361569188, 10.831894193251856)\n",
      "Win percentage within range for long wins: 0.4749169435215947\n",
      "Win percentage within range for long losses: 9.966777408637874e-05\n"
     ]
    }
   ],
   "source": [
    "import os\n",
    "import pandas as pd\n",
    "from sklearn.ensemble import RandomForestClassifier\n",
    "import numpy as np\n",
    "\n",
    "# Define the symbols and chart times\n",
    "symbols = [\"BTCUSDT\"]\n",
    "chart_times = [\"5m\"]\n",
    "\n",
    "\n",
    "# Iterate over the symbols and chart times\n",
    "for symbol in symbols:\n",
    "    for chart_time in chart_times:\n",
    "        # Construct the file name\n",
    "        file_name = f\"{symbol}-{chart_time}.csv\"\n",
    "\n",
    "        # Construct the file path\n",
    "        file_path = Path(output_dir) / f\"{symbol}-{chart_time}/{file_name}\"\n",
    "\n",
    "        # Load the data into a dataframe\n",
    "        df = pd.read_csv(file_path)\n",
    "        df = df[33:]\n",
    "        # Define the features and target variables\n",
    "        X = df[[\"RSI\", \"MACD\"]]\n",
    "        y = df[\"if_long\"]\n",
    "        \n",
    "        # Create a random forest classifier\n",
    "        clf = RandomForestClassifier(n_estimators=100, random_state=0)\n",
    "\n",
    "        # Fit the model to the data\n",
    "        clf.fit(X, y)\n",
    "        \n",
    "        # Define the number of bins for RSI and MACD\n",
    "        num_bins_rsi = 20\n",
    "        num_bins_macd = 20\n",
    "        \n",
    "        # Create bins for RSI and MACD values\n",
    "        rsi_bins = np.linspace(df[\"RSI\"].min(), df[\"RSI\"].max(), num_bins_rsi)\n",
    "        macd_bins = np.linspace(df[\"MACD\"].min(), df[\"MACD\"].max(), num_bins_macd)\n",
    "\n",
    "        # Create new columns for RSI and MACD bins\n",
    "        df[\"RSI_bin\"] = np.digitize(df[\"RSI\"], rsi_bins)\n",
    "        df[\"MACD_bin\"] = np.digitize(df[\"MACD\"], macd_bins)\n",
    "        \n",
    "        # Get the number of long wins in each RSI and MACD bin\n",
    "        win_data = df[df[\"if_long\"] == 1].groupby([\"RSI_bin\", \"MACD_bin\"])[\"if_long\"].count()\n",
    "        loss_data = df[df[\"if_long\"] == 0].groupby([\"RSI_bin\", \"MACD_bin\"])[\"if_long\"].count()\n",
    "        \n",
    "        # Find the RSI and MACD bin with the highest number of wins\n",
    "        max_win_bin = win_data.idxmax()\n",
    "        max_loss_bin = loss_data.idxmax()\n",
    "        \n",
    "        # Get the RSI and MACD range for the bin with the highest number of wins\n",
    "        rsi_range_win = (rsi_bins[max_win_bin[0]-1], rsi_bins[max_win_bin[0]])\n",
    "        macd_range_win = (macd_bins[max_win_bin[1]-1], macd_bins[max_win_bin[1]])\n",
    "\n",
    "        # Get the RSI and MACD range for the bin with the highest number of losses\n",
    "        rsi_range_loss = (rsi_bins[max_loss_bin[0]-1], rsi_bins[max_loss_bin[0]])\n",
    "        macd_range_loss = (macd_bins[max_loss_bin[1]-1], macd_bins[max_loss_bin[1]])\n",
    "\n",
    "        # Print the RSI and MACD range for the bin with the highest number of wins\n",
    "        print(\"Range of RSI for long wins:\", rsi_range_win)\n",
    "        print(\"Range of MACD for long wins:\", macd_range_win)\n",
    "        print(\"Range of RSI for long losses:\", rsi_range_loss)\n",
    "        print(\"Range of MACD for long losses:\", macd_range_loss)\n",
    "\n",
    "        # Filter the dataframe to only include trades within the RSI and MACD range for long wins\n",
    "        df_win = df[(df[\"RSI\"] >= rsi_range_win[0]) & (df[\"RSI\"] < rsi_range_win[1]) & (df[\"MACD\"] >= macd_range_win[0]) & (df[\"MACD\"] < macd_range_win[1])]\n",
    "\n",
    "        # Filter the dataframe to only include trades within the RSI and MACD range for long losses\n",
    "        df_loss = df[(df[\"RSI\"] >= rsi_range_loss[0]) & (df[\"RSI\"] < rsi_range_loss[1]) & (df[\"MACD\"] >= macd_range_loss[0]) & (df[\"MACD\"] < macd_range_loss[1])]\n",
    "\n",
    "        # Count the number of trades within the RSI and MACD range for long wins\n",
    "        total_trades_win = df_win.shape[0]\n",
    "        total_trades_loss = df_loss.shape[0]\n",
    "\n",
    "        # Count the number of wins within the RSI and MACD range for long wins\n",
    "        win_trades_win = df_win[df_win[\"if_long\"] == 1].shape[0]\n",
    "        win_trades_loss = df_loss[df_loss[\"if_long\"] == 0].shape[0]\n",
    "\n",
    "        # Calculate the win percentage within the RSI and MACD range for long wins\n",
    "        win_percentage_win = win_trades_win / total_trades_win\n",
    "        win_percentage_loss = win_trades_loss / total_trades_loss\n",
    "\n",
    "        # Print the win percentage within the RSI and MACD range for long wins\n",
    "        print(\"Win percentage within range for long wins:\", win_percentage_win)\n",
    "        print(\"Win percentage within range for long losses:\", win_percentage_loss)\n"
   ]
  },
  {
   "cell_type": "code",
   "execution_count": 77,
   "id": "2fb59b0c",
   "metadata": {
    "ExecuteTime": {
     "end_time": "2023-01-14T03:45:16.420905Z",
     "start_time": "2023-01-14T03:45:15.205634Z"
    }
   },
   "outputs": [
    {
     "data": {
      "text/plain": [
       "RSI        MACD       \n",
       "0.991622   -211.619657    1.0\n",
       "1.118561   -153.885953    1.0\n",
       "2.585793   -196.694637    1.0\n",
       "3.138974   -84.375852     1.0\n",
       "3.346156   -484.028685    1.0\n",
       "                         ... \n",
       "97.450314   33.703307     1.0\n",
       "97.601909   68.741575     1.0\n",
       "97.630836   67.752398     1.0\n",
       "98.551014   45.231726     1.0\n",
       "98.699227   55.271351     1.0\n",
       "Name: if_long, Length: 139960, dtype: float64"
      ]
     },
     "metadata": {},
     "output_type": "display_data"
    }
   ],
   "source": [
    "# Iterate over the symbols and chart times\n",
    "for symbol in symbols:\n",
    "    for chart_time in chart_times:\n",
    "        # Construct the file name\n",
    "        file_name = f\"{symbol}-{chart_time}.csv\"\n",
    "\n",
    "        # Construct the file path\n",
    "        file_path = Path(output_dir) / f\"{symbol}-{chart_time}/{file_name}\"\n",
    "\n",
    "        # Load the data into a dataframe\n",
    "        df = pd.read_csv(file_path)\n",
    "        df = df[33:]\n",
    "\n",
    "        # Define the target variable\n",
    "        y = df[\"if_long\"]\n",
    "\n",
    "        # Group the data by RSI and MACD\n",
    "        grouped = df.groupby([\"RSI\", \"MACD\"])\n",
    "\n",
    "        # Calculate the win rate for each group\n",
    "        win_rate = grouped[\"if_long\"].mean()\n",
    "\n",
    "        # Filter the groups that have a win rate of 71% or higher\n",
    "        win_rate = win_rate[win_rate >= 0.71]\n",
    "\n",
    "        # Print the RSI, MACD, and win rate for the groups that have a win rate of 71% or higher\n",
    "        display(win_rate)\n"
   ]
  },
  {
   "cell_type": "markdown",
   "id": "e0230cbc",
   "metadata": {},
   "source": [
    "## WORKING CODE!!!!!!!!\n"
   ]
  },
  {
   "cell_type": "code",
   "execution_count": 79,
   "id": "127a5f9b",
   "metadata": {
    "ExecuteTime": {
     "end_time": "2023-01-14T03:51:23.665622Z",
     "start_time": "2023-01-14T03:50:08.719516Z"
    }
   },
   "outputs": [
    {
     "name": "stdout",
     "output_type": "stream",
     "text": [
      "Feature importances: [0.5179407 0.4820593]\n",
      "Range of RSI for trades with win rate of 71% or higher: (11.848022193317703, 22.70442275193507)\n",
      "Range of MACD for trades with win rate of 71% or higher: (-1774.4048317051274, -1431.7836418862466)\n"
     ]
    }
   ],
   "source": [
    "# Iterate over the symbols and chart times\n",
    "for symbol in symbols:\n",
    "    for chart_time in chart_times:\n",
    "        # Construct the file name\n",
    "        file_name = f\"{symbol}-{chart_time}.csv\"\n",
    "\n",
    "        # Construct the file path\n",
    "        file_path = Path(output_dir) / f\"{symbol}-{chart_time}/{file_name}\"\n",
    "\n",
    "        # Load the data into a dataframe\n",
    "        df = pd.read_csv(file_path)\n",
    "        df = df[33:]\n",
    "\n",
    "\n",
    "        # Define the features and target variables\n",
    "        X = df[[\"RSI\", \"MACD\"]]\n",
    "        y = df[\"if_long\"]\n",
    "\n",
    "        # Create a random forest classifier\n",
    "        clf = RandomForestClassifier(n_estimators=100, random_state=0)\n",
    "\n",
    "        # Fit the model to the data\n",
    "        clf.fit(X, y)\n",
    "\n",
    "        # Get the feature importances\n",
    "        importances = clf.feature_importances_\n",
    "\n",
    "        # Print the feature importances\n",
    "        print(\"Feature importances:\", importances)\n",
    "\n",
    "        # Define the number of bins for RSI and MACD\n",
    "        num_bins_rsi = 10\n",
    "        num_bins_macd = 10\n",
    "\n",
    "        # Create bins for RSI and MACD values\n",
    "        rsi_bins = np.linspace(df[\"RSI\"].min(), df[\"RSI\"].max(), num_bins_rsi)\n",
    "        macd_bins = np.linspace(df[\"MACD\"].min(), df[\"MACD\"].max(), num_bins_macd)\n",
    "\n",
    "        # Create new columns for RSI and MACD bins\n",
    "        df[\"RSI_bin\"] = np.digitize(df[\"RSI\"], rsi_bins)\n",
    "        df[\"MACD_bin\"] = np.digitize(df[\"MACD\"], macd_bins)\n",
    "\n",
    "        # Get the number of wins in each RSI and MACD bin\n",
    "        binned_data = df.groupby([\"RSI_bin\", \"MACD_bin\"])[\"if_long\"].sum()\n",
    "\n",
    "        # Find the RSI and MACD bin with the highest win rate\n",
    "        win_rate = binned_data / df.groupby([\"RSI_bin\", \"MACD_bin\"]).size()\n",
    "        max_win_rate_bin = win_rate[win_rate >= 0.71].idxmax()\n",
    "\n",
    "        # Get the RSI and MACD range for the bin with the highest win rate\n",
    "        rsi_range = (rsi_bins[max_win_rate_bin[0]-1], rsi_bins[max_win_rate_bin[0]])\n",
    "        macd_range = (macd_bins[max_win_rate_bin[1]-1], macd_bins[max_win_rate_bin[1]])\n",
    "\n",
    "        # Print the RSI and MACD range for the bin with the highest win rate\n",
    "        print(\"Range of RSI for trades with win rate of 71% or higher:\", rsi_range)\n",
    "        print(\"Range of MACD for trades with win rate of 71% or higher:\", macd_range)\n"
   ]
  },
  {
   "cell_type": "code",
   "execution_count": 84,
   "id": "e106aab5",
   "metadata": {
    "ExecuteTime": {
     "end_time": "2023-01-14T04:02:04.794600Z",
     "start_time": "2023-01-14T04:02:02.604884Z"
    }
   },
   "outputs": [
    {
     "name": "stdout",
     "output_type": "stream",
     "text": [
      "Feature importances: [0.51091186 0.48908814]\n",
      "Range of RSI: (2.71561787892405, 13.032804711207307)\n",
      "Range of MACD: (-95.38144700171323, -73.0155624898507)\n",
      "Win percentage: 1.0\n",
      "\n"
     ]
    },
    {
     "ename": "IndexError",
     "evalue": "index 10 is out of bounds for axis 0 with size 10",
     "output_type": "error",
     "traceback": [
      "\u001b[1;31m---------------------------------------------------------------------------\u001b[0m",
      "\u001b[1;31mIndexError\u001b[0m                                Traceback (most recent call last)",
      "Input \u001b[1;32mIn [84]\u001b[0m, in \u001b[0;36m<cell line: 2>\u001b[1;34m()\u001b[0m\n\u001b[0;32m     53\u001b[0m \u001b[38;5;28;01mfor\u001b[39;00m index, row \u001b[38;5;129;01min\u001b[39;00m bins_with_high_win_percentage\u001b[38;5;241m.\u001b[39miterrows():\n\u001b[0;32m     54\u001b[0m     rsi_range \u001b[38;5;241m=\u001b[39m (rsi_bins[index[\u001b[38;5;241m0\u001b[39m]\u001b[38;5;241m-\u001b[39m\u001b[38;5;241m1\u001b[39m], rsi_bins[index[\u001b[38;5;241m0\u001b[39m]])\n\u001b[1;32m---> 55\u001b[0m     macd_range \u001b[38;5;241m=\u001b[39m (macd_bins[index[\u001b[38;5;241m1\u001b[39m]\u001b[38;5;241m-\u001b[39m\u001b[38;5;241m1\u001b[39m], \u001b[43mmacd_bins\u001b[49m\u001b[43m[\u001b[49m\u001b[43mindex\u001b[49m\u001b[43m[\u001b[49m\u001b[38;5;241;43m1\u001b[39;49m\u001b[43m]\u001b[49m\u001b[43m]\u001b[49m)\n\u001b[0;32m     56\u001b[0m     \u001b[38;5;28mprint\u001b[39m(\u001b[38;5;124m\"\u001b[39m\u001b[38;5;124mRange of RSI:\u001b[39m\u001b[38;5;124m\"\u001b[39m, rsi_range)\n\u001b[0;32m     57\u001b[0m     \u001b[38;5;28mprint\u001b[39m(\u001b[38;5;124m\"\u001b[39m\u001b[38;5;124mRange of MACD:\u001b[39m\u001b[38;5;124m\"\u001b[39m, macd_range)\n",
      "\u001b[1;31mIndexError\u001b[0m: index 10 is out of bounds for axis 0 with size 10"
     ]
    }
   ],
   "source": [
    "# Iterate over the symbols and chart times\n",
    "for symbol in symbols:\n",
    "    for chart_time in chart_times:\n",
    "        # Construct the file name\n",
    "        file_name = f\"{symbol}-{chart_time}.csv\"\n",
    "\n",
    "        # Construct the file path\n",
    "        file_path = Path(output_dir) / f\"{symbol}-{chart_time}/{file_name}\"\n",
    "\n",
    "        # Load the data into a dataframe\n",
    "        df = pd.read_csv(file_path)\n",
    "        df = df[33:10000]\n",
    "\n",
    "\n",
    "        # Define the features and target variables\n",
    "        X = df[[\"RSI\", \"MACD\"]]\n",
    "        y = df[\"if_long\"]\n",
    "\n",
    "        # Create a random forest classifier\n",
    "        clf = RandomForestClassifier(n_estimators=100, random_state=0)\n",
    "\n",
    "        # Fit the model to the data\n",
    "        clf.fit(X, y)\n",
    "\n",
    "        # Get the feature importances\n",
    "        importances = clf.feature_importances_\n",
    "\n",
    "        # Print the feature importances\n",
    "        print(\"Feature importances:\", importances)\n",
    "\n",
    "        # Define the number of bins for RSI and MACD\n",
    "        num_bins_rsi = 10\n",
    "        num_bins_macd = 10\n",
    "\n",
    "        # Create bins for RSI and MACD values\n",
    "        rsi_bins = np.linspace(df[\"RSI\"].min(), df[\"RSI\"].max(), num_bins_rsi)\n",
    "        macd_bins = np.linspace(df[\"MACD\"].min(), df[\"MACD\"].max(), num_bins_macd)\n",
    "\n",
    "        # Create new columns for RSI and MACD bins\n",
    "        df[\"RSI_bin\"] = np.digitize(df[\"RSI\"], rsi_bins)\n",
    "        df[\"MACD_bin\"] = np.digitize(df[\"MACD\"], macd_bins)\n",
    "\n",
    "        # Get the number of wins and total trades in each RSI and MACD bin\n",
    "        binned_data = df.groupby([\"RSI_bin\", \"MACD_bin\"])[\"if_long\"].agg([\"sum\", \"count\"])\n",
    "\n",
    "        # Add a new column for win percentage\n",
    "        binned_data[\"win_percentage\"] = binned_data[\"sum\"] / binned_data[\"count\"]\n",
    "\n",
    "        # Find the bin or bins with win percentage greater than or equal to 0.71\n",
    "        bins_with_high_win_percentage = binned_data[binned_data[\"win_percentage\"] >= 0.71]\n",
    "\n",
    "        # Print the range of RSI, MACD or a combination of both for the bin or bins with the highest win percentage\n",
    "        for index, row in bins_with_high_win_percentage.iterrows():\n",
    "            rsi_range = (rsi_bins[index[0]-1], rsi_bins[index[0]])\n",
    "            macd_range = (macd_bins[index[1]-1], macd_bins[index[1]])\n",
    "            print(\"Range of RSI:\", rsi_range)\n",
    "            print(\"Range of MACD:\", macd_range)\n",
    "            print(\"Win percentage:\", row[\"win_percentage\"])\n",
    "            print()\n",
    "\n"
   ]
  },
  {
   "cell_type": "code",
   "execution_count": 88,
   "id": "06dcb293",
   "metadata": {
    "ExecuteTime": {
     "end_time": "2023-01-14T04:09:12.007633Z",
     "start_time": "2023-01-14T04:07:00.247774Z"
    }
   },
   "outputs": [
    {
     "name": "stdout",
     "output_type": "stream",
     "text": [
      "Feature importances for symbol: BTCUSDT chart_time 5m : [1.]\n",
      "Range of RSI: (72.98669902342604, 78.12920455119216)\n",
      "Win percentage for long wins: 0.6257270693512305\n",
      "Win percentage for long losses: 0.3742729306487696\n",
      "No RSI range with win rate greater than or equal to the target win rate found.\n"
     ]
    }
   ],
   "source": [
    "target_win_rate = 0.71\n",
    "\n",
    "# Iterate over the symbols and chart times\n",
    "for symbol in symbols:\n",
    "    for chart_time in chart_times:\n",
    "        # Construct the file name\n",
    "        file_name = f\"{symbol}-{chart_time}.csv\"\n",
    "\n",
    "        # Construct the file path\n",
    "        file_path = Path(output_dir) / f\"{symbol}-{chart_time}/{file_name}\"\n",
    "\n",
    "        # Load the data into a dataframe\n",
    "        df = pd.read_csv(file_path)\n",
    "        df = df[33:]\n",
    "\n",
    "        # Define the feature and target variable\n",
    "        X = df[[\"RSI\"]]\n",
    "        y = df[\"if_long\"]\n",
    "\n",
    "        # Create a random forest classifier\n",
    "        clf = RandomForestClassifier(n_estimators=100, random_state=0)\n",
    "\n",
    "        # Fit the model to the data\n",
    "        clf.fit(X, y)\n",
    "\n",
    "        # Get the feature importances\n",
    "        importances = clf.feature_importances_\n",
    "\n",
    "        # Print the feature importances\n",
    "        print(\"Feature importances for symbol:\", symbol, \"chart_time\", chart_time, \":\", importances)\n",
    "\n",
    "        # Define the number of bins for RSI\n",
    "        num_bins_rsi = 20\n",
    "\n",
    "        # Create bins for RSI values\n",
    "        rsi_bins = np.linspace(df[\"RSI\"].min(), df[\"RSI\"].max(), num_bins_rsi)\n",
    "\n",
    "        # Create new column for RSI bin\n",
    "        df[\"RSI_bin\"] = np.digitize(df[\"RSI\"], rsi_bins)\n",
    "\n",
    "        # Get the number of wins in each RSI bin\n",
    "        binned_data = df.groupby([\"RSI_bin\"])[\"if_long\"].sum()\n",
    "\n",
    "        # Find the RSI bin with the highest number of wins\n",
    "        max_win_bin = binned_data.idxmax()\n",
    "\n",
    "        # Get the RSI range for the bin with the highest number of wins\n",
    "        rsi_range = (rsi_bins[max_win_bin-1], rsi_bins[max_win_bin])\n",
    "\n",
    "        # Print the RSI range for the bin with the highest number of wins\n",
    "        print(\"Range of RSI:\", rsi_range)\n",
    "\n",
    "        # Get the number of trades within the RSI range for long wins\n",
    "        total_trades_win = df[(df[\"RSI\"] >= rsi_range[0]) & (df[\"RSI\"] < rsi_range[1]) & (df[\"if_long\"] == 1)].shape[0]\n",
    "        total_trades_loss = df[(df[\"RSI\"] >= rsi_range[0]) & (df[\"RSI\"] < rsi_range[1]) & (df[\"if_long\"] == -1)].shape[0]\n",
    "\n",
    "        # Get the number of trades within the RSI range for long wins\n",
    "        total_trades_win = df[(df[\"RSI\"] >= rsi_range[0]) & (df[\"RSI\"] < rsi_range[1]) & (df[\"if_long\"] == 1)].shape[0]\n",
    "        total_trades_loss = df[(df[\"RSI\"] >= rsi_range[0]) & (df[\"RSI\"] < rsi_range[1]) & (df[\"if_long\"] == -1)].shape[0]\n",
    "\n",
    "        # Calculate the win percentage within the RSI range for long wins\n",
    "        win_percentage_win = total_trades_win / (total_trades_win + total_trades_loss)\n",
    "        win_percentage_loss = total_trades_loss / (total_trades_win + total_trades_loss)\n",
    "\n",
    "        # Print the win percentage within the RSI range for long wins\n",
    "        print(\"Win percentage for long wins:\", win_percentage_win)\n",
    "        print(\"Win percentage for long losses:\", win_percentage_loss)\n",
    "        \n",
    "        if win_percentage_win >= target_win_rate or win_percentage_loss >= target_win_rate:\n",
    "            print(\"RSI range with win rate greater than or equal to the target win rate:\", rsi_range)\n",
    "            break\n",
    "        else:\n",
    "            print(\"No RSI range with win rate greater than or equal to the target win rate found.\")\n",
    "            break\n"
   ]
  },
  {
   "cell_type": "code",
   "execution_count": 102,
   "id": "84ad9b15",
   "metadata": {
    "ExecuteTime": {
     "end_time": "2023-01-14T04:38:03.807381Z",
     "start_time": "2023-01-14T04:35:44.360175Z"
    }
   },
   "outputs": [
    {
     "name": "stdout",
     "output_type": "stream",
     "text": [
      "Feature importances for symbol: BTCUSDT chart_time 5m : [1.]\n",
      "Range of RSI: (62.70168796789379, 67.84419349565991)\n",
      "Win percentage: 0.524099327547992\n",
      "Total trades: 26619\n",
      "Total wins: 13951\n",
      "\n",
      "Range of RSI: (67.84419349565991, 72.98669902342604)\n",
      "Win percentage: 0.5634418133468406\n",
      "Total trades: 15794\n",
      "Total wins: 8899\n",
      "\n",
      "Range of RSI: (72.98669902342604, 78.12920455119216)\n",
      "Win percentage: 0.6257270693512305\n",
      "Total trades: 8940\n",
      "Total wins: 5594\n",
      "\n",
      "Range of RSI: (78.12920455119216, 83.27171007895828)\n",
      "Win percentage: 0.6856357097524857\n",
      "Total trades: 4727\n",
      "Total wins: 3241\n",
      "\n",
      "Range of RSI: (83.27171007895828, 88.4142156067244)\n",
      "Win percentage: 0.758948799275034\n",
      "Total trades: 2207\n",
      "Total wins: 1675\n",
      "\n",
      "Range of RSI: (88.4142156067244, 93.55672113449052)\n",
      "Win percentage: 0.818734793187348\n",
      "Total trades: 822\n",
      "Total wins: 673\n",
      "\n",
      "Range of RSI: (93.55672113449052, 98.69922666225663)\n",
      "Win percentage: 0.8125\n",
      "Total trades: 144\n",
      "Total wins: 117\n",
      "\n"
     ]
    },
    {
     "ename": "IndexError",
     "evalue": "index 20 is out of bounds for axis 0 with size 20",
     "output_type": "error",
     "traceback": [
      "\u001b[1;31m---------------------------------------------------------------------------\u001b[0m",
      "\u001b[1;31mIndexError\u001b[0m                                Traceback (most recent call last)",
      "Input \u001b[1;32mIn [102]\u001b[0m, in \u001b[0;36m<cell line: 2>\u001b[1;34m()\u001b[0m\n\u001b[0;32m     52\u001b[0m         \u001b[38;5;66;03m# Print the range of RSI and win percentage for each bin with win percentage of 71% or higher\u001b[39;00m\n\u001b[0;32m     53\u001b[0m         \u001b[38;5;28;01mfor\u001b[39;00m rsi_bin, win_percentage \u001b[38;5;129;01min\u001b[39;00m bins_with_high_win_percentage\u001b[38;5;241m.\u001b[39mitems():\n\u001b[1;32m---> 54\u001b[0m             rsi_range \u001b[38;5;241m=\u001b[39m (rsi_bins[rsi_bin\u001b[38;5;241m-\u001b[39m\u001b[38;5;241m1\u001b[39m], \u001b[43mrsi_bins\u001b[49m\u001b[43m[\u001b[49m\u001b[43mrsi_bin\u001b[49m\u001b[43m]\u001b[49m)\n\u001b[0;32m     55\u001b[0m \u001b[38;5;66;03m#             rsi_range = (df[\"RSI\"].min(), df[\"RSI\"].max())\u001b[39;00m\n\u001b[0;32m     56\u001b[0m             total_trades \u001b[38;5;241m=\u001b[39m df[(df[\u001b[38;5;124m\"\u001b[39m\u001b[38;5;124mRSI\u001b[39m\u001b[38;5;124m\"\u001b[39m] \u001b[38;5;241m>\u001b[39m\u001b[38;5;241m=\u001b[39m rsi_range[\u001b[38;5;241m0\u001b[39m]) \u001b[38;5;241m&\u001b[39m (df[\u001b[38;5;124m\"\u001b[39m\u001b[38;5;124mRSI\u001b[39m\u001b[38;5;124m\"\u001b[39m] \u001b[38;5;241m<\u001b[39m rsi_range[\u001b[38;5;241m1\u001b[39m])]\u001b[38;5;241m.\u001b[39mshape[\u001b[38;5;241m0\u001b[39m]\n",
      "\u001b[1;31mIndexError\u001b[0m: index 20 is out of bounds for axis 0 with size 20"
     ]
    }
   ],
   "source": [
    "# Iterate over the symbols and chart times\n",
    "for symbol in symbols:\n",
    "    for chart_time in chart_times:\n",
    "        # Construct the file name\n",
    "        file_name = f\"{symbol}-{chart_time}.csv\"\n",
    "\n",
    "        # Construct the file path\n",
    "        file_path = Path(output_dir) / f\"{symbol}-{chart_time}/{file_name}\"\n",
    "\n",
    "        # Load the data into a dataframe\n",
    "        df = pd.read_csv(file_path)\n",
    "        df = df[33:]\n",
    "\n",
    "        # Define the features and target variables\n",
    "        X = df[[\"RSI\"]]\n",
    "        y = df[\"if_long\"]\n",
    "\n",
    "        # Create a random forest classifier\n",
    "        clf = RandomForestClassifier(n_estimators=100, random_state=0)\n",
    "\n",
    "        # Fit the model to the data\n",
    "        clf.fit(X, y)\n",
    "\n",
    "        # Get the feature importances\n",
    "        importances = clf.feature_importances_\n",
    "\n",
    "        # Print the feature importances\n",
    "        print(\"Feature importances for symbol:\", symbol, \"chart_time\",\n",
    "              chart_time, \":\", importances)\n",
    "\n",
    "        # Define the number of bins for RSI\n",
    "        num_bins_rsi = 20\n",
    "\n",
    "        # Create bins for RSI values\n",
    "        rsi_bins = np.linspace(df[\"RSI\"].min(), df[\"RSI\"].max(), num_bins_rsi)\n",
    "\n",
    "        # Create new column for RSI bin\n",
    "        df[\"RSI_bin\"] = np.digitize(df[\"RSI\"], rsi_bins)\n",
    "\n",
    "        # Get the number of wins in each RSI bin\n",
    "        binned_data = df.groupby([\"RSI_bin\"])[\"if_long\"].sum()\n",
    "\n",
    "        # Get the total number of trades in each RSI bin\n",
    "        binned_data_total = df.groupby([\"RSI_bin\"])[\"if_long\"].count()\n",
    "\n",
    "        # Calculate the win percentage in each RSI bin\n",
    "        binned_data_win_percentage = binned_data / binned_data_total\n",
    "\n",
    "        # Find RSI bin or bins with win percentage of 71% or higher\n",
    "        bins_with_high_win_percentage = binned_data_win_percentage[binned_data_win_percentage >= 0]\n",
    "\n",
    "        # Print the range of RSI and win percentage for each bin with win percentage of 71% or higher\n",
    "        for rsi_bin, win_percentage in bins_with_high_win_percentage.items():\n",
    "            rsi_range = (rsi_bins[rsi_bin-1], rsi_bins[rsi_bin])\n",
    "#             rsi_range = (df[\"RSI\"].min(), df[\"RSI\"].max())\n",
    "            total_trades = df[(df[\"RSI\"] >= rsi_range[0]) & (df[\"RSI\"] < rsi_range[1])].shape[0]\n",
    "            total_wins = df[(df[\"RSI\"] >= rsi_range[0]) & (df[\"RSI\"] < rsi_range[1]) & (df[\"if_long\"] == 1)].shape[0]\n",
    "            print(\"Range of RSI:\", rsi_range)\n",
    "            print(\"Win percentage:\", total_wins/total_trades)\n",
    "            print(\"Total trades:\", total_trades)\n",
    "            print(\"Total wins:\", total_wins)\n",
    "            print()\n"
   ]
  },
  {
   "cell_type": "code",
   "execution_count": 100,
   "id": "737f84e4",
   "metadata": {
    "ExecuteTime": {
     "end_time": "2023-01-14T04:29:30.096158Z",
     "start_time": "2023-01-14T04:29:29.098255Z"
    }
   },
   "outputs": [
    {
     "name": "stdout",
     "output_type": "stream",
     "text": [
      "Symbol:  BTCUSDT chart_time:  5m\n",
      "Win percentage: 0.758948799275034\n",
      "Total trades: 2207\n",
      "Total wins: 1675\n",
      "Total losses: 532\n"
     ]
    }
   ],
   "source": [
    "for symbol in symbols:\n",
    "    for chart_time in chart_times:\n",
    "        # Construct the file name\n",
    "        file_name = f\"{symbol}-{chart_time}.csv\"\n",
    "\n",
    "        # Construct the file path\n",
    "        file_path = Path(output_dir) / f\"{symbol}-{chart_time}/{file_name}\"\n",
    "\n",
    "        # Load the data into a dataframe\n",
    "        df = pd.read_csv(file_path)\n",
    "\n",
    "        # Select the rows in the dataframe where RSI is between 83.27171007895828 and 88.4142156067244\n",
    "        df = df[(df[\"RSI\"] >= 83.27171007895828) & (df[\"RSI\"] < 88.4142156067244)]\n",
    "\n",
    "        # Calculate the number of wins in the selected RSI range\n",
    "        total_wins = df[df[\"if_long\"] == 1].shape[0]\n",
    "        total_losses = df[df[\"if_long\"] == -1].shape[0]\n",
    "\n",
    "        # Calculate the total number of trades in the selected RSI range\n",
    "        total_trades = df.shape[0]\n",
    "\n",
    "        # Calculate the win percentage in the selected RSI range\n",
    "        win_percentage = total_wins / total_trades\n",
    "\n",
    "        # Print the results\n",
    "        print(\"Symbol: \", symbol, \"chart_time: \", chart_time)\n",
    "        print(\"Win percentage:\", win_percentage)\n",
    "        print(\"Total trades:\", total_trades)\n",
    "        print(\"Total wins:\", total_wins)\n",
    "        print(\"Total losses:\", total_losses)"
   ]
  },
  {
   "cell_type": "code",
   "execution_count": null,
   "id": "6c540503",
   "metadata": {},
   "outputs": [],
   "source": []
  }
 ],
 "metadata": {
  "kernelspec": {
   "display_name": "Python 3 (ipykernel)",
   "language": "python",
   "name": "python3"
  },
  "language_info": {
   "codemirror_mode": {
    "name": "ipython",
    "version": 3
   },
   "file_extension": ".py",
   "mimetype": "text/x-python",
   "name": "python",
   "nbconvert_exporter": "python",
   "pygments_lexer": "ipython3",
   "version": "3.9.12"
  }
 },
 "nbformat": 4,
 "nbformat_minor": 5
}
