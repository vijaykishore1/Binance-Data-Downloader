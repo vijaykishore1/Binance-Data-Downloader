{
 "cells": [
  {
   "cell_type": "code",
   "execution_count": null,
   "id": "b19e1872",
   "metadata": {},
   "outputs": [],
   "source": [
    "import pandas as pd\n"
   ]
  },
  {
   "cell_type": "code",
   "execution_count": null,
   "id": "3f266dd1",
   "metadata": {},
   "outputs": [],
   "source": [
    "def compare_dataframes(df1, df2, n_rows=1000000000):\n",
    "    # Ensure both dataframes have the same columns\n",
    "    common_columns = df1.columns.intersection(df2.columns)\n",
    "    \n",
    "    # Extract the first n rows from each dataframe based on the common columns\n",
    "    subset_df1 = df1[common_columns].iloc[:n_rows]\n",
    "    subset_df2 = df2[common_columns].iloc[:n_rows]\n",
    "    \n",
    "    # Create a mask for rows and columns where the dataframes differ\n",
    "    difference_mask = subset_df1 != subset_df2\n",
    "    \n",
    "    # Initialize a dictionary to store the differences\n",
    "    diff_dict = {}\n",
    "    \n",
    "    for column in common_columns:\n",
    "        # Get the differences for each column\n",
    "        diff_column = subset_df1[column].where(difference_mask[column], None)\n",
    "        diff_dict[column + '_df1'] = diff_column\n",
    "        diff_dict[column + '_df2'] = subset_df2[column].where(difference_mask[column], None)\n",
    "    \n",
    "    # Create a DataFrame from the dictionary\n",
    "    differences = pd.concat(diff_dict, axis=1)\n",
    "    \n",
    "    # Drop columns where all values are None\n",
    "    differences = differences.dropna(how='all', axis=1)\n",
    "    \n",
    "    # Filter out rows with NaNs at the beginning\n",
    "    differences = differences.dropna(how='all', subset=[col for col in differences.columns if col.endswith('_df1')])\n",
    "\n",
    "    # Filter columns that do not contain \"BB\"\n",
    "    filtered_columns = [col for col in differences.columns\n",
    "#                         if \"BB\" not in col\n",
    "                       ]\n",
    "    filtered_differences = differences[filtered_columns]\n",
    "    \n",
    "    if filtered_differences.empty:\n",
    "        print(f\"The first {n_rows} rows are identical in the common columns.\")\n",
    "    else:\n",
    "        print(f\"Differences found in the first {n_rows} rows in the common columns\")\n",
    "        display(filtered_differences)\n",
    "    \n",
    "    # Return the differences DataFrame (index will contain row labels)\n",
    "    return differences\n",
    "\n",
    "\n",
    "#example usage\n",
    "# main_directory = \"D:\\KISHORE\\Binance-Data-Downloader\\data\\extracted_data\\BTCUSDT-4h\"\n",
    "\n",
    "    \n",
    "# df1 = pd.read_csv(rf\"{main_directory}\\BTCUSDT-4h_old_logic.csv\")\n",
    "# df2 = pd.read_csv(rf\"{main_directory}\\BTCUSDT-4h.csv\")\n",
    "# differences_df = compare_dataframes(df1, df2, 500)\n"
   ]
  }
 ],
 "metadata": {
  "kernelspec": {
   "display_name": "Python 3 (ipykernel)",
   "language": "python",
   "name": "python3"
  },
  "language_info": {
   "codemirror_mode": {
    "name": "ipython",
    "version": 3
   },
   "file_extension": ".py",
   "mimetype": "text/x-python",
   "name": "python",
   "nbconvert_exporter": "python",
   "pygments_lexer": "ipython3",
   "version": "3.12.3"
  }
 },
 "nbformat": 4,
 "nbformat_minor": 5
}
