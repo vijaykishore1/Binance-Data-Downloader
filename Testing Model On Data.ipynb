{
 "cells": [
  {
   "cell_type": "code",
   "execution_count": 4,
   "id": "fad361e1",
   "metadata": {
    "ExecuteTime": {
     "end_time": "2023-01-28T07:15:20.493626Z",
     "start_time": "2023-01-28T07:15:20.478622Z"
    }
   },
   "outputs": [],
   "source": [
    "import pandas as pd\n",
    "import plotly.express as px\n",
    "import numpy as np\n",
    "import os\n",
    "from constants import download_dir, output_dir\n",
    "from sklearn.model_selection import train_test_split\n",
    "from sklearn.ensemble import RandomForestClassifier\n",
    "from sklearn.metrics import confusion_matrix, ConfusionMatrixDisplay\n",
    "from sklearn.metrics import auc\n",
    "import pickle"
   ]
  },
  {
   "cell_type": "code",
   "execution_count": 5,
   "id": "df8f6a26",
   "metadata": {
    "ExecuteTime": {
     "end_time": "2023-01-28T07:15:20.635648Z",
     "start_time": "2023-01-28T07:15:20.629647Z"
    }
   },
   "outputs": [],
   "source": [
    "# import mlflow.sklearn"
   ]
  },
  {
   "cell_type": "code",
   "execution_count": 6,
   "id": "2ee8ac18",
   "metadata": {
    "ExecuteTime": {
     "end_time": "2023-01-28T07:15:20.791684Z",
     "start_time": "2023-01-28T07:15:20.777681Z"
    }
   },
   "outputs": [
    {
     "name": "stdout",
     "output_type": "stream",
     "text": [
      "D:\\KISHORE\\Binance-Data-Downloader\\extracted_data\n",
      "D:\\KISHORE\\Binance-Data-Downloader\\extracted_data\\BTCUSDT-1m-monthly_data\\BTCUSDT-1m.csv\n"
     ]
    }
   ],
   "source": [
    "import os\n",
    "os.getcwd()\n",
    "print(output_dir)\n",
    "path_monthly_1m = os.path.join(output_dir,\"BTCUSDT-1m-monthly_data\",\"BTCUSDT-1m.csv\")\n",
    "path_daily_1m = os.path.join(output_dir,\"BTCUSDT-5m-daily_data\",\"BTCUSDT-5m.csv\")\n",
    "print(path_monthly_1m)"
   ]
  },
  {
   "cell_type": "code",
   "execution_count": 7,
   "id": "af3ee8a7",
   "metadata": {
    "ExecuteTime": {
     "end_time": "2023-01-28T07:15:21.820914Z",
     "start_time": "2023-01-28T07:15:21.812913Z"
    }
   },
   "outputs": [],
   "source": [
    "# mlflow.set_tracking_uri(\"http://localhost:5000\")"
   ]
  },
  {
   "cell_type": "code",
   "execution_count": 8,
   "id": "5948d788",
   "metadata": {
    "ExecuteTime": {
     "end_time": "2023-01-28T07:15:22.225005Z",
     "start_time": "2023-01-28T07:15:22.220005Z"
    }
   },
   "outputs": [],
   "source": [
    "# long_clf = mlflow.sklearn.load_model(\"models:/15m-long-model-v1/latest\")"
   ]
  },
  {
   "cell_type": "code",
   "execution_count": 9,
   "id": "3c014179",
   "metadata": {
    "ExecuteTime": {
     "end_time": "2023-01-28T07:15:23.643703Z",
     "start_time": "2023-01-28T07:15:23.266700Z"
    }
   },
   "outputs": [],
   "source": [
    "# Load the model from the file\n",
    "with open(\"long_clf_5m_more_indicators.pkl\", \"rb\") as f:\n",
    "    long_clf_5m_more_indicators= pickle.load(f)\n"
   ]
  },
  {
   "cell_type": "code",
   "execution_count": 10,
   "id": "81ff2a11",
   "metadata": {
    "ExecuteTime": {
     "end_time": "2023-01-28T07:15:31.844945Z",
     "start_time": "2023-01-28T07:15:31.218804Z"
    }
   },
   "outputs": [],
   "source": [
    "df = pd.read_csv(path_daily_1m)\n",
    "\n",
    "df.drop([\n",
    "    \"open_time\", \"close_time\", \"entered_before\", \"longs_win_after\",\n",
    "    \"shorts_win_after\", 'open', 'high', 'low', 'close', 'volume',\n",
    "    'quote_volume', 'count', 'taker_buy_volume', 'taker_buy_quote_volume'\n",
    "],\n",
    "        axis=1,\n",
    "        inplace=True)\n",
    "\n",
    "df.replace(np.nan, -500, inplace=True)\n",
    "\n",
    "df[\"if_long\"] = df[\"if_long\"].replace(-1, 0)\n",
    "df[\"if_short\"] = df[\"if_short\"].replace(-1, 0)"
   ]
  },
  {
   "cell_type": "code",
   "execution_count": 11,
   "id": "4e01d828",
   "metadata": {
    "ExecuteTime": {
     "end_time": "2023-01-28T07:15:33.637692Z",
     "start_time": "2023-01-28T07:15:33.574693Z"
    }
   },
   "outputs": [],
   "source": [
    "long_df = df.drop(\"if_short\", axis=1)\n",
    "long_y = df[\"if_long\"]\n",
    "long_x = long_df.drop(\"if_long\", axis=1)\n",
    "X_train, X_test, y_train, y_test = train_test_split(long_x, long_y, test_size=0.1)"
   ]
  },
  {
   "cell_type": "code",
   "execution_count": 13,
   "id": "b9b347a3",
   "metadata": {
    "ExecuteTime": {
     "end_time": "2023-01-28T07:15:39.977067Z",
     "start_time": "2023-01-28T07:15:39.914053Z"
    }
   },
   "outputs": [],
   "source": [
    "y_pred = long_clf_5m_more_indicators.predict(X_test)"
   ]
  },
  {
   "cell_type": "code",
   "execution_count": 14,
   "id": "8aa39c57",
   "metadata": {
    "ExecuteTime": {
     "end_time": "2023-01-28T07:15:41.770153Z",
     "start_time": "2023-01-28T07:15:41.753149Z"
    }
   },
   "outputs": [
    {
     "name": "stdout",
     "output_type": "stream",
     "text": [
      "749\n"
     ]
    }
   ],
   "source": [
    "print(len(y_pred))"
   ]
  },
  {
   "cell_type": "code",
   "execution_count": 16,
   "id": "53b2657b",
   "metadata": {
    "ExecuteTime": {
     "end_time": "2023-01-28T07:15:45.779080Z",
     "start_time": "2023-01-28T07:15:45.708073Z"
    }
   },
   "outputs": [
    {
     "data": {
      "text/plain": [
       "0.5700934579439252"
      ]
     },
     "execution_count": 16,
     "metadata": {},
     "output_type": "execute_result"
    }
   ],
   "source": [
    "long_clf_5m_more_indicators.score(X_test, y_test)"
   ]
  },
  {
   "cell_type": "code",
   "execution_count": null,
   "id": "d9d27673",
   "metadata": {},
   "outputs": [],
   "source": []
  }
 ],
 "metadata": {
  "kernelspec": {
   "display_name": "Python 3 (ipykernel)",
   "language": "python",
   "name": "python3"
  },
  "language_info": {
   "codemirror_mode": {
    "name": "ipython",
    "version": 3
   },
   "file_extension": ".py",
   "mimetype": "text/x-python",
   "name": "python",
   "nbconvert_exporter": "python",
   "pygments_lexer": "ipython3",
   "version": "3.9.12"
  }
 },
 "nbformat": 4,
 "nbformat_minor": 5
}
