{
 "cells": [
  {
   "cell_type": "code",
   "execution_count": 1,
   "id": "fad361e1",
   "metadata": {
    "ExecuteTime": {
     "end_time": "2023-01-23T19:55:07.711337Z",
     "start_time": "2023-01-23T19:55:04.985235Z"
    }
   },
   "outputs": [],
   "source": [
    "import pandas as pd\n",
    "import plotly.express as px\n",
    "import numpy as np\n",
    "import os\n",
    "from constants import download_dir, output_dir\n",
    "from sklearn.model_selection import train_test_split\n",
    "from sklearn.ensemble import RandomForestClassifier\n",
    "from sklearn.metrics import confusion_matrix, ConfusionMatrixDisplay\n",
    "from sklearn.metrics import auc"
   ]
  },
  {
   "cell_type": "code",
   "execution_count": 2,
   "id": "df8f6a26",
   "metadata": {
    "ExecuteTime": {
     "end_time": "2023-01-23T19:55:08.456504Z",
     "start_time": "2023-01-23T19:55:07.712337Z"
    }
   },
   "outputs": [],
   "source": [
    "import mlflow.sklearn"
   ]
  },
  {
   "cell_type": "code",
   "execution_count": 3,
   "id": "2ee8ac18",
   "metadata": {
    "ExecuteTime": {
     "end_time": "2023-01-23T19:55:08.471507Z",
     "start_time": "2023-01-23T19:55:08.457504Z"
    }
   },
   "outputs": [
    {
     "name": "stdout",
     "output_type": "stream",
     "text": [
      "D:\\KISHORE\\Binance-Data-Downloader\\extracted_data\n",
      "D:\\KISHORE\\Binance-Data-Downloader\\extracted_data\\BTCUSDT-1m-monthly_data\\BTCUSDT-1m.csv\n"
     ]
    }
   ],
   "source": [
    "import os\n",
    "os.getcwd()\n",
    "print(output_dir)\n",
    "path_monthly_1m = os.path.join(output_dir,\"BTCUSDT-1m-monthly_data\",\"BTCUSDT-1m.csv\")\n",
    "path_daily_1m = os.path.join(output_dir,\"BTCUSDT-15m-daily_data\",\"BTCUSDT-15m.csv\")\n",
    "print(path_monthly_1m)"
   ]
  },
  {
   "cell_type": "code",
   "execution_count": 4,
   "id": "af3ee8a7",
   "metadata": {
    "ExecuteTime": {
     "end_time": "2023-01-23T19:55:26.296131Z",
     "start_time": "2023-01-23T19:55:26.294130Z"
    }
   },
   "outputs": [],
   "source": [
    "mlflow.set_tracking_uri(\"http://localhost:5000\")"
   ]
  },
  {
   "cell_type": "code",
   "execution_count": 5,
   "id": "5948d788",
   "metadata": {
    "ExecuteTime": {
     "end_time": "2023-01-23T19:55:37.748803Z",
     "start_time": "2023-01-23T19:55:30.299217Z"
    }
   },
   "outputs": [],
   "source": [
    "long_clf = mlflow.sklearn.load_model(\"models:/15m-long-model-v1/latest\")"
   ]
  },
  {
   "cell_type": "code",
   "execution_count": 7,
   "id": "81ff2a11",
   "metadata": {
    "ExecuteTime": {
     "end_time": "2023-01-23T19:57:48.503474Z",
     "start_time": "2023-01-23T19:57:48.454464Z"
    }
   },
   "outputs": [],
   "source": [
    "df = pd.read_csv(path_daily_1m)\n",
    "\n",
    "df.drop([\n",
    "    \"open_time\", \"close_time\", \"entered_before\", \"longs_win_after\",\n",
    "    \"shorts_win_after\", 'open', 'high', 'low', 'close', 'volume',\n",
    "    'quote_volume', 'count', 'taker_buy_volume', 'taker_buy_quote_volume'\n",
    "],\n",
    "        axis=1,\n",
    "        inplace=True)\n",
    "\n",
    "df.replace(np.nan, -500, inplace=True)\n",
    "\n",
    "df[\"if_long\"] = df[\"if_long\"].replace(-1, 0)\n",
    "df[\"if_short\"] = df[\"if_short\"].replace(-1, 0)"
   ]
  },
  {
   "cell_type": "code",
   "execution_count": 98,
   "id": "4e01d828",
   "metadata": {
    "ExecuteTime": {
     "end_time": "2023-01-23T20:07:32.942698Z",
     "start_time": "2023-01-23T20:07:32.931388Z"
    }
   },
   "outputs": [],
   "source": [
    "long_df = df.drop(\"if_short\", axis=1)\n",
    "long_y = df[\"if_long\"]\n",
    "long_x = long_df.drop(\"if_long\", axis=1)\n",
    "X_train, X_test, y_train, y_test = train_test_split(long_x, long_y, test_size=0.1)"
   ]
  },
  {
   "cell_type": "code",
   "execution_count": 99,
   "id": "b9b347a3",
   "metadata": {
    "ExecuteTime": {
     "end_time": "2023-01-23T20:07:33.116451Z",
     "start_time": "2023-01-23T20:07:33.089413Z"
    }
   },
   "outputs": [],
   "source": [
    "y_pred = long_clf.predict(X_test)"
   ]
  },
  {
   "cell_type": "code",
   "execution_count": 100,
   "id": "8aa39c57",
   "metadata": {
    "ExecuteTime": {
     "end_time": "2023-01-23T20:07:33.287982Z",
     "start_time": "2023-01-23T20:07:33.276690Z"
    }
   },
   "outputs": [
    {
     "name": "stdout",
     "output_type": "stream",
     "text": [
      "212\n"
     ]
    }
   ],
   "source": [
    "print(len(y_pred))"
   ]
  },
  {
   "cell_type": "code",
   "execution_count": 101,
   "id": "53b2657b",
   "metadata": {
    "ExecuteTime": {
     "end_time": "2023-01-23T20:07:33.475272Z",
     "start_time": "2023-01-23T20:07:33.444250Z"
    }
   },
   "outputs": [
    {
     "data": {
      "text/plain": [
       "0.6320754716981132"
      ]
     },
     "execution_count": 101,
     "metadata": {},
     "output_type": "execute_result"
    }
   ],
   "source": [
    "long_clf.score(X_test, y_test)"
   ]
  },
  {
   "cell_type": "code",
   "execution_count": null,
   "id": "d9d27673",
   "metadata": {},
   "outputs": [],
   "source": []
  }
 ],
 "metadata": {
  "kernelspec": {
   "display_name": "Python 3 (ipykernel)",
   "language": "python",
   "name": "python3"
  },
  "language_info": {
   "codemirror_mode": {
    "name": "ipython",
    "version": 3
   },
   "file_extension": ".py",
   "mimetype": "text/x-python",
   "name": "python",
   "nbconvert_exporter": "python",
   "pygments_lexer": "ipython3",
   "version": "3.9.12"
  }
 },
 "nbformat": 4,
 "nbformat_minor": 5
}
