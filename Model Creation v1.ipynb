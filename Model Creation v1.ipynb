{
 "cells": [
  {
   "cell_type": "code",
   "execution_count": 1,
   "id": "f1ce49f2",
   "metadata": {
    "ExecuteTime": {
     "end_time": "2023-01-27T11:54:35.817197Z",
     "start_time": "2023-01-27T11:54:33.520984Z"
    }
   },
   "outputs": [],
   "source": [
    "import pandas as pd\n",
    "import plotly.express as px\n",
    "import numpy as np\n",
    "import os\n",
    "from constants import download_dir, output_dir\n",
    "from sklearn.model_selection import train_test_split\n",
    "from sklearn.ensemble import RandomForestClassifier\n",
    "from sklearn.metrics import confusion_matrix, ConfusionMatrixDisplay\n",
    "from sklearn.metrics import auc"
   ]
  },
  {
   "cell_type": "code",
   "execution_count": 2,
   "id": "baaa8dbe",
   "metadata": {
    "ExecuteTime": {
     "end_time": "2023-01-27T11:54:36.619000Z",
     "start_time": "2023-01-27T11:54:35.818199Z"
    }
   },
   "outputs": [],
   "source": [
    "import mlflow.sklearn"
   ]
  },
  {
   "cell_type": "code",
   "execution_count": 3,
   "id": "c086b68f",
   "metadata": {
    "ExecuteTime": {
     "end_time": "2023-01-27T11:54:36.635004Z",
     "start_time": "2023-01-27T11:54:36.620001Z"
    }
   },
   "outputs": [],
   "source": [
    "mlflow.set_tracking_uri(\"http://localhost:5000\")"
   ]
  },
  {
   "cell_type": "code",
   "execution_count": 4,
   "id": "8e23ca3a",
   "metadata": {
    "ExecuteTime": {
     "end_time": "2023-01-27T11:54:36.650198Z",
     "start_time": "2023-01-27T11:54:36.637005Z"
    }
   },
   "outputs": [
    {
     "name": "stdout",
     "output_type": "stream",
     "text": [
      "D:\\KISHORE\\Binance-Data-Downloader\\extracted_data\n",
      "D:\\KISHORE\\Binance-Data-Downloader\\extracted_data\\BTCUSDT-15m-monthly_data\\BTCUSDT-15m.csv\n"
     ]
    }
   ],
   "source": [
    "import os\n",
    "\n",
    "os.getcwd()\n",
    "print(output_dir)\n",
    "path_monthly_1m = os.path.join(output_dir, \"BTCUSDT-15m-monthly_data\",\n",
    "                               \"BTCUSDT-15m.csv\")\n",
    "path_daily_1m = os.path.join(output_dir, \"BTCUSDT-15m-daily_data\",\n",
    "                             \"BTCUSDT-15m.csv\")\n",
    "print(path_monthly_1m)"
   ]
  },
  {
   "cell_type": "code",
   "execution_count": 79,
   "id": "8eb913ab",
   "metadata": {
    "ExecuteTime": {
     "end_time": "2023-01-23T21:07:46.649713Z",
     "start_time": "2023-01-23T21:07:15.887018Z"
    }
   },
   "outputs": [],
   "source": [
    "df = pd.read_csv(path_monthly_1m)"
   ]
  },
  {
   "cell_type": "code",
   "execution_count": 80,
   "id": "c4ef999b",
   "metadata": {
    "ExecuteTime": {
     "end_time": "2023-01-23T21:07:47.660497Z",
     "start_time": "2023-01-23T21:07:46.680736Z"
    }
   },
   "outputs": [],
   "source": [
    "df.drop([\"open_time\", \"close_time\"], axis=1, inplace=True)"
   ]
  },
  {
   "cell_type": "code",
   "execution_count": 81,
   "id": "60509bab",
   "metadata": {
    "ExecuteTime": {
     "end_time": "2023-01-23T21:07:47.692504Z",
     "start_time": "2023-01-23T21:07:47.662497Z"
    }
   },
   "outputs": [
    {
     "data": {
      "text/html": [
       "<div>\n",
       "<style scoped>\n",
       "    .dataframe tbody tr th:only-of-type {\n",
       "        vertical-align: middle;\n",
       "    }\n",
       "\n",
       "    .dataframe tbody tr th {\n",
       "        vertical-align: top;\n",
       "    }\n",
       "\n",
       "    .dataframe thead th {\n",
       "        text-align: right;\n",
       "    }\n",
       "</style>\n",
       "<table border=\"1\" class=\"dataframe\">\n",
       "  <thead>\n",
       "    <tr style=\"text-align: right;\">\n",
       "      <th></th>\n",
       "      <th>open</th>\n",
       "      <th>high</th>\n",
       "      <th>low</th>\n",
       "      <th>close</th>\n",
       "      <th>volume</th>\n",
       "      <th>quote_volume</th>\n",
       "      <th>count</th>\n",
       "      <th>taker_buy_volume</th>\n",
       "      <th>taker_buy_quote_volume</th>\n",
       "      <th>entry</th>\n",
       "      <th>...</th>\n",
       "      <th>CDLUPSIDEGAP2CROWS</th>\n",
       "      <th>CDLXSIDEGAP3METHODS</th>\n",
       "      <th>BETA</th>\n",
       "      <th>CORREL</th>\n",
       "      <th>LINEARREG</th>\n",
       "      <th>LINEARREG_ANGLE</th>\n",
       "      <th>LINEARREG_INTERCEPT</th>\n",
       "      <th>LINEARREG_SLOPE</th>\n",
       "      <th>TSF</th>\n",
       "      <th>VAR</th>\n",
       "    </tr>\n",
       "  </thead>\n",
       "  <tbody>\n",
       "    <tr>\n",
       "      <th>0</th>\n",
       "      <td>7182.43</td>\n",
       "      <td>7182.44</td>\n",
       "      <td>7178.75</td>\n",
       "      <td>7179.01</td>\n",
       "      <td>70.909</td>\n",
       "      <td>509145.78482</td>\n",
       "      <td>140</td>\n",
       "      <td>32.597</td>\n",
       "      <td>234063.27884</td>\n",
       "      <td>NaN</td>\n",
       "      <td>...</td>\n",
       "      <td>0</td>\n",
       "      <td>0</td>\n",
       "      <td>NaN</td>\n",
       "      <td>NaN</td>\n",
       "      <td>NaN</td>\n",
       "      <td>NaN</td>\n",
       "      <td>NaN</td>\n",
       "      <td>NaN</td>\n",
       "      <td>NaN</td>\n",
       "      <td>NaN</td>\n",
       "    </tr>\n",
       "    <tr>\n",
       "      <th>1</th>\n",
       "      <td>7179.01</td>\n",
       "      <td>7179.01</td>\n",
       "      <td>7175.25</td>\n",
       "      <td>7177.93</td>\n",
       "      <td>99.420</td>\n",
       "      <td>713539.55348</td>\n",
       "      <td>148</td>\n",
       "      <td>16.311</td>\n",
       "      <td>117066.92118</td>\n",
       "      <td>7179.01</td>\n",
       "      <td>...</td>\n",
       "      <td>0</td>\n",
       "      <td>0</td>\n",
       "      <td>NaN</td>\n",
       "      <td>NaN</td>\n",
       "      <td>NaN</td>\n",
       "      <td>NaN</td>\n",
       "      <td>NaN</td>\n",
       "      <td>NaN</td>\n",
       "      <td>NaN</td>\n",
       "      <td>NaN</td>\n",
       "    </tr>\n",
       "    <tr>\n",
       "      <th>2</th>\n",
       "      <td>7177.77</td>\n",
       "      <td>7182.60</td>\n",
       "      <td>7177.00</td>\n",
       "      <td>7181.11</td>\n",
       "      <td>69.330</td>\n",
       "      <td>497793.35929</td>\n",
       "      <td>104</td>\n",
       "      <td>43.723</td>\n",
       "      <td>313920.02981</td>\n",
       "      <td>7177.93</td>\n",
       "      <td>...</td>\n",
       "      <td>0</td>\n",
       "      <td>0</td>\n",
       "      <td>NaN</td>\n",
       "      <td>NaN</td>\n",
       "      <td>NaN</td>\n",
       "      <td>NaN</td>\n",
       "      <td>NaN</td>\n",
       "      <td>NaN</td>\n",
       "      <td>NaN</td>\n",
       "      <td>NaN</td>\n",
       "    </tr>\n",
       "    <tr>\n",
       "      <th>3</th>\n",
       "      <td>7179.10</td>\n",
       "      <td>7179.10</td>\n",
       "      <td>7172.94</td>\n",
       "      <td>7175.25</td>\n",
       "      <td>97.368</td>\n",
       "      <td>698627.39382</td>\n",
       "      <td>193</td>\n",
       "      <td>36.616</td>\n",
       "      <td>262734.68999</td>\n",
       "      <td>7181.11</td>\n",
       "      <td>...</td>\n",
       "      <td>0</td>\n",
       "      <td>0</td>\n",
       "      <td>NaN</td>\n",
       "      <td>NaN</td>\n",
       "      <td>NaN</td>\n",
       "      <td>NaN</td>\n",
       "      <td>NaN</td>\n",
       "      <td>NaN</td>\n",
       "      <td>NaN</td>\n",
       "      <td>NaN</td>\n",
       "    </tr>\n",
       "    <tr>\n",
       "      <th>4</th>\n",
       "      <td>7174.71</td>\n",
       "      <td>7177.14</td>\n",
       "      <td>7173.28</td>\n",
       "      <td>7175.61</td>\n",
       "      <td>33.725</td>\n",
       "      <td>241979.50880</td>\n",
       "      <td>124</td>\n",
       "      <td>15.885</td>\n",
       "      <td>113984.45772</td>\n",
       "      <td>7175.25</td>\n",
       "      <td>...</td>\n",
       "      <td>0</td>\n",
       "      <td>0</td>\n",
       "      <td>NaN</td>\n",
       "      <td>NaN</td>\n",
       "      <td>NaN</td>\n",
       "      <td>NaN</td>\n",
       "      <td>NaN</td>\n",
       "      <td>NaN</td>\n",
       "      <td>NaN</td>\n",
       "      <td>4.746816</td>\n",
       "    </tr>\n",
       "  </tbody>\n",
       "</table>\n",
       "<p>5 rows × 150 columns</p>\n",
       "</div>"
      ],
      "text/plain": [
       "      open     high      low    close  volume  quote_volume  count  \\\n",
       "0  7182.43  7182.44  7178.75  7179.01  70.909  509145.78482    140   \n",
       "1  7179.01  7179.01  7175.25  7177.93  99.420  713539.55348    148   \n",
       "2  7177.77  7182.60  7177.00  7181.11  69.330  497793.35929    104   \n",
       "3  7179.10  7179.10  7172.94  7175.25  97.368  698627.39382    193   \n",
       "4  7174.71  7177.14  7173.28  7175.61  33.725  241979.50880    124   \n",
       "\n",
       "   taker_buy_volume  taker_buy_quote_volume    entry  ...  CDLUPSIDEGAP2CROWS  \\\n",
       "0            32.597            234063.27884      NaN  ...                   0   \n",
       "1            16.311            117066.92118  7179.01  ...                   0   \n",
       "2            43.723            313920.02981  7177.93  ...                   0   \n",
       "3            36.616            262734.68999  7181.11  ...                   0   \n",
       "4            15.885            113984.45772  7175.25  ...                   0   \n",
       "\n",
       "   CDLXSIDEGAP3METHODS  BETA  CORREL  LINEARREG  LINEARREG_ANGLE  \\\n",
       "0                    0   NaN     NaN        NaN              NaN   \n",
       "1                    0   NaN     NaN        NaN              NaN   \n",
       "2                    0   NaN     NaN        NaN              NaN   \n",
       "3                    0   NaN     NaN        NaN              NaN   \n",
       "4                    0   NaN     NaN        NaN              NaN   \n",
       "\n",
       "   LINEARREG_INTERCEPT  LINEARREG_SLOPE  TSF       VAR  \n",
       "0                  NaN              NaN  NaN       NaN  \n",
       "1                  NaN              NaN  NaN       NaN  \n",
       "2                  NaN              NaN  NaN       NaN  \n",
       "3                  NaN              NaN  NaN       NaN  \n",
       "4                  NaN              NaN  NaN  4.746816  \n",
       "\n",
       "[5 rows x 150 columns]"
      ]
     },
     "execution_count": 81,
     "metadata": {},
     "output_type": "execute_result"
    }
   ],
   "source": [
    "df.head()"
   ]
  },
  {
   "cell_type": "code",
   "execution_count": 82,
   "id": "13ac61b0",
   "metadata": {
    "ExecuteTime": {
     "end_time": "2023-01-23T21:07:48.135604Z",
     "start_time": "2023-01-23T21:07:47.694505Z"
    }
   },
   "outputs": [],
   "source": [
    "column_names = df.columns\n",
    "\n",
    "missing_df = pd.DataFrame(\n",
    "    {\n",
    "        \"name\": column_names,\n",
    "        \"missing\": df.isnull().mean().tolist()\n",
    "    },\n",
    "    columns=[\"name\", \"missing\"])\n",
    "\n",
    "missing_df[\"missing\"] = missing_df[\"missing\"] * 100\n",
    "\n",
    "missing_df.sort_values(\"missing\", ascending=False, inplace=True)"
   ]
  },
  {
   "cell_type": "code",
   "execution_count": 83,
   "id": "e711a2f2",
   "metadata": {
    "ExecuteTime": {
     "end_time": "2023-01-23T21:07:48.151608Z",
     "start_time": "2023-01-23T21:07:48.136605Z"
    }
   },
   "outputs": [
    {
     "data": {
      "text/html": [
       "<div>\n",
       "<style scoped>\n",
       "    .dataframe tbody tr th:only-of-type {\n",
       "        vertical-align: middle;\n",
       "    }\n",
       "\n",
       "    .dataframe tbody tr th {\n",
       "        vertical-align: top;\n",
       "    }\n",
       "\n",
       "    .dataframe thead th {\n",
       "        text-align: right;\n",
       "    }\n",
       "</style>\n",
       "<table border=\"1\" class=\"dataframe\">\n",
       "  <thead>\n",
       "    <tr style=\"text-align: right;\">\n",
       "      <th></th>\n",
       "      <th>name</th>\n",
       "      <th>missing</th>\n",
       "    </tr>\n",
       "  </thead>\n",
       "  <tbody>\n",
       "    <tr>\n",
       "      <th>19</th>\n",
       "      <td>entered_before</td>\n",
       "      <td>99.888391</td>\n",
       "    </tr>\n",
       "    <tr>\n",
       "      <th>17</th>\n",
       "      <td>longs_win_after</td>\n",
       "      <td>55.971509</td>\n",
       "    </tr>\n",
       "    <tr>\n",
       "      <th>16</th>\n",
       "      <td>shorts_win_after</td>\n",
       "      <td>55.041241</td>\n",
       "    </tr>\n",
       "    <tr>\n",
       "      <th>25</th>\n",
       "      <td>EMA-200</td>\n",
       "      <td>0.012655</td>\n",
       "    </tr>\n",
       "    <tr>\n",
       "      <th>63</th>\n",
       "      <td>TRIX</td>\n",
       "      <td>0.005596</td>\n",
       "    </tr>\n",
       "    <tr>\n",
       "      <th>35</th>\n",
       "      <td>TEMA</td>\n",
       "      <td>0.005533</td>\n",
       "    </tr>\n",
       "    <tr>\n",
       "      <th>70</th>\n",
       "      <td>HT_DCPHASE</td>\n",
       "      <td>0.004006</td>\n",
       "    </tr>\n",
       "    <tr>\n",
       "      <th>26</th>\n",
       "      <td>HT_TRENDLINE</td>\n",
       "      <td>0.004006</td>\n",
       "    </tr>\n",
       "    <tr>\n",
       "      <th>23</th>\n",
       "      <td>DEMA</td>\n",
       "      <td>0.003689</td>\n",
       "    </tr>\n",
       "    <tr>\n",
       "      <th>24</th>\n",
       "      <td>EMA-50</td>\n",
       "      <td>0.003116</td>\n",
       "    </tr>\n",
       "  </tbody>\n",
       "</table>\n",
       "</div>"
      ],
      "text/plain": [
       "                name    missing\n",
       "19    entered_before  99.888391\n",
       "17   longs_win_after  55.971509\n",
       "16  shorts_win_after  55.041241\n",
       "25           EMA-200   0.012655\n",
       "63              TRIX   0.005596\n",
       "35              TEMA   0.005533\n",
       "70        HT_DCPHASE   0.004006\n",
       "26      HT_TRENDLINE   0.004006\n",
       "23              DEMA   0.003689\n",
       "24            EMA-50   0.003116"
      ]
     },
     "execution_count": 83,
     "metadata": {},
     "output_type": "execute_result"
    }
   ],
   "source": [
    "missing_df[:10]"
   ]
  },
  {
   "cell_type": "code",
   "execution_count": 84,
   "id": "7c9ac99b",
   "metadata": {
    "ExecuteTime": {
     "end_time": "2023-01-23T21:07:48.624486Z",
     "start_time": "2023-01-23T21:07:48.153608Z"
    }
   },
   "outputs": [],
   "source": [
    "df.drop([\"entered_before\", \"longs_win_after\", \"shorts_win_after\"],\n",
    "        axis=1,\n",
    "        inplace=True)"
   ]
  },
  {
   "cell_type": "code",
   "execution_count": 85,
   "id": "91c9f987",
   "metadata": {
    "ExecuteTime": {
     "end_time": "2023-01-23T21:07:48.889484Z",
     "start_time": "2023-01-23T21:07:48.625486Z"
    }
   },
   "outputs": [],
   "source": [
    "df.replace(np.nan, -500, inplace=True)"
   ]
  },
  {
   "cell_type": "code",
   "execution_count": 86,
   "id": "987e2a63",
   "metadata": {
    "ExecuteTime": {
     "end_time": "2023-01-23T21:07:48.905520Z",
     "start_time": "2023-01-23T21:07:48.890485Z"
    }
   },
   "outputs": [
    {
     "data": {
      "text/plain": [
       "-1    880043\n",
       " 1    692326\n",
       " 0        81\n",
       "Name: if_long, dtype: int64"
      ]
     },
     "execution_count": 86,
     "metadata": {},
     "output_type": "execute_result"
    }
   ],
   "source": [
    "df.if_long.value_counts()"
   ]
  },
  {
   "cell_type": "code",
   "execution_count": 87,
   "id": "41e53a82",
   "metadata": {
    "ExecuteTime": {
     "end_time": "2023-01-23T21:07:49.499992Z",
     "start_time": "2023-01-23T21:07:48.906520Z"
    }
   },
   "outputs": [],
   "source": [
    "df[\"if_long\"] = df[\"if_long\"].replace(-1, 0)\n",
    "df[\"if_short\"] = df[\"if_short\"].replace(-1, 0)"
   ]
  },
  {
   "cell_type": "code",
   "execution_count": 88,
   "id": "f124b97f",
   "metadata": {
    "ExecuteTime": {
     "end_time": "2023-01-23T21:07:49.531002Z",
     "start_time": "2023-01-23T21:07:49.501992Z"
    }
   },
   "outputs": [
    {
     "data": {
      "text/plain": [
       "0    880124\n",
       "1    692326\n",
       "Name: if_long, dtype: int64"
      ]
     },
     "execution_count": 88,
     "metadata": {},
     "output_type": "execute_result"
    }
   ],
   "source": [
    "df.if_long.value_counts()"
   ]
  },
  {
   "cell_type": "code",
   "execution_count": 89,
   "id": "4188e39d",
   "metadata": {
    "ExecuteTime": {
     "end_time": "2023-01-23T21:07:49.546007Z",
     "start_time": "2023-01-23T21:07:49.532012Z"
    }
   },
   "outputs": [
    {
     "data": {
      "text/plain": [
       "0    865496\n",
       "1    706954\n",
       "Name: if_short, dtype: int64"
      ]
     },
     "execution_count": 89,
     "metadata": {},
     "output_type": "execute_result"
    }
   ],
   "source": [
    "df.if_short.value_counts()"
   ]
  },
  {
   "cell_type": "code",
   "execution_count": 90,
   "id": "bb0f689d",
   "metadata": {
    "ExecuteTime": {
     "end_time": "2023-01-23T21:08:00.907569Z",
     "start_time": "2023-01-23T21:07:49.547009Z"
    }
   },
   "outputs": [],
   "source": [
    "int_cols = df.select_dtypes(include='int64').columns\n",
    "df[int_cols] = df[int_cols].astype(float)"
   ]
  },
  {
   "cell_type": "code",
   "execution_count": 91,
   "id": "ae8d94cd",
   "metadata": {
    "ExecuteTime": {
     "end_time": "2023-01-23T21:08:00.938601Z",
     "start_time": "2023-01-23T21:08:00.908569Z"
    }
   },
   "outputs": [
    {
     "name": "stdout",
     "output_type": "stream",
     "text": [
      "{'float64': ['open', 'high', 'low', 'close', 'volume', 'quote_volume', 'count', 'taker_buy_volume', 'taker_buy_quote_volume', 'entry', 'if_short', 'if_long', 'long_target', 'short_target', 'long_stop_loss', 'short_stop_loss', 'dual_loss', 'BB_upper', 'BB_middle', 'BB_lower', 'DEMA', 'EMA-50', 'EMA-200', 'HT_TRENDLINE', 'KAMA', 'MA', 'MIDPOINT', 'MIDPRICE', 'SAR', 'SAREXT', 'SMA', 'T3', 'TEMA', 'TRIMA', 'WMA', 'ADX', 'ADXR', 'APO', 'AROON_up', 'AROON_down', 'AROONOSC', 'BOP', 'CCI', 'CMO', 'DX', 'MACD', 'MACD_signal', 'MACD_hist', 'MFI', 'MINUS_DI', 'MINUS_DM', 'MOM', 'PLUS_DI', 'PLUS_DM', 'PPO', 'ROC', 'ROCP', 'ROCR', 'ROCR100', 'RSI', 'TRIX', 'ULTOSC', 'WILLR', 'AD', 'ADOSC', 'OBV', 'HT_DCPERIOD', 'HT_DCPHASE', 'HT_PHASOR_inphase', 'HT_PHASOR_quadrature', 'HT_TRENDMODE', 'AVGPRICE', 'MEDPRICE', 'TYPPRICE', 'WCLPRICE', 'ATR', 'NATR', 'TRANGE', 'CDL2CROWS', 'CDL3BLACKCROWS', 'CDL3INSIDE', 'CDL3LINESTRIKE', 'CDL3OUTSIDE', 'CDL3STARSINSOUTH', 'CDL3WHITESOLDIERS', 'CDLABANDONEDBABY', 'CDLADVANCEBLOCK', 'CDLBELTHOLD', 'CDLBREAKAWAY', 'CDLCLOSINGMARUBOZU', 'CDLCONCEALBABYSWALL', 'CDLCOUNTERATTACK', 'CDLDARKCLOUDCOVER', 'CDLDOJI', 'CDLDOJISTAR', 'CDLDRAGONFLYDOJI', 'CDLENGULFING', 'CDLEVENINGDOJISTAR', 'CDLEVENINGSTAR', 'CDLGAPSIDESIDEWHITE', 'CDLGRAVESTONEDOJI', 'CDLHAMMER', 'CDLHANGINGMAN', 'CDLHARAMI', 'CDLHARAMICROSS', 'CDLHIGHWAVE', 'CDLHIKKAKE', 'CDLHIKKAKEMOD', 'CDLHOMINGPIGEON', 'CDLIDENTICAL3CROWS', 'CDLINNECK', 'CDLINVERTEDHAMMER', 'CDLKICKING', 'CDLKICKINGBYLENGTH', 'CDLLADDERBOTTOM', 'CDLLONGLEGGEDDOJI', 'CDLLONGLINE', 'CDLMARUBOZU', 'CDLMATCHINGLOW', 'CDLMATHOLD', 'CDLMORNINGDOJISTAR', 'CDLMORNINGSTAR', 'CDLONNECK', 'CDLPIERCING', 'CDLRICKSHAWMAN', 'CDLRISEFALL3METHODS', 'CDLSEPARATINGLINES', 'CDLSHOOTINGSTAR', 'CDLSHORTLINE', 'CDLSPINNINGTOP', 'CDLSTALLEDPATTERN', 'CDLSTICKSANDWICH', 'CDLTAKURI', 'CDLTASUKIGAP', 'CDLTHRUSTING', 'CDLTRISTAR', 'CDLUNIQUE3RIVER', 'CDLUPSIDEGAP2CROWS', 'CDLXSIDEGAP3METHODS', 'BETA', 'CORREL', 'LINEARREG', 'LINEARREG_ANGLE', 'LINEARREG_INTERCEPT', 'LINEARREG_SLOPE', 'TSF', 'VAR']}\n"
     ]
    }
   ],
   "source": [
    "dtype_dict = {}\n",
    "for col in df.columns:\n",
    "    col_dtype = df[col].dtype.name\n",
    "    if col_dtype not in dtype_dict:\n",
    "        dtype_dict[col_dtype] = [col]\n",
    "    else:\n",
    "        dtype_dict[col_dtype].append(col)\n",
    "print(dtype_dict)"
   ]
  },
  {
   "cell_type": "markdown",
   "id": "96706a9d",
   "metadata": {},
   "source": [
    "## Long Model"
   ]
  },
  {
   "cell_type": "code",
   "execution_count": 92,
   "id": "e9f4591f",
   "metadata": {
    "ExecuteTime": {
     "end_time": "2023-01-23T21:08:01.093635Z",
     "start_time": "2023-01-23T21:08:00.940602Z"
    }
   },
   "outputs": [],
   "source": [
    "mlflow.sklearn.autolog()"
   ]
  },
  {
   "cell_type": "code",
   "execution_count": 93,
   "id": "0b2ad84e",
   "metadata": {
    "ExecuteTime": {
     "end_time": "2023-01-23T21:08:02.781636Z",
     "start_time": "2023-01-23T21:08:01.095636Z"
    }
   },
   "outputs": [],
   "source": [
    "long_df = df.drop(\"if_short\", axis=1)"
   ]
  },
  {
   "cell_type": "code",
   "execution_count": 94,
   "id": "716607ff",
   "metadata": {
    "ExecuteTime": {
     "end_time": "2023-01-23T21:08:02.796639Z",
     "start_time": "2023-01-23T21:08:02.782636Z"
    }
   },
   "outputs": [],
   "source": [
    "long_y = df[\"if_long\"]"
   ]
  },
  {
   "cell_type": "code",
   "execution_count": 95,
   "id": "722adab9",
   "metadata": {
    "ExecuteTime": {
     "end_time": "2023-01-23T21:08:03.581620Z",
     "start_time": "2023-01-23T21:08:02.797639Z"
    }
   },
   "outputs": [],
   "source": [
    "long_x = long_df.drop(\"if_long\", axis=1)"
   ]
  },
  {
   "cell_type": "code",
   "execution_count": 96,
   "id": "df4edca2",
   "metadata": {
    "ExecuteTime": {
     "end_time": "2023-01-23T21:08:03.596623Z",
     "start_time": "2023-01-23T21:08:03.583620Z"
    }
   },
   "outputs": [],
   "source": [
    "columns_to_drop = [\n",
    "    'open', 'high', 'low', 'close', 'volume', 'quote_volume', 'count',\n",
    "    'taker_buy_volume', 'taker_buy_quote_volume'\n",
    "]"
   ]
  },
  {
   "cell_type": "code",
   "execution_count": 97,
   "id": "984de0c3",
   "metadata": {
    "ExecuteTime": {
     "end_time": "2023-01-23T21:08:04.662862Z",
     "start_time": "2023-01-23T21:08:03.598623Z"
    }
   },
   "outputs": [],
   "source": [
    "long_x.drop(columns_to_drop, axis=1, inplace=True)"
   ]
  },
  {
   "cell_type": "code",
   "execution_count": 98,
   "id": "94a6e7cf",
   "metadata": {
    "ExecuteTime": {
     "end_time": "2023-01-23T21:08:08.717781Z",
     "start_time": "2023-01-23T21:08:04.665863Z"
    }
   },
   "outputs": [],
   "source": [
    "X_train, X_test, y_train, y_test = train_test_split(long_x,\n",
    "                                                    long_y,\n",
    "                                                    test_size=0.1)"
   ]
  },
  {
   "cell_type": "code",
   "execution_count": 99,
   "id": "bbbb6d7b",
   "metadata": {
    "ExecuteTime": {
     "end_time": "2023-01-23T21:08:08.732784Z",
     "start_time": "2023-01-23T21:08:08.719781Z"
    }
   },
   "outputs": [],
   "source": [
    "long_clf = RandomForestClassifier(max_depth=100,\n",
    "                                  random_state=0,\n",
    "                                  oob_score=True)"
   ]
  },
  {
   "cell_type": "code",
   "execution_count": 100,
   "id": "d7e39217",
   "metadata": {
    "ExecuteTime": {
     "end_time": "2023-01-23T21:55:36.128047Z",
     "start_time": "2023-01-23T21:08:08.734785Z"
    }
   },
   "outputs": [
    {
     "name": "stderr",
     "output_type": "stream",
     "text": [
      "2023/01/24 02:38:08 INFO mlflow.utils.autologging_utils: Created MLflow autologging run with ID '3239a2ba800d42f6bb0689113f4836d7', which will track hyperparameters, performance metrics, model artifacts, and lineage information for the current sklearn workflow\n",
      "2023/01/24 03:25:36 WARNING mlflow.utils.autologging_utils: Encountered unexpected error during sklearn autologging: API request to http://localhost:5000/api/2.0/mlflow-artifacts/artifacts/0/3239a2ba800d42f6bb0689113f4836d7/artifacts/model/model.pkl failed with exception HTTPConnectionPool(host='localhost', port=5000): Max retries exceeded with url: /api/2.0/mlflow-artifacts/artifacts/0/3239a2ba800d42f6bb0689113f4836d7/artifacts/model/model.pkl (Caused by ProtocolError('Connection aborted.', ConnectionResetError(10054, 'An existing connection was forcibly closed by the remote host', None, 10054, None)))\n"
     ]
    },
    {
     "data": {
      "text/plain": [
       "RandomForestClassifier(max_depth=100, oob_score=True, random_state=0)"
      ]
     },
     "execution_count": 100,
     "metadata": {},
     "output_type": "execute_result"
    }
   ],
   "source": [
    "long_clf.fit(X_train, y_train)"
   ]
  },
  {
   "cell_type": "code",
   "execution_count": 32,
   "id": "4c546231",
   "metadata": {
    "ExecuteTime": {
     "end_time": "2023-01-27T12:23:49.623558Z",
     "start_time": "2023-01-27T12:23:49.410578Z"
    }
   },
   "outputs": [],
   "source": [
    "import pickle\n",
    "\n",
    "# Save the model to a file\n",
    "with open(\"long_clf.pkl\", \"wb\") as f:\n",
    "    pickle.dump(long_clf, f)"
   ]
  },
  {
   "cell_type": "code",
   "execution_count": null,
   "id": "9aefb351",
   "metadata": {},
   "outputs": [],
   "source": [
    "short_df = df.drop(\"if_long\", axis=1)"
   ]
  },
  {
   "cell_type": "code",
   "execution_count": null,
   "id": "34141715",
   "metadata": {},
   "outputs": [],
   "source": [
    "short_y = df[\"if_short\"]"
   ]
  },
  {
   "cell_type": "code",
   "execution_count": null,
   "id": "c9b17af0",
   "metadata": {},
   "outputs": [],
   "source": [
    "short_x = short_df.drop(\"if_short\", axis=1)"
   ]
  },
  {
   "cell_type": "code",
   "execution_count": null,
   "id": "9f286526",
   "metadata": {},
   "outputs": [],
   "source": [
    "short_x.drop(columns_to_drop, axis=1, inplace=True)"
   ]
  },
  {
   "cell_type": "code",
   "execution_count": null,
   "id": "bc43accf",
   "metadata": {},
   "outputs": [],
   "source": [
    "X_train, X_test, y_train, y_test = train_test_split(short_x,\n",
    "                                                    short_y,\n",
    "                                                    test_size=0.1)"
   ]
  },
  {
   "cell_type": "code",
   "execution_count": null,
   "id": "d9633d53",
   "metadata": {},
   "outputs": [],
   "source": [
    "short_clf = RandomForestClassifier(max_depth=100,\n",
    "                                   random_state=0,\n",
    "                                   oob_score=True)"
   ]
  },
  {
   "cell_type": "code",
   "execution_count": null,
   "id": "a4474b5d",
   "metadata": {},
   "outputs": [],
   "source": [
    "short_clf.fit(X_train, y_train)"
   ]
  }
 ],
 "metadata": {
  "kernelspec": {
   "display_name": "Python 3 (ipykernel)",
   "language": "python",
   "name": "python3"
  },
  "language_info": {
   "codemirror_mode": {
    "name": "ipython",
    "version": 3
   },
   "file_extension": ".py",
   "mimetype": "text/x-python",
   "name": "python",
   "nbconvert_exporter": "python",
   "pygments_lexer": "ipython3",
   "version": "3.9.12"
  }
 },
 "nbformat": 4,
 "nbformat_minor": 5
}
