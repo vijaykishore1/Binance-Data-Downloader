{
 "cells": [
  {
   "cell_type": "code",
   "execution_count": null,
   "id": "7d887ffb",
   "metadata": {
    "ExecuteTime": {
     "end_time": "2023-01-27T09:48:28.928991Z",
     "start_time": "2023-01-27T09:48:20.178142Z"
    }
   },
   "outputs": [],
   "source": [
    "from constants import download_dir, output_dir, root_dir, dtypes, BINANCE_DAILY_URL, BINANCE_MONTHLY_URL\n",
    "from creating_arrays import CHART_TIME_ARRAY, MONTH_ARRAY, SYMBOL_ARRAY\n",
    "from data_creation_utils import download_data, unzip_and_concatenate_csv, \\\n",
    "    calculate_wins_losses, calculate_indicator_values_old, calculate_indicator_values_new\n",
    "from pathlib import Path\n",
    "import os\n",
    "import re\n",
    "import shutil\n",
    "from selenium import webdriver\n",
    "import talib\n",
    "import datetime\n",
    "from selenium.webdriver.chrome.options import Options\n",
    "import glob\n",
    "import zipfile\n",
    "import pandas as pd\n",
    "from pandas.api.types import is_numeric_dtype\n",
    "import inspect\n",
    "import talib\n",
    "import time\n",
    "import numpy as np\n",
    "import requests\n",
    "import urllib.request\n"
   ]
  },
  {
   "cell_type": "code",
   "execution_count": null,
   "id": "1a1e2f76",
   "metadata": {
    "ExecuteTime": {
     "end_time": "2023-01-27T09:48:28.944133Z",
     "start_time": "2023-01-27T09:48:28.929957Z"
    }
   },
   "outputs": [],
   "source": [
    "# Get the current date\n",
    "now = datetime.datetime.now()\n",
    "\n",
    "# Format the date as a string in the desired format\n",
    "date_string = now.strftime(\"%Y-%m\")\n",
    "\n",
    "# Print the date string\n",
    "print(date_string)\n",
    "\n",
    "idx = MONTH_ARRAY.index(date_string)\n",
    "MONTH_ARRAY = MONTH_ARRAY[:idx + 1]\n",
    "# months = MONTH_ARRAY"
   ]
  },
  {
   "cell_type": "code",
   "execution_count": null,
   "id": "5272a579",
   "metadata": {
    "ExecuteTime": {
     "end_time": "2023-01-27T09:48:28.959850Z",
     "start_time": "2023-01-27T09:48:28.945142Z"
    }
   },
   "outputs": [],
   "source": [
    "# Get the current date\n",
    "now = datetime.datetime.now()\n",
    "\n",
    "# Get the first day of the current month\n",
    "first_day = now.replace(day=1)\n",
    "\n",
    "# Create an empty list to store the days\n",
    "DAY_ARRAY = []\n",
    "\n",
    "# Loop through the days from the first day of the current month to today\n",
    "while first_day <= now:\n",
    "    # Format the date as a string in the desired format\n",
    "    date_string = first_day.strftime(\"%Y-%m-%d\")\n",
    "\n",
    "    # Add the date string to the list\n",
    "    DAY_ARRAY.append(date_string)\n",
    "\n",
    "    # Move to the next day\n",
    "    first_day += datetime.timedelta(days=1)\n",
    "print(DAY_ARRAY)\n",
    "# days = DAY_ARRAY"
   ]
  },
  {
   "cell_type": "code",
   "execution_count": null,
   "id": "e87dad5c",
   "metadata": {
    "ExecuteTime": {
     "end_time": "2023-01-27T09:48:28.975516Z",
     "start_time": "2023-01-27T09:48:28.960850Z"
    }
   },
   "outputs": [],
   "source": [
    "master_dictionary = {\n",
    "    \"days\" : DAY_ARRAY,\n",
    "    \"months\" : MONTH_ARRAY,\n",
    "    \"symbols\" : [\n",
    "    SYMBOL_ARRAY[SYMBOL_ARRAY.index('BTCUSDT')],\n",
    "    #     SYMBOL_ARRAY[SYMBOL_ARRAY.index('ETHUSDT')],\n",
    "    #     SYMBOL_ARRAY[SYMBOL_ARRAY.index('ETHBUSD')],\n",
    "    #     SYMBOL_ARRAY[SYMBOL_ARRAY.index('BTCBUSD')]\n",
    "    ],\n",
    "    \"chart_times\" : [\n",
    "#     CHART_TIME_ARRAY[CHART_TIME_ARRAY.index('5m')],\n",
    "#     CHART_TIME_ARRAY[CHART_TIME_ARRAY.index('1m')],\n",
    "    CHART_TIME_ARRAY[CHART_TIME_ARRAY.index('15m')]\n",
    "],\n",
    "    \"timeperiods\" : [5, 8, 13, 21, 30, 34, 50, 55, 89, 100, 144, 200, 233]\n",
    "}\n"
   ]
  },
  {
   "cell_type": "code",
   "execution_count": null,
   "id": "bd1f5a8f",
   "metadata": {
    "ExecuteTime": {
     "end_time": "2023-01-27T09:37:35.052642Z",
     "start_time": "2023-01-27T09:36:48.198343Z"
    }
   },
   "outputs": [],
   "source": [
    "download_data(master_dictionary=master_dictionary, monthly_or_daily_1_2=1)\n",
    "\n"
   ]
  },
  {
   "cell_type": "code",
   "execution_count": null,
   "id": "e3c3a03e",
   "metadata": {
    "ExecuteTime": {
     "end_time": "2023-01-27T09:37:38.275171Z",
     "start_time": "2023-01-27T09:37:35.054642Z"
    }
   },
   "outputs": [],
   "source": [
    "unzip_and_concatenate_csv(master_dictionary=master_dictionary, monthly_or_daily_1_2=1)\n"
   ]
  },
  {
   "cell_type": "code",
   "execution_count": null,
   "id": "9ec6aced",
   "metadata": {
    "ExecuteTime": {
     "end_time": "2023-01-27T09:38:26.123132Z",
     "start_time": "2023-01-27T09:37:38.276172Z"
    }
   },
   "outputs": [],
   "source": [
    "calculate_wins_losses(master_dictionary=master_dictionary, monthly_or_daily_1_2=1)\n"
   ]
  },
  {
   "cell_type": "code",
   "execution_count": null,
   "id": "74b1b0a6",
   "metadata": {
    "ExecuteTime": {
     "end_time": "2023-01-27T09:49:33.897281Z",
     "start_time": "2023-01-27T09:48:28.976516Z"
    }
   },
   "outputs": [],
   "source": [
    "calculate_indicator_values_new(master_dictionary=master_dictionary, monthly_or_daily_1_2=1)"
   ]
  },
  {
   "cell_type": "code",
   "execution_count": null,
   "id": "8f2eb2bb",
   "metadata": {},
   "outputs": [],
   "source": []
  }
 ],
 "metadata": {
  "kernelspec": {
   "display_name": "Python 3 (ipykernel)",
   "language": "python",
   "name": "python3"
  },
  "language_info": {
   "codemirror_mode": {
    "name": "ipython",
    "version": 3
   },
   "file_extension": ".py",
   "mimetype": "text/x-python",
   "name": "python",
   "nbconvert_exporter": "python",
   "pygments_lexer": "ipython3",
   "version": "3.9.12"
  }
 },
 "nbformat": 4,
 "nbformat_minor": 5
}
