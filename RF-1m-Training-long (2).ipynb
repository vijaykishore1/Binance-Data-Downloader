{
 "cells": [
  {
   "cell_type": "code",
   "execution_count": 2,
   "id": "b468546c",
   "metadata": {
    "ExecuteTime": {
     "end_time": "2023-10-15T09:09:34.518262Z",
     "start_time": "2023-10-15T09:09:31.661499Z"
    }
   },
   "outputs": [],
   "source": [
    "import pandas as pd\n",
    "import psutil\n",
    "import plotly.express as px\n",
    "import numpy as np\n",
    "import os\n",
    "import pickle\n",
    "from sklearn.model_selection import train_test_split\n",
    "from sklearn.ensemble import RandomForestClassifier\n",
    "from sklearn.metrics import confusion_matrix, ConfusionMatrixDisplay\n",
    "from sklearn.metrics import classification_report\n",
    "from sklearn.metrics import auc"
   ]
  },
  {
   "cell_type": "code",
   "execution_count": 3,
   "id": "3626338a",
   "metadata": {
    "ExecuteTime": {
     "end_time": "2023-10-15T09:09:35.170323Z",
     "start_time": "2023-10-15T09:09:35.158000Z"
    }
   },
   "outputs": [],
   "source": [
    "def usage():\n",
    "    total, available, percent, used, free_memory = psutil.virtual_memory()\n",
    "    print(\"Total Memory: \", total)\n",
    "    print(\"Available Memory: \", available)\n",
    "    print(\"Used percentage: \", percent)\n",
    "    print(\"Used Memory: \", used)\n",
    "    print(\"Free memoryu: \", free_memory)\n"
   ]
  },
  {
   "cell_type": "code",
   "execution_count": 4,
   "id": "45b5d094",
   "metadata": {
    "ExecuteTime": {
     "end_time": "2023-10-15T09:09:35.403634Z",
     "start_time": "2023-10-15T09:09:35.397149Z"
    }
   },
   "outputs": [
    {
     "name": "stdout",
     "output_type": "stream",
     "text": [
      "Total Memory:  34279374848\n",
      "Available Memory:  20583874560\n",
      "Used percentage:  40.0\n",
      "Used Memory:  13695500288\n",
      "Free memoryu:  20583874560\n"
     ]
    }
   ],
   "source": [
    "usage()"
   ]
  },
  {
   "cell_type": "code",
   "execution_count": 5,
   "id": "8f3258c0",
   "metadata": {
    "ExecuteTime": {
     "end_time": "2023-10-15T09:14:09.896770Z",
     "start_time": "2023-10-15T09:09:35.637761Z"
    }
   },
   "outputs": [
    {
     "name": "stdout",
     "output_type": "stream",
     "text": [
      "CPU times: total: 1min 42s\n",
      "Wall time: 4min 34s\n"
     ]
    },
    {
     "data": {
      "text/plain": [
       "(1972772, 583)"
      ]
     },
     "execution_count": 5,
     "metadata": {},
     "output_type": "execute_result"
    }
   ],
   "source": [
    "%%time\n",
    "\n",
    "# df = pd.read_csv(r\"D:\\Python\\btc\\dataset\\unzipeed\\BTCUSDT-1m\\BTCUSDT-1m.csv\")\n",
    "df = pd.read_csv(r\"D:\\KISHORE\\Binance-Data-Downloader\\data\\extracted_data\\BTCUSDT-1m\\BTCUSDT-1m.csv\")\n",
    "\n",
    "df.shape"
   ]
  },
  {
   "cell_type": "code",
   "execution_count": 6,
   "id": "2886ca88",
   "metadata": {
    "ExecuteTime": {
     "end_time": "2023-10-15T09:17:02.827178Z",
     "start_time": "2023-10-15T09:17:02.796678Z"
    }
   },
   "outputs": [],
   "source": [
    "import json\n",
    "\n",
    "with open (\"1m_columns.json\",\"r\") as fp:\n",
    "    one_m_columns = json.load(fp)\n",
    "    \n",
    "    "
   ]
  },
  {
   "cell_type": "code",
   "execution_count": 8,
   "id": "72c76c01",
   "metadata": {
    "ExecuteTime": {
     "end_time": "2023-10-15T09:17:16.147211Z",
     "start_time": "2023-10-15T09:17:16.129185Z"
    }
   },
   "outputs": [
    {
     "data": {
      "text/plain": [
       "573"
      ]
     },
     "execution_count": 8,
     "metadata": {},
     "output_type": "execute_result"
    }
   ],
   "source": [
    "len(one_m_columns)"
   ]
  },
  {
   "cell_type": "code",
   "execution_count": 9,
   "id": "0df46772",
   "metadata": {
    "ExecuteTime": {
     "end_time": "2023-10-15T09:17:47.981697Z",
     "start_time": "2023-10-15T09:17:47.963697Z"
    }
   },
   "outputs": [
    {
     "data": {
      "text/plain": [
       "{'count',\n",
       " 'dual_loss',\n",
       " 'entered_before',\n",
       " 'entry',\n",
       " 'if_long',\n",
       " 'if_short',\n",
       " 'long_stop_loss',\n",
       " 'long_target',\n",
       " 'longs_win_after',\n",
       " 'open_time',\n",
       " 'quote_volume',\n",
       " 'short_stop_loss',\n",
       " 'short_target',\n",
       " 'shorts_win_after',\n",
       " 'taker_buy_quote_volume',\n",
       " 'taker_buy_volume'}"
      ]
     },
     "execution_count": 9,
     "metadata": {},
     "output_type": "execute_result"
    }
   ],
   "source": [
    "set(df.columns) - set(one_m_columns)"
   ]
  },
  {
   "cell_type": "code",
   "execution_count": 10,
   "id": "fcf75a6b",
   "metadata": {
    "ExecuteTime": {
     "end_time": "2023-10-15T09:18:38.714330Z",
     "start_time": "2023-10-15T09:18:38.705277Z"
    }
   },
   "outputs": [
    {
     "data": {
      "text/plain": [
       "{'Taker_buy_quote_asset_volume',\n",
       " 'ignore',\n",
       " 'number_of_trades',\n",
       " 'quote_asset_volume',\n",
       " 'taker_buy_base_asset_volume',\n",
       " 'time'}"
      ]
     },
     "execution_count": 10,
     "metadata": {},
     "output_type": "execute_result"
    }
   ],
   "source": [
    "set(one_m_columns) - set(df.columns)"
   ]
  },
  {
   "cell_type": "code",
   "execution_count": 11,
   "id": "34605844",
   "metadata": {
    "ExecuteTime": {
     "end_time": "2023-10-15T09:20:06.863043Z",
     "start_time": "2023-10-15T09:20:06.843864Z"
    }
   },
   "outputs": [
    {
     "name": "stdout",
     "output_type": "stream",
     "text": [
      "open_time\n",
      "quote_volume\n",
      "count\n",
      "taker_buy_volume\n",
      "taker_buy_quote_volume\n",
      "entry\n",
      "if_short\n",
      "if_long\n",
      "long_target\n",
      "short_target\n",
      "long_stop_loss\n",
      "short_stop_loss\n",
      "shorts_win_after\n",
      "longs_win_after\n",
      "dual_loss\n",
      "entered_before\n"
     ]
    }
   ],
   "source": [
    "for col in df.columns:\n",
    "    if col not in one_m_columns:\n",
    "        print(col)"
   ]
  },
  {
   "cell_type": "code",
   "execution_count": 12,
   "id": "f46e1ecf",
   "metadata": {
    "ExecuteTime": {
     "end_time": "2023-10-15T09:21:31.144742Z",
     "start_time": "2023-10-15T09:21:31.132953Z"
    }
   },
   "outputs": [
    {
     "name": "stdout",
     "output_type": "stream",
     "text": [
      "time\n",
      "quote_asset_volume\n",
      "number_of_trades\n",
      "taker_buy_base_asset_volume\n",
      "Taker_buy_quote_asset_volume\n",
      "ignore\n"
     ]
    }
   ],
   "source": [
    "for col in one_m_columns:\n",
    "    if col not in df.columns:\n",
    "        print(col)"
   ]
  },
  {
   "cell_type": "code",
   "execution_count": 13,
   "id": "3244e182",
   "metadata": {
    "ExecuteTime": {
     "end_time": "2023-10-15T09:22:00.927430Z",
     "start_time": "2023-10-15T09:22:00.887812Z"
    }
   },
   "outputs": [
    {
     "data": {
      "text/html": [
       "<div>\n",
       "<style scoped>\n",
       "    .dataframe tbody tr th:only-of-type {\n",
       "        vertical-align: middle;\n",
       "    }\n",
       "\n",
       "    .dataframe tbody tr th {\n",
       "        vertical-align: top;\n",
       "    }\n",
       "\n",
       "    .dataframe thead th {\n",
       "        text-align: right;\n",
       "    }\n",
       "</style>\n",
       "<table border=\"1\" class=\"dataframe\">\n",
       "  <thead>\n",
       "    <tr style=\"text-align: right;\">\n",
       "      <th></th>\n",
       "      <th>open_time</th>\n",
       "      <th>open</th>\n",
       "      <th>high</th>\n",
       "      <th>low</th>\n",
       "      <th>close</th>\n",
       "      <th>volume</th>\n",
       "      <th>close_time</th>\n",
       "      <th>quote_volume</th>\n",
       "      <th>count</th>\n",
       "      <th>taker_buy_volume</th>\n",
       "      <th>...</th>\n",
       "      <th>PLUS_DM_233</th>\n",
       "      <th>ROC_233</th>\n",
       "      <th>ROCP_233</th>\n",
       "      <th>ROCR_233</th>\n",
       "      <th>ROCR100_233</th>\n",
       "      <th>RSI_233</th>\n",
       "      <th>ATR_233</th>\n",
       "      <th>NATR_233</th>\n",
       "      <th>BETA_233</th>\n",
       "      <th>CORREL_233</th>\n",
       "    </tr>\n",
       "  </thead>\n",
       "  <tbody>\n",
       "    <tr>\n",
       "      <th>0</th>\n",
       "      <td>2020-01-01 05:31:00+05:30</td>\n",
       "      <td>7182.43</td>\n",
       "      <td>7182.44</td>\n",
       "      <td>7178.75</td>\n",
       "      <td>7179.01</td>\n",
       "      <td>70.909</td>\n",
       "      <td>2020-01-01 05:31:59.999000+05:30</td>\n",
       "      <td>509145.78482</td>\n",
       "      <td>140</td>\n",
       "      <td>32.597</td>\n",
       "      <td>...</td>\n",
       "      <td>NaN</td>\n",
       "      <td>NaN</td>\n",
       "      <td>NaN</td>\n",
       "      <td>NaN</td>\n",
       "      <td>NaN</td>\n",
       "      <td>NaN</td>\n",
       "      <td>NaN</td>\n",
       "      <td>NaN</td>\n",
       "      <td>NaN</td>\n",
       "      <td>NaN</td>\n",
       "    </tr>\n",
       "    <tr>\n",
       "      <th>1</th>\n",
       "      <td>2020-01-01 05:32:00+05:30</td>\n",
       "      <td>7179.01</td>\n",
       "      <td>7179.01</td>\n",
       "      <td>7175.25</td>\n",
       "      <td>7177.93</td>\n",
       "      <td>99.420</td>\n",
       "      <td>2020-01-01 05:32:59.999000+05:30</td>\n",
       "      <td>713539.55348</td>\n",
       "      <td>148</td>\n",
       "      <td>16.311</td>\n",
       "      <td>...</td>\n",
       "      <td>NaN</td>\n",
       "      <td>NaN</td>\n",
       "      <td>NaN</td>\n",
       "      <td>NaN</td>\n",
       "      <td>NaN</td>\n",
       "      <td>NaN</td>\n",
       "      <td>NaN</td>\n",
       "      <td>NaN</td>\n",
       "      <td>NaN</td>\n",
       "      <td>NaN</td>\n",
       "    </tr>\n",
       "    <tr>\n",
       "      <th>2</th>\n",
       "      <td>2020-01-01 05:33:00+05:30</td>\n",
       "      <td>7177.77</td>\n",
       "      <td>7182.60</td>\n",
       "      <td>7177.00</td>\n",
       "      <td>7181.11</td>\n",
       "      <td>69.330</td>\n",
       "      <td>2020-01-01 05:33:59.999000+05:30</td>\n",
       "      <td>497793.35929</td>\n",
       "      <td>104</td>\n",
       "      <td>43.723</td>\n",
       "      <td>...</td>\n",
       "      <td>NaN</td>\n",
       "      <td>NaN</td>\n",
       "      <td>NaN</td>\n",
       "      <td>NaN</td>\n",
       "      <td>NaN</td>\n",
       "      <td>NaN</td>\n",
       "      <td>NaN</td>\n",
       "      <td>NaN</td>\n",
       "      <td>NaN</td>\n",
       "      <td>NaN</td>\n",
       "    </tr>\n",
       "    <tr>\n",
       "      <th>3</th>\n",
       "      <td>2020-01-01 05:34:00+05:30</td>\n",
       "      <td>7179.10</td>\n",
       "      <td>7179.10</td>\n",
       "      <td>7172.94</td>\n",
       "      <td>7175.25</td>\n",
       "      <td>97.368</td>\n",
       "      <td>2020-01-01 05:34:59.999000+05:30</td>\n",
       "      <td>698627.39382</td>\n",
       "      <td>193</td>\n",
       "      <td>36.616</td>\n",
       "      <td>...</td>\n",
       "      <td>NaN</td>\n",
       "      <td>NaN</td>\n",
       "      <td>NaN</td>\n",
       "      <td>NaN</td>\n",
       "      <td>NaN</td>\n",
       "      <td>NaN</td>\n",
       "      <td>NaN</td>\n",
       "      <td>NaN</td>\n",
       "      <td>NaN</td>\n",
       "      <td>NaN</td>\n",
       "    </tr>\n",
       "    <tr>\n",
       "      <th>4</th>\n",
       "      <td>2020-01-01 05:35:00+05:30</td>\n",
       "      <td>7174.71</td>\n",
       "      <td>7177.14</td>\n",
       "      <td>7173.28</td>\n",
       "      <td>7175.61</td>\n",
       "      <td>33.725</td>\n",
       "      <td>2020-01-01 05:35:59.999000+05:30</td>\n",
       "      <td>241979.50880</td>\n",
       "      <td>124</td>\n",
       "      <td>15.885</td>\n",
       "      <td>...</td>\n",
       "      <td>NaN</td>\n",
       "      <td>NaN</td>\n",
       "      <td>NaN</td>\n",
       "      <td>NaN</td>\n",
       "      <td>NaN</td>\n",
       "      <td>NaN</td>\n",
       "      <td>NaN</td>\n",
       "      <td>NaN</td>\n",
       "      <td>NaN</td>\n",
       "      <td>NaN</td>\n",
       "    </tr>\n",
       "  </tbody>\n",
       "</table>\n",
       "<p>5 rows × 583 columns</p>\n",
       "</div>"
      ],
      "text/plain": [
       "                   open_time     open     high      low    close  volume  \\\n",
       "0  2020-01-01 05:31:00+05:30  7182.43  7182.44  7178.75  7179.01  70.909   \n",
       "1  2020-01-01 05:32:00+05:30  7179.01  7179.01  7175.25  7177.93  99.420   \n",
       "2  2020-01-01 05:33:00+05:30  7177.77  7182.60  7177.00  7181.11  69.330   \n",
       "3  2020-01-01 05:34:00+05:30  7179.10  7179.10  7172.94  7175.25  97.368   \n",
       "4  2020-01-01 05:35:00+05:30  7174.71  7177.14  7173.28  7175.61  33.725   \n",
       "\n",
       "                         close_time  quote_volume  count  taker_buy_volume  \\\n",
       "0  2020-01-01 05:31:59.999000+05:30  509145.78482    140            32.597   \n",
       "1  2020-01-01 05:32:59.999000+05:30  713539.55348    148            16.311   \n",
       "2  2020-01-01 05:33:59.999000+05:30  497793.35929    104            43.723   \n",
       "3  2020-01-01 05:34:59.999000+05:30  698627.39382    193            36.616   \n",
       "4  2020-01-01 05:35:59.999000+05:30  241979.50880    124            15.885   \n",
       "\n",
       "   ...  PLUS_DM_233  ROC_233  ROCP_233  ROCR_233  ROCR100_233  RSI_233  \\\n",
       "0  ...          NaN      NaN       NaN       NaN          NaN      NaN   \n",
       "1  ...          NaN      NaN       NaN       NaN          NaN      NaN   \n",
       "2  ...          NaN      NaN       NaN       NaN          NaN      NaN   \n",
       "3  ...          NaN      NaN       NaN       NaN          NaN      NaN   \n",
       "4  ...          NaN      NaN       NaN       NaN          NaN      NaN   \n",
       "\n",
       "   ATR_233  NATR_233  BETA_233  CORREL_233  \n",
       "0      NaN       NaN       NaN         NaN  \n",
       "1      NaN       NaN       NaN         NaN  \n",
       "2      NaN       NaN       NaN         NaN  \n",
       "3      NaN       NaN       NaN         NaN  \n",
       "4      NaN       NaN       NaN         NaN  \n",
       "\n",
       "[5 rows x 583 columns]"
      ]
     },
     "execution_count": 13,
     "metadata": {},
     "output_type": "execute_result"
    }
   ],
   "source": [
    "df.head()"
   ]
  },
  {
   "cell_type": "code",
   "execution_count": null,
   "id": "91b2c436",
   "metadata": {},
   "outputs": [],
   "source": []
  },
  {
   "cell_type": "code",
   "execution_count": 5,
   "id": "88fc42ed",
   "metadata": {},
   "outputs": [
    {
     "name": "stdout",
     "output_type": "stream",
     "text": [
      "Total Memory:  16952647680\n",
      "Available Memory:  5890265088\n",
      "Used percentage:  65.3\n",
      "Used Memory:  11062382592\n",
      "Free memoryu:  5890265088\n"
     ]
    }
   ],
   "source": [
    "usage()"
   ]
  },
  {
   "cell_type": "code",
   "execution_count": 5,
   "id": "18b0028e",
   "metadata": {},
   "outputs": [
    {
     "data": {
      "text/plain": [
       "Index(['open_time', 'open', 'high', 'low', 'close', 'volume', 'close_time',\n",
       "       'quote_volume', 'count', 'taker_buy_volume',\n",
       "       ...\n",
       "       'PLUS_DM_233', 'ROC_233', 'ROCP_233', 'ROCR_233', 'ROCR100_233',\n",
       "       'RSI_233', 'ATR_233', 'NATR_233', 'BETA_233', 'CORREL_233'],\n",
       "      dtype='object', length=583)"
      ]
     },
     "execution_count": 5,
     "metadata": {},
     "output_type": "execute_result"
    }
   ],
   "source": [
    "df.columns"
   ]
  },
  {
   "cell_type": "code",
   "execution_count": 6,
   "id": "5a614f90",
   "metadata": {},
   "outputs": [
    {
     "data": {
      "text/plain": [
       "Index(['open_time', 'close_time'], dtype='object')"
      ]
     },
     "execution_count": 6,
     "metadata": {},
     "output_type": "execute_result"
    }
   ],
   "source": [
    "df.select_dtypes(include=\"object\").columns"
   ]
  },
  {
   "cell_type": "code",
   "execution_count": 7,
   "id": "86b62bb8",
   "metadata": {},
   "outputs": [],
   "source": [
    "df.drop([\"open_time\", \"close_time\"], axis=1, inplace=True)"
   ]
  },
  {
   "cell_type": "code",
   "execution_count": 8,
   "id": "d0810d0e",
   "metadata": {},
   "outputs": [],
   "source": [
    "df.drop([\"entered_before\", \"longs_win_after\", \"shorts_win_after\"], axis=1, inplace=True)"
   ]
  },
  {
   "cell_type": "code",
   "execution_count": 9,
   "id": "ba6dda42",
   "metadata": {},
   "outputs": [],
   "source": [
    "df.replace(np.nan, -500, inplace=True)"
   ]
  },
  {
   "cell_type": "code",
   "execution_count": 10,
   "id": "8de96bf9",
   "metadata": {},
   "outputs": [
    {
     "data": {
      "text/plain": [
       "if_long\n",
       "-1    1280470\n",
       " 1     692222\n",
       " 0         80\n",
       "Name: count, dtype: int64"
      ]
     },
     "execution_count": 10,
     "metadata": {},
     "output_type": "execute_result"
    }
   ],
   "source": [
    "df.if_long.value_counts()"
   ]
  },
  {
   "cell_type": "code",
   "execution_count": 11,
   "id": "6784bdcd",
   "metadata": {},
   "outputs": [],
   "source": [
    "df[\"if_long\"] = df[\"if_long\"].replace(-1, 0)"
   ]
  },
  {
   "cell_type": "code",
   "execution_count": 12,
   "id": "7cb4c15a",
   "metadata": {},
   "outputs": [
    {
     "data": {
      "text/plain": [
       "if_long\n",
       "0    1280550\n",
       "1     692222\n",
       "Name: count, dtype: int64"
      ]
     },
     "execution_count": 12,
     "metadata": {},
     "output_type": "execute_result"
    }
   ],
   "source": [
    "df.if_long.value_counts()"
   ]
  },
  {
   "cell_type": "code",
   "execution_count": 13,
   "id": "6e3da404",
   "metadata": {},
   "outputs": [],
   "source": [
    "df[\"if_short\"] = df[\"if_short\"].replace(-1, 0)"
   ]
  },
  {
   "cell_type": "code",
   "execution_count": 14,
   "id": "a990660e",
   "metadata": {},
   "outputs": [
    {
     "data": {
      "text/plain": [
       "if_short\n",
       "0    1275151\n",
       "1     697621\n",
       "Name: count, dtype: int64"
      ]
     },
     "execution_count": 14,
     "metadata": {},
     "output_type": "execute_result"
    }
   ],
   "source": [
    "df.if_short.value_counts()"
   ]
  },
  {
   "cell_type": "markdown",
   "id": "cea123ec",
   "metadata": {},
   "source": [
    "### Long model"
   ]
  },
  {
   "cell_type": "code",
   "execution_count": 15,
   "id": "6f8451b5",
   "metadata": {},
   "outputs": [],
   "source": [
    "df = df.drop(\"if_short\", axis=1)"
   ]
  },
  {
   "cell_type": "code",
   "execution_count": 16,
   "id": "c497f384",
   "metadata": {
    "ExecuteTime": {
     "end_time": "2023-08-20T19:54:51.200891Z",
     "start_time": "2023-08-20T19:54:51.185778Z"
    }
   },
   "outputs": [],
   "source": [
    "long_y = df[\"if_long\"]"
   ]
  },
  {
   "cell_type": "code",
   "execution_count": 17,
   "id": "4ba2f712",
   "metadata": {
    "ExecuteTime": {
     "end_time": "2023-08-20T19:54:52.725809Z",
     "start_time": "2023-08-20T19:54:51.201892Z"
    }
   },
   "outputs": [],
   "source": [
    "df = df.drop(\"if_long\", axis=1)"
   ]
  },
  {
   "cell_type": "code",
   "execution_count": 18,
   "id": "18f99118",
   "metadata": {
    "ExecuteTime": {
     "end_time": "2023-08-20T19:55:20.255013Z",
     "start_time": "2023-08-20T19:54:52.727810Z"
    }
   },
   "outputs": [],
   "source": [
    "X_train, X_test, y_train, y_test = train_test_split(df, long_y, test_size=0.3)"
   ]
  },
  {
   "cell_type": "code",
   "execution_count": 20,
   "id": "0d24507e",
   "metadata": {},
   "outputs": [
    {
     "name": "stdout",
     "output_type": "stream",
     "text": [
      "Total Memory:  16952647680\n",
      "Available Memory:  8574742528\n",
      "Used percentage:  49.4\n",
      "Used Memory:  8377905152\n",
      "Free memoryu:  8574742528\n"
     ]
    }
   ],
   "source": [
    "usage()"
   ]
  },
  {
   "cell_type": "code",
   "execution_count": 21,
   "id": "d97edfa1",
   "metadata": {},
   "outputs": [],
   "source": [
    "del df\n",
    "del long_y"
   ]
  },
  {
   "cell_type": "code",
   "execution_count": 22,
   "id": "666ec81a",
   "metadata": {},
   "outputs": [
    {
     "name": "stdout",
     "output_type": "stream",
     "text": [
      "Total Memory:  16952647680\n",
      "Available Memory:  11075399680\n",
      "Used percentage:  34.7\n",
      "Used Memory:  5877248000\n",
      "Free memoryu:  11075399680\n"
     ]
    }
   ],
   "source": [
    "usage()"
   ]
  },
  {
   "cell_type": "code",
   "execution_count": 23,
   "id": "0464aeb9",
   "metadata": {},
   "outputs": [],
   "source": [
    "long_clf = RandomForestClassifier(max_depth=100, random_state=0)"
   ]
  },
  {
   "cell_type": "code",
   "execution_count": 24,
   "id": "7641f091",
   "metadata": {},
   "outputs": [
    {
     "name": "stdout",
     "output_type": "stream",
     "text": [
      "CPU times: total: 3h 1min 19s\n",
      "Wall time: 3h 59min 48s\n"
     ]
    },
    {
     "data": {
      "text/html": [
       "<style>#sk-container-id-1 {color: black;}#sk-container-id-1 pre{padding: 0;}#sk-container-id-1 div.sk-toggleable {background-color: white;}#sk-container-id-1 label.sk-toggleable__label {cursor: pointer;display: block;width: 100%;margin-bottom: 0;padding: 0.3em;box-sizing: border-box;text-align: center;}#sk-container-id-1 label.sk-toggleable__label-arrow:before {content: \"▸\";float: left;margin-right: 0.25em;color: #696969;}#sk-container-id-1 label.sk-toggleable__label-arrow:hover:before {color: black;}#sk-container-id-1 div.sk-estimator:hover label.sk-toggleable__label-arrow:before {color: black;}#sk-container-id-1 div.sk-toggleable__content {max-height: 0;max-width: 0;overflow: hidden;text-align: left;background-color: #f0f8ff;}#sk-container-id-1 div.sk-toggleable__content pre {margin: 0.2em;color: black;border-radius: 0.25em;background-color: #f0f8ff;}#sk-container-id-1 input.sk-toggleable__control:checked~div.sk-toggleable__content {max-height: 200px;max-width: 100%;overflow: auto;}#sk-container-id-1 input.sk-toggleable__control:checked~label.sk-toggleable__label-arrow:before {content: \"▾\";}#sk-container-id-1 div.sk-estimator input.sk-toggleable__control:checked~label.sk-toggleable__label {background-color: #d4ebff;}#sk-container-id-1 div.sk-label input.sk-toggleable__control:checked~label.sk-toggleable__label {background-color: #d4ebff;}#sk-container-id-1 input.sk-hidden--visually {border: 0;clip: rect(1px 1px 1px 1px);clip: rect(1px, 1px, 1px, 1px);height: 1px;margin: -1px;overflow: hidden;padding: 0;position: absolute;width: 1px;}#sk-container-id-1 div.sk-estimator {font-family: monospace;background-color: #f0f8ff;border: 1px dotted black;border-radius: 0.25em;box-sizing: border-box;margin-bottom: 0.5em;}#sk-container-id-1 div.sk-estimator:hover {background-color: #d4ebff;}#sk-container-id-1 div.sk-parallel-item::after {content: \"\";width: 100%;border-bottom: 1px solid gray;flex-grow: 1;}#sk-container-id-1 div.sk-label:hover label.sk-toggleable__label {background-color: #d4ebff;}#sk-container-id-1 div.sk-serial::before {content: \"\";position: absolute;border-left: 1px solid gray;box-sizing: border-box;top: 0;bottom: 0;left: 50%;z-index: 0;}#sk-container-id-1 div.sk-serial {display: flex;flex-direction: column;align-items: center;background-color: white;padding-right: 0.2em;padding-left: 0.2em;position: relative;}#sk-container-id-1 div.sk-item {position: relative;z-index: 1;}#sk-container-id-1 div.sk-parallel {display: flex;align-items: stretch;justify-content: center;background-color: white;position: relative;}#sk-container-id-1 div.sk-item::before, #sk-container-id-1 div.sk-parallel-item::before {content: \"\";position: absolute;border-left: 1px solid gray;box-sizing: border-box;top: 0;bottom: 0;left: 50%;z-index: -1;}#sk-container-id-1 div.sk-parallel-item {display: flex;flex-direction: column;z-index: 1;position: relative;background-color: white;}#sk-container-id-1 div.sk-parallel-item:first-child::after {align-self: flex-end;width: 50%;}#sk-container-id-1 div.sk-parallel-item:last-child::after {align-self: flex-start;width: 50%;}#sk-container-id-1 div.sk-parallel-item:only-child::after {width: 0;}#sk-container-id-1 div.sk-dashed-wrapped {border: 1px dashed gray;margin: 0 0.4em 0.5em 0.4em;box-sizing: border-box;padding-bottom: 0.4em;background-color: white;}#sk-container-id-1 div.sk-label label {font-family: monospace;font-weight: bold;display: inline-block;line-height: 1.2em;}#sk-container-id-1 div.sk-label-container {text-align: center;}#sk-container-id-1 div.sk-container {/* jupyter's `normalize.less` sets `[hidden] { display: none; }` but bootstrap.min.css set `[hidden] { display: none !important; }` so we also need the `!important` here to be able to override the default hidden behavior on the sphinx rendered scikit-learn.org. See: https://github.com/scikit-learn/scikit-learn/issues/21755 */display: inline-block !important;position: relative;}#sk-container-id-1 div.sk-text-repr-fallback {display: none;}</style><div id=\"sk-container-id-1\" class=\"sk-top-container\"><div class=\"sk-text-repr-fallback\"><pre>RandomForestClassifier(max_depth=100, random_state=0)</pre><b>In a Jupyter environment, please rerun this cell to show the HTML representation or trust the notebook. <br />On GitHub, the HTML representation is unable to render, please try loading this page with nbviewer.org.</b></div><div class=\"sk-container\" hidden><div class=\"sk-item\"><div class=\"sk-estimator sk-toggleable\"><input class=\"sk-toggleable__control sk-hidden--visually\" id=\"sk-estimator-id-1\" type=\"checkbox\" checked><label for=\"sk-estimator-id-1\" class=\"sk-toggleable__label sk-toggleable__label-arrow\">RandomForestClassifier</label><div class=\"sk-toggleable__content\"><pre>RandomForestClassifier(max_depth=100, random_state=0)</pre></div></div></div></div></div>"
      ],
      "text/plain": [
       "RandomForestClassifier(max_depth=100, random_state=0)"
      ]
     },
     "execution_count": 24,
     "metadata": {},
     "output_type": "execute_result"
    }
   ],
   "source": [
    "%%time\n",
    "\n",
    "long_clf.fit(X_train, y_train)"
   ]
  },
  {
   "cell_type": "code",
   "execution_count": 25,
   "id": "38aacf9b",
   "metadata": {},
   "outputs": [],
   "source": [
    "import pickle\n",
    "\n",
    "# Save the model to a file\n",
    "with open(\"long_clf_100923.pkl\", \"wb\") as f:\n",
    "    pickle.dump(long_clf, f)"
   ]
  },
  {
   "cell_type": "code",
   "execution_count": 27,
   "id": "e81014ce",
   "metadata": {},
   "outputs": [],
   "source": [
    "y_pred = long_clf.predict(X_test)"
   ]
  },
  {
   "cell_type": "code",
   "execution_count": 28,
   "id": "acf5d616",
   "metadata": {},
   "outputs": [
    {
     "data": {
      "text/plain": [
       "0.8988969842793225"
      ]
     },
     "execution_count": 28,
     "metadata": {},
     "output_type": "execute_result"
    }
   ],
   "source": [
    "long_clf.score(X_test, y_test)"
   ]
  },
  {
   "cell_type": "code",
   "execution_count": 29,
   "id": "551a42c0",
   "metadata": {},
   "outputs": [],
   "source": [
    "cm = confusion_matrix(y_test, y_pred, labels=long_clf.classes_)"
   ]
  },
  {
   "cell_type": "code",
   "execution_count": 30,
   "id": "b498d21a",
   "metadata": {},
   "outputs": [
    {
     "data": {
      "text/plain": [
       "array([[377706,   6921],\n",
       "       [ 52915, 154290]], dtype=int64)"
      ]
     },
     "execution_count": 30,
     "metadata": {},
     "output_type": "execute_result"
    }
   ],
   "source": [
    "cm"
   ]
  },
  {
   "cell_type": "code",
   "execution_count": 31,
   "id": "63a98ce5",
   "metadata": {},
   "outputs": [
    {
     "data": {
      "text/plain": [
       "<sklearn.metrics._plot.confusion_matrix.ConfusionMatrixDisplay at 0x21a65dcffd0>"
      ]
     },
     "execution_count": 31,
     "metadata": {},
     "output_type": "execute_result"
    },
    {
     "data": {
      "image/png": "[encoded data removed]",
      "text/plain": [
       "<Figure size 640x480 with 2 Axes>"
      ]
     },
     "metadata": {},
     "output_type": "display_data"
    }
   ],
   "source": [
    "disp = ConfusionMatrixDisplay(confusion_matrix=cm,display_labels=long_clf.classes_)\n",
    "\n",
    "disp.plot()\n"
   ]
  },
  {
   "cell_type": "code",
   "execution_count": 32,
   "id": "7b98ac56",
   "metadata": {},
   "outputs": [
    {
     "name": "stdout",
     "output_type": "stream",
     "text": [
      "              precision    recall  f1-score   support\n",
      "\n",
      "           0       0.88      0.98      0.93    384627\n",
      "           1       0.96      0.74      0.84    207205\n",
      "\n",
      "    accuracy                           0.90    591832\n",
      "   macro avg       0.92      0.86      0.88    591832\n",
      "weighted avg       0.91      0.90      0.90    591832\n",
      "\n"
     ]
    }
   ],
   "source": [
    "print(classification_report(y_test, y_pred))"
   ]
  },
  {
   "cell_type": "code",
   "execution_count": 33,
   "id": "a58892e6",
   "metadata": {},
   "outputs": [
    {
     "name": "stderr",
     "output_type": "stream",
     "text": [
      "No artists with labels found to put in legend.  Note that artists whose label start with an underscore are ignored when legend() is called with no argument.\n"
     ]
    },
    {
     "data": {
      "image/png": "[encoded data removed]",
      "text/plain": [
       "<Figure size 640x480 with 1 Axes>"
      ]
     },
     "metadata": {},
     "output_type": "display_data"
    }
   ],
   "source": [
    "from sklearn.metrics import roc_curve\n",
    "from sklearn.metrics import RocCurveDisplay\n",
    "\n",
    "fpr, tpr, _ = roc_curve(y_test, y_pred, pos_label=long_clf.classes_[1])\n",
    "roc_display = RocCurveDisplay(fpr=fpr, tpr=tpr).plot()"
   ]
  },
  {
   "cell_type": "code",
   "execution_count": null,
   "id": "8946533e",
   "metadata": {},
   "outputs": [],
   "source": []
  }
 ],
 "metadata": {
  "kernelspec": {
   "display_name": "Python 3 (ipykernel)",
   "language": "python",
   "name": "python3"
  },
  "language_info": {
   "codemirror_mode": {
    "name": "ipython",
    "version": 3
   },
   "file_extension": ".py",
   "mimetype": "text/x-python",
   "name": "python",
   "nbconvert_exporter": "python",
   "pygments_lexer": "ipython3",
   "version": "3.9.12"
  }
 },
 "nbformat": 4,
 "nbformat_minor": 5
}
