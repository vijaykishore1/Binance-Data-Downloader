{
 "cells": [
  {
   "cell_type": "code",
   "execution_count": 1,
   "metadata": {
    "ExecuteTime": {
     "end_time": "2023-01-18T14:10:39.181420Z",
     "start_time": "2023-01-18T14:10:36.476660Z"
    }
   },
   "outputs": [],
   "source": [
    "import pandas as pd\n",
    "import plotly.express as px\n",
    "import numpy as np\n",
    "from constants import download_dir, output_dir\n",
    "from sklearn.model_selection import train_test_split\n",
    "from sklearn.ensemble import RandomForestClassifier\n",
    "from sklearn.metrics import confusion_matrix, ConfusionMatrixDisplay\n",
    "from sklearn.metrics import classification_report\n",
    "from sklearn.metrics import auc"
   ]
  },
  {
   "cell_type": "code",
   "execution_count": 135,
   "metadata": {
    "ExecuteTime": {
     "end_time": "2023-01-18T14:36:31.324576Z",
     "start_time": "2023-01-18T14:36:31.314564Z"
    }
   },
   "outputs": [
    {
     "name": "stdout",
     "output_type": "stream",
     "text": [
      "D:\\KISHORE\\Binance-Data-Downloader\\extracted_data\n",
      "D:\\KISHORE\\Binance-Data-Downloader\\extracted_data\\BTCUSDT-15m-monthly_data\\BTCUSDT-15m.csv\n"
     ]
    }
   ],
   "source": [
    "import os\n",
    "os.getcwd()\n",
    "print(output_dir)\n",
    "path_monthly = os.path.join(output_dir,\"BTCUSDT-1m-monthly_data\",\"BTCUSDT-1m.csv\")\n",
    "path_daily = os.path.join(output_dir,\"BTCUSDT-1m-daily_data\",\"BTCUSDT-1m.csv\")\n",
    "print(one_min_path)"
   ]
  },
  {
   "cell_type": "code",
   "execution_count": 157,
   "metadata": {
    "ExecuteTime": {
     "end_time": "2023-01-18T15:08:27.767111Z",
     "start_time": "2023-01-18T15:08:27.090234Z"
    }
   },
   "outputs": [],
   "source": [
    "df = pd.read_csv(path_daily)"
   ]
  },
  {
   "cell_type": "code",
   "execution_count": 158,
   "metadata": {
    "ExecuteTime": {
     "end_time": "2023-01-18T15:08:27.782890Z",
     "start_time": "2023-01-18T15:08:27.768111Z"
    }
   },
   "outputs": [
    {
     "data": {
      "text/plain": [
       "(24480, 152)"
      ]
     },
     "execution_count": 158,
     "metadata": {},
     "output_type": "execute_result"
    }
   ],
   "source": [
    "df.shape"
   ]
  },
  {
   "cell_type": "code",
   "execution_count": 159,
   "metadata": {
    "ExecuteTime": {
     "end_time": "2023-01-18T15:08:27.813950Z",
     "start_time": "2023-01-18T15:08:27.783891Z"
    }
   },
   "outputs": [
    {
     "data": {
      "text/html": [
       "<div>\n",
       "<style scoped>\n",
       "    .dataframe tbody tr th:only-of-type {\n",
       "        vertical-align: middle;\n",
       "    }\n",
       "\n",
       "    .dataframe tbody tr th {\n",
       "        vertical-align: top;\n",
       "    }\n",
       "\n",
       "    .dataframe thead th {\n",
       "        text-align: right;\n",
       "    }\n",
       "</style>\n",
       "<table border=\"1\" class=\"dataframe\">\n",
       "  <thead>\n",
       "    <tr style=\"text-align: right;\">\n",
       "      <th></th>\n",
       "      <th>open_time</th>\n",
       "      <th>open</th>\n",
       "      <th>high</th>\n",
       "      <th>low</th>\n",
       "      <th>close</th>\n",
       "      <th>volume</th>\n",
       "      <th>close_time</th>\n",
       "      <th>quote_volume</th>\n",
       "      <th>count</th>\n",
       "      <th>taker_buy_volume</th>\n",
       "      <th>...</th>\n",
       "      <th>CDLUPSIDEGAP2CROWS</th>\n",
       "      <th>CDLXSIDEGAP3METHODS</th>\n",
       "      <th>BETA</th>\n",
       "      <th>CORREL</th>\n",
       "      <th>LINEARREG</th>\n",
       "      <th>LINEARREG_ANGLE</th>\n",
       "      <th>LINEARREG_INTERCEPT</th>\n",
       "      <th>LINEARREG_SLOPE</th>\n",
       "      <th>TSF</th>\n",
       "      <th>VAR</th>\n",
       "    </tr>\n",
       "  </thead>\n",
       "  <tbody>\n",
       "    <tr>\n",
       "      <th>0</th>\n",
       "      <td>2023-01-01 05:30:00+05:30</td>\n",
       "      <td>16537.5</td>\n",
       "      <td>16538.0</td>\n",
       "      <td>16534.3</td>\n",
       "      <td>16538.0</td>\n",
       "      <td>170.576</td>\n",
       "      <td>2023-01-01 05:30:59.999000+05:30</td>\n",
       "      <td>2.820697e+06</td>\n",
       "      <td>946</td>\n",
       "      <td>103.782</td>\n",
       "      <td>...</td>\n",
       "      <td>0</td>\n",
       "      <td>0</td>\n",
       "      <td>NaN</td>\n",
       "      <td>NaN</td>\n",
       "      <td>NaN</td>\n",
       "      <td>NaN</td>\n",
       "      <td>NaN</td>\n",
       "      <td>NaN</td>\n",
       "      <td>NaN</td>\n",
       "      <td>NaN</td>\n",
       "    </tr>\n",
       "    <tr>\n",
       "      <th>1</th>\n",
       "      <td>2023-01-01 05:31:00+05:30</td>\n",
       "      <td>16538.0</td>\n",
       "      <td>16538.0</td>\n",
       "      <td>16534.9</td>\n",
       "      <td>16534.9</td>\n",
       "      <td>44.287</td>\n",
       "      <td>2023-01-01 05:31:59.999000+05:30</td>\n",
       "      <td>7.323633e+05</td>\n",
       "      <td>570</td>\n",
       "      <td>19.098</td>\n",
       "      <td>...</td>\n",
       "      <td>0</td>\n",
       "      <td>0</td>\n",
       "      <td>NaN</td>\n",
       "      <td>NaN</td>\n",
       "      <td>NaN</td>\n",
       "      <td>NaN</td>\n",
       "      <td>NaN</td>\n",
       "      <td>NaN</td>\n",
       "      <td>NaN</td>\n",
       "      <td>NaN</td>\n",
       "    </tr>\n",
       "    <tr>\n",
       "      <th>2</th>\n",
       "      <td>2023-01-01 05:32:00+05:30</td>\n",
       "      <td>16534.9</td>\n",
       "      <td>16535.0</td>\n",
       "      <td>16531.3</td>\n",
       "      <td>16531.4</td>\n",
       "      <td>100.228</td>\n",
       "      <td>2023-01-01 05:32:59.999000+05:30</td>\n",
       "      <td>1.657072e+06</td>\n",
       "      <td>456</td>\n",
       "      <td>21.026</td>\n",
       "      <td>...</td>\n",
       "      <td>0</td>\n",
       "      <td>0</td>\n",
       "      <td>NaN</td>\n",
       "      <td>NaN</td>\n",
       "      <td>NaN</td>\n",
       "      <td>NaN</td>\n",
       "      <td>NaN</td>\n",
       "      <td>NaN</td>\n",
       "      <td>NaN</td>\n",
       "      <td>NaN</td>\n",
       "    </tr>\n",
       "    <tr>\n",
       "      <th>3</th>\n",
       "      <td>2023-01-01 05:33:00+05:30</td>\n",
       "      <td>16531.4</td>\n",
       "      <td>16531.4</td>\n",
       "      <td>16526.6</td>\n",
       "      <td>16526.9</td>\n",
       "      <td>317.879</td>\n",
       "      <td>2023-01-01 05:33:59.999000+05:30</td>\n",
       "      <td>5.254048e+06</td>\n",
       "      <td>980</td>\n",
       "      <td>79.937</td>\n",
       "      <td>...</td>\n",
       "      <td>0</td>\n",
       "      <td>0</td>\n",
       "      <td>NaN</td>\n",
       "      <td>NaN</td>\n",
       "      <td>NaN</td>\n",
       "      <td>NaN</td>\n",
       "      <td>NaN</td>\n",
       "      <td>NaN</td>\n",
       "      <td>NaN</td>\n",
       "      <td>NaN</td>\n",
       "    </tr>\n",
       "    <tr>\n",
       "      <th>4</th>\n",
       "      <td>2023-01-01 05:34:00+05:30</td>\n",
       "      <td>16527.0</td>\n",
       "      <td>16529.3</td>\n",
       "      <td>16523.0</td>\n",
       "      <td>16529.2</td>\n",
       "      <td>211.281</td>\n",
       "      <td>2023-01-01 05:34:59.999000+05:30</td>\n",
       "      <td>3.491635e+06</td>\n",
       "      <td>1113</td>\n",
       "      <td>79.049</td>\n",
       "      <td>...</td>\n",
       "      <td>0</td>\n",
       "      <td>0</td>\n",
       "      <td>NaN</td>\n",
       "      <td>NaN</td>\n",
       "      <td>NaN</td>\n",
       "      <td>NaN</td>\n",
       "      <td>NaN</td>\n",
       "      <td>NaN</td>\n",
       "      <td>NaN</td>\n",
       "      <td>15.7176</td>\n",
       "    </tr>\n",
       "  </tbody>\n",
       "</table>\n",
       "<p>5 rows × 152 columns</p>\n",
       "</div>"
      ],
      "text/plain": [
       "                   open_time     open     high      low    close   volume  \\\n",
       "0  2023-01-01 05:30:00+05:30  16537.5  16538.0  16534.3  16538.0  170.576   \n",
       "1  2023-01-01 05:31:00+05:30  16538.0  16538.0  16534.9  16534.9   44.287   \n",
       "2  2023-01-01 05:32:00+05:30  16534.9  16535.0  16531.3  16531.4  100.228   \n",
       "3  2023-01-01 05:33:00+05:30  16531.4  16531.4  16526.6  16526.9  317.879   \n",
       "4  2023-01-01 05:34:00+05:30  16527.0  16529.3  16523.0  16529.2  211.281   \n",
       "\n",
       "                         close_time  quote_volume  count  taker_buy_volume  \\\n",
       "0  2023-01-01 05:30:59.999000+05:30  2.820697e+06    946           103.782   \n",
       "1  2023-01-01 05:31:59.999000+05:30  7.323633e+05    570            19.098   \n",
       "2  2023-01-01 05:32:59.999000+05:30  1.657072e+06    456            21.026   \n",
       "3  2023-01-01 05:33:59.999000+05:30  5.254048e+06    980            79.937   \n",
       "4  2023-01-01 05:34:59.999000+05:30  3.491635e+06   1113            79.049   \n",
       "\n",
       "   ...  CDLUPSIDEGAP2CROWS  CDLXSIDEGAP3METHODS  BETA  CORREL  LINEARREG  \\\n",
       "0  ...                   0                    0   NaN     NaN        NaN   \n",
       "1  ...                   0                    0   NaN     NaN        NaN   \n",
       "2  ...                   0                    0   NaN     NaN        NaN   \n",
       "3  ...                   0                    0   NaN     NaN        NaN   \n",
       "4  ...                   0                    0   NaN     NaN        NaN   \n",
       "\n",
       "   LINEARREG_ANGLE  LINEARREG_INTERCEPT  LINEARREG_SLOPE  TSF      VAR  \n",
       "0              NaN                  NaN              NaN  NaN      NaN  \n",
       "1              NaN                  NaN              NaN  NaN      NaN  \n",
       "2              NaN                  NaN              NaN  NaN      NaN  \n",
       "3              NaN                  NaN              NaN  NaN      NaN  \n",
       "4              NaN                  NaN              NaN  NaN  15.7176  \n",
       "\n",
       "[5 rows x 152 columns]"
      ]
     },
     "execution_count": 159,
     "metadata": {},
     "output_type": "execute_result"
    }
   ],
   "source": [
    "df.head()"
   ]
  },
  {
   "cell_type": "code",
   "execution_count": 160,
   "metadata": {
    "ExecuteTime": {
     "end_time": "2023-01-18T15:08:28.002002Z",
     "start_time": "2023-01-18T15:08:27.814950Z"
    }
   },
   "outputs": [
    {
     "data": {
      "text/html": [
       "<div>\n",
       "<style scoped>\n",
       "    .dataframe tbody tr th:only-of-type {\n",
       "        vertical-align: middle;\n",
       "    }\n",
       "\n",
       "    .dataframe tbody tr th {\n",
       "        vertical-align: top;\n",
       "    }\n",
       "\n",
       "    .dataframe thead th {\n",
       "        text-align: right;\n",
       "    }\n",
       "</style>\n",
       "<table border=\"1\" class=\"dataframe\">\n",
       "  <thead>\n",
       "    <tr style=\"text-align: right;\">\n",
       "      <th></th>\n",
       "      <th>open</th>\n",
       "      <th>high</th>\n",
       "      <th>low</th>\n",
       "      <th>close</th>\n",
       "      <th>volume</th>\n",
       "      <th>quote_volume</th>\n",
       "      <th>count</th>\n",
       "      <th>taker_buy_volume</th>\n",
       "      <th>taker_buy_quote_volume</th>\n",
       "      <th>entry</th>\n",
       "      <th>...</th>\n",
       "      <th>CDLUPSIDEGAP2CROWS</th>\n",
       "      <th>CDLXSIDEGAP3METHODS</th>\n",
       "      <th>BETA</th>\n",
       "      <th>CORREL</th>\n",
       "      <th>LINEARREG</th>\n",
       "      <th>LINEARREG_ANGLE</th>\n",
       "      <th>LINEARREG_INTERCEPT</th>\n",
       "      <th>LINEARREG_SLOPE</th>\n",
       "      <th>TSF</th>\n",
       "      <th>VAR</th>\n",
       "    </tr>\n",
       "  </thead>\n",
       "  <tbody>\n",
       "    <tr>\n",
       "      <th>count</th>\n",
       "      <td>24480.000000</td>\n",
       "      <td>24480.000000</td>\n",
       "      <td>24480.000000</td>\n",
       "      <td>24480.000000</td>\n",
       "      <td>24480.000000</td>\n",
       "      <td>2.448000e+04</td>\n",
       "      <td>24480.000000</td>\n",
       "      <td>24480.000000</td>\n",
       "      <td>2.448000e+04</td>\n",
       "      <td>24479.000000</td>\n",
       "      <td>...</td>\n",
       "      <td>24480.0</td>\n",
       "      <td>24480.000000</td>\n",
       "      <td>24475.000000</td>\n",
       "      <td>24451.000000</td>\n",
       "      <td>24467.000000</td>\n",
       "      <td>24467.000000</td>\n",
       "      <td>24467.000000</td>\n",
       "      <td>24467.000000</td>\n",
       "      <td>24467.000000</td>\n",
       "      <td>24476.000000</td>\n",
       "    </tr>\n",
       "    <tr>\n",
       "      <th>mean</th>\n",
       "      <td>18086.440617</td>\n",
       "      <td>18091.517851</td>\n",
       "      <td>18081.866074</td>\n",
       "      <td>18086.629967</td>\n",
       "      <td>293.554963</td>\n",
       "      <td>5.554721e+06</td>\n",
       "      <td>1481.687745</td>\n",
       "      <td>149.059461</td>\n",
       "      <td>2.820014e+06</td>\n",
       "      <td>18086.505605</td>\n",
       "      <td>...</td>\n",
       "      <td>0.0</td>\n",
       "      <td>0.024510</td>\n",
       "      <td>0.417566</td>\n",
       "      <td>0.896224</td>\n",
       "      <td>18087.459010</td>\n",
       "      <td>3.401285</td>\n",
       "      <td>18085.003183</td>\n",
       "      <td>0.188910</td>\n",
       "      <td>18087.647920</td>\n",
       "      <td>115.761508</td>\n",
       "    </tr>\n",
       "    <tr>\n",
       "      <th>std</th>\n",
       "      <td>1717.391901</td>\n",
       "      <td>1721.448267</td>\n",
       "      <td>1713.678647</td>\n",
       "      <td>1717.475630</td>\n",
       "      <td>710.193221</td>\n",
       "      <td>1.379305e+07</td>\n",
       "      <td>2843.668098</td>\n",
       "      <td>401.127882</td>\n",
       "      <td>7.758886e+06</td>\n",
       "      <td>1717.400484</td>\n",
       "      <td>...</td>\n",
       "      <td>0.0</td>\n",
       "      <td>5.347461</td>\n",
       "      <td>0.665106</td>\n",
       "      <td>0.088068</td>\n",
       "      <td>1717.612520</td>\n",
       "      <td>46.664394</td>\n",
       "      <td>1716.535955</td>\n",
       "      <td>3.493779</td>\n",
       "      <td>1717.745049</td>\n",
       "      <td>1283.070252</td>\n",
       "    </tr>\n",
       "    <tr>\n",
       "      <th>min</th>\n",
       "      <td>16497.100000</td>\n",
       "      <td>16498.100000</td>\n",
       "      <td>16488.000000</td>\n",
       "      <td>16497.100000</td>\n",
       "      <td>2.374000</td>\n",
       "      <td>4.020029e+04</td>\n",
       "      <td>60.000000</td>\n",
       "      <td>0.457000</td>\n",
       "      <td>7.738733e+03</td>\n",
       "      <td>16497.100000</td>\n",
       "      <td>...</td>\n",
       "      <td>0.0</td>\n",
       "      <td>-100.000000</td>\n",
       "      <td>-6.254601</td>\n",
       "      <td>-0.618283</td>\n",
       "      <td>16493.117143</td>\n",
       "      <td>-88.707880</td>\n",
       "      <td>16496.357143</td>\n",
       "      <td>-44.334945</td>\n",
       "      <td>16490.550549</td>\n",
       "      <td>-0.000004</td>\n",
       "    </tr>\n",
       "    <tr>\n",
       "      <th>25%</th>\n",
       "      <td>16818.600000</td>\n",
       "      <td>16819.900000</td>\n",
       "      <td>16817.100000</td>\n",
       "      <td>16818.600000</td>\n",
       "      <td>58.219250</td>\n",
       "      <td>1.002329e+06</td>\n",
       "      <td>378.750000</td>\n",
       "      <td>24.209250</td>\n",
       "      <td>4.194097e+05</td>\n",
       "      <td>16818.600000</td>\n",
       "      <td>...</td>\n",
       "      <td>0.0</td>\n",
       "      <td>0.000000</td>\n",
       "      <td>0.019345</td>\n",
       "      <td>0.868393</td>\n",
       "      <td>16818.760000</td>\n",
       "      <td>-33.656636</td>\n",
       "      <td>16818.778571</td>\n",
       "      <td>-0.665824</td>\n",
       "      <td>16818.843407</td>\n",
       "      <td>2.693600</td>\n",
       "    </tr>\n",
       "    <tr>\n",
       "      <th>50%</th>\n",
       "      <td>17195.000000</td>\n",
       "      <td>17197.100000</td>\n",
       "      <td>17193.500000</td>\n",
       "      <td>17195.000000</td>\n",
       "      <td>122.921500</td>\n",
       "      <td>2.229029e+06</td>\n",
       "      <td>746.000000</td>\n",
       "      <td>58.677500</td>\n",
       "      <td>1.059032e+06</td>\n",
       "      <td>17195.000000</td>\n",
       "      <td>...</td>\n",
       "      <td>0.0</td>\n",
       "      <td>0.000000</td>\n",
       "      <td>0.344152</td>\n",
       "      <td>0.921188</td>\n",
       "      <td>17195.502857</td>\n",
       "      <td>3.621802</td>\n",
       "      <td>17194.705714</td>\n",
       "      <td>0.063297</td>\n",
       "      <td>17195.502198</td>\n",
       "      <td>11.612798</td>\n",
       "    </tr>\n",
       "    <tr>\n",
       "      <th>75%</th>\n",
       "      <td>19269.800000</td>\n",
       "      <td>19280.775000</td>\n",
       "      <td>19261.275000</td>\n",
       "      <td>19270.300000</td>\n",
       "      <td>269.661250</td>\n",
       "      <td>5.077995e+06</td>\n",
       "      <td>1533.000000</td>\n",
       "      <td>136.382750</td>\n",
       "      <td>2.535557e+06</td>\n",
       "      <td>19269.850000</td>\n",
       "      <td>...</td>\n",
       "      <td>0.0</td>\n",
       "      <td>0.000000</td>\n",
       "      <td>0.710885</td>\n",
       "      <td>0.952055</td>\n",
       "      <td>19267.648571</td>\n",
       "      <td>42.212519</td>\n",
       "      <td>19265.428571</td>\n",
       "      <td>0.907143</td>\n",
       "      <td>19269.578022</td>\n",
       "      <td>47.186598</td>\n",
       "    </tr>\n",
       "    <tr>\n",
       "      <th>max</th>\n",
       "      <td>21512.200000</td>\n",
       "      <td>21640.000000</td>\n",
       "      <td>21426.300000</td>\n",
       "      <td>21512.400000</td>\n",
       "      <td>21107.784000</td>\n",
       "      <td>4.405654e+08</td>\n",
       "      <td>76809.000000</td>\n",
       "      <td>14274.990000</td>\n",
       "      <td>2.980248e+08</td>\n",
       "      <td>21512.400000</td>\n",
       "      <td>...</td>\n",
       "      <td>0.0</td>\n",
       "      <td>100.000000</td>\n",
       "      <td>8.647997</td>\n",
       "      <td>0.992655</td>\n",
       "      <td>21427.668571</td>\n",
       "      <td>89.369598</td>\n",
       "      <td>21444.254286</td>\n",
       "      <td>90.883956</td>\n",
       "      <td>21493.692308</td>\n",
       "      <td>112534.869600</td>\n",
       "    </tr>\n",
       "  </tbody>\n",
       "</table>\n",
       "<p>8 rows × 150 columns</p>\n",
       "</div>"
      ],
      "text/plain": [
       "               open          high           low         close        volume  \\\n",
       "count  24480.000000  24480.000000  24480.000000  24480.000000  24480.000000   \n",
       "mean   18086.440617  18091.517851  18081.866074  18086.629967    293.554963   \n",
       "std     1717.391901   1721.448267   1713.678647   1717.475630    710.193221   \n",
       "min    16497.100000  16498.100000  16488.000000  16497.100000      2.374000   \n",
       "25%    16818.600000  16819.900000  16817.100000  16818.600000     58.219250   \n",
       "50%    17195.000000  17197.100000  17193.500000  17195.000000    122.921500   \n",
       "75%    19269.800000  19280.775000  19261.275000  19270.300000    269.661250   \n",
       "max    21512.200000  21640.000000  21426.300000  21512.400000  21107.784000   \n",
       "\n",
       "       quote_volume         count  taker_buy_volume  taker_buy_quote_volume  \\\n",
       "count  2.448000e+04  24480.000000      24480.000000            2.448000e+04   \n",
       "mean   5.554721e+06   1481.687745        149.059461            2.820014e+06   \n",
       "std    1.379305e+07   2843.668098        401.127882            7.758886e+06   \n",
       "min    4.020029e+04     60.000000          0.457000            7.738733e+03   \n",
       "25%    1.002329e+06    378.750000         24.209250            4.194097e+05   \n",
       "50%    2.229029e+06    746.000000         58.677500            1.059032e+06   \n",
       "75%    5.077995e+06   1533.000000        136.382750            2.535557e+06   \n",
       "max    4.405654e+08  76809.000000      14274.990000            2.980248e+08   \n",
       "\n",
       "              entry  ...  CDLUPSIDEGAP2CROWS  CDLXSIDEGAP3METHODS  \\\n",
       "count  24479.000000  ...             24480.0         24480.000000   \n",
       "mean   18086.505605  ...                 0.0             0.024510   \n",
       "std     1717.400484  ...                 0.0             5.347461   \n",
       "min    16497.100000  ...                 0.0          -100.000000   \n",
       "25%    16818.600000  ...                 0.0             0.000000   \n",
       "50%    17195.000000  ...                 0.0             0.000000   \n",
       "75%    19269.850000  ...                 0.0             0.000000   \n",
       "max    21512.400000  ...                 0.0           100.000000   \n",
       "\n",
       "               BETA        CORREL     LINEARREG  LINEARREG_ANGLE  \\\n",
       "count  24475.000000  24451.000000  24467.000000     24467.000000   \n",
       "mean       0.417566      0.896224  18087.459010         3.401285   \n",
       "std        0.665106      0.088068   1717.612520        46.664394   \n",
       "min       -6.254601     -0.618283  16493.117143       -88.707880   \n",
       "25%        0.019345      0.868393  16818.760000       -33.656636   \n",
       "50%        0.344152      0.921188  17195.502857         3.621802   \n",
       "75%        0.710885      0.952055  19267.648571        42.212519   \n",
       "max        8.647997      0.992655  21427.668571        89.369598   \n",
       "\n",
       "       LINEARREG_INTERCEPT  LINEARREG_SLOPE           TSF            VAR  \n",
       "count         24467.000000     24467.000000  24467.000000   24476.000000  \n",
       "mean          18085.003183         0.188910  18087.647920     115.761508  \n",
       "std            1716.535955         3.493779   1717.745049    1283.070252  \n",
       "min           16496.357143       -44.334945  16490.550549      -0.000004  \n",
       "25%           16818.778571        -0.665824  16818.843407       2.693600  \n",
       "50%           17194.705714         0.063297  17195.502198      11.612798  \n",
       "75%           19265.428571         0.907143  19269.578022      47.186598  \n",
       "max           21444.254286        90.883956  21493.692308  112534.869600  \n",
       "\n",
       "[8 rows x 150 columns]"
      ]
     },
     "execution_count": 160,
     "metadata": {},
     "output_type": "execute_result"
    }
   ],
   "source": [
    "df.describe()"
   ]
  },
  {
   "cell_type": "code",
   "execution_count": 161,
   "metadata": {
    "ExecuteTime": {
     "end_time": "2023-01-18T15:08:28.017005Z",
     "start_time": "2023-01-18T15:08:28.002992Z"
    }
   },
   "outputs": [
    {
     "data": {
      "text/html": [
       "<div>\n",
       "<style scoped>\n",
       "    .dataframe tbody tr th:only-of-type {\n",
       "        vertical-align: middle;\n",
       "    }\n",
       "\n",
       "    .dataframe tbody tr th {\n",
       "        vertical-align: top;\n",
       "    }\n",
       "\n",
       "    .dataframe thead th {\n",
       "        text-align: right;\n",
       "    }\n",
       "</style>\n",
       "<table border=\"1\" class=\"dataframe\">\n",
       "  <thead>\n",
       "    <tr style=\"text-align: right;\">\n",
       "      <th></th>\n",
       "      <th>open_time</th>\n",
       "      <th>close_time</th>\n",
       "    </tr>\n",
       "  </thead>\n",
       "  <tbody>\n",
       "    <tr>\n",
       "      <th>0</th>\n",
       "      <td>2023-01-01 05:30:00+05:30</td>\n",
       "      <td>2023-01-01 05:30:59.999000+05:30</td>\n",
       "    </tr>\n",
       "    <tr>\n",
       "      <th>1</th>\n",
       "      <td>2023-01-01 05:31:00+05:30</td>\n",
       "      <td>2023-01-01 05:31:59.999000+05:30</td>\n",
       "    </tr>\n",
       "    <tr>\n",
       "      <th>2</th>\n",
       "      <td>2023-01-01 05:32:00+05:30</td>\n",
       "      <td>2023-01-01 05:32:59.999000+05:30</td>\n",
       "    </tr>\n",
       "    <tr>\n",
       "      <th>3</th>\n",
       "      <td>2023-01-01 05:33:00+05:30</td>\n",
       "      <td>2023-01-01 05:33:59.999000+05:30</td>\n",
       "    </tr>\n",
       "    <tr>\n",
       "      <th>4</th>\n",
       "      <td>2023-01-01 05:34:00+05:30</td>\n",
       "      <td>2023-01-01 05:34:59.999000+05:30</td>\n",
       "    </tr>\n",
       "    <tr>\n",
       "      <th>...</th>\n",
       "      <td>...</td>\n",
       "      <td>...</td>\n",
       "    </tr>\n",
       "    <tr>\n",
       "      <th>24475</th>\n",
       "      <td>2023-01-18 05:25:00+05:30</td>\n",
       "      <td>2023-01-18 05:25:59.999000+05:30</td>\n",
       "    </tr>\n",
       "    <tr>\n",
       "      <th>24476</th>\n",
       "      <td>2023-01-18 05:26:00+05:30</td>\n",
       "      <td>2023-01-18 05:26:59.999000+05:30</td>\n",
       "    </tr>\n",
       "    <tr>\n",
       "      <th>24477</th>\n",
       "      <td>2023-01-18 05:27:00+05:30</td>\n",
       "      <td>2023-01-18 05:27:59.999000+05:30</td>\n",
       "    </tr>\n",
       "    <tr>\n",
       "      <th>24478</th>\n",
       "      <td>2023-01-18 05:28:00+05:30</td>\n",
       "      <td>2023-01-18 05:28:59.999000+05:30</td>\n",
       "    </tr>\n",
       "    <tr>\n",
       "      <th>24479</th>\n",
       "      <td>2023-01-18 05:29:00+05:30</td>\n",
       "      <td>2023-01-18 05:29:59.999000+05:30</td>\n",
       "    </tr>\n",
       "  </tbody>\n",
       "</table>\n",
       "<p>24480 rows × 2 columns</p>\n",
       "</div>"
      ],
      "text/plain": [
       "                       open_time                        close_time\n",
       "0      2023-01-01 05:30:00+05:30  2023-01-01 05:30:59.999000+05:30\n",
       "1      2023-01-01 05:31:00+05:30  2023-01-01 05:31:59.999000+05:30\n",
       "2      2023-01-01 05:32:00+05:30  2023-01-01 05:32:59.999000+05:30\n",
       "3      2023-01-01 05:33:00+05:30  2023-01-01 05:33:59.999000+05:30\n",
       "4      2023-01-01 05:34:00+05:30  2023-01-01 05:34:59.999000+05:30\n",
       "...                          ...                               ...\n",
       "24475  2023-01-18 05:25:00+05:30  2023-01-18 05:25:59.999000+05:30\n",
       "24476  2023-01-18 05:26:00+05:30  2023-01-18 05:26:59.999000+05:30\n",
       "24477  2023-01-18 05:27:00+05:30  2023-01-18 05:27:59.999000+05:30\n",
       "24478  2023-01-18 05:28:00+05:30  2023-01-18 05:28:59.999000+05:30\n",
       "24479  2023-01-18 05:29:00+05:30  2023-01-18 05:29:59.999000+05:30\n",
       "\n",
       "[24480 rows x 2 columns]"
      ]
     },
     "execution_count": 161,
     "metadata": {},
     "output_type": "execute_result"
    }
   ],
   "source": [
    "df.select_dtypes(include=\"object\")"
   ]
  },
  {
   "cell_type": "code",
   "execution_count": 162,
   "metadata": {
    "ExecuteTime": {
     "end_time": "2023-01-18T15:08:28.047002Z",
     "start_time": "2023-01-18T15:08:28.017996Z"
    }
   },
   "outputs": [],
   "source": [
    "df.drop([\"open_time\", \"close_time\"], axis=1, inplace=True)"
   ]
  },
  {
   "cell_type": "code",
   "execution_count": 163,
   "metadata": {
    "ExecuteTime": {
     "end_time": "2023-01-18T15:08:28.078009Z",
     "start_time": "2023-01-18T15:08:28.049003Z"
    }
   },
   "outputs": [],
   "source": [
    "column_names = df.columns\n",
    "\n",
    "\n",
    "missing_df = pd.DataFrame({\n",
    "    \"name\" : column_names,\n",
    "    \"missing\": df.isnull().mean().tolist()\n",
    "}, columns=[\"name\", \"missing\"])\n",
    "\n",
    "missing_df[\"missing\"] = missing_df[\"missing\"] * 100\n",
    "\n",
    "missing_df.sort_values(\"missing\", ascending=False, inplace=True)\n"
   ]
  },
  {
   "cell_type": "code",
   "execution_count": 164,
   "metadata": {
    "ExecuteTime": {
     "end_time": "2023-01-18T15:08:28.093013Z",
     "start_time": "2023-01-18T15:08:28.080009Z"
    }
   },
   "outputs": [
    {
     "data": {
      "text/html": [
       "<div>\n",
       "<style scoped>\n",
       "    .dataframe tbody tr th:only-of-type {\n",
       "        vertical-align: middle;\n",
       "    }\n",
       "\n",
       "    .dataframe tbody tr th {\n",
       "        vertical-align: top;\n",
       "    }\n",
       "\n",
       "    .dataframe thead th {\n",
       "        text-align: right;\n",
       "    }\n",
       "</style>\n",
       "<table border=\"1\" class=\"dataframe\">\n",
       "  <thead>\n",
       "    <tr style=\"text-align: right;\">\n",
       "      <th></th>\n",
       "      <th>name</th>\n",
       "      <th>missing</th>\n",
       "    </tr>\n",
       "  </thead>\n",
       "  <tbody>\n",
       "    <tr>\n",
       "      <th>19</th>\n",
       "      <td>entered_before</td>\n",
       "      <td>99.714052</td>\n",
       "    </tr>\n",
       "    <tr>\n",
       "      <th>16</th>\n",
       "      <td>shorts_win_after</td>\n",
       "      <td>70.375817</td>\n",
       "    </tr>\n",
       "    <tr>\n",
       "      <th>17</th>\n",
       "      <td>longs_win_after</td>\n",
       "      <td>40.669935</td>\n",
       "    </tr>\n",
       "    <tr>\n",
       "      <th>25</th>\n",
       "      <td>EMA-200</td>\n",
       "      <td>0.812908</td>\n",
       "    </tr>\n",
       "    <tr>\n",
       "      <th>63</th>\n",
       "      <td>TRIX</td>\n",
       "      <td>0.359477</td>\n",
       "    </tr>\n",
       "    <tr>\n",
       "      <th>35</th>\n",
       "      <td>TEMA</td>\n",
       "      <td>0.355392</td>\n",
       "    </tr>\n",
       "    <tr>\n",
       "      <th>70</th>\n",
       "      <td>HT_DCPHASE</td>\n",
       "      <td>0.257353</td>\n",
       "    </tr>\n",
       "    <tr>\n",
       "      <th>26</th>\n",
       "      <td>HT_TRENDLINE</td>\n",
       "      <td>0.257353</td>\n",
       "    </tr>\n",
       "    <tr>\n",
       "      <th>23</th>\n",
       "      <td>DEMA</td>\n",
       "      <td>0.236928</td>\n",
       "    </tr>\n",
       "    <tr>\n",
       "      <th>24</th>\n",
       "      <td>EMA-50</td>\n",
       "      <td>0.200163</td>\n",
       "    </tr>\n",
       "  </tbody>\n",
       "</table>\n",
       "</div>"
      ],
      "text/plain": [
       "                name    missing\n",
       "19    entered_before  99.714052\n",
       "16  shorts_win_after  70.375817\n",
       "17   longs_win_after  40.669935\n",
       "25           EMA-200   0.812908\n",
       "63              TRIX   0.359477\n",
       "35              TEMA   0.355392\n",
       "70        HT_DCPHASE   0.257353\n",
       "26      HT_TRENDLINE   0.257353\n",
       "23              DEMA   0.236928\n",
       "24            EMA-50   0.200163"
      ]
     },
     "execution_count": 164,
     "metadata": {},
     "output_type": "execute_result"
    }
   ],
   "source": [
    "missing_df[:10]"
   ]
  },
  {
   "cell_type": "code",
   "execution_count": 165,
   "metadata": {
    "ExecuteTime": {
     "end_time": "2023-01-18T15:08:28.124019Z",
     "start_time": "2023-01-18T15:08:28.094013Z"
    }
   },
   "outputs": [],
   "source": [
    "df.drop([\"entered_before\", \"longs_win_after\", \"shorts_win_after\"], axis=1, inplace=True)"
   ]
  },
  {
   "cell_type": "code",
   "execution_count": 166,
   "metadata": {
    "ExecuteTime": {
     "end_time": "2023-01-18T15:08:28.140023Z",
     "start_time": "2023-01-18T15:08:28.126019Z"
    }
   },
   "outputs": [],
   "source": [
    "df.replace(np.nan, -500, inplace=True)"
   ]
  },
  {
   "cell_type": "code",
   "execution_count": 167,
   "metadata": {
    "ExecuteTime": {
     "end_time": "2023-01-18T15:08:28.156027Z",
     "start_time": "2023-01-18T15:08:28.141024Z"
    }
   },
   "outputs": [
    {
     "data": {
      "text/plain": [
       " 1    14524\n",
       "-1     9929\n",
       " 0       27\n",
       "Name: if_long, dtype: int64"
      ]
     },
     "execution_count": 167,
     "metadata": {},
     "output_type": "execute_result"
    }
   ],
   "source": [
    "df.if_long.value_counts()"
   ]
  },
  {
   "cell_type": "code",
   "execution_count": 168,
   "metadata": {
    "ExecuteTime": {
     "end_time": "2023-01-18T15:08:28.171030Z",
     "start_time": "2023-01-18T15:08:28.157027Z"
    }
   },
   "outputs": [],
   "source": [
    "df[\"if_long\"] = df[\"if_long\"].replace(-1, 0)\n",
    "df[\"if_short\"] = df[\"if_short\"].replace(-1, 0)"
   ]
  },
  {
   "cell_type": "code",
   "execution_count": 169,
   "metadata": {
    "ExecuteTime": {
     "end_time": "2023-01-18T15:08:28.186034Z",
     "start_time": "2023-01-18T15:08:28.173031Z"
    }
   },
   "outputs": [
    {
     "data": {
      "text/plain": [
       "1    14524\n",
       "0     9956\n",
       "Name: if_long, dtype: int64"
      ]
     },
     "execution_count": 169,
     "metadata": {},
     "output_type": "execute_result"
    }
   ],
   "source": [
    "df.if_long.value_counts()"
   ]
  },
  {
   "cell_type": "code",
   "execution_count": 170,
   "metadata": {
    "ExecuteTime": {
     "end_time": "2023-01-18T15:08:28.202037Z",
     "start_time": "2023-01-18T15:08:28.187034Z"
    }
   },
   "outputs": [
    {
     "data": {
      "text/plain": [
       "0    17228\n",
       "1     7252\n",
       "Name: if_short, dtype: int64"
      ]
     },
     "execution_count": 170,
     "metadata": {},
     "output_type": "execute_result"
    }
   ],
   "source": [
    "df.if_short.value_counts()"
   ]
  },
  {
   "cell_type": "code",
   "execution_count": null,
   "metadata": {},
   "outputs": [],
   "source": []
  },
  {
   "cell_type": "code",
   "execution_count": null,
   "metadata": {},
   "outputs": [],
   "source": []
  },
  {
   "cell_type": "markdown",
   "metadata": {},
   "source": [
    "### Long model"
   ]
  },
  {
   "cell_type": "code",
   "execution_count": 171,
   "metadata": {
    "ExecuteTime": {
     "end_time": "2023-01-18T15:08:28.265051Z",
     "start_time": "2023-01-18T15:08:28.203038Z"
    }
   },
   "outputs": [],
   "source": [
    "long_df = df.drop(\"if_short\", axis=1)"
   ]
  },
  {
   "cell_type": "code",
   "execution_count": 172,
   "metadata": {
    "ExecuteTime": {
     "end_time": "2023-01-18T15:08:28.281055Z",
     "start_time": "2023-01-18T15:08:28.266051Z"
    }
   },
   "outputs": [],
   "source": [
    "long_y = df[\"if_long\"]"
   ]
  },
  {
   "cell_type": "code",
   "execution_count": 173,
   "metadata": {
    "ExecuteTime": {
     "end_time": "2023-01-18T15:08:28.406083Z",
     "start_time": "2023-01-18T15:08:28.282056Z"
    }
   },
   "outputs": [],
   "source": [
    "long_x = df.drop(\"if_long\", axis=1)"
   ]
  },
  {
   "cell_type": "code",
   "execution_count": 174,
   "metadata": {
    "ExecuteTime": {
     "end_time": "2023-01-18T15:08:28.549115Z",
     "start_time": "2023-01-18T15:08:28.408084Z"
    }
   },
   "outputs": [],
   "source": [
    "X_train, X_test, y_train, y_test = train_test_split(long_x, long_y, test_size=0.1)"
   ]
  },
  {
   "cell_type": "code",
   "execution_count": 154,
   "metadata": {
    "ExecuteTime": {
     "end_time": "2023-01-18T14:37:17.256479Z",
     "start_time": "2023-01-18T14:37:17.244476Z"
    }
   },
   "outputs": [],
   "source": [
    "# X_train, X_val, y_train, y_val = train_test_split(X_train, y_train, test_size=0.1)"
   ]
  },
  {
   "cell_type": "code",
   "execution_count": 155,
   "metadata": {
    "ExecuteTime": {
     "end_time": "2023-01-18T14:37:17.272482Z",
     "start_time": "2023-01-18T14:37:17.258479Z"
    }
   },
   "outputs": [],
   "source": [
    "clf = RandomForestClassifier(max_depth=100, random_state=0)"
   ]
  },
  {
   "cell_type": "code",
   "execution_count": 156,
   "metadata": {
    "ExecuteTime": {
     "end_time": "2023-01-18T15:08:27.087233Z",
     "start_time": "2023-01-18T14:37:17.274482Z"
    }
   },
   "outputs": [
    {
     "data": {
      "text/plain": [
       "RandomForestClassifier(max_depth=100, random_state=0)"
      ]
     },
     "execution_count": 156,
     "metadata": {},
     "output_type": "execute_result"
    }
   ],
   "source": [
    "clf.fit(X_train, y_train)"
   ]
  },
  {
   "cell_type": "code",
   "execution_count": 175,
   "metadata": {
    "ExecuteTime": {
     "end_time": "2023-01-18T15:08:28.657889Z",
     "start_time": "2023-01-18T15:08:28.550115Z"
    }
   },
   "outputs": [],
   "source": [
    "y_pred = clf.predict(X_test)"
   ]
  },
  {
   "cell_type": "code",
   "execution_count": 176,
   "metadata": {
    "ExecuteTime": {
     "end_time": "2023-01-18T15:08:28.750857Z",
     "start_time": "2023-01-18T15:08:28.658889Z"
    }
   },
   "outputs": [
    {
     "data": {
      "text/plain": [
       "0.8717320261437909"
      ]
     },
     "execution_count": 176,
     "metadata": {},
     "output_type": "execute_result"
    }
   ],
   "source": [
    "clf.score(X_test, y_test)"
   ]
  },
  {
   "cell_type": "code",
   "execution_count": 177,
   "metadata": {
    "ExecuteTime": {
     "end_time": "2023-01-18T15:08:28.765889Z",
     "start_time": "2023-01-18T15:08:28.751858Z"
    }
   },
   "outputs": [
    {
     "data": {
      "text/plain": [
       "array([0, 1], dtype=int64)"
      ]
     },
     "execution_count": 177,
     "metadata": {},
     "output_type": "execute_result"
    }
   ],
   "source": [
    "clf.classes_"
   ]
  },
  {
   "cell_type": "code",
   "execution_count": 178,
   "metadata": {
    "ExecuteTime": {
     "end_time": "2023-01-18T15:08:28.780848Z",
     "start_time": "2023-01-18T15:08:28.766889Z"
    }
   },
   "outputs": [],
   "source": [
    "cm = confusion_matrix(y_test, y_pred, labels=clf.classes_)"
   ]
  },
  {
   "cell_type": "code",
   "execution_count": 179,
   "metadata": {
    "ExecuteTime": {
     "end_time": "2023-01-18T15:08:28.795889Z",
     "start_time": "2023-01-18T15:08:28.781849Z"
    }
   },
   "outputs": [
    {
     "data": {
      "text/plain": [
       "array([[ 747,  233],\n",
       "       [  81, 1387]], dtype=int64)"
      ]
     },
     "execution_count": 179,
     "metadata": {},
     "output_type": "execute_result"
    }
   ],
   "source": [
    "cm"
   ]
  },
  {
   "cell_type": "code",
   "execution_count": 180,
   "metadata": {
    "ExecuteTime": {
     "end_time": "2023-01-18T15:08:28.933455Z",
     "start_time": "2023-01-18T15:08:28.796889Z"
    }
   },
   "outputs": [
    {
     "data": {
      "text/plain": [
       "<sklearn.metrics._plot.confusion_matrix.ConfusionMatrixDisplay at 0x15eeddaca60>"
      ]
     },
     "execution_count": 180,
     "metadata": {},
     "output_type": "execute_result"
    },
    {
     "data": {
      "image/png": "[encoded data removed]",
      "text/plain": [
       "<Figure size 432x288 with 2 Axes>"
      ]
     },
     "metadata": {
      "needs_background": "light"
     },
     "output_type": "display_data"
    }
   ],
   "source": [
    "disp = ConfusionMatrixDisplay(confusion_matrix=cm,display_labels=clf.classes_)\n",
    "\n",
    "disp.plot()\n"
   ]
  },
  {
   "cell_type": "code",
   "execution_count": 181,
   "metadata": {
    "ExecuteTime": {
     "end_time": "2023-01-18T15:08:28.948772Z",
     "start_time": "2023-01-18T15:08:28.936456Z"
    }
   },
   "outputs": [
    {
     "name": "stdout",
     "output_type": "stream",
     "text": [
      "              precision    recall  f1-score   support\n",
      "\n",
      "           0       0.90      0.76      0.83       980\n",
      "           1       0.86      0.94      0.90      1468\n",
      "\n",
      "    accuracy                           0.87      2448\n",
      "   macro avg       0.88      0.85      0.86      2448\n",
      "weighted avg       0.87      0.87      0.87      2448\n",
      "\n"
     ]
    }
   ],
   "source": [
    "print(classification_report(y_test, y_pred))"
   ]
  },
  {
   "cell_type": "code",
   "execution_count": 182,
   "metadata": {
    "ExecuteTime": {
     "end_time": "2023-01-18T15:08:29.026888Z",
     "start_time": "2023-01-18T15:08:28.949772Z"
    }
   },
   "outputs": [
    {
     "data": {
      "image/png": "[encoded data removed]",
      "text/plain": [
       "<Figure size 432x288 with 1 Axes>"
      ]
     },
     "metadata": {
      "needs_background": "light"
     },
     "output_type": "display_data"
    }
   ],
   "source": [
    "from sklearn.metrics import roc_curve\n",
    "from sklearn.metrics import RocCurveDisplay\n",
    "\n",
    "fpr, tpr, _ = roc_curve(y_test, y_pred, pos_label=clf.classes_[1])\n",
    "roc_display = RocCurveDisplay(fpr=fpr, tpr=tpr).plot()"
   ]
  },
  {
   "cell_type": "code",
   "execution_count": 183,
   "metadata": {
    "ExecuteTime": {
     "end_time": "2023-01-18T15:08:29.041890Z",
     "start_time": "2023-01-18T15:08:29.027889Z"
    }
   },
   "outputs": [
    {
     "data": {
      "text/plain": [
       "0.8535338931212813"
      ]
     },
     "execution_count": 183,
     "metadata": {},
     "output_type": "execute_result"
    }
   ],
   "source": [
    "auc(fpr, tpr)"
   ]
  },
  {
   "cell_type": "markdown",
   "metadata": {},
   "source": [
    "### Short model"
   ]
  },
  {
   "cell_type": "code",
   "execution_count": null,
   "metadata": {
    "ExecuteTime": {
     "end_time": "2023-01-18T10:20:21.884020Z",
     "start_time": "2023-01-18T10:20:18.152391Z"
    }
   },
   "outputs": [],
   "source": [
    "short_df = df.drop(\"if_long\", axis=1)"
   ]
  },
  {
   "cell_type": "code",
   "execution_count": null,
   "metadata": {
    "ExecuteTime": {
     "end_time": "2023-01-18T10:20:21.900031Z",
     "start_time": "2023-01-18T10:20:21.885020Z"
    }
   },
   "outputs": [],
   "source": [
    "short_y = df[\"if_short\"]"
   ]
  },
  {
   "cell_type": "code",
   "execution_count": null,
   "metadata": {
    "ExecuteTime": {
     "end_time": "2023-01-18T10:20:21.932038Z",
     "start_time": "2023-01-18T10:20:21.901031Z"
    }
   },
   "outputs": [],
   "source": [
    "short_y.value_counts()"
   ]
  },
  {
   "cell_type": "code",
   "execution_count": null,
   "metadata": {
    "ExecuteTime": {
     "end_time": "2023-01-18T10:20:45.536911Z",
     "start_time": "2023-01-18T10:20:44.991188Z"
    }
   },
   "outputs": [],
   "source": [
    "short_x = df.drop(\"if_short\", axis=1)"
   ]
  },
  {
   "cell_type": "code",
   "execution_count": null,
   "metadata": {
    "ExecuteTime": {
     "end_time": "2023-01-18T10:20:56.430299Z",
     "start_time": "2023-01-18T10:20:50.564082Z"
    }
   },
   "outputs": [],
   "source": [
    "X_train, X_test, y_train, y_test = train_test_split(short_x, short_y, test_size=0.1)"
   ]
  },
  {
   "cell_type": "code",
   "execution_count": null,
   "metadata": {
    "ExecuteTime": {
     "end_time": "2023-01-18T10:21:02.340489Z",
     "start_time": "2023-01-18T10:21:02.315490Z"
    }
   },
   "outputs": [],
   "source": [
    "clf = RandomForestClassifier(max_depth=100, random_state=0)"
   ]
  },
  {
   "cell_type": "code",
   "execution_count": null,
   "metadata": {
    "ExecuteTime": {
     "end_time": "2023-01-18T10:55:34.218794Z",
     "start_time": "2023-01-18T10:21:02.479507Z"
    }
   },
   "outputs": [],
   "source": [
    "clf.fit(X_train, y_train)"
   ]
  },
  {
   "cell_type": "code",
   "execution_count": null,
   "metadata": {
    "ExecuteTime": {
     "end_time": "2023-01-18T10:55:41.734632Z",
     "start_time": "2023-01-18T10:55:34.226797Z"
    }
   },
   "outputs": [],
   "source": [
    "y_pred = clf.predict(X_test)"
   ]
  },
  {
   "cell_type": "code",
   "execution_count": null,
   "metadata": {
    "ExecuteTime": {
     "end_time": "2023-01-18T10:55:48.582606Z",
     "start_time": "2023-01-18T10:55:41.735634Z"
    }
   },
   "outputs": [],
   "source": [
    "clf.score(X_test, y_test)"
   ]
  },
  {
   "cell_type": "code",
   "execution_count": null,
   "metadata": {
    "ExecuteTime": {
     "end_time": "2023-01-18T10:55:48.598609Z",
     "start_time": "2023-01-18T10:55:48.585607Z"
    }
   },
   "outputs": [],
   "source": [
    "clf.classes_"
   ]
  },
  {
   "cell_type": "code",
   "execution_count": null,
   "metadata": {
    "ExecuteTime": {
     "end_time": "2023-01-18T10:55:48.644620Z",
     "start_time": "2023-01-18T10:55:48.599610Z"
    }
   },
   "outputs": [],
   "source": [
    "cm = confusion_matrix(y_test, y_pred, labels=clf.classes_)"
   ]
  },
  {
   "cell_type": "code",
   "execution_count": null,
   "metadata": {
    "ExecuteTime": {
     "end_time": "2023-01-18T10:55:48.659623Z",
     "start_time": "2023-01-18T10:55:48.645620Z"
    }
   },
   "outputs": [],
   "source": [
    "cm"
   ]
  },
  {
   "cell_type": "code",
   "execution_count": null,
   "metadata": {
    "ExecuteTime": {
     "end_time": "2023-01-18T10:55:48.923712Z",
     "start_time": "2023-01-18T10:55:48.661624Z"
    }
   },
   "outputs": [],
   "source": [
    "disp = ConfusionMatrixDisplay(confusion_matrix=cm,display_labels=clf.classes_)\n",
    "\n",
    "disp.plot()\n"
   ]
  },
  {
   "cell_type": "code",
   "execution_count": null,
   "metadata": {
    "ExecuteTime": {
     "end_time": "2023-01-18T10:55:49.127099Z",
     "start_time": "2023-01-18T10:55:48.924712Z"
    }
   },
   "outputs": [],
   "source": [
    "print(classification_report(y_test, y_pred))"
   ]
  },
  {
   "cell_type": "code",
   "execution_count": null,
   "metadata": {
    "ExecuteTime": {
     "end_time": "2023-01-18T10:55:49.283133Z",
     "start_time": "2023-01-18T10:55:49.128099Z"
    }
   },
   "outputs": [],
   "source": [
    "from sklearn.metrics import roc_curve\n",
    "from sklearn.metrics import RocCurveDisplay\n",
    "\n",
    "fpr, tpr, _ = roc_curve(y_test, y_pred, pos_label=clf.classes_[1])\n",
    "roc_display = RocCurveDisplay(fpr=fpr, tpr=tpr).plot()"
   ]
  },
  {
   "cell_type": "code",
   "execution_count": null,
   "metadata": {
    "ExecuteTime": {
     "end_time": "2023-01-18T10:55:49.298645Z",
     "start_time": "2023-01-18T10:55:49.285133Z"
    }
   },
   "outputs": [],
   "source": [
    "auc(fpr, tpr)"
   ]
  },
  {
   "cell_type": "markdown",
   "metadata": {},
   "source": [
    "## Trying the above clf's for daily data"
   ]
  },
  {
   "cell_type": "code",
   "execution_count": 34,
   "metadata": {
    "ExecuteTime": {
     "end_time": "2023-01-18T14:14:25.088612Z",
     "start_time": "2023-01-18T14:14:25.074597Z"
    }
   },
   "outputs": [
    {
     "ename": "NameError",
     "evalue": "name 'SYMBOL_ARRAY' is not defined",
     "output_type": "error",
     "traceback": [
      "\u001b[1;31m---------------------------------------------------------------------------\u001b[0m",
      "\u001b[1;31mNameError\u001b[0m                                 Traceback (most recent call last)",
      "Input \u001b[1;32mIn [34]\u001b[0m, in \u001b[0;36m<cell line: 3>\u001b[1;34m()\u001b[0m\n\u001b[0;32m      1\u001b[0m \u001b[38;5;66;03m# Set up the arrays of symbols, chart times, and months\u001b[39;00m\n\u001b[0;32m      2\u001b[0m symbols \u001b[38;5;241m=\u001b[39m [\n\u001b[1;32m----> 3\u001b[0m     \u001b[43mSYMBOL_ARRAY\u001b[49m[SYMBOL_ARRAY\u001b[38;5;241m.\u001b[39mindex(\u001b[38;5;124m'\u001b[39m\u001b[38;5;124mBTCUSDT\u001b[39m\u001b[38;5;124m'\u001b[39m)],\n\u001b[0;32m      4\u001b[0m     \u001b[38;5;66;03m#     SYMBOL_ARRAY[SYMBOL_ARRAY.index('ETHUSDT')],\u001b[39;00m\n\u001b[0;32m      5\u001b[0m     \u001b[38;5;66;03m#     SYMBOL_ARRAY[SYMBOL_ARRAY.index('ETHBUSD')],\u001b[39;00m\n\u001b[0;32m      6\u001b[0m     \u001b[38;5;66;03m#     SYMBOL_ARRAY[SYMBOL_ARRAY.index('BTCBUSD')]\u001b[39;00m\n\u001b[0;32m      7\u001b[0m ]\n\u001b[0;32m      8\u001b[0m \u001b[38;5;66;03m# symbols = [SYMBOL_ARRAY[SYMBOL_ARRAY.index('BTCUSDT')]]\u001b[39;00m\n\u001b[0;32m      9\u001b[0m \n\u001b[0;32m     10\u001b[0m \u001b[38;5;66;03m# chart_times = CHART_TIME_ARRAY\u001b[39;00m\n\u001b[0;32m     11\u001b[0m chart_times \u001b[38;5;241m=\u001b[39m [\n\u001b[0;32m     12\u001b[0m \u001b[38;5;66;03m#     CHART_TIME_ARRAY[CHART_TIME_ARRAY.index('5m')],\u001b[39;00m\n\u001b[0;32m     13\u001b[0m \u001b[38;5;66;03m#     CHART_TIME_ARRAY[CHART_TIME_ARRAY.index('1m')],\u001b[39;00m\n\u001b[0;32m     14\u001b[0m     CHART_TIME_ARRAY[CHART_TIME_ARRAY\u001b[38;5;241m.\u001b[39mindex(\u001b[38;5;124m'\u001b[39m\u001b[38;5;124m15m\u001b[39m\u001b[38;5;124m'\u001b[39m)]\n\u001b[0;32m     15\u001b[0m ]\n",
      "\u001b[1;31mNameError\u001b[0m: name 'SYMBOL_ARRAY' is not defined"
     ]
    }
   ],
   "source": [
    "# Set up the arrays of symbols, chart times, and months\n",
    "symbols = [\n",
    "    SYMBOL_ARRAY[SYMBOL_ARRAY.index('BTCUSDT')],\n",
    "    #     SYMBOL_ARRAY[SYMBOL_ARRAY.index('ETHUSDT')],\n",
    "    #     SYMBOL_ARRAY[SYMBOL_ARRAY.index('ETHBUSD')],\n",
    "    #     SYMBOL_ARRAY[SYMBOL_ARRAY.index('BTCBUSD')]\n",
    "]\n",
    "# symbols = [SYMBOL_ARRAY[SYMBOL_ARRAY.index('BTCUSDT')]]\n",
    "\n",
    "# chart_times = CHART_TIME_ARRAY\n",
    "chart_times = [\n",
    "#     CHART_TIME_ARRAY[CHART_TIME_ARRAY.index('5m')],\n",
    "#     CHART_TIME_ARRAY[CHART_TIME_ARRAY.index('1m')],\n",
    "    CHART_TIME_ARRAY[CHART_TIME_ARRAY.index('15m')]\n",
    "]\n"
   ]
  },
  {
   "cell_type": "code",
   "execution_count": null,
   "metadata": {
    "ExecuteTime": {
     "end_time": "2023-01-18T14:14:25.089559Z",
     "start_time": "2023-01-18T14:14:25.089559Z"
    }
   },
   "outputs": [],
   "source": [
    "for symbol in symbols:\n",
    "    for chart_time in chart_times:\n",
    "        # Construct the file name\n",
    "        file_name = f\"{symbol}-{chart_time}.csv\"\n",
    "        file_path = Path(output_dir) / f\"{symbol}-{chart_time}-daily_data/{file_name}\"\n",
    "        print(file_path)"
   ]
  },
  {
   "cell_type": "code",
   "execution_count": null,
   "metadata": {},
   "outputs": [],
   "source": []
  }
 ],
 "metadata": {
  "kernelspec": {
   "display_name": "Python 3 (ipykernel)",
   "language": "python",
   "name": "python3"
  },
  "language_info": {
   "codemirror_mode": {
    "name": "ipython",
    "version": 3
   },
   "file_extension": ".py",
   "mimetype": "text/x-python",
   "name": "python",
   "nbconvert_exporter": "python",
   "pygments_lexer": "ipython3",
   "version": "3.9.12"
  }
 },
 "nbformat": 4,
 "nbformat_minor": 4
}
