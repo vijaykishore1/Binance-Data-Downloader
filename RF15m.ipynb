{
 "cells": [
  {
   "cell_type": "code",
   "execution_count": 30,
   "metadata": {},
   "outputs": [],
   "source": [
    "import pandas as pd\n",
    "import plotly.express as px\n",
    "import numpy as np\n",
    "from sklearn.model_selection import train_test_split\n",
    "from sklearn.ensemble import RandomForestClassifier\n",
    "from sklearn.metrics import confusion_matrix, ConfusionMatrixDisplay\n",
    "from sklearn.metrics import classification_report\n",
    "from sklearn.metrics import auc"
   ]
  },
  {
   "cell_type": "code",
   "execution_count": 2,
   "metadata": {},
   "outputs": [],
   "source": [
    "df = pd.read_csv(\"BTCUSDT-15m/BTCUSDT-15m.csv\")"
   ]
  },
  {
   "cell_type": "code",
   "execution_count": 3,
   "metadata": {},
   "outputs": [
    {
     "data": {
      "text/plain": [
       "(104802, 152)"
      ]
     },
     "execution_count": 3,
     "metadata": {},
     "output_type": "execute_result"
    }
   ],
   "source": [
    "df.shape"
   ]
  },
  {
   "cell_type": "code",
   "execution_count": 4,
   "metadata": {},
   "outputs": [
    {
     "data": {
      "text/html": [
       "<div>\n",
       "<style scoped>\n",
       "    .dataframe tbody tr th:only-of-type {\n",
       "        vertical-align: middle;\n",
       "    }\n",
       "\n",
       "    .dataframe tbody tr th {\n",
       "        vertical-align: top;\n",
       "    }\n",
       "\n",
       "    .dataframe thead th {\n",
       "        text-align: right;\n",
       "    }\n",
       "</style>\n",
       "<table border=\"1\" class=\"dataframe\">\n",
       "  <thead>\n",
       "    <tr style=\"text-align: right;\">\n",
       "      <th></th>\n",
       "      <th>open_time</th>\n",
       "      <th>open</th>\n",
       "      <th>high</th>\n",
       "      <th>low</th>\n",
       "      <th>close</th>\n",
       "      <th>volume</th>\n",
       "      <th>close_time</th>\n",
       "      <th>quote_volume</th>\n",
       "      <th>count</th>\n",
       "      <th>taker_buy_volume</th>\n",
       "      <th>...</th>\n",
       "      <th>CDLUPSIDEGAP2CROWS</th>\n",
       "      <th>CDLXSIDEGAP3METHODS</th>\n",
       "      <th>BETA</th>\n",
       "      <th>CORREL</th>\n",
       "      <th>LINEARREG</th>\n",
       "      <th>LINEARREG_ANGLE</th>\n",
       "      <th>LINEARREG_INTERCEPT</th>\n",
       "      <th>LINEARREG_SLOPE</th>\n",
       "      <th>TSF</th>\n",
       "      <th>VAR</th>\n",
       "    </tr>\n",
       "  </thead>\n",
       "  <tbody>\n",
       "    <tr>\n",
       "      <th>0</th>\n",
       "      <td>2020-01-01 05:45:00+05:30</td>\n",
       "      <td>7176.22</td>\n",
       "      <td>7179.41</td>\n",
       "      <td>7170.69</td>\n",
       "      <td>7172.36</td>\n",
       "      <td>707.833</td>\n",
       "      <td>2020-01-01 05:59:59.999000+05:30</td>\n",
       "      <td>5.078345e+06</td>\n",
       "      <td>1199</td>\n",
       "      <td>274.610</td>\n",
       "      <td>...</td>\n",
       "      <td>0</td>\n",
       "      <td>0</td>\n",
       "      <td>NaN</td>\n",
       "      <td>NaN</td>\n",
       "      <td>NaN</td>\n",
       "      <td>NaN</td>\n",
       "      <td>NaN</td>\n",
       "      <td>NaN</td>\n",
       "      <td>NaN</td>\n",
       "      <td>NaN</td>\n",
       "    </tr>\n",
       "    <tr>\n",
       "      <th>1</th>\n",
       "      <td>2020-01-01 06:00:00+05:30</td>\n",
       "      <td>7172.79</td>\n",
       "      <td>7179.45</td>\n",
       "      <td>7170.61</td>\n",
       "      <td>7174.83</td>\n",
       "      <td>325.246</td>\n",
       "      <td>2020-01-01 06:14:59.999000+05:30</td>\n",
       "      <td>2.333752e+06</td>\n",
       "      <td>447</td>\n",
       "      <td>162.536</td>\n",
       "      <td>...</td>\n",
       "      <td>0</td>\n",
       "      <td>0</td>\n",
       "      <td>NaN</td>\n",
       "      <td>NaN</td>\n",
       "      <td>NaN</td>\n",
       "      <td>NaN</td>\n",
       "      <td>NaN</td>\n",
       "      <td>NaN</td>\n",
       "      <td>NaN</td>\n",
       "      <td>NaN</td>\n",
       "    </tr>\n",
       "    <tr>\n",
       "      <th>2</th>\n",
       "      <td>2020-01-01 06:15:00+05:30</td>\n",
       "      <td>7174.51</td>\n",
       "      <td>7179.36</td>\n",
       "      <td>7170.15</td>\n",
       "      <td>7171.55</td>\n",
       "      <td>378.633</td>\n",
       "      <td>2020-01-01 06:29:59.999000+05:30</td>\n",
       "      <td>2.716368e+06</td>\n",
       "      <td>482</td>\n",
       "      <td>175.301</td>\n",
       "      <td>...</td>\n",
       "      <td>0</td>\n",
       "      <td>0</td>\n",
       "      <td>NaN</td>\n",
       "      <td>NaN</td>\n",
       "      <td>NaN</td>\n",
       "      <td>NaN</td>\n",
       "      <td>NaN</td>\n",
       "      <td>NaN</td>\n",
       "      <td>NaN</td>\n",
       "      <td>NaN</td>\n",
       "    </tr>\n",
       "    <tr>\n",
       "      <th>3</th>\n",
       "      <td>2020-01-01 06:30:00+05:30</td>\n",
       "      <td>7171.43</td>\n",
       "      <td>7188.77</td>\n",
       "      <td>7171.10</td>\n",
       "      <td>7186.60</td>\n",
       "      <td>555.389</td>\n",
       "      <td>2020-01-01 06:44:59.999000+05:30</td>\n",
       "      <td>3.987949e+06</td>\n",
       "      <td>807</td>\n",
       "      <td>336.827</td>\n",
       "      <td>...</td>\n",
       "      <td>0</td>\n",
       "      <td>0</td>\n",
       "      <td>NaN</td>\n",
       "      <td>NaN</td>\n",
       "      <td>NaN</td>\n",
       "      <td>NaN</td>\n",
       "      <td>NaN</td>\n",
       "      <td>NaN</td>\n",
       "      <td>NaN</td>\n",
       "      <td>NaN</td>\n",
       "    </tr>\n",
       "    <tr>\n",
       "      <th>4</th>\n",
       "      <td>2020-01-01 06:45:00+05:30</td>\n",
       "      <td>7186.60</td>\n",
       "      <td>7210.00</td>\n",
       "      <td>7184.16</td>\n",
       "      <td>7205.90</td>\n",
       "      <td>1332.077</td>\n",
       "      <td>2020-01-01 06:59:59.999000+05:30</td>\n",
       "      <td>9.589472e+06</td>\n",
       "      <td>2264</td>\n",
       "      <td>857.992</td>\n",
       "      <td>...</td>\n",
       "      <td>0</td>\n",
       "      <td>0</td>\n",
       "      <td>NaN</td>\n",
       "      <td>NaN</td>\n",
       "      <td>NaN</td>\n",
       "      <td>NaN</td>\n",
       "      <td>NaN</td>\n",
       "      <td>NaN</td>\n",
       "      <td>NaN</td>\n",
       "      <td>169.120696</td>\n",
       "    </tr>\n",
       "  </tbody>\n",
       "</table>\n",
       "<p>5 rows × 152 columns</p>\n",
       "</div>"
      ],
      "text/plain": [
       "                   open_time     open     high      low    close    volume  \\\n",
       "0  2020-01-01 05:45:00+05:30  7176.22  7179.41  7170.69  7172.36   707.833   \n",
       "1  2020-01-01 06:00:00+05:30  7172.79  7179.45  7170.61  7174.83   325.246   \n",
       "2  2020-01-01 06:15:00+05:30  7174.51  7179.36  7170.15  7171.55   378.633   \n",
       "3  2020-01-01 06:30:00+05:30  7171.43  7188.77  7171.10  7186.60   555.389   \n",
       "4  2020-01-01 06:45:00+05:30  7186.60  7210.00  7184.16  7205.90  1332.077   \n",
       "\n",
       "                         close_time  quote_volume  count  taker_buy_volume  \\\n",
       "0  2020-01-01 05:59:59.999000+05:30  5.078345e+06   1199           274.610   \n",
       "1  2020-01-01 06:14:59.999000+05:30  2.333752e+06    447           162.536   \n",
       "2  2020-01-01 06:29:59.999000+05:30  2.716368e+06    482           175.301   \n",
       "3  2020-01-01 06:44:59.999000+05:30  3.987949e+06    807           336.827   \n",
       "4  2020-01-01 06:59:59.999000+05:30  9.589472e+06   2264           857.992   \n",
       "\n",
       "   ...  CDLUPSIDEGAP2CROWS  CDLXSIDEGAP3METHODS  BETA  CORREL  LINEARREG  \\\n",
       "0  ...                   0                    0   NaN     NaN        NaN   \n",
       "1  ...                   0                    0   NaN     NaN        NaN   \n",
       "2  ...                   0                    0   NaN     NaN        NaN   \n",
       "3  ...                   0                    0   NaN     NaN        NaN   \n",
       "4  ...                   0                    0   NaN     NaN        NaN   \n",
       "\n",
       "   LINEARREG_ANGLE  LINEARREG_INTERCEPT  LINEARREG_SLOPE  TSF         VAR  \n",
       "0              NaN                  NaN              NaN  NaN         NaN  \n",
       "1              NaN                  NaN              NaN  NaN         NaN  \n",
       "2              NaN                  NaN              NaN  NaN         NaN  \n",
       "3              NaN                  NaN              NaN  NaN         NaN  \n",
       "4              NaN                  NaN              NaN  NaN  169.120696  \n",
       "\n",
       "[5 rows x 152 columns]"
      ]
     },
     "execution_count": 4,
     "metadata": {},
     "output_type": "execute_result"
    }
   ],
   "source": [
    "df.head()"
   ]
  },
  {
   "cell_type": "code",
   "execution_count": 5,
   "metadata": {},
   "outputs": [
    {
     "data": {
      "text/html": [
       "<div>\n",
       "<style scoped>\n",
       "    .dataframe tbody tr th:only-of-type {\n",
       "        vertical-align: middle;\n",
       "    }\n",
       "\n",
       "    .dataframe tbody tr th {\n",
       "        vertical-align: top;\n",
       "    }\n",
       "\n",
       "    .dataframe thead th {\n",
       "        text-align: right;\n",
       "    }\n",
       "</style>\n",
       "<table border=\"1\" class=\"dataframe\">\n",
       "  <thead>\n",
       "    <tr style=\"text-align: right;\">\n",
       "      <th></th>\n",
       "      <th>open</th>\n",
       "      <th>high</th>\n",
       "      <th>low</th>\n",
       "      <th>close</th>\n",
       "      <th>volume</th>\n",
       "      <th>quote_volume</th>\n",
       "      <th>count</th>\n",
       "      <th>taker_buy_volume</th>\n",
       "      <th>taker_buy_quote_volume</th>\n",
       "      <th>entry</th>\n",
       "      <th>...</th>\n",
       "      <th>CDLUPSIDEGAP2CROWS</th>\n",
       "      <th>CDLXSIDEGAP3METHODS</th>\n",
       "      <th>BETA</th>\n",
       "      <th>CORREL</th>\n",
       "      <th>LINEARREG</th>\n",
       "      <th>LINEARREG_ANGLE</th>\n",
       "      <th>LINEARREG_INTERCEPT</th>\n",
       "      <th>LINEARREG_SLOPE</th>\n",
       "      <th>TSF</th>\n",
       "      <th>VAR</th>\n",
       "    </tr>\n",
       "  </thead>\n",
       "  <tbody>\n",
       "    <tr>\n",
       "      <th>count</th>\n",
       "      <td>104802.000000</td>\n",
       "      <td>104802.000000</td>\n",
       "      <td>104802.000000</td>\n",
       "      <td>104802.000000</td>\n",
       "      <td>104802.000000</td>\n",
       "      <td>1.048020e+05</td>\n",
       "      <td>104802.000000</td>\n",
       "      <td>104802.000000</td>\n",
       "      <td>1.048020e+05</td>\n",
       "      <td>104801.000000</td>\n",
       "      <td>...</td>\n",
       "      <td>104802.0</td>\n",
       "      <td>104802.000000</td>\n",
       "      <td>104797.000000</td>\n",
       "      <td>104773.000000</td>\n",
       "      <td>104789.000000</td>\n",
       "      <td>104789.000000</td>\n",
       "      <td>104789.000000</td>\n",
       "      <td>104789.000000</td>\n",
       "      <td>104789.000000</td>\n",
       "      <td>1.047980e+05</td>\n",
       "    </tr>\n",
       "    <tr>\n",
       "      <th>mean</th>\n",
       "      <td>28885.905580</td>\n",
       "      <td>28966.486745</td>\n",
       "      <td>28803.549218</td>\n",
       "      <td>28885.971945</td>\n",
       "      <td>4032.448185</td>\n",
       "      <td>1.160570e+08</td>\n",
       "      <td>29782.540419</td>\n",
       "      <td>2011.941676</td>\n",
       "      <td>5.777993e+07</td>\n",
       "      <td>28886.089772</td>\n",
       "      <td>...</td>\n",
       "      <td>0.0</td>\n",
       "      <td>-0.013359</td>\n",
       "      <td>0.532177</td>\n",
       "      <td>0.870206</td>\n",
       "      <td>28888.662474</td>\n",
       "      <td>1.848939</td>\n",
       "      <td>28887.504745</td>\n",
       "      <td>0.089056</td>\n",
       "      <td>28888.751530</td>\n",
       "      <td>1.529111e+04</td>\n",
       "    </tr>\n",
       "    <tr>\n",
       "      <th>std</th>\n",
       "      <td>17142.024355</td>\n",
       "      <td>17193.373688</td>\n",
       "      <td>17089.540062</td>\n",
       "      <td>17141.919702</td>\n",
       "      <td>4902.308161</td>\n",
       "      <td>1.483213e+08</td>\n",
       "      <td>34029.873526</td>\n",
       "      <td>2457.443942</td>\n",
       "      <td>7.404864e+07</td>\n",
       "      <td>17141.959047</td>\n",
       "      <td>...</td>\n",
       "      <td>0.0</td>\n",
       "      <td>8.031377</td>\n",
       "      <td>0.755191</td>\n",
       "      <td>0.124854</td>\n",
       "      <td>17141.946127</td>\n",
       "      <td>78.139583</td>\n",
       "      <td>17143.095220</td>\n",
       "      <td>39.389666</td>\n",
       "      <td>17142.491305</td>\n",
       "      <td>7.262640e+04</td>\n",
       "    </tr>\n",
       "    <tr>\n",
       "      <th>min</th>\n",
       "      <td>3757.750000</td>\n",
       "      <td>4155.210000</td>\n",
       "      <td>3621.810000</td>\n",
       "      <td>3761.100000</td>\n",
       "      <td>0.000000</td>\n",
       "      <td>0.000000e+00</td>\n",
       "      <td>0.000000</td>\n",
       "      <td>0.000000</td>\n",
       "      <td>0.000000e+00</td>\n",
       "      <td>3761.100000</td>\n",
       "      <td>...</td>\n",
       "      <td>0.0</td>\n",
       "      <td>-100.000000</td>\n",
       "      <td>-20.929521</td>\n",
       "      <td>-0.755325</td>\n",
       "      <td>3973.280857</td>\n",
       "      <td>-89.901235</td>\n",
       "      <td>4224.830286</td>\n",
       "      <td>-580.119055</td>\n",
       "      <td>3861.999011</td>\n",
       "      <td>3.508248e-01</td>\n",
       "    </tr>\n",
       "    <tr>\n",
       "      <th>25%</th>\n",
       "      <td>11607.307500</td>\n",
       "      <td>11623.750000</td>\n",
       "      <td>11588.000000</td>\n",
       "      <td>11607.502500</td>\n",
       "      <td>1483.346750</td>\n",
       "      <td>2.803243e+07</td>\n",
       "      <td>9409.000000</td>\n",
       "      <td>726.785500</td>\n",
       "      <td>1.382130e+07</td>\n",
       "      <td>11607.490000</td>\n",
       "      <td>...</td>\n",
       "      <td>0.0</td>\n",
       "      <td>0.000000</td>\n",
       "      <td>0.156918</td>\n",
       "      <td>0.839082</td>\n",
       "      <td>11609.694857</td>\n",
       "      <td>-84.014815</td>\n",
       "      <td>11603.994286</td>\n",
       "      <td>-9.538088</td>\n",
       "      <td>11610.182637</td>\n",
       "      <td>2.945936e+02</td>\n",
       "    </tr>\n",
       "    <tr>\n",
       "      <th>50%</th>\n",
       "      <td>23565.850000</td>\n",
       "      <td>23638.195000</td>\n",
       "      <td>23486.235000</td>\n",
       "      <td>23565.670000</td>\n",
       "      <td>2558.051000</td>\n",
       "      <td>7.329688e+07</td>\n",
       "      <td>20628.000000</td>\n",
       "      <td>1271.849500</td>\n",
       "      <td>3.608828e+07</td>\n",
       "      <td>23565.700000</td>\n",
       "      <td>...</td>\n",
       "      <td>0.0</td>\n",
       "      <td>0.000000</td>\n",
       "      <td>0.481318</td>\n",
       "      <td>0.905581</td>\n",
       "      <td>23555.367714</td>\n",
       "      <td>13.743134</td>\n",
       "      <td>23565.559429</td>\n",
       "      <td>0.244571</td>\n",
       "      <td>23561.605495</td>\n",
       "      <td>2.103155e+03</td>\n",
       "    </tr>\n",
       "    <tr>\n",
       "      <th>75%</th>\n",
       "      <td>43032.587500</td>\n",
       "      <td>43149.882500</td>\n",
       "      <td>42908.282500</td>\n",
       "      <td>43032.577500</td>\n",
       "      <td>4676.056000</td>\n",
       "      <td>1.455385e+08</td>\n",
       "      <td>37187.000000</td>\n",
       "      <td>2342.205000</td>\n",
       "      <td>7.257448e+07</td>\n",
       "      <td>43032.990000</td>\n",
       "      <td>...</td>\n",
       "      <td>0.0</td>\n",
       "      <td>0.000000</td>\n",
       "      <td>0.850195</td>\n",
       "      <td>0.946599</td>\n",
       "      <td>43027.567143</td>\n",
       "      <td>84.391258</td>\n",
       "      <td>43032.587714</td>\n",
       "      <td>10.182791</td>\n",
       "      <td>43016.408681</td>\n",
       "      <td>1.011448e+04</td>\n",
       "    </tr>\n",
       "    <tr>\n",
       "      <th>max</th>\n",
       "      <td>68806.620000</td>\n",
       "      <td>69198.700000</td>\n",
       "      <td>68541.250000</td>\n",
       "      <td>68805.500000</td>\n",
       "      <td>128323.789000</td>\n",
       "      <td>3.789528e+09</td>\n",
       "      <td>970423.000000</td>\n",
       "      <td>61814.789000</td>\n",
       "      <td>2.019928e+09</td>\n",
       "      <td>68805.500000</td>\n",
       "      <td>...</td>\n",
       "      <td>0.0</td>\n",
       "      <td>100.000000</td>\n",
       "      <td>35.811427</td>\n",
       "      <td>0.999205</td>\n",
       "      <td>68963.358857</td>\n",
       "      <td>89.877941</td>\n",
       "      <td>69019.446571</td>\n",
       "      <td>469.409429</td>\n",
       "      <td>69133.973187</td>\n",
       "      <td>6.054109e+06</td>\n",
       "    </tr>\n",
       "  </tbody>\n",
       "</table>\n",
       "<p>8 rows × 150 columns</p>\n",
       "</div>"
      ],
      "text/plain": [
       "                open           high            low          close  \\\n",
       "count  104802.000000  104802.000000  104802.000000  104802.000000   \n",
       "mean    28885.905580   28966.486745   28803.549218   28885.971945   \n",
       "std     17142.024355   17193.373688   17089.540062   17141.919702   \n",
       "min      3757.750000    4155.210000    3621.810000    3761.100000   \n",
       "25%     11607.307500   11623.750000   11588.000000   11607.502500   \n",
       "50%     23565.850000   23638.195000   23486.235000   23565.670000   \n",
       "75%     43032.587500   43149.882500   42908.282500   43032.577500   \n",
       "max     68806.620000   69198.700000   68541.250000   68805.500000   \n",
       "\n",
       "              volume  quote_volume          count  taker_buy_volume  \\\n",
       "count  104802.000000  1.048020e+05  104802.000000     104802.000000   \n",
       "mean     4032.448185  1.160570e+08   29782.540419       2011.941676   \n",
       "std      4902.308161  1.483213e+08   34029.873526       2457.443942   \n",
       "min         0.000000  0.000000e+00       0.000000          0.000000   \n",
       "25%      1483.346750  2.803243e+07    9409.000000        726.785500   \n",
       "50%      2558.051000  7.329688e+07   20628.000000       1271.849500   \n",
       "75%      4676.056000  1.455385e+08   37187.000000       2342.205000   \n",
       "max    128323.789000  3.789528e+09  970423.000000      61814.789000   \n",
       "\n",
       "       taker_buy_quote_volume          entry  ...  CDLUPSIDEGAP2CROWS  \\\n",
       "count            1.048020e+05  104801.000000  ...            104802.0   \n",
       "mean             5.777993e+07   28886.089772  ...                 0.0   \n",
       "std              7.404864e+07   17141.959047  ...                 0.0   \n",
       "min              0.000000e+00    3761.100000  ...                 0.0   \n",
       "25%              1.382130e+07   11607.490000  ...                 0.0   \n",
       "50%              3.608828e+07   23565.700000  ...                 0.0   \n",
       "75%              7.257448e+07   43032.990000  ...                 0.0   \n",
       "max              2.019928e+09   68805.500000  ...                 0.0   \n",
       "\n",
       "       CDLXSIDEGAP3METHODS           BETA         CORREL      LINEARREG  \\\n",
       "count        104802.000000  104797.000000  104773.000000  104789.000000   \n",
       "mean             -0.013359       0.532177       0.870206   28888.662474   \n",
       "std               8.031377       0.755191       0.124854   17141.946127   \n",
       "min            -100.000000     -20.929521      -0.755325    3973.280857   \n",
       "25%               0.000000       0.156918       0.839082   11609.694857   \n",
       "50%               0.000000       0.481318       0.905581   23555.367714   \n",
       "75%               0.000000       0.850195       0.946599   43027.567143   \n",
       "max             100.000000      35.811427       0.999205   68963.358857   \n",
       "\n",
       "       LINEARREG_ANGLE  LINEARREG_INTERCEPT  LINEARREG_SLOPE            TSF  \\\n",
       "count    104789.000000        104789.000000    104789.000000  104789.000000   \n",
       "mean          1.848939         28887.504745         0.089056   28888.751530   \n",
       "std          78.139583         17143.095220        39.389666   17142.491305   \n",
       "min         -89.901235          4224.830286      -580.119055    3861.999011   \n",
       "25%         -84.014815         11603.994286        -9.538088   11610.182637   \n",
       "50%          13.743134         23565.559429         0.244571   23561.605495   \n",
       "75%          84.391258         43032.587714        10.182791   43016.408681   \n",
       "max          89.877941         69019.446571       469.409429   69133.973187   \n",
       "\n",
       "                VAR  \n",
       "count  1.047980e+05  \n",
       "mean   1.529111e+04  \n",
       "std    7.262640e+04  \n",
       "min    3.508248e-01  \n",
       "25%    2.945936e+02  \n",
       "50%    2.103155e+03  \n",
       "75%    1.011448e+04  \n",
       "max    6.054109e+06  \n",
       "\n",
       "[8 rows x 150 columns]"
      ]
     },
     "execution_count": 5,
     "metadata": {},
     "output_type": "execute_result"
    }
   ],
   "source": [
    "df.describe()"
   ]
  },
  {
   "cell_type": "code",
   "execution_count": 6,
   "metadata": {},
   "outputs": [
    {
     "data": {
      "text/html": [
       "<div>\n",
       "<style scoped>\n",
       "    .dataframe tbody tr th:only-of-type {\n",
       "        vertical-align: middle;\n",
       "    }\n",
       "\n",
       "    .dataframe tbody tr th {\n",
       "        vertical-align: top;\n",
       "    }\n",
       "\n",
       "    .dataframe thead th {\n",
       "        text-align: right;\n",
       "    }\n",
       "</style>\n",
       "<table border=\"1\" class=\"dataframe\">\n",
       "  <thead>\n",
       "    <tr style=\"text-align: right;\">\n",
       "      <th></th>\n",
       "      <th>open_time</th>\n",
       "      <th>close_time</th>\n",
       "    </tr>\n",
       "  </thead>\n",
       "  <tbody>\n",
       "    <tr>\n",
       "      <th>0</th>\n",
       "      <td>2020-01-01 05:45:00+05:30</td>\n",
       "      <td>2020-01-01 05:59:59.999000+05:30</td>\n",
       "    </tr>\n",
       "    <tr>\n",
       "      <th>1</th>\n",
       "      <td>2020-01-01 06:00:00+05:30</td>\n",
       "      <td>2020-01-01 06:14:59.999000+05:30</td>\n",
       "    </tr>\n",
       "    <tr>\n",
       "      <th>2</th>\n",
       "      <td>2020-01-01 06:15:00+05:30</td>\n",
       "      <td>2020-01-01 06:29:59.999000+05:30</td>\n",
       "    </tr>\n",
       "    <tr>\n",
       "      <th>3</th>\n",
       "      <td>2020-01-01 06:30:00+05:30</td>\n",
       "      <td>2020-01-01 06:44:59.999000+05:30</td>\n",
       "    </tr>\n",
       "    <tr>\n",
       "      <th>4</th>\n",
       "      <td>2020-01-01 06:45:00+05:30</td>\n",
       "      <td>2020-01-01 06:59:59.999000+05:30</td>\n",
       "    </tr>\n",
       "    <tr>\n",
       "      <th>...</th>\n",
       "      <td>...</td>\n",
       "      <td>...</td>\n",
       "    </tr>\n",
       "    <tr>\n",
       "      <th>104797</th>\n",
       "      <td>2023-01-01 04:15:00+05:30</td>\n",
       "      <td>2023-01-01 04:29:59.999000+05:30</td>\n",
       "    </tr>\n",
       "    <tr>\n",
       "      <th>104798</th>\n",
       "      <td>2023-01-01 04:30:00+05:30</td>\n",
       "      <td>2023-01-01 04:44:59.999000+05:30</td>\n",
       "    </tr>\n",
       "    <tr>\n",
       "      <th>104799</th>\n",
       "      <td>2023-01-01 04:45:00+05:30</td>\n",
       "      <td>2023-01-01 04:59:59.999000+05:30</td>\n",
       "    </tr>\n",
       "    <tr>\n",
       "      <th>104800</th>\n",
       "      <td>2023-01-01 05:00:00+05:30</td>\n",
       "      <td>2023-01-01 05:14:59.999000+05:30</td>\n",
       "    </tr>\n",
       "    <tr>\n",
       "      <th>104801</th>\n",
       "      <td>2023-01-01 05:15:00+05:30</td>\n",
       "      <td>2023-01-01 05:29:59.999000+05:30</td>\n",
       "    </tr>\n",
       "  </tbody>\n",
       "</table>\n",
       "<p>104802 rows × 2 columns</p>\n",
       "</div>"
      ],
      "text/plain": [
       "                        open_time                        close_time\n",
       "0       2020-01-01 05:45:00+05:30  2020-01-01 05:59:59.999000+05:30\n",
       "1       2020-01-01 06:00:00+05:30  2020-01-01 06:14:59.999000+05:30\n",
       "2       2020-01-01 06:15:00+05:30  2020-01-01 06:29:59.999000+05:30\n",
       "3       2020-01-01 06:30:00+05:30  2020-01-01 06:44:59.999000+05:30\n",
       "4       2020-01-01 06:45:00+05:30  2020-01-01 06:59:59.999000+05:30\n",
       "...                           ...                               ...\n",
       "104797  2023-01-01 04:15:00+05:30  2023-01-01 04:29:59.999000+05:30\n",
       "104798  2023-01-01 04:30:00+05:30  2023-01-01 04:44:59.999000+05:30\n",
       "104799  2023-01-01 04:45:00+05:30  2023-01-01 04:59:59.999000+05:30\n",
       "104800  2023-01-01 05:00:00+05:30  2023-01-01 05:14:59.999000+05:30\n",
       "104801  2023-01-01 05:15:00+05:30  2023-01-01 05:29:59.999000+05:30\n",
       "\n",
       "[104802 rows x 2 columns]"
      ]
     },
     "execution_count": 6,
     "metadata": {},
     "output_type": "execute_result"
    }
   ],
   "source": [
    "df.select_dtypes(include=\"object\")"
   ]
  },
  {
   "cell_type": "code",
   "execution_count": 7,
   "metadata": {},
   "outputs": [],
   "source": [
    "df.drop([\"open_time\", \"close_time\"], axis=1, inplace=True)"
   ]
  },
  {
   "cell_type": "code",
   "execution_count": 8,
   "metadata": {},
   "outputs": [],
   "source": [
    "column_names = df.columns\n",
    "\n",
    "\n",
    "missing_df = pd.DataFrame({\n",
    "    \"name\" : column_names,\n",
    "    \"missing\": df.isnull().mean().tolist()\n",
    "}, columns=[\"name\", \"missing\"])\n",
    "\n",
    "missing_df[\"missing\"] = missing_df[\"missing\"] * 100\n",
    "\n",
    "missing_df.sort_values(\"missing\", ascending=False, inplace=True)\n"
   ]
  },
  {
   "cell_type": "code",
   "execution_count": 9,
   "metadata": {},
   "outputs": [
    {
     "data": {
      "text/html": [
       "<div>\n",
       "<style scoped>\n",
       "    .dataframe tbody tr th:only-of-type {\n",
       "        vertical-align: middle;\n",
       "    }\n",
       "\n",
       "    .dataframe tbody tr th {\n",
       "        vertical-align: top;\n",
       "    }\n",
       "\n",
       "    .dataframe thead th {\n",
       "        text-align: right;\n",
       "    }\n",
       "</style>\n",
       "<table border=\"1\" class=\"dataframe\">\n",
       "  <thead>\n",
       "    <tr style=\"text-align: right;\">\n",
       "      <th></th>\n",
       "      <th>name</th>\n",
       "      <th>missing</th>\n",
       "    </tr>\n",
       "  </thead>\n",
       "  <tbody>\n",
       "    <tr>\n",
       "      <th>19</th>\n",
       "      <td>entered_before</td>\n",
       "      <td>95.600275</td>\n",
       "    </tr>\n",
       "    <tr>\n",
       "      <th>17</th>\n",
       "      <td>longs_win_after</td>\n",
       "      <td>57.568558</td>\n",
       "    </tr>\n",
       "    <tr>\n",
       "      <th>16</th>\n",
       "      <td>shorts_win_after</td>\n",
       "      <td>56.755596</td>\n",
       "    </tr>\n",
       "    <tr>\n",
       "      <th>25</th>\n",
       "      <td>EMA-200</td>\n",
       "      <td>0.189882</td>\n",
       "    </tr>\n",
       "    <tr>\n",
       "      <th>63</th>\n",
       "      <td>TRIX</td>\n",
       "      <td>0.083968</td>\n",
       "    </tr>\n",
       "    <tr>\n",
       "      <th>35</th>\n",
       "      <td>TEMA</td>\n",
       "      <td>0.083014</td>\n",
       "    </tr>\n",
       "    <tr>\n",
       "      <th>70</th>\n",
       "      <td>HT_DCPHASE</td>\n",
       "      <td>0.060113</td>\n",
       "    </tr>\n",
       "    <tr>\n",
       "      <th>26</th>\n",
       "      <td>HT_TRENDLINE</td>\n",
       "      <td>0.060113</td>\n",
       "    </tr>\n",
       "    <tr>\n",
       "      <th>23</th>\n",
       "      <td>DEMA</td>\n",
       "      <td>0.055342</td>\n",
       "    </tr>\n",
       "    <tr>\n",
       "      <th>24</th>\n",
       "      <td>EMA-50</td>\n",
       "      <td>0.046755</td>\n",
       "    </tr>\n",
       "  </tbody>\n",
       "</table>\n",
       "</div>"
      ],
      "text/plain": [
       "                name    missing\n",
       "19    entered_before  95.600275\n",
       "17   longs_win_after  57.568558\n",
       "16  shorts_win_after  56.755596\n",
       "25           EMA-200   0.189882\n",
       "63              TRIX   0.083968\n",
       "35              TEMA   0.083014\n",
       "70        HT_DCPHASE   0.060113\n",
       "26      HT_TRENDLINE   0.060113\n",
       "23              DEMA   0.055342\n",
       "24            EMA-50   0.046755"
      ]
     },
     "execution_count": 9,
     "metadata": {},
     "output_type": "execute_result"
    }
   ],
   "source": [
    "missing_df[:10]"
   ]
  },
  {
   "cell_type": "code",
   "execution_count": 10,
   "metadata": {},
   "outputs": [],
   "source": [
    "df.drop([\"entered_before\", \"longs_win_after\", \"shorts_win_after\"], axis=1, inplace=True)"
   ]
  },
  {
   "cell_type": "code",
   "execution_count": 11,
   "metadata": {},
   "outputs": [],
   "source": [
    "df.replace(np.nan, -500, inplace=True)"
   ]
  },
  {
   "cell_type": "code",
   "execution_count": 12,
   "metadata": {},
   "outputs": [
    {
     "data": {
      "text/plain": [
       "-1    60328\n",
       " 1    44469\n",
       " 0        5\n",
       "Name: if_long, dtype: int64"
      ]
     },
     "execution_count": 12,
     "metadata": {},
     "output_type": "execute_result"
    }
   ],
   "source": [
    "df.if_long.value_counts()"
   ]
  },
  {
   "cell_type": "code",
   "execution_count": 13,
   "metadata": {},
   "outputs": [],
   "source": [
    "df[\"if_long\"] = df[\"if_long\"].replace(-1, 0)"
   ]
  },
  {
   "cell_type": "code",
   "execution_count": 14,
   "metadata": {},
   "outputs": [
    {
     "data": {
      "text/plain": [
       "0    60333\n",
       "1    44469\n",
       "Name: if_long, dtype: int64"
      ]
     },
     "execution_count": 14,
     "metadata": {},
     "output_type": "execute_result"
    }
   ],
   "source": [
    "df.if_long.value_counts()"
   ]
  },
  {
   "cell_type": "code",
   "execution_count": 44,
   "metadata": {},
   "outputs": [
    {
     "data": {
      "text/plain": [
       "-1    59473\n",
       " 1    45321\n",
       " 0        8\n",
       "Name: if_short, dtype: int64"
      ]
     },
     "execution_count": 44,
     "metadata": {},
     "output_type": "execute_result"
    }
   ],
   "source": [
    "df.if_short.value_counts()"
   ]
  },
  {
   "cell_type": "code",
   "execution_count": null,
   "metadata": {},
   "outputs": [],
   "source": []
  },
  {
   "cell_type": "code",
   "execution_count": null,
   "metadata": {},
   "outputs": [],
   "source": []
  },
  {
   "cell_type": "markdown",
   "metadata": {},
   "source": [
    "### Long model"
   ]
  },
  {
   "cell_type": "code",
   "execution_count": 15,
   "metadata": {},
   "outputs": [],
   "source": [
    "long_df = df.drop(\"if_short\", axis=1)"
   ]
  },
  {
   "cell_type": "code",
   "execution_count": 16,
   "metadata": {},
   "outputs": [],
   "source": [
    "long_y = df[\"if_long\"]"
   ]
  },
  {
   "cell_type": "code",
   "execution_count": 17,
   "metadata": {},
   "outputs": [],
   "source": [
    "long_x = df.drop(\"if_long\", axis=1)"
   ]
  },
  {
   "cell_type": "code",
   "execution_count": 18,
   "metadata": {},
   "outputs": [],
   "source": [
    "X_train, X_test, y_train, y_test = train_test_split(long_x, long_y, test_size=0.1)"
   ]
  },
  {
   "cell_type": "code",
   "execution_count": 19,
   "metadata": {},
   "outputs": [],
   "source": [
    "# X_train, X_val, y_train, y_val = train_test_split(X_train, y_train, test_size=0.1)"
   ]
  },
  {
   "cell_type": "code",
   "execution_count": 20,
   "metadata": {},
   "outputs": [],
   "source": [
    "clf = RandomForestClassifier(max_depth=100, random_state=0)"
   ]
  },
  {
   "cell_type": "code",
   "execution_count": 21,
   "metadata": {},
   "outputs": [
    {
     "data": {
      "text/plain": [
       "RandomForestClassifier(max_depth=100, random_state=0)"
      ]
     },
     "execution_count": 21,
     "metadata": {},
     "output_type": "execute_result"
    }
   ],
   "source": [
    "clf.fit(X_train, y_train)"
   ]
  },
  {
   "cell_type": "code",
   "execution_count": 22,
   "metadata": {},
   "outputs": [],
   "source": [
    "y_pred = clf.predict(X_test)"
   ]
  },
  {
   "cell_type": "code",
   "execution_count": 23,
   "metadata": {},
   "outputs": [
    {
     "data": {
      "text/plain": [
       "0.9036351493178132"
      ]
     },
     "execution_count": 23,
     "metadata": {},
     "output_type": "execute_result"
    }
   ],
   "source": [
    "clf.score(X_test, y_test)"
   ]
  },
  {
   "cell_type": "code",
   "execution_count": 24,
   "metadata": {},
   "outputs": [
    {
     "data": {
      "text/plain": [
       "array([0, 1])"
      ]
     },
     "execution_count": 24,
     "metadata": {},
     "output_type": "execute_result"
    }
   ],
   "source": [
    "clf.classes_"
   ]
  },
  {
   "cell_type": "code",
   "execution_count": 25,
   "metadata": {},
   "outputs": [],
   "source": [
    "cm = confusion_matrix(y_test, y_pred, labels=clf.classes_)"
   ]
  },
  {
   "cell_type": "code",
   "execution_count": 26,
   "metadata": {},
   "outputs": [
    {
     "data": {
      "text/plain": [
       "array([[5184,  831],\n",
       "       [ 179, 4287]])"
      ]
     },
     "execution_count": 26,
     "metadata": {},
     "output_type": "execute_result"
    }
   ],
   "source": [
    "cm"
   ]
  },
  {
   "cell_type": "code",
   "execution_count": 27,
   "metadata": {},
   "outputs": [
    {
     "data": {
      "text/plain": [
       "<sklearn.metrics._plot.confusion_matrix.ConfusionMatrixDisplay at 0x7f0a4aa0b820>"
      ]
     },
     "execution_count": 27,
     "metadata": {},
     "output_type": "execute_result"
    },
    {
     "data": {
      "image/png": "[encoded data removed]",
      "text/plain": [
       "<Figure size 432x288 with 2 Axes>"
      ]
     },
     "metadata": {
      "needs_background": "light"
     },
     "output_type": "display_data"
    }
   ],
   "source": [
    "disp = ConfusionMatrixDisplay(confusion_matrix=cm,display_labels=clf.classes_)\n",
    "\n",
    "disp.plot()\n"
   ]
  },
  {
   "cell_type": "code",
   "execution_count": null,
   "metadata": {},
   "outputs": [],
   "source": []
  },
  {
   "cell_type": "code",
   "execution_count": null,
   "metadata": {},
   "outputs": [],
   "source": []
  },
  {
   "cell_type": "code",
   "execution_count": 28,
   "metadata": {},
   "outputs": [
    {
     "name": "stdout",
     "output_type": "stream",
     "text": [
      "              precision    recall  f1-score   support\n",
      "\n",
      "           0       0.97      0.86      0.91      6015\n",
      "           1       0.84      0.96      0.89      4466\n",
      "\n",
      "    accuracy                           0.90     10481\n",
      "   macro avg       0.90      0.91      0.90     10481\n",
      "weighted avg       0.91      0.90      0.90     10481\n",
      "\n"
     ]
    }
   ],
   "source": [
    "print(classification_report(y_test, y_pred))"
   ]
  },
  {
   "cell_type": "code",
   "execution_count": null,
   "metadata": {},
   "outputs": [],
   "source": []
  },
  {
   "cell_type": "code",
   "execution_count": 29,
   "metadata": {},
   "outputs": [
    {
     "data": {
      "image/png": "[encoded data removed]",
      "text/plain": [
       "<Figure size 432x288 with 1 Axes>"
      ]
     },
     "metadata": {
      "needs_background": "light"
     },
     "output_type": "display_data"
    }
   ],
   "source": [
    "from sklearn.metrics import roc_curve\n",
    "from sklearn.metrics import RocCurveDisplay\n",
    "\n",
    "fpr, tpr, _ = roc_curve(y_test, y_pred, pos_label=clf.classes_[1])\n",
    "roc_display = RocCurveDisplay(fpr=fpr, tpr=tpr).plot()"
   ]
  },
  {
   "cell_type": "code",
   "execution_count": 31,
   "metadata": {},
   "outputs": [
    {
     "data": {
      "text/plain": [
       "0.9108823887437698"
      ]
     },
     "execution_count": 31,
     "metadata": {},
     "output_type": "execute_result"
    }
   ],
   "source": [
    "auc(fpr, tpr)"
   ]
  },
  {
   "cell_type": "code",
   "execution_count": null,
   "metadata": {},
   "outputs": [],
   "source": []
  },
  {
   "cell_type": "code",
   "execution_count": null,
   "metadata": {},
   "outputs": [],
   "source": []
  },
  {
   "cell_type": "markdown",
   "metadata": {},
   "source": [
    "### Short model"
   ]
  },
  {
   "cell_type": "code",
   "execution_count": 45,
   "metadata": {},
   "outputs": [],
   "source": [
    "short_df = df.drop(\"if_long\", axis=1)"
   ]
  },
  {
   "cell_type": "code",
   "execution_count": 46,
   "metadata": {},
   "outputs": [],
   "source": [
    "short_y = df[\"if_short\"]"
   ]
  },
  {
   "cell_type": "code",
   "execution_count": 47,
   "metadata": {},
   "outputs": [
    {
     "data": {
      "text/plain": [
       "-1    59473\n",
       " 1    45321\n",
       " 0        8\n",
       "Name: if_short, dtype: int64"
      ]
     },
     "execution_count": 47,
     "metadata": {},
     "output_type": "execute_result"
    }
   ],
   "source": [
    "short_y.value_counts()"
   ]
  },
  {
   "cell_type": "code",
   "execution_count": 49,
   "metadata": {},
   "outputs": [],
   "source": [
    "short_y = short_y.replace(-1, 0)"
   ]
  },
  {
   "cell_type": "code",
   "execution_count": 51,
   "metadata": {},
   "outputs": [
    {
     "data": {
      "text/plain": [
       "0    59481\n",
       "1    45321\n",
       "Name: if_short, dtype: int64"
      ]
     },
     "execution_count": 51,
     "metadata": {},
     "output_type": "execute_result"
    }
   ],
   "source": [
    "short_y.value_counts()"
   ]
  },
  {
   "cell_type": "code",
   "execution_count": 50,
   "metadata": {},
   "outputs": [],
   "source": [
    "short_x = df.drop(\"if_short\", axis=1)"
   ]
  },
  {
   "cell_type": "code",
   "execution_count": 52,
   "metadata": {},
   "outputs": [],
   "source": [
    "X_train, X_test, y_train, y_test = train_test_split(short_x, short_y, test_size=0.1)"
   ]
  },
  {
   "cell_type": "code",
   "execution_count": 53,
   "metadata": {},
   "outputs": [],
   "source": [
    "clf = RandomForestClassifier(max_depth=100, random_state=0)"
   ]
  },
  {
   "cell_type": "code",
   "execution_count": 54,
   "metadata": {},
   "outputs": [
    {
     "data": {
      "text/plain": [
       "RandomForestClassifier(max_depth=100, random_state=0)"
      ]
     },
     "execution_count": 54,
     "metadata": {},
     "output_type": "execute_result"
    }
   ],
   "source": [
    "clf.fit(X_train, y_train)"
   ]
  },
  {
   "cell_type": "code",
   "execution_count": 55,
   "metadata": {},
   "outputs": [],
   "source": [
    "y_pred = clf.predict(X_test)"
   ]
  },
  {
   "cell_type": "code",
   "execution_count": 56,
   "metadata": {},
   "outputs": [
    {
     "data": {
      "text/plain": [
       "0.9049708997233088"
      ]
     },
     "execution_count": 56,
     "metadata": {},
     "output_type": "execute_result"
    }
   ],
   "source": [
    "clf.score(X_test, y_test)"
   ]
  },
  {
   "cell_type": "code",
   "execution_count": 57,
   "metadata": {},
   "outputs": [
    {
     "data": {
      "text/plain": [
       "array([0, 1])"
      ]
     },
     "execution_count": 57,
     "metadata": {},
     "output_type": "execute_result"
    }
   ],
   "source": [
    "clf.classes_"
   ]
  },
  {
   "cell_type": "code",
   "execution_count": 58,
   "metadata": {},
   "outputs": [],
   "source": [
    "cm = confusion_matrix(y_test, y_pred, labels=clf.classes_)"
   ]
  },
  {
   "cell_type": "code",
   "execution_count": 59,
   "metadata": {},
   "outputs": [
    {
     "data": {
      "text/plain": [
       "array([[5132,  850],\n",
       "       [ 146, 4353]])"
      ]
     },
     "execution_count": 59,
     "metadata": {},
     "output_type": "execute_result"
    }
   ],
   "source": [
    "cm"
   ]
  },
  {
   "cell_type": "code",
   "execution_count": 60,
   "metadata": {},
   "outputs": [
    {
     "data": {
      "text/plain": [
       "<sklearn.metrics._plot.confusion_matrix.ConfusionMatrixDisplay at 0x7f0a49cf3af0>"
      ]
     },
     "execution_count": 60,
     "metadata": {},
     "output_type": "execute_result"
    },
    {
     "data": {
      "image/png": "[encoded data removed]",
      "text/plain": [
       "<Figure size 432x288 with 2 Axes>"
      ]
     },
     "metadata": {
      "needs_background": "light"
     },
     "output_type": "display_data"
    }
   ],
   "source": [
    "disp = ConfusionMatrixDisplay(confusion_matrix=cm,display_labels=clf.classes_)\n",
    "\n",
    "disp.plot()\n"
   ]
  },
  {
   "cell_type": "code",
   "execution_count": null,
   "metadata": {},
   "outputs": [],
   "source": []
  },
  {
   "cell_type": "code",
   "execution_count": null,
   "metadata": {},
   "outputs": [],
   "source": []
  },
  {
   "cell_type": "code",
   "execution_count": 61,
   "metadata": {},
   "outputs": [
    {
     "name": "stdout",
     "output_type": "stream",
     "text": [
      "              precision    recall  f1-score   support\n",
      "\n",
      "           0       0.97      0.86      0.91      5982\n",
      "           1       0.84      0.97      0.90      4499\n",
      "\n",
      "    accuracy                           0.90     10481\n",
      "   macro avg       0.90      0.91      0.90     10481\n",
      "weighted avg       0.91      0.90      0.91     10481\n",
      "\n"
     ]
    }
   ],
   "source": [
    "print(classification_report(y_test, y_pred))"
   ]
  },
  {
   "cell_type": "code",
   "execution_count": null,
   "metadata": {},
   "outputs": [],
   "source": []
  },
  {
   "cell_type": "code",
   "execution_count": 62,
   "metadata": {},
   "outputs": [
    {
     "data": {
      "image/png": "[encoded data removed]",
      "text/plain": [
       "<Figure size 432x288 with 1 Axes>"
      ]
     },
     "metadata": {
      "needs_background": "light"
     },
     "output_type": "display_data"
    }
   ],
   "source": [
    "from sklearn.metrics import roc_curve\n",
    "from sklearn.metrics import RocCurveDisplay\n",
    "\n",
    "fpr, tpr, _ = roc_curve(y_test, y_pred, pos_label=clf.classes_[1])\n",
    "roc_display = RocCurveDisplay(fpr=fpr, tpr=tpr).plot()"
   ]
  },
  {
   "cell_type": "code",
   "execution_count": 63,
   "metadata": {},
   "outputs": [
    {
     "data": {
      "text/plain": [
       "0.9127276992866425"
      ]
     },
     "execution_count": 63,
     "metadata": {},
     "output_type": "execute_result"
    }
   ],
   "source": [
    "auc(fpr, tpr)"
   ]
  },
  {
   "cell_type": "code",
   "execution_count": null,
   "metadata": {},
   "outputs": [],
   "source": []
  }
 ],
 "metadata": {
  "kernelspec": {
   "display_name": "Python 3",
   "language": "python",
   "name": "python3"
  },
  "language_info": {
   "codemirror_mode": {
    "name": "ipython",
    "version": 3
   },
   "file_extension": ".py",
   "mimetype": "text/x-python",
   "name": "python",
   "nbconvert_exporter": "python",
   "pygments_lexer": "ipython3",
   "version": "3.8.2"
  }
 },
 "nbformat": 4,
 "nbformat_minor": 4
}
