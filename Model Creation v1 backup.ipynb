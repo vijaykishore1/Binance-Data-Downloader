{
 "cells": [
  {
   "cell_type": "code",
   "execution_count": 1,
   "id": "f1ce49f2",
   "metadata": {
    "ExecuteTime": {
     "end_time": "2023-01-28T06:47:45.759194Z",
     "start_time": "2023-01-28T06:47:42.829895Z"
    }
   },
   "outputs": [],
   "source": [
    "import pandas as pd\n",
    "import plotly.express as px\n",
    "import numpy as np\n",
    "import os\n",
    "from constants import download_dir, output_dir\n",
    "from sklearn.model_selection import train_test_split\n",
    "from sklearn.ensemble import RandomForestClassifier\n",
    "from sklearn.metrics import confusion_matrix, ConfusionMatrixDisplay\n",
    "from sklearn.metrics import auc"
   ]
  },
  {
   "cell_type": "code",
   "execution_count": 2,
   "id": "baaa8dbe",
   "metadata": {
    "ExecuteTime": {
     "end_time": "2023-01-28T06:47:45.774645Z",
     "start_time": "2023-01-28T06:47:45.760195Z"
    }
   },
   "outputs": [],
   "source": [
    "# import mlflow.sklearn"
   ]
  },
  {
   "cell_type": "code",
   "execution_count": 3,
   "id": "c086b68f",
   "metadata": {
    "ExecuteTime": {
     "end_time": "2023-01-28T06:47:45.789862Z",
     "start_time": "2023-01-28T06:47:45.775646Z"
    }
   },
   "outputs": [],
   "source": [
    "# mlflow.set_tracking_uri(\"http://localhost:5000\")"
   ]
  },
  {
   "cell_type": "code",
   "execution_count": 28,
   "id": "8e23ca3a",
   "metadata": {
    "ExecuteTime": {
     "end_time": "2023-01-28T08:21:27.353791Z",
     "start_time": "2023-01-28T08:21:27.311782Z"
    }
   },
   "outputs": [
    {
     "name": "stdout",
     "output_type": "stream",
     "text": [
      "D:\\KISHORE\\Binance-Data-Downloader\\extracted_data\n",
      "D:\\KISHORE\\Binance-Data-Downloader\\extracted_data\\BTCUSDT-1m-monthly_data\\BTCUSDT-1m.csv\n"
     ]
    }
   ],
   "source": [
    "import os\n",
    "os.getcwd()\n",
    "print(output_dir)\n",
    "path_monthly_1m = os.path.join(output_dir,\"BTCUSDT-1m-monthly_data\",\"BTCUSDT-1m.csv\")\n",
    "path_daily_1m = os.path.join(output_dir,\"BTCUSDT-1m-daily_data\",\"BTCUSDT-1m.csv\")\n",
    "print(path_monthly_1m)"
   ]
  },
  {
   "cell_type": "code",
   "execution_count": 29,
   "id": "8eb913ab",
   "metadata": {
    "ExecuteTime": {
     "end_time": "2023-01-28T08:25:16.921673Z",
     "start_time": "2023-01-28T08:21:28.314873Z"
    }
   },
   "outputs": [],
   "source": [
    "df = pd.read_csv(path_monthly_1m)"
   ]
  },
  {
   "cell_type": "code",
   "execution_count": 30,
   "id": "c4ef999b",
   "metadata": {
    "ExecuteTime": {
     "end_time": "2023-01-28T08:25:34.740537Z",
     "start_time": "2023-01-28T08:25:16.929674Z"
    }
   },
   "outputs": [],
   "source": [
    "df.drop([\"open_time\", \"close_time\"], axis=1, inplace=True)"
   ]
  },
  {
   "cell_type": "code",
   "execution_count": 31,
   "id": "60509bab",
   "metadata": {
    "ExecuteTime": {
     "end_time": "2023-01-28T08:25:34.878984Z",
     "start_time": "2023-01-28T08:25:34.748539Z"
    }
   },
   "outputs": [
    {
     "data": {
      "text/html": [
       "<div>\n",
       "<style scoped>\n",
       "    .dataframe tbody tr th:only-of-type {\n",
       "        vertical-align: middle;\n",
       "    }\n",
       "\n",
       "    .dataframe tbody tr th {\n",
       "        vertical-align: top;\n",
       "    }\n",
       "\n",
       "    .dataframe thead th {\n",
       "        text-align: right;\n",
       "    }\n",
       "</style>\n",
       "<table border=\"1\" class=\"dataframe\">\n",
       "  <thead>\n",
       "    <tr style=\"text-align: right;\">\n",
       "      <th></th>\n",
       "      <th>open</th>\n",
       "      <th>high</th>\n",
       "      <th>low</th>\n",
       "      <th>close</th>\n",
       "      <th>volume</th>\n",
       "      <th>quote_volume</th>\n",
       "      <th>count</th>\n",
       "      <th>taker_buy_volume</th>\n",
       "      <th>taker_buy_quote_volume</th>\n",
       "      <th>entry</th>\n",
       "      <th>...</th>\n",
       "      <th>PLUS_DM_233</th>\n",
       "      <th>ROC_233</th>\n",
       "      <th>ROCP_233</th>\n",
       "      <th>ROCR_233</th>\n",
       "      <th>ROCR100_233</th>\n",
       "      <th>RSI_233</th>\n",
       "      <th>ATR_233</th>\n",
       "      <th>NATR_233</th>\n",
       "      <th>BETA_233</th>\n",
       "      <th>CORREL_233</th>\n",
       "    </tr>\n",
       "  </thead>\n",
       "  <tbody>\n",
       "    <tr>\n",
       "      <th>0</th>\n",
       "      <td>7182.43</td>\n",
       "      <td>7182.44</td>\n",
       "      <td>7178.75</td>\n",
       "      <td>7179.01</td>\n",
       "      <td>70.909</td>\n",
       "      <td>509145.78482</td>\n",
       "      <td>140</td>\n",
       "      <td>32.597</td>\n",
       "      <td>234063.27884</td>\n",
       "      <td>NaN</td>\n",
       "      <td>...</td>\n",
       "      <td>NaN</td>\n",
       "      <td>NaN</td>\n",
       "      <td>NaN</td>\n",
       "      <td>NaN</td>\n",
       "      <td>NaN</td>\n",
       "      <td>NaN</td>\n",
       "      <td>NaN</td>\n",
       "      <td>NaN</td>\n",
       "      <td>NaN</td>\n",
       "      <td>NaN</td>\n",
       "    </tr>\n",
       "    <tr>\n",
       "      <th>1</th>\n",
       "      <td>7179.01</td>\n",
       "      <td>7179.01</td>\n",
       "      <td>7175.25</td>\n",
       "      <td>7177.93</td>\n",
       "      <td>99.420</td>\n",
       "      <td>713539.55348</td>\n",
       "      <td>148</td>\n",
       "      <td>16.311</td>\n",
       "      <td>117066.92118</td>\n",
       "      <td>7179.01</td>\n",
       "      <td>...</td>\n",
       "      <td>NaN</td>\n",
       "      <td>NaN</td>\n",
       "      <td>NaN</td>\n",
       "      <td>NaN</td>\n",
       "      <td>NaN</td>\n",
       "      <td>NaN</td>\n",
       "      <td>NaN</td>\n",
       "      <td>NaN</td>\n",
       "      <td>NaN</td>\n",
       "      <td>NaN</td>\n",
       "    </tr>\n",
       "    <tr>\n",
       "      <th>2</th>\n",
       "      <td>7177.77</td>\n",
       "      <td>7182.60</td>\n",
       "      <td>7177.00</td>\n",
       "      <td>7181.11</td>\n",
       "      <td>69.330</td>\n",
       "      <td>497793.35929</td>\n",
       "      <td>104</td>\n",
       "      <td>43.723</td>\n",
       "      <td>313920.02981</td>\n",
       "      <td>7177.93</td>\n",
       "      <td>...</td>\n",
       "      <td>NaN</td>\n",
       "      <td>NaN</td>\n",
       "      <td>NaN</td>\n",
       "      <td>NaN</td>\n",
       "      <td>NaN</td>\n",
       "      <td>NaN</td>\n",
       "      <td>NaN</td>\n",
       "      <td>NaN</td>\n",
       "      <td>NaN</td>\n",
       "      <td>NaN</td>\n",
       "    </tr>\n",
       "    <tr>\n",
       "      <th>3</th>\n",
       "      <td>7179.10</td>\n",
       "      <td>7179.10</td>\n",
       "      <td>7172.94</td>\n",
       "      <td>7175.25</td>\n",
       "      <td>97.368</td>\n",
       "      <td>698627.39382</td>\n",
       "      <td>193</td>\n",
       "      <td>36.616</td>\n",
       "      <td>262734.68999</td>\n",
       "      <td>7181.11</td>\n",
       "      <td>...</td>\n",
       "      <td>NaN</td>\n",
       "      <td>NaN</td>\n",
       "      <td>NaN</td>\n",
       "      <td>NaN</td>\n",
       "      <td>NaN</td>\n",
       "      <td>NaN</td>\n",
       "      <td>NaN</td>\n",
       "      <td>NaN</td>\n",
       "      <td>NaN</td>\n",
       "      <td>NaN</td>\n",
       "    </tr>\n",
       "    <tr>\n",
       "      <th>4</th>\n",
       "      <td>7174.71</td>\n",
       "      <td>7177.14</td>\n",
       "      <td>7173.28</td>\n",
       "      <td>7175.61</td>\n",
       "      <td>33.725</td>\n",
       "      <td>241979.50880</td>\n",
       "      <td>124</td>\n",
       "      <td>15.885</td>\n",
       "      <td>113984.45772</td>\n",
       "      <td>7175.25</td>\n",
       "      <td>...</td>\n",
       "      <td>NaN</td>\n",
       "      <td>NaN</td>\n",
       "      <td>NaN</td>\n",
       "      <td>NaN</td>\n",
       "      <td>NaN</td>\n",
       "      <td>NaN</td>\n",
       "      <td>NaN</td>\n",
       "      <td>NaN</td>\n",
       "      <td>NaN</td>\n",
       "      <td>NaN</td>\n",
       "    </tr>\n",
       "  </tbody>\n",
       "</table>\n",
       "<p>5 rows × 581 columns</p>\n",
       "</div>"
      ],
      "text/plain": [
       "      open     high      low    close  volume  quote_volume  count  \\\n",
       "0  7182.43  7182.44  7178.75  7179.01  70.909  509145.78482    140   \n",
       "1  7179.01  7179.01  7175.25  7177.93  99.420  713539.55348    148   \n",
       "2  7177.77  7182.60  7177.00  7181.11  69.330  497793.35929    104   \n",
       "3  7179.10  7179.10  7172.94  7175.25  97.368  698627.39382    193   \n",
       "4  7174.71  7177.14  7173.28  7175.61  33.725  241979.50880    124   \n",
       "\n",
       "   taker_buy_volume  taker_buy_quote_volume    entry  ...  PLUS_DM_233  \\\n",
       "0            32.597            234063.27884      NaN  ...          NaN   \n",
       "1            16.311            117066.92118  7179.01  ...          NaN   \n",
       "2            43.723            313920.02981  7177.93  ...          NaN   \n",
       "3            36.616            262734.68999  7181.11  ...          NaN   \n",
       "4            15.885            113984.45772  7175.25  ...          NaN   \n",
       "\n",
       "   ROC_233  ROCP_233  ROCR_233  ROCR100_233  RSI_233  ATR_233  NATR_233  \\\n",
       "0      NaN       NaN       NaN          NaN      NaN      NaN       NaN   \n",
       "1      NaN       NaN       NaN          NaN      NaN      NaN       NaN   \n",
       "2      NaN       NaN       NaN          NaN      NaN      NaN       NaN   \n",
       "3      NaN       NaN       NaN          NaN      NaN      NaN       NaN   \n",
       "4      NaN       NaN       NaN          NaN      NaN      NaN       NaN   \n",
       "\n",
       "   BETA_233  CORREL_233  \n",
       "0       NaN         NaN  \n",
       "1       NaN         NaN  \n",
       "2       NaN         NaN  \n",
       "3       NaN         NaN  \n",
       "4       NaN         NaN  \n",
       "\n",
       "[5 rows x 581 columns]"
      ]
     },
     "execution_count": 31,
     "metadata": {},
     "output_type": "execute_result"
    }
   ],
   "source": [
    "df.head()"
   ]
  },
  {
   "cell_type": "code",
   "execution_count": 32,
   "id": "13ac61b0",
   "metadata": {
    "ExecuteTime": {
     "end_time": "2023-01-28T08:25:40.778859Z",
     "start_time": "2023-01-28T08:25:34.883988Z"
    }
   },
   "outputs": [],
   "source": [
    "column_names = df.columns\n",
    "\n",
    "\n",
    "missing_df = pd.DataFrame({\n",
    "    \"name\" : column_names,\n",
    "    \"missing\": df.isnull().mean().tolist()\n",
    "}, columns=[\"name\", \"missing\"])\n",
    "\n",
    "missing_df[\"missing\"] = missing_df[\"missing\"] * 100\n",
    "\n",
    "missing_df.sort_values(\"missing\", ascending=False, inplace=True)\n"
   ]
  },
  {
   "cell_type": "code",
   "execution_count": 33,
   "id": "e711a2f2",
   "metadata": {
    "ExecuteTime": {
     "end_time": "2023-01-28T08:25:40.794863Z",
     "start_time": "2023-01-28T08:25:40.780860Z"
    }
   },
   "outputs": [
    {
     "data": {
      "text/html": [
       "<div>\n",
       "<style scoped>\n",
       "    .dataframe tbody tr th:only-of-type {\n",
       "        vertical-align: middle;\n",
       "    }\n",
       "\n",
       "    .dataframe tbody tr th {\n",
       "        vertical-align: top;\n",
       "    }\n",
       "\n",
       "    .dataframe thead th {\n",
       "        text-align: right;\n",
       "    }\n",
       "</style>\n",
       "<table border=\"1\" class=\"dataframe\">\n",
       "  <thead>\n",
       "    <tr style=\"text-align: right;\">\n",
       "      <th></th>\n",
       "      <th>name</th>\n",
       "      <th>missing</th>\n",
       "    </tr>\n",
       "  </thead>\n",
       "  <tbody>\n",
       "    <tr>\n",
       "      <th>19</th>\n",
       "      <td>entered_before</td>\n",
       "      <td>99.888391</td>\n",
       "    </tr>\n",
       "    <tr>\n",
       "      <th>17</th>\n",
       "      <td>longs_win_after</td>\n",
       "      <td>55.971509</td>\n",
       "    </tr>\n",
       "    <tr>\n",
       "      <th>16</th>\n",
       "      <td>shorts_win_after</td>\n",
       "      <td>55.041241</td>\n",
       "    </tr>\n",
       "    <tr>\n",
       "      <th>559</th>\n",
       "      <td>ADXR_233</td>\n",
       "      <td>0.044326</td>\n",
       "    </tr>\n",
       "    <tr>\n",
       "      <th>555</th>\n",
       "      <td>TEMA_233</td>\n",
       "      <td>0.044262</td>\n",
       "    </tr>\n",
       "    <tr>\n",
       "      <th>523</th>\n",
       "      <td>ADXR_200</td>\n",
       "      <td>0.038030</td>\n",
       "    </tr>\n",
       "    <tr>\n",
       "      <th>519</th>\n",
       "      <td>TEMA_200</td>\n",
       "      <td>0.037966</td>\n",
       "    </tr>\n",
       "    <tr>\n",
       "      <th>558</th>\n",
       "      <td>ADX_233</td>\n",
       "      <td>0.029572</td>\n",
       "    </tr>\n",
       "    <tr>\n",
       "      <th>548</th>\n",
       "      <td>DEMA_233</td>\n",
       "      <td>0.029508</td>\n",
       "    </tr>\n",
       "    <tr>\n",
       "      <th>487</th>\n",
       "      <td>ADXR_144</td>\n",
       "      <td>0.027346</td>\n",
       "    </tr>\n",
       "  </tbody>\n",
       "</table>\n",
       "</div>"
      ],
      "text/plain": [
       "                 name    missing\n",
       "19     entered_before  99.888391\n",
       "17    longs_win_after  55.971509\n",
       "16   shorts_win_after  55.041241\n",
       "559          ADXR_233   0.044326\n",
       "555          TEMA_233   0.044262\n",
       "523          ADXR_200   0.038030\n",
       "519          TEMA_200   0.037966\n",
       "558           ADX_233   0.029572\n",
       "548          DEMA_233   0.029508\n",
       "487          ADXR_144   0.027346"
      ]
     },
     "execution_count": 33,
     "metadata": {},
     "output_type": "execute_result"
    }
   ],
   "source": [
    "missing_df[:10]"
   ]
  },
  {
   "cell_type": "code",
   "execution_count": 34,
   "id": "7c9ac99b",
   "metadata": {
    "ExecuteTime": {
     "end_time": "2023-01-28T08:25:53.358156Z",
     "start_time": "2023-01-28T08:25:40.797864Z"
    }
   },
   "outputs": [],
   "source": [
    "df.drop([\"entered_before\", \"longs_win_after\", \"shorts_win_after\"], axis=1, inplace=True)"
   ]
  },
  {
   "cell_type": "code",
   "execution_count": 35,
   "id": "91c9f987",
   "metadata": {
    "ExecuteTime": {
     "end_time": "2023-01-28T08:25:58.724985Z",
     "start_time": "2023-01-28T08:25:53.743303Z"
    }
   },
   "outputs": [],
   "source": [
    "df.replace(np.nan, -500, inplace=True)"
   ]
  },
  {
   "cell_type": "code",
   "execution_count": 36,
   "id": "987e2a63",
   "metadata": {
    "ExecuteTime": {
     "end_time": "2023-01-28T08:25:58.866038Z",
     "start_time": "2023-01-28T08:25:58.774017Z"
    }
   },
   "outputs": [
    {
     "data": {
      "text/plain": [
       "-1    880043\n",
       " 1    692326\n",
       " 0        81\n",
       "Name: if_long, dtype: int64"
      ]
     },
     "execution_count": 36,
     "metadata": {},
     "output_type": "execute_result"
    }
   ],
   "source": [
    "df.if_long.value_counts()"
   ]
  },
  {
   "cell_type": "code",
   "execution_count": 37,
   "id": "41e53a82",
   "metadata": {
    "ExecuteTime": {
     "end_time": "2023-01-28T08:25:59.828747Z",
     "start_time": "2023-01-28T08:25:58.875040Z"
    }
   },
   "outputs": [],
   "source": [
    "df[\"if_long\"] = df[\"if_long\"].replace(-1, 0)\n",
    "df[\"if_short\"] = df[\"if_short\"].replace(-1, 0)"
   ]
  },
  {
   "cell_type": "code",
   "execution_count": 38,
   "id": "f124b97f",
   "metadata": {
    "ExecuteTime": {
     "end_time": "2023-01-28T08:25:59.874985Z",
     "start_time": "2023-01-28T08:25:59.850464Z"
    }
   },
   "outputs": [
    {
     "data": {
      "text/plain": [
       "0    880124\n",
       "1    692326\n",
       "Name: if_long, dtype: int64"
      ]
     },
     "execution_count": 38,
     "metadata": {},
     "output_type": "execute_result"
    }
   ],
   "source": [
    "df.if_long.value_counts()"
   ]
  },
  {
   "cell_type": "code",
   "execution_count": 39,
   "id": "4188e39d",
   "metadata": {
    "ExecuteTime": {
     "end_time": "2023-01-28T08:25:59.890990Z",
     "start_time": "2023-01-28T08:25:59.875985Z"
    }
   },
   "outputs": [
    {
     "data": {
      "text/plain": [
       "0    865496\n",
       "1    706954\n",
       "Name: if_short, dtype: int64"
      ]
     },
     "execution_count": 39,
     "metadata": {},
     "output_type": "execute_result"
    }
   ],
   "source": [
    "df.if_short.value_counts()"
   ]
  },
  {
   "cell_type": "code",
   "execution_count": 40,
   "id": "bb0f689d",
   "metadata": {
    "ExecuteTime": {
     "end_time": "2023-01-28T08:26:15.498800Z",
     "start_time": "2023-01-28T08:25:59.891991Z"
    }
   },
   "outputs": [],
   "source": [
    "int_cols = df.select_dtypes(include='int64').columns\n",
    "df[int_cols] = df[int_cols].astype(float)\n"
   ]
  },
  {
   "cell_type": "code",
   "execution_count": 41,
   "id": "ae8d94cd",
   "metadata": {
    "ExecuteTime": {
     "end_time": "2023-01-28T08:26:15.583916Z",
     "start_time": "2023-01-28T08:26:15.523988Z"
    }
   },
   "outputs": [
    {
     "name": "stdout",
     "output_type": "stream",
     "text": [
      "{'float64': ['open', 'high', 'low', 'close', 'volume', 'quote_volume', 'count', 'taker_buy_volume', 'taker_buy_quote_volume', 'entry', 'if_short', 'if_long', 'long_target', 'short_target', 'long_stop_loss', 'short_stop_loss', 'dual_loss', 'HT_TRENDLINE', 'SAR', 'SAREXT', 'T3', 'APO', 'BOP', 'MACD', 'MACD_signal', 'MACD_hist', 'PPO', 'TRIX', 'ULTOSC', 'WILLR', 'AD', 'ADOSC', 'OBV', 'HT_DCPERIOD', 'HT_DCPHASE', 'HT_PHASOR_inphase', 'HT_PHASOR_quadrature', 'HT_TRENDMODE', 'AVGPRICE', 'MEDPRICE', 'TYPPRICE', 'WCLPRICE', 'TRANGE', 'CDL2CROWS', 'CDL3BLACKCROWS', 'CDL3INSIDE', 'CDL3LINESTRIKE', 'CDL3OUTSIDE', 'CDL3STARSINSOUTH', 'CDL3WHITESOLDIERS', 'CDLABANDONEDBABY', 'CDLADVANCEBLOCK', 'CDLBELTHOLD', 'CDLBREAKAWAY', 'CDLCLOSINGMARUBOZU', 'CDLCONCEALBABYSWALL', 'CDLCOUNTERATTACK', 'CDLDARKCLOUDCOVER', 'CDLDOJI', 'CDLDOJISTAR', 'CDLDRAGONFLYDOJI', 'CDLENGULFING', 'CDLEVENINGDOJISTAR', 'CDLEVENINGSTAR', 'CDLGAPSIDESIDEWHITE', 'CDLGRAVESTONEDOJI', 'CDLHAMMER', 'CDLHANGINGMAN', 'CDLHARAMI', 'CDLHARAMICROSS', 'CDLHIGHWAVE', 'CDLHIKKAKE', 'CDLHIKKAKEMOD', 'CDLHOMINGPIGEON', 'CDLIDENTICAL3CROWS', 'CDLINNECK', 'CDLINVERTEDHAMMER', 'CDLKICKING', 'CDLKICKINGBYLENGTH', 'CDLLADDERBOTTOM', 'CDLLONGLEGGEDDOJI', 'CDLLONGLINE', 'CDLMARUBOZU', 'CDLMATCHINGLOW', 'CDLMATHOLD', 'CDLMORNINGDOJISTAR', 'CDLMORNINGSTAR', 'CDLONNECK', 'CDLPIERCING', 'CDLRICKSHAWMAN', 'CDLRISEFALL3METHODS', 'CDLSEPARATINGLINES', 'CDLSHOOTINGSTAR', 'CDLSHORTLINE', 'CDLSPINNINGTOP', 'CDLSTALLEDPATTERN', 'CDLSTICKSANDWICH', 'CDLTAKURI', 'CDLTASUKIGAP', 'CDLTHRUSTING', 'CDLTRISTAR', 'CDLUNIQUE3RIVER', 'CDLUPSIDEGAP2CROWS', 'CDLXSIDEGAP3METHODS', 'LINEARREG', 'LINEARREG_ANGLE', 'LINEARREG_INTERCEPT', 'LINEARREG_SLOPE', 'TSF', 'VAR', 'BB_upper_5', 'BB_middle_5', 'BB_lower_5', 'DEMA_5', 'EMA_5', 'KAMA_5', 'MA_5', 'MIDPOINT_5', 'MIDPRICE_5', 'SMA_5', 'TEMA_5', 'TRIMA_5', 'WMA_5', 'ADX_5', 'ADXR_5', 'AROON_up_5', 'AROON_down_5', 'AROONOSC_5', 'CCI_5', 'CMO_5', 'DX_5', 'MFI_5', 'MINUS_DI_5', 'MINUS_DM_5', 'MOM_5', 'PLUS_DI_5', 'PLUS_DM_5', 'ROC_5', 'ROCP_5', 'ROCR_5', 'ROCR100_5', 'RSI_5', 'ATR_5', 'NATR_5', 'BETA_5', 'CORREL_5', 'BB_upper_8', 'BB_middle_8', 'BB_lower_8', 'DEMA_8', 'EMA_8', 'KAMA_8', 'MA_8', 'MIDPOINT_8', 'MIDPRICE_8', 'SMA_8', 'TEMA_8', 'TRIMA_8', 'WMA_8', 'ADX_8', 'ADXR_8', 'AROON_up_8', 'AROON_down_8', 'AROONOSC_8', 'CCI_8', 'CMO_8', 'DX_8', 'MFI_8', 'MINUS_DI_8', 'MINUS_DM_8', 'MOM_8', 'PLUS_DI_8', 'PLUS_DM_8', 'ROC_8', 'ROCP_8', 'ROCR_8', 'ROCR100_8', 'RSI_8', 'ATR_8', 'NATR_8', 'BETA_8', 'CORREL_8', 'BB_upper_13', 'BB_middle_13', 'BB_lower_13', 'DEMA_13', 'EMA_13', 'KAMA_13', 'MA_13', 'MIDPOINT_13', 'MIDPRICE_13', 'SMA_13', 'TEMA_13', 'TRIMA_13', 'WMA_13', 'ADX_13', 'ADXR_13', 'AROON_up_13', 'AROON_down_13', 'AROONOSC_13', 'CCI_13', 'CMO_13', 'DX_13', 'MFI_13', 'MINUS_DI_13', 'MINUS_DM_13', 'MOM_13', 'PLUS_DI_13', 'PLUS_DM_13', 'ROC_13', 'ROCP_13', 'ROCR_13', 'ROCR100_13', 'RSI_13', 'ATR_13', 'NATR_13', 'BETA_13', 'CORREL_13', 'BB_upper_21', 'BB_middle_21', 'BB_lower_21', 'DEMA_21', 'EMA_21', 'KAMA_21', 'MA_21', 'MIDPOINT_21', 'MIDPRICE_21', 'SMA_21', 'TEMA_21', 'TRIMA_21', 'WMA_21', 'ADX_21', 'ADXR_21', 'AROON_up_21', 'AROON_down_21', 'AROONOSC_21', 'CCI_21', 'CMO_21', 'DX_21', 'MFI_21', 'MINUS_DI_21', 'MINUS_DM_21', 'MOM_21', 'PLUS_DI_21', 'PLUS_DM_21', 'ROC_21', 'ROCP_21', 'ROCR_21', 'ROCR100_21', 'RSI_21', 'ATR_21', 'NATR_21', 'BETA_21', 'CORREL_21', 'BB_upper_30', 'BB_middle_30', 'BB_lower_30', 'DEMA_30', 'EMA_30', 'KAMA_30', 'MA_30', 'MIDPOINT_30', 'MIDPRICE_30', 'SMA_30', 'TEMA_30', 'TRIMA_30', 'WMA_30', 'ADX_30', 'ADXR_30', 'AROON_up_30', 'AROON_down_30', 'AROONOSC_30', 'CCI_30', 'CMO_30', 'DX_30', 'MFI_30', 'MINUS_DI_30', 'MINUS_DM_30', 'MOM_30', 'PLUS_DI_30', 'PLUS_DM_30', 'ROC_30', 'ROCP_30', 'ROCR_30', 'ROCR100_30', 'RSI_30', 'ATR_30', 'NATR_30', 'BETA_30', 'CORREL_30', 'BB_upper_34', 'BB_middle_34', 'BB_lower_34', 'DEMA_34', 'EMA_34', 'KAMA_34', 'MA_34', 'MIDPOINT_34', 'MIDPRICE_34', 'SMA_34', 'TEMA_34', 'TRIMA_34', 'WMA_34', 'ADX_34', 'ADXR_34', 'AROON_up_34', 'AROON_down_34', 'AROONOSC_34', 'CCI_34', 'CMO_34', 'DX_34', 'MFI_34', 'MINUS_DI_34', 'MINUS_DM_34', 'MOM_34', 'PLUS_DI_34', 'PLUS_DM_34', 'ROC_34', 'ROCP_34', 'ROCR_34', 'ROCR100_34', 'RSI_34', 'ATR_34', 'NATR_34', 'BETA_34', 'CORREL_34', 'BB_upper_50', 'BB_middle_50', 'BB_lower_50', 'DEMA_50', 'EMA_50', 'KAMA_50', 'MA_50', 'MIDPOINT_50', 'MIDPRICE_50', 'SMA_50', 'TEMA_50', 'TRIMA_50', 'WMA_50', 'ADX_50', 'ADXR_50', 'AROON_up_50', 'AROON_down_50', 'AROONOSC_50', 'CCI_50', 'CMO_50', 'DX_50', 'MFI_50', 'MINUS_DI_50', 'MINUS_DM_50', 'MOM_50', 'PLUS_DI_50', 'PLUS_DM_50', 'ROC_50', 'ROCP_50', 'ROCR_50', 'ROCR100_50', 'RSI_50', 'ATR_50', 'NATR_50', 'BETA_50', 'CORREL_50', 'BB_upper_55', 'BB_middle_55', 'BB_lower_55', 'DEMA_55', 'EMA_55', 'KAMA_55', 'MA_55', 'MIDPOINT_55', 'MIDPRICE_55', 'SMA_55', 'TEMA_55', 'TRIMA_55', 'WMA_55', 'ADX_55', 'ADXR_55', 'AROON_up_55', 'AROON_down_55', 'AROONOSC_55', 'CCI_55', 'CMO_55', 'DX_55', 'MFI_55', 'MINUS_DI_55', 'MINUS_DM_55', 'MOM_55', 'PLUS_DI_55', 'PLUS_DM_55', 'ROC_55', 'ROCP_55', 'ROCR_55', 'ROCR100_55', 'RSI_55', 'ATR_55', 'NATR_55', 'BETA_55', 'CORREL_55', 'BB_upper_89', 'BB_middle_89', 'BB_lower_89', 'DEMA_89', 'EMA_89', 'KAMA_89', 'MA_89', 'MIDPOINT_89', 'MIDPRICE_89', 'SMA_89', 'TEMA_89', 'TRIMA_89', 'WMA_89', 'ADX_89', 'ADXR_89', 'AROON_up_89', 'AROON_down_89', 'AROONOSC_89', 'CCI_89', 'CMO_89', 'DX_89', 'MFI_89', 'MINUS_DI_89', 'MINUS_DM_89', 'MOM_89', 'PLUS_DI_89', 'PLUS_DM_89', 'ROC_89', 'ROCP_89', 'ROCR_89', 'ROCR100_89', 'RSI_89', 'ATR_89', 'NATR_89', 'BETA_89', 'CORREL_89', 'BB_upper_100', 'BB_middle_100', 'BB_lower_100', 'DEMA_100', 'EMA_100', 'KAMA_100', 'MA_100', 'MIDPOINT_100', 'MIDPRICE_100', 'SMA_100', 'TEMA_100', 'TRIMA_100', 'WMA_100', 'ADX_100', 'ADXR_100', 'AROON_up_100', 'AROON_down_100', 'AROONOSC_100', 'CCI_100', 'CMO_100', 'DX_100', 'MFI_100', 'MINUS_DI_100', 'MINUS_DM_100', 'MOM_100', 'PLUS_DI_100', 'PLUS_DM_100', 'ROC_100', 'ROCP_100', 'ROCR_100', 'ROCR100_100', 'RSI_100', 'ATR_100', 'NATR_100', 'BETA_100', 'CORREL_100', 'BB_upper_144', 'BB_middle_144', 'BB_lower_144', 'DEMA_144', 'EMA_144', 'KAMA_144', 'MA_144', 'MIDPOINT_144', 'MIDPRICE_144', 'SMA_144', 'TEMA_144', 'TRIMA_144', 'WMA_144', 'ADX_144', 'ADXR_144', 'AROON_up_144', 'AROON_down_144', 'AROONOSC_144', 'CCI_144', 'CMO_144', 'DX_144', 'MFI_144', 'MINUS_DI_144', 'MINUS_DM_144', 'MOM_144', 'PLUS_DI_144', 'PLUS_DM_144', 'ROC_144', 'ROCP_144', 'ROCR_144', 'ROCR100_144', 'RSI_144', 'ATR_144', 'NATR_144', 'BETA_144', 'CORREL_144', 'BB_upper_200', 'BB_middle_200', 'BB_lower_200', 'DEMA_200', 'EMA_200', 'KAMA_200', 'MA_200', 'MIDPOINT_200', 'MIDPRICE_200', 'SMA_200', 'TEMA_200', 'TRIMA_200', 'WMA_200', 'ADX_200', 'ADXR_200', 'AROON_up_200', 'AROON_down_200', 'AROONOSC_200', 'CCI_200', 'CMO_200', 'DX_200', 'MFI_200', 'MINUS_DI_200', 'MINUS_DM_200', 'MOM_200', 'PLUS_DI_200', 'PLUS_DM_200', 'ROC_200', 'ROCP_200', 'ROCR_200', 'ROCR100_200', 'RSI_200', 'ATR_200', 'NATR_200', 'BETA_200', 'CORREL_200', 'BB_upper_233', 'BB_middle_233', 'BB_lower_233', 'DEMA_233', 'EMA_233', 'KAMA_233', 'MA_233', 'MIDPOINT_233', 'MIDPRICE_233', 'SMA_233', 'TEMA_233', 'TRIMA_233', 'WMA_233', 'ADX_233', 'ADXR_233', 'AROON_up_233', 'AROON_down_233', 'AROONOSC_233', 'CCI_233', 'CMO_233', 'DX_233', 'MFI_233', 'MINUS_DI_233', 'MINUS_DM_233', 'MOM_233', 'PLUS_DI_233', 'PLUS_DM_233', 'ROC_233', 'ROCP_233', 'ROCR_233', 'ROCR100_233', 'RSI_233', 'ATR_233', 'NATR_233', 'BETA_233', 'CORREL_233']}\n"
     ]
    }
   ],
   "source": [
    "dtype_dict = {}\n",
    "for col in df.columns:\n",
    "    col_dtype = df[col].dtype.name\n",
    "    if col_dtype not in dtype_dict:\n",
    "        dtype_dict[col_dtype] = [col]\n",
    "    else:\n",
    "        dtype_dict[col_dtype].append(col)\n",
    "print(dtype_dict)"
   ]
  },
  {
   "cell_type": "markdown",
   "id": "96706a9d",
   "metadata": {},
   "source": [
    "## Long Model"
   ]
  },
  {
   "cell_type": "code",
   "execution_count": 42,
   "id": "e9f4591f",
   "metadata": {
    "ExecuteTime": {
     "end_time": "2023-01-28T08:26:15.614446Z",
     "start_time": "2023-01-28T08:26:15.600985Z"
    }
   },
   "outputs": [],
   "source": [
    "# mlflow.sklearn.autolog()"
   ]
  },
  {
   "cell_type": "code",
   "execution_count": 43,
   "id": "0b2ad84e",
   "metadata": {
    "ExecuteTime": {
     "end_time": "2023-01-28T08:27:10.035879Z",
     "start_time": "2023-01-28T08:26:15.619366Z"
    }
   },
   "outputs": [],
   "source": [
    "long_df = df.drop(\"if_short\", axis=1)"
   ]
  },
  {
   "cell_type": "code",
   "execution_count": 44,
   "id": "716607ff",
   "metadata": {
    "ExecuteTime": {
     "end_time": "2023-01-28T08:27:10.575000Z",
     "start_time": "2023-01-28T08:27:10.509985Z"
    }
   },
   "outputs": [],
   "source": [
    "long_y = df[\"if_long\"]"
   ]
  },
  {
   "cell_type": "code",
   "execution_count": 45,
   "id": "722adab9",
   "metadata": {
    "ExecuteTime": {
     "end_time": "2023-01-28T08:28:03.117483Z",
     "start_time": "2023-01-28T08:27:10.584002Z"
    }
   },
   "outputs": [],
   "source": [
    "long_x = long_df.drop(\"if_long\", axis=1)"
   ]
  },
  {
   "cell_type": "code",
   "execution_count": 46,
   "id": "df4edca2",
   "metadata": {
    "ExecuteTime": {
     "end_time": "2023-01-28T08:28:03.408627Z",
     "start_time": "2023-01-28T08:28:03.321576Z"
    }
   },
   "outputs": [],
   "source": [
    "columns_to_drop = [\n",
    "    'open', 'high', 'low', 'close', 'volume', 'quote_volume', 'count',\n",
    "    'taker_buy_volume', 'taker_buy_quote_volume'\n",
    "]"
   ]
  },
  {
   "cell_type": "code",
   "execution_count": 47,
   "id": "984de0c3",
   "metadata": {
    "ExecuteTime": {
     "end_time": "2023-01-28T08:28:47.929468Z",
     "start_time": "2023-01-28T08:28:03.410627Z"
    }
   },
   "outputs": [],
   "source": [
    "long_x.drop(columns_to_drop, axis=1, inplace=True)"
   ]
  },
  {
   "cell_type": "code",
   "execution_count": 48,
   "id": "94a6e7cf",
   "metadata": {
    "ExecuteTime": {
     "end_time": "2023-01-28T08:29:19.844994Z",
     "start_time": "2023-01-28T08:28:48.182528Z"
    }
   },
   "outputs": [],
   "source": [
    "X_train, X_test, y_train, y_test = train_test_split(long_x, long_y, test_size=0.1)"
   ]
  },
  {
   "cell_type": "code",
   "execution_count": 49,
   "id": "bbbb6d7b",
   "metadata": {
    "ExecuteTime": {
     "end_time": "2023-01-28T08:29:48.868865Z",
     "start_time": "2023-01-28T08:29:48.823855Z"
    }
   },
   "outputs": [],
   "source": [
    "long_clf_1m_more_indicators = RandomForestClassifier(max_depth=100, random_state=0, oob_score=True)"
   ]
  },
  {
   "cell_type": "code",
   "execution_count": 50,
   "id": "d7e39217",
   "metadata": {
    "ExecuteTime": {
     "end_time": "2023-01-28T08:44:53.884072Z",
     "start_time": "2023-01-28T08:29:51.484396Z"
    }
   },
   "outputs": [
    {
     "ename": "MemoryError",
     "evalue": "Unable to allocate 5.40 MiB for an array with shape (1415205,) and data type int32",
     "output_type": "error",
     "traceback": [
      "\u001b[1;31m---------------------------------------------------------------------------\u001b[0m",
      "\u001b[1;31mMemoryError\u001b[0m                               Traceback (most recent call last)",
      "Input \u001b[1;32mIn [50]\u001b[0m, in \u001b[0;36m<cell line: 1>\u001b[1;34m()\u001b[0m\n\u001b[1;32m----> 1\u001b[0m \u001b[43mlong_clf_1m_more_indicators\u001b[49m\u001b[38;5;241;43m.\u001b[39;49m\u001b[43mfit\u001b[49m\u001b[43m(\u001b[49m\u001b[43mX_train\u001b[49m\u001b[43m,\u001b[49m\u001b[43m \u001b[49m\u001b[43my_train\u001b[49m\u001b[43m)\u001b[49m\n",
      "File \u001b[1;32m~\\anaconda3\\lib\\site-packages\\sklearn\\ensemble\\_forest.py:450\u001b[0m, in \u001b[0;36mBaseForest.fit\u001b[1;34m(self, X, y, sample_weight)\u001b[0m\n\u001b[0;32m    439\u001b[0m trees \u001b[38;5;241m=\u001b[39m [\n\u001b[0;32m    440\u001b[0m     \u001b[38;5;28mself\u001b[39m\u001b[38;5;241m.\u001b[39m_make_estimator(append\u001b[38;5;241m=\u001b[39m\u001b[38;5;28;01mFalse\u001b[39;00m, random_state\u001b[38;5;241m=\u001b[39mrandom_state)\n\u001b[0;32m    441\u001b[0m     \u001b[38;5;28;01mfor\u001b[39;00m i \u001b[38;5;129;01min\u001b[39;00m \u001b[38;5;28mrange\u001b[39m(n_more_estimators)\n\u001b[0;32m    442\u001b[0m ]\n\u001b[0;32m    444\u001b[0m \u001b[38;5;66;03m# Parallel loop: we prefer the threading backend as the Cython code\u001b[39;00m\n\u001b[0;32m    445\u001b[0m \u001b[38;5;66;03m# for fitting the trees is internally releasing the Python GIL\u001b[39;00m\n\u001b[0;32m    446\u001b[0m \u001b[38;5;66;03m# making threading more efficient than multiprocessing in\u001b[39;00m\n\u001b[0;32m    447\u001b[0m \u001b[38;5;66;03m# that case. However, for joblib 0.12+ we respect any\u001b[39;00m\n\u001b[0;32m    448\u001b[0m \u001b[38;5;66;03m# parallel_backend contexts set at a higher level,\u001b[39;00m\n\u001b[0;32m    449\u001b[0m \u001b[38;5;66;03m# since correctness does not rely on using threads.\u001b[39;00m\n\u001b[1;32m--> 450\u001b[0m trees \u001b[38;5;241m=\u001b[39m \u001b[43mParallel\u001b[49m\u001b[43m(\u001b[49m\n\u001b[0;32m    451\u001b[0m \u001b[43m    \u001b[49m\u001b[43mn_jobs\u001b[49m\u001b[38;5;241;43m=\u001b[39;49m\u001b[38;5;28;43mself\u001b[39;49m\u001b[38;5;241;43m.\u001b[39;49m\u001b[43mn_jobs\u001b[49m\u001b[43m,\u001b[49m\n\u001b[0;32m    452\u001b[0m \u001b[43m    \u001b[49m\u001b[43mverbose\u001b[49m\u001b[38;5;241;43m=\u001b[39;49m\u001b[38;5;28;43mself\u001b[39;49m\u001b[38;5;241;43m.\u001b[39;49m\u001b[43mverbose\u001b[49m\u001b[43m,\u001b[49m\n\u001b[0;32m    453\u001b[0m \u001b[43m    \u001b[49m\u001b[38;5;241;43m*\u001b[39;49m\u001b[38;5;241;43m*\u001b[39;49m\u001b[43m_joblib_parallel_args\u001b[49m\u001b[43m(\u001b[49m\u001b[43mprefer\u001b[49m\u001b[38;5;241;43m=\u001b[39;49m\u001b[38;5;124;43m\"\u001b[39;49m\u001b[38;5;124;43mthreads\u001b[39;49m\u001b[38;5;124;43m\"\u001b[39;49m\u001b[43m)\u001b[49m\u001b[43m,\u001b[49m\n\u001b[0;32m    454\u001b[0m \u001b[43m\u001b[49m\u001b[43m)\u001b[49m\u001b[43m(\u001b[49m\n\u001b[0;32m    455\u001b[0m \u001b[43m    \u001b[49m\u001b[43mdelayed\u001b[49m\u001b[43m(\u001b[49m\u001b[43m_parallel_build_trees\u001b[49m\u001b[43m)\u001b[49m\u001b[43m(\u001b[49m\n\u001b[0;32m    456\u001b[0m \u001b[43m        \u001b[49m\u001b[43mt\u001b[49m\u001b[43m,\u001b[49m\n\u001b[0;32m    457\u001b[0m \u001b[43m        \u001b[49m\u001b[38;5;28;43mself\u001b[39;49m\u001b[43m,\u001b[49m\n\u001b[0;32m    458\u001b[0m \u001b[43m        \u001b[49m\u001b[43mX\u001b[49m\u001b[43m,\u001b[49m\n\u001b[0;32m    459\u001b[0m \u001b[43m        \u001b[49m\u001b[43my\u001b[49m\u001b[43m,\u001b[49m\n\u001b[0;32m    460\u001b[0m \u001b[43m        \u001b[49m\u001b[43msample_weight\u001b[49m\u001b[43m,\u001b[49m\n\u001b[0;32m    461\u001b[0m \u001b[43m        \u001b[49m\u001b[43mi\u001b[49m\u001b[43m,\u001b[49m\n\u001b[0;32m    462\u001b[0m \u001b[43m        \u001b[49m\u001b[38;5;28;43mlen\u001b[39;49m\u001b[43m(\u001b[49m\u001b[43mtrees\u001b[49m\u001b[43m)\u001b[49m\u001b[43m,\u001b[49m\n\u001b[0;32m    463\u001b[0m \u001b[43m        \u001b[49m\u001b[43mverbose\u001b[49m\u001b[38;5;241;43m=\u001b[39;49m\u001b[38;5;28;43mself\u001b[39;49m\u001b[38;5;241;43m.\u001b[39;49m\u001b[43mverbose\u001b[49m\u001b[43m,\u001b[49m\n\u001b[0;32m    464\u001b[0m \u001b[43m        \u001b[49m\u001b[43mclass_weight\u001b[49m\u001b[38;5;241;43m=\u001b[39;49m\u001b[38;5;28;43mself\u001b[39;49m\u001b[38;5;241;43m.\u001b[39;49m\u001b[43mclass_weight\u001b[49m\u001b[43m,\u001b[49m\n\u001b[0;32m    465\u001b[0m \u001b[43m        \u001b[49m\u001b[43mn_samples_bootstrap\u001b[49m\u001b[38;5;241;43m=\u001b[39;49m\u001b[43mn_samples_bootstrap\u001b[49m\u001b[43m,\u001b[49m\n\u001b[0;32m    466\u001b[0m \u001b[43m    \u001b[49m\u001b[43m)\u001b[49m\n\u001b[0;32m    467\u001b[0m \u001b[43m    \u001b[49m\u001b[38;5;28;43;01mfor\u001b[39;49;00m\u001b[43m \u001b[49m\u001b[43mi\u001b[49m\u001b[43m,\u001b[49m\u001b[43m \u001b[49m\u001b[43mt\u001b[49m\u001b[43m \u001b[49m\u001b[38;5;129;43;01min\u001b[39;49;00m\u001b[43m \u001b[49m\u001b[38;5;28;43menumerate\u001b[39;49m\u001b[43m(\u001b[49m\u001b[43mtrees\u001b[49m\u001b[43m)\u001b[49m\n\u001b[0;32m    468\u001b[0m \u001b[43m\u001b[49m\u001b[43m)\u001b[49m\n\u001b[0;32m    470\u001b[0m \u001b[38;5;66;03m# Collect newly grown trees\u001b[39;00m\n\u001b[0;32m    471\u001b[0m \u001b[38;5;28mself\u001b[39m\u001b[38;5;241m.\u001b[39mestimators_\u001b[38;5;241m.\u001b[39mextend(trees)\n",
      "File \u001b[1;32m~\\anaconda3\\lib\\site-packages\\joblib\\parallel.py:1046\u001b[0m, in \u001b[0;36mParallel.__call__\u001b[1;34m(self, iterable)\u001b[0m\n\u001b[0;32m   1043\u001b[0m \u001b[38;5;28;01mif\u001b[39;00m \u001b[38;5;28mself\u001b[39m\u001b[38;5;241m.\u001b[39mdispatch_one_batch(iterator):\n\u001b[0;32m   1044\u001b[0m     \u001b[38;5;28mself\u001b[39m\u001b[38;5;241m.\u001b[39m_iterating \u001b[38;5;241m=\u001b[39m \u001b[38;5;28mself\u001b[39m\u001b[38;5;241m.\u001b[39m_original_iterator \u001b[38;5;129;01mis\u001b[39;00m \u001b[38;5;129;01mnot\u001b[39;00m \u001b[38;5;28;01mNone\u001b[39;00m\n\u001b[1;32m-> 1046\u001b[0m \u001b[38;5;28;01mwhile\u001b[39;00m \u001b[38;5;28;43mself\u001b[39;49m\u001b[38;5;241;43m.\u001b[39;49m\u001b[43mdispatch_one_batch\u001b[49m\u001b[43m(\u001b[49m\u001b[43miterator\u001b[49m\u001b[43m)\u001b[49m:\n\u001b[0;32m   1047\u001b[0m     \u001b[38;5;28;01mpass\u001b[39;00m\n\u001b[0;32m   1049\u001b[0m \u001b[38;5;28;01mif\u001b[39;00m pre_dispatch \u001b[38;5;241m==\u001b[39m \u001b[38;5;124m\"\u001b[39m\u001b[38;5;124mall\u001b[39m\u001b[38;5;124m\"\u001b[39m \u001b[38;5;129;01mor\u001b[39;00m n_jobs \u001b[38;5;241m==\u001b[39m \u001b[38;5;241m1\u001b[39m:\n\u001b[0;32m   1050\u001b[0m     \u001b[38;5;66;03m# The iterable was consumed all at once by the above for loop.\u001b[39;00m\n\u001b[0;32m   1051\u001b[0m     \u001b[38;5;66;03m# No need to wait for async callbacks to trigger to\u001b[39;00m\n\u001b[0;32m   1052\u001b[0m     \u001b[38;5;66;03m# consumption.\u001b[39;00m\n",
      "File \u001b[1;32m~\\anaconda3\\lib\\site-packages\\joblib\\parallel.py:861\u001b[0m, in \u001b[0;36mParallel.dispatch_one_batch\u001b[1;34m(self, iterator)\u001b[0m\n\u001b[0;32m    859\u001b[0m     \u001b[38;5;28;01mreturn\u001b[39;00m \u001b[38;5;28;01mFalse\u001b[39;00m\n\u001b[0;32m    860\u001b[0m \u001b[38;5;28;01melse\u001b[39;00m:\n\u001b[1;32m--> 861\u001b[0m     \u001b[38;5;28;43mself\u001b[39;49m\u001b[38;5;241;43m.\u001b[39;49m\u001b[43m_dispatch\u001b[49m\u001b[43m(\u001b[49m\u001b[43mtasks\u001b[49m\u001b[43m)\u001b[49m\n\u001b[0;32m    862\u001b[0m     \u001b[38;5;28;01mreturn\u001b[39;00m \u001b[38;5;28;01mTrue\u001b[39;00m\n",
      "File \u001b[1;32m~\\anaconda3\\lib\\site-packages\\joblib\\parallel.py:779\u001b[0m, in \u001b[0;36mParallel._dispatch\u001b[1;34m(self, batch)\u001b[0m\n\u001b[0;32m    777\u001b[0m \u001b[38;5;28;01mwith\u001b[39;00m \u001b[38;5;28mself\u001b[39m\u001b[38;5;241m.\u001b[39m_lock:\n\u001b[0;32m    778\u001b[0m     job_idx \u001b[38;5;241m=\u001b[39m \u001b[38;5;28mlen\u001b[39m(\u001b[38;5;28mself\u001b[39m\u001b[38;5;241m.\u001b[39m_jobs)\n\u001b[1;32m--> 779\u001b[0m     job \u001b[38;5;241m=\u001b[39m \u001b[38;5;28;43mself\u001b[39;49m\u001b[38;5;241;43m.\u001b[39;49m\u001b[43m_backend\u001b[49m\u001b[38;5;241;43m.\u001b[39;49m\u001b[43mapply_async\u001b[49m\u001b[43m(\u001b[49m\u001b[43mbatch\u001b[49m\u001b[43m,\u001b[49m\u001b[43m \u001b[49m\u001b[43mcallback\u001b[49m\u001b[38;5;241;43m=\u001b[39;49m\u001b[43mcb\u001b[49m\u001b[43m)\u001b[49m\n\u001b[0;32m    780\u001b[0m     \u001b[38;5;66;03m# A job can complete so quickly than its callback is\u001b[39;00m\n\u001b[0;32m    781\u001b[0m     \u001b[38;5;66;03m# called before we get here, causing self._jobs to\u001b[39;00m\n\u001b[0;32m    782\u001b[0m     \u001b[38;5;66;03m# grow. To ensure correct results ordering, .insert is\u001b[39;00m\n\u001b[0;32m    783\u001b[0m     \u001b[38;5;66;03m# used (rather than .append) in the following line\u001b[39;00m\n\u001b[0;32m    784\u001b[0m     \u001b[38;5;28mself\u001b[39m\u001b[38;5;241m.\u001b[39m_jobs\u001b[38;5;241m.\u001b[39minsert(job_idx, job)\n",
      "File \u001b[1;32m~\\anaconda3\\lib\\site-packages\\joblib\\_parallel_backends.py:208\u001b[0m, in \u001b[0;36mSequentialBackend.apply_async\u001b[1;34m(self, func, callback)\u001b[0m\n\u001b[0;32m    206\u001b[0m \u001b[38;5;28;01mdef\u001b[39;00m \u001b[38;5;21mapply_async\u001b[39m(\u001b[38;5;28mself\u001b[39m, func, callback\u001b[38;5;241m=\u001b[39m\u001b[38;5;28;01mNone\u001b[39;00m):\n\u001b[0;32m    207\u001b[0m     \u001b[38;5;124;03m\"\"\"Schedule a func to be run\"\"\"\u001b[39;00m\n\u001b[1;32m--> 208\u001b[0m     result \u001b[38;5;241m=\u001b[39m \u001b[43mImmediateResult\u001b[49m\u001b[43m(\u001b[49m\u001b[43mfunc\u001b[49m\u001b[43m)\u001b[49m\n\u001b[0;32m    209\u001b[0m     \u001b[38;5;28;01mif\u001b[39;00m callback:\n\u001b[0;32m    210\u001b[0m         callback(result)\n",
      "File \u001b[1;32m~\\anaconda3\\lib\\site-packages\\joblib\\_parallel_backends.py:572\u001b[0m, in \u001b[0;36mImmediateResult.__init__\u001b[1;34m(self, batch)\u001b[0m\n\u001b[0;32m    569\u001b[0m \u001b[38;5;28;01mdef\u001b[39;00m \u001b[38;5;21m__init__\u001b[39m(\u001b[38;5;28mself\u001b[39m, batch):\n\u001b[0;32m    570\u001b[0m     \u001b[38;5;66;03m# Don't delay the application, to avoid keeping the input\u001b[39;00m\n\u001b[0;32m    571\u001b[0m     \u001b[38;5;66;03m# arguments in memory\u001b[39;00m\n\u001b[1;32m--> 572\u001b[0m     \u001b[38;5;28mself\u001b[39m\u001b[38;5;241m.\u001b[39mresults \u001b[38;5;241m=\u001b[39m \u001b[43mbatch\u001b[49m\u001b[43m(\u001b[49m\u001b[43m)\u001b[49m\n",
      "File \u001b[1;32m~\\anaconda3\\lib\\site-packages\\joblib\\parallel.py:262\u001b[0m, in \u001b[0;36mBatchedCalls.__call__\u001b[1;34m(self)\u001b[0m\n\u001b[0;32m    258\u001b[0m \u001b[38;5;28;01mdef\u001b[39;00m \u001b[38;5;21m__call__\u001b[39m(\u001b[38;5;28mself\u001b[39m):\n\u001b[0;32m    259\u001b[0m     \u001b[38;5;66;03m# Set the default nested backend to self._backend but do not set the\u001b[39;00m\n\u001b[0;32m    260\u001b[0m     \u001b[38;5;66;03m# change the default number of processes to -1\u001b[39;00m\n\u001b[0;32m    261\u001b[0m     \u001b[38;5;28;01mwith\u001b[39;00m parallel_backend(\u001b[38;5;28mself\u001b[39m\u001b[38;5;241m.\u001b[39m_backend, n_jobs\u001b[38;5;241m=\u001b[39m\u001b[38;5;28mself\u001b[39m\u001b[38;5;241m.\u001b[39m_n_jobs):\n\u001b[1;32m--> 262\u001b[0m         \u001b[38;5;28;01mreturn\u001b[39;00m [func(\u001b[38;5;241m*\u001b[39margs, \u001b[38;5;241m*\u001b[39m\u001b[38;5;241m*\u001b[39mkwargs)\n\u001b[0;32m    263\u001b[0m                 \u001b[38;5;28;01mfor\u001b[39;00m func, args, kwargs \u001b[38;5;129;01min\u001b[39;00m \u001b[38;5;28mself\u001b[39m\u001b[38;5;241m.\u001b[39mitems]\n",
      "File \u001b[1;32m~\\anaconda3\\lib\\site-packages\\joblib\\parallel.py:262\u001b[0m, in \u001b[0;36m<listcomp>\u001b[1;34m(.0)\u001b[0m\n\u001b[0;32m    258\u001b[0m \u001b[38;5;28;01mdef\u001b[39;00m \u001b[38;5;21m__call__\u001b[39m(\u001b[38;5;28mself\u001b[39m):\n\u001b[0;32m    259\u001b[0m     \u001b[38;5;66;03m# Set the default nested backend to self._backend but do not set the\u001b[39;00m\n\u001b[0;32m    260\u001b[0m     \u001b[38;5;66;03m# change the default number of processes to -1\u001b[39;00m\n\u001b[0;32m    261\u001b[0m     \u001b[38;5;28;01mwith\u001b[39;00m parallel_backend(\u001b[38;5;28mself\u001b[39m\u001b[38;5;241m.\u001b[39m_backend, n_jobs\u001b[38;5;241m=\u001b[39m\u001b[38;5;28mself\u001b[39m\u001b[38;5;241m.\u001b[39m_n_jobs):\n\u001b[1;32m--> 262\u001b[0m         \u001b[38;5;28;01mreturn\u001b[39;00m [func(\u001b[38;5;241m*\u001b[39margs, \u001b[38;5;241m*\u001b[39m\u001b[38;5;241m*\u001b[39mkwargs)\n\u001b[0;32m    263\u001b[0m                 \u001b[38;5;28;01mfor\u001b[39;00m func, args, kwargs \u001b[38;5;129;01min\u001b[39;00m \u001b[38;5;28mself\u001b[39m\u001b[38;5;241m.\u001b[39mitems]\n",
      "File \u001b[1;32m~\\anaconda3\\lib\\site-packages\\sklearn\\utils\\fixes.py:216\u001b[0m, in \u001b[0;36m_FuncWrapper.__call__\u001b[1;34m(self, *args, **kwargs)\u001b[0m\n\u001b[0;32m    214\u001b[0m \u001b[38;5;28;01mdef\u001b[39;00m \u001b[38;5;21m__call__\u001b[39m(\u001b[38;5;28mself\u001b[39m, \u001b[38;5;241m*\u001b[39margs, \u001b[38;5;241m*\u001b[39m\u001b[38;5;241m*\u001b[39mkwargs):\n\u001b[0;32m    215\u001b[0m     \u001b[38;5;28;01mwith\u001b[39;00m config_context(\u001b[38;5;241m*\u001b[39m\u001b[38;5;241m*\u001b[39m\u001b[38;5;28mself\u001b[39m\u001b[38;5;241m.\u001b[39mconfig):\n\u001b[1;32m--> 216\u001b[0m         \u001b[38;5;28;01mreturn\u001b[39;00m \u001b[38;5;28mself\u001b[39m\u001b[38;5;241m.\u001b[39mfunction(\u001b[38;5;241m*\u001b[39margs, \u001b[38;5;241m*\u001b[39m\u001b[38;5;241m*\u001b[39mkwargs)\n",
      "File \u001b[1;32m~\\anaconda3\\lib\\site-packages\\sklearn\\ensemble\\_forest.py:185\u001b[0m, in \u001b[0;36m_parallel_build_trees\u001b[1;34m(tree, forest, X, y, sample_weight, tree_idx, n_trees, verbose, class_weight, n_samples_bootstrap)\u001b[0m\n\u001b[0;32m    182\u001b[0m     \u001b[38;5;28;01melif\u001b[39;00m class_weight \u001b[38;5;241m==\u001b[39m \u001b[38;5;124m\"\u001b[39m\u001b[38;5;124mbalanced_subsample\u001b[39m\u001b[38;5;124m\"\u001b[39m:\n\u001b[0;32m    183\u001b[0m         curr_sample_weight \u001b[38;5;241m*\u001b[39m\u001b[38;5;241m=\u001b[39m compute_sample_weight(\u001b[38;5;124m\"\u001b[39m\u001b[38;5;124mbalanced\u001b[39m\u001b[38;5;124m\"\u001b[39m, y, indices\u001b[38;5;241m=\u001b[39mindices)\n\u001b[1;32m--> 185\u001b[0m     \u001b[43mtree\u001b[49m\u001b[38;5;241;43m.\u001b[39;49m\u001b[43mfit\u001b[49m\u001b[43m(\u001b[49m\u001b[43mX\u001b[49m\u001b[43m,\u001b[49m\u001b[43m \u001b[49m\u001b[43my\u001b[49m\u001b[43m,\u001b[49m\u001b[43m \u001b[49m\u001b[43msample_weight\u001b[49m\u001b[38;5;241;43m=\u001b[39;49m\u001b[43mcurr_sample_weight\u001b[49m\u001b[43m,\u001b[49m\u001b[43m \u001b[49m\u001b[43mcheck_input\u001b[49m\u001b[38;5;241;43m=\u001b[39;49m\u001b[38;5;28;43;01mFalse\u001b[39;49;00m\u001b[43m)\u001b[49m\n\u001b[0;32m    186\u001b[0m \u001b[38;5;28;01melse\u001b[39;00m:\n\u001b[0;32m    187\u001b[0m     tree\u001b[38;5;241m.\u001b[39mfit(X, y, sample_weight\u001b[38;5;241m=\u001b[39msample_weight, check_input\u001b[38;5;241m=\u001b[39m\u001b[38;5;28;01mFalse\u001b[39;00m)\n",
      "File \u001b[1;32m~\\anaconda3\\lib\\site-packages\\sklearn\\tree\\_classes.py:937\u001b[0m, in \u001b[0;36mDecisionTreeClassifier.fit\u001b[1;34m(self, X, y, sample_weight, check_input, X_idx_sorted)\u001b[0m\n\u001b[0;32m    899\u001b[0m \u001b[38;5;28;01mdef\u001b[39;00m \u001b[38;5;21mfit\u001b[39m(\n\u001b[0;32m    900\u001b[0m     \u001b[38;5;28mself\u001b[39m, X, y, sample_weight\u001b[38;5;241m=\u001b[39m\u001b[38;5;28;01mNone\u001b[39;00m, check_input\u001b[38;5;241m=\u001b[39m\u001b[38;5;28;01mTrue\u001b[39;00m, X_idx_sorted\u001b[38;5;241m=\u001b[39m\u001b[38;5;124m\"\u001b[39m\u001b[38;5;124mdeprecated\u001b[39m\u001b[38;5;124m\"\u001b[39m\n\u001b[0;32m    901\u001b[0m ):\n\u001b[0;32m    902\u001b[0m     \u001b[38;5;124;03m\"\"\"Build a decision tree classifier from the training set (X, y).\u001b[39;00m\n\u001b[0;32m    903\u001b[0m \n\u001b[0;32m    904\u001b[0m \u001b[38;5;124;03m    Parameters\u001b[39;00m\n\u001b[1;32m   (...)\u001b[0m\n\u001b[0;32m    934\u001b[0m \u001b[38;5;124;03m        Fitted estimator.\u001b[39;00m\n\u001b[0;32m    935\u001b[0m \u001b[38;5;124;03m    \"\"\"\u001b[39;00m\n\u001b[1;32m--> 937\u001b[0m     \u001b[38;5;28;43msuper\u001b[39;49m\u001b[43m(\u001b[49m\u001b[43m)\u001b[49m\u001b[38;5;241;43m.\u001b[39;49m\u001b[43mfit\u001b[49m\u001b[43m(\u001b[49m\n\u001b[0;32m    938\u001b[0m \u001b[43m        \u001b[49m\u001b[43mX\u001b[49m\u001b[43m,\u001b[49m\n\u001b[0;32m    939\u001b[0m \u001b[43m        \u001b[49m\u001b[43my\u001b[49m\u001b[43m,\u001b[49m\n\u001b[0;32m    940\u001b[0m \u001b[43m        \u001b[49m\u001b[43msample_weight\u001b[49m\u001b[38;5;241;43m=\u001b[39;49m\u001b[43msample_weight\u001b[49m\u001b[43m,\u001b[49m\n\u001b[0;32m    941\u001b[0m \u001b[43m        \u001b[49m\u001b[43mcheck_input\u001b[49m\u001b[38;5;241;43m=\u001b[39;49m\u001b[43mcheck_input\u001b[49m\u001b[43m,\u001b[49m\n\u001b[0;32m    942\u001b[0m \u001b[43m        \u001b[49m\u001b[43mX_idx_sorted\u001b[49m\u001b[38;5;241;43m=\u001b[39;49m\u001b[43mX_idx_sorted\u001b[49m\u001b[43m,\u001b[49m\n\u001b[0;32m    943\u001b[0m \u001b[43m    \u001b[49m\u001b[43m)\u001b[49m\n\u001b[0;32m    944\u001b[0m     \u001b[38;5;28;01mreturn\u001b[39;00m \u001b[38;5;28mself\u001b[39m\n",
      "File \u001b[1;32m~\\anaconda3\\lib\\site-packages\\sklearn\\tree\\_classes.py:214\u001b[0m, in \u001b[0;36mBaseDecisionTree.fit\u001b[1;34m(self, X, y, sample_weight, check_input, X_idx_sorted)\u001b[0m\n\u001b[0;32m    212\u001b[0m y_encoded \u001b[38;5;241m=\u001b[39m np\u001b[38;5;241m.\u001b[39mzeros(y\u001b[38;5;241m.\u001b[39mshape, dtype\u001b[38;5;241m=\u001b[39m\u001b[38;5;28mint\u001b[39m)\n\u001b[0;32m    213\u001b[0m \u001b[38;5;28;01mfor\u001b[39;00m k \u001b[38;5;129;01min\u001b[39;00m \u001b[38;5;28mrange\u001b[39m(\u001b[38;5;28mself\u001b[39m\u001b[38;5;241m.\u001b[39mn_outputs_):\n\u001b[1;32m--> 214\u001b[0m     classes_k, y_encoded[:, k] \u001b[38;5;241m=\u001b[39m \u001b[43mnp\u001b[49m\u001b[38;5;241;43m.\u001b[39;49m\u001b[43munique\u001b[49m\u001b[43m(\u001b[49m\u001b[43my\u001b[49m\u001b[43m[\u001b[49m\u001b[43m:\u001b[49m\u001b[43m,\u001b[49m\u001b[43m \u001b[49m\u001b[43mk\u001b[49m\u001b[43m]\u001b[49m\u001b[43m,\u001b[49m\u001b[43m \u001b[49m\u001b[43mreturn_inverse\u001b[49m\u001b[38;5;241;43m=\u001b[39;49m\u001b[38;5;28;43;01mTrue\u001b[39;49;00m\u001b[43m)\u001b[49m\n\u001b[0;32m    215\u001b[0m     \u001b[38;5;28mself\u001b[39m\u001b[38;5;241m.\u001b[39mclasses_\u001b[38;5;241m.\u001b[39mappend(classes_k)\n\u001b[0;32m    216\u001b[0m     \u001b[38;5;28mself\u001b[39m\u001b[38;5;241m.\u001b[39mn_classes_\u001b[38;5;241m.\u001b[39mappend(classes_k\u001b[38;5;241m.\u001b[39mshape[\u001b[38;5;241m0\u001b[39m])\n",
      "File \u001b[1;32m<__array_function__ internals>:5\u001b[0m, in \u001b[0;36munique\u001b[1;34m(*args, **kwargs)\u001b[0m\n",
      "File \u001b[1;32m~\\anaconda3\\lib\\site-packages\\numpy\\lib\\arraysetops.py:272\u001b[0m, in \u001b[0;36munique\u001b[1;34m(ar, return_index, return_inverse, return_counts, axis)\u001b[0m\n\u001b[0;32m    270\u001b[0m ar \u001b[38;5;241m=\u001b[39m np\u001b[38;5;241m.\u001b[39masanyarray(ar)\n\u001b[0;32m    271\u001b[0m \u001b[38;5;28;01mif\u001b[39;00m axis \u001b[38;5;129;01mis\u001b[39;00m \u001b[38;5;28;01mNone\u001b[39;00m:\n\u001b[1;32m--> 272\u001b[0m     ret \u001b[38;5;241m=\u001b[39m \u001b[43m_unique1d\u001b[49m\u001b[43m(\u001b[49m\u001b[43mar\u001b[49m\u001b[43m,\u001b[49m\u001b[43m \u001b[49m\u001b[43mreturn_index\u001b[49m\u001b[43m,\u001b[49m\u001b[43m \u001b[49m\u001b[43mreturn_inverse\u001b[49m\u001b[43m,\u001b[49m\u001b[43m \u001b[49m\u001b[43mreturn_counts\u001b[49m\u001b[43m)\u001b[49m\n\u001b[0;32m    273\u001b[0m     \u001b[38;5;28;01mreturn\u001b[39;00m _unpack_tuple(ret)\n\u001b[0;32m    275\u001b[0m \u001b[38;5;66;03m# axis was specified and not None\u001b[39;00m\n",
      "File \u001b[1;32m~\\anaconda3\\lib\\site-packages\\numpy\\lib\\arraysetops.py:354\u001b[0m, in \u001b[0;36m_unique1d\u001b[1;34m(ar, return_index, return_inverse, return_counts)\u001b[0m\n\u001b[0;32m    352\u001b[0m     ret \u001b[38;5;241m+\u001b[39m\u001b[38;5;241m=\u001b[39m (perm[mask],)\n\u001b[0;32m    353\u001b[0m \u001b[38;5;28;01mif\u001b[39;00m return_inverse:\n\u001b[1;32m--> 354\u001b[0m     imask \u001b[38;5;241m=\u001b[39m \u001b[43mnp\u001b[49m\u001b[38;5;241;43m.\u001b[39;49m\u001b[43mcumsum\u001b[49m\u001b[43m(\u001b[49m\u001b[43mmask\u001b[49m\u001b[43m)\u001b[49m \u001b[38;5;241m-\u001b[39m \u001b[38;5;241m1\u001b[39m\n\u001b[0;32m    355\u001b[0m     inv_idx \u001b[38;5;241m=\u001b[39m np\u001b[38;5;241m.\u001b[39mempty(mask\u001b[38;5;241m.\u001b[39mshape, dtype\u001b[38;5;241m=\u001b[39mnp\u001b[38;5;241m.\u001b[39mintp)\n\u001b[0;32m    356\u001b[0m     inv_idx[perm] \u001b[38;5;241m=\u001b[39m imask\n",
      "File \u001b[1;32m<__array_function__ internals>:5\u001b[0m, in \u001b[0;36mcumsum\u001b[1;34m(*args, **kwargs)\u001b[0m\n",
      "File \u001b[1;32m~\\anaconda3\\lib\\site-packages\\numpy\\core\\fromnumeric.py:2532\u001b[0m, in \u001b[0;36mcumsum\u001b[1;34m(a, axis, dtype, out)\u001b[0m\n\u001b[0;32m   2458\u001b[0m \u001b[38;5;129m@array_function_dispatch\u001b[39m(_cumsum_dispatcher)\n\u001b[0;32m   2459\u001b[0m \u001b[38;5;28;01mdef\u001b[39;00m \u001b[38;5;21mcumsum\u001b[39m(a, axis\u001b[38;5;241m=\u001b[39m\u001b[38;5;28;01mNone\u001b[39;00m, dtype\u001b[38;5;241m=\u001b[39m\u001b[38;5;28;01mNone\u001b[39;00m, out\u001b[38;5;241m=\u001b[39m\u001b[38;5;28;01mNone\u001b[39;00m):\n\u001b[0;32m   2460\u001b[0m     \u001b[38;5;124;03m\"\"\"\u001b[39;00m\n\u001b[0;32m   2461\u001b[0m \u001b[38;5;124;03m    Return the cumulative sum of the elements along a given axis.\u001b[39;00m\n\u001b[0;32m   2462\u001b[0m \n\u001b[1;32m   (...)\u001b[0m\n\u001b[0;32m   2530\u001b[0m \n\u001b[0;32m   2531\u001b[0m \u001b[38;5;124;03m    \"\"\"\u001b[39;00m\n\u001b[1;32m-> 2532\u001b[0m     \u001b[38;5;28;01mreturn\u001b[39;00m \u001b[43m_wrapfunc\u001b[49m\u001b[43m(\u001b[49m\u001b[43ma\u001b[49m\u001b[43m,\u001b[49m\u001b[43m \u001b[49m\u001b[38;5;124;43m'\u001b[39;49m\u001b[38;5;124;43mcumsum\u001b[39;49m\u001b[38;5;124;43m'\u001b[39;49m\u001b[43m,\u001b[49m\u001b[43m \u001b[49m\u001b[43maxis\u001b[49m\u001b[38;5;241;43m=\u001b[39;49m\u001b[43maxis\u001b[49m\u001b[43m,\u001b[49m\u001b[43m \u001b[49m\u001b[43mdtype\u001b[49m\u001b[38;5;241;43m=\u001b[39;49m\u001b[43mdtype\u001b[49m\u001b[43m,\u001b[49m\u001b[43m \u001b[49m\u001b[43mout\u001b[49m\u001b[38;5;241;43m=\u001b[39;49m\u001b[43mout\u001b[49m\u001b[43m)\u001b[49m\n",
      "File \u001b[1;32m~\\anaconda3\\lib\\site-packages\\numpy\\core\\fromnumeric.py:57\u001b[0m, in \u001b[0;36m_wrapfunc\u001b[1;34m(obj, method, *args, **kwds)\u001b[0m\n\u001b[0;32m     54\u001b[0m     \u001b[38;5;28;01mreturn\u001b[39;00m _wrapit(obj, method, \u001b[38;5;241m*\u001b[39margs, \u001b[38;5;241m*\u001b[39m\u001b[38;5;241m*\u001b[39mkwds)\n\u001b[0;32m     56\u001b[0m \u001b[38;5;28;01mtry\u001b[39;00m:\n\u001b[1;32m---> 57\u001b[0m     \u001b[38;5;28;01mreturn\u001b[39;00m bound(\u001b[38;5;241m*\u001b[39margs, \u001b[38;5;241m*\u001b[39m\u001b[38;5;241m*\u001b[39mkwds)\n\u001b[0;32m     58\u001b[0m \u001b[38;5;28;01mexcept\u001b[39;00m \u001b[38;5;167;01mTypeError\u001b[39;00m:\n\u001b[0;32m     59\u001b[0m     \u001b[38;5;66;03m# A TypeError occurs if the object does have such a method in its\u001b[39;00m\n\u001b[0;32m     60\u001b[0m     \u001b[38;5;66;03m# class, but its signature is not identical to that of NumPy's. This\u001b[39;00m\n\u001b[1;32m   (...)\u001b[0m\n\u001b[0;32m     64\u001b[0m     \u001b[38;5;66;03m# Call _wrapit from within the except clause to ensure a potential\u001b[39;00m\n\u001b[0;32m     65\u001b[0m     \u001b[38;5;66;03m# exception has a traceback chain.\u001b[39;00m\n\u001b[0;32m     66\u001b[0m     \u001b[38;5;28;01mreturn\u001b[39;00m _wrapit(obj, method, \u001b[38;5;241m*\u001b[39margs, \u001b[38;5;241m*\u001b[39m\u001b[38;5;241m*\u001b[39mkwds)\n",
      "\u001b[1;31mMemoryError\u001b[0m: Unable to allocate 5.40 MiB for an array with shape (1415205,) and data type int32"
     ]
    }
   ],
   "source": [
    "long_clf_1m_more_indicators.fit(X_train, y_train)"
   ]
  },
  {
   "cell_type": "code",
   "execution_count": null,
   "id": "4c546231",
   "metadata": {
    "ExecuteTime": {
     "end_time": "2023-01-28T08:44:53.887077Z",
     "start_time": "2023-01-28T08:44:53.887077Z"
    }
   },
   "outputs": [],
   "source": [
    "import pickle\n",
    "\n",
    "# Save the model to a file\n",
    "with open(\"long_clf_1m_more_indicators.pkl\", \"wb\") as f:\n",
    "    pickle.dump(long_clf_1m_more_indicators, f)\n"
   ]
  },
  {
   "cell_type": "code",
   "execution_count": null,
   "id": "9aefb351",
   "metadata": {},
   "outputs": [],
   "source": [
    "short_df = df.drop(\"if_long\", axis=1)"
   ]
  },
  {
   "cell_type": "code",
   "execution_count": null,
   "id": "34141715",
   "metadata": {},
   "outputs": [],
   "source": [
    "short_y = df[\"if_short\"]"
   ]
  },
  {
   "cell_type": "code",
   "execution_count": null,
   "id": "c9b17af0",
   "metadata": {},
   "outputs": [],
   "source": [
    "short_x = short_df.drop(\"if_short\", axis=1)"
   ]
  },
  {
   "cell_type": "code",
   "execution_count": null,
   "id": "9f286526",
   "metadata": {},
   "outputs": [],
   "source": [
    "short_x.drop(columns_to_drop, axis=1, inplace=True)"
   ]
  },
  {
   "cell_type": "code",
   "execution_count": null,
   "id": "bc43accf",
   "metadata": {},
   "outputs": [],
   "source": [
    "X_train, X_test, y_train, y_test = train_test_split(short_x, short_y, test_size=0.1)"
   ]
  },
  {
   "cell_type": "code",
   "execution_count": null,
   "id": "d9633d53",
   "metadata": {},
   "outputs": [],
   "source": [
    "short_clf = RandomForestClassifier(max_depth=100, random_state=0, oob_score=True)"
   ]
  },
  {
   "cell_type": "code",
   "execution_count": null,
   "id": "a4474b5d",
   "metadata": {},
   "outputs": [],
   "source": [
    "short_clf.fit(X_train, y_train)"
   ]
  }
 ],
 "metadata": {
  "kernelspec": {
   "display_name": "Python 3 (ipykernel)",
   "language": "python",
   "name": "python3"
  },
  "language_info": {
   "codemirror_mode": {
    "name": "ipython",
    "version": 3
   },
   "file_extension": ".py",
   "mimetype": "text/x-python",
   "name": "python",
   "nbconvert_exporter": "python",
   "pygments_lexer": "ipython3",
   "version": "3.9.12"
  }
 },
 "nbformat": 4,
 "nbformat_minor": 5
}
